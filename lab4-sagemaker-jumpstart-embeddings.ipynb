{
 "cells": [
  {
   "cell_type": "markdown",
   "id": "aa5f5dfa-b16b-4294-819a-a665c9e55499",
   "metadata": {},
   "source": [
    "# Introduction to SageMaker Jumpstart Built-In Algorithms - Text Embedding\n",
    "> *This notebook should work well with the **`Data Science 2.0`** kernel in SageMaker Studio*"
   ]
  },
  {
   "cell_type": "markdown",
   "id": "a4b6631b-2e29-40d3-bed3-9e1fc4105ba4",
   "metadata": {},
   "source": [
    "---\n",
    "Welcome to Amazon [SageMaker Jumpstart Built-In Algorithms](https://docs.aws.amazon.com/sagemaker/latest/dg/studio-jumpstart.html)! You can use Sagemaker Built-In Algorithms to solve many Machine Learning tasks through one-click in SageMaker Studio, or through [SageMaker Python SDK](https://sagemaker.readthedocs.io/en/stable/overview.html#use-prebuilt-models-with-sagemaker-jumpstart).\n",
    "\n",
    "In this demo notebook, we demonstrate how to use the SageMaker Python SDK for Text Embedding. Text Embedding is the task of converting text into meaningful vector representations. We show how to use pre-trained model to find text embeddings. Additionally, we also show how to leverage these embeddings for Semantic Textual Similarity.\n",
    "\n",
    "---"
   ]
  },
  {
   "cell_type": "markdown",
   "id": "5febed14-39dd-4719-836b-bf421a1e12a1",
   "metadata": {
    "tags": []
   },
   "source": [
    "1. [Set Up](#1.-Set-Up)\n",
    "2. [Select a model](#2.-Select-a-model)\n",
    "3. [Retrieve Artifacts & Deploy an Endpoint](#3.-Retrieve-Artifacts-&-Deploy-an-Endpoint)\n",
    "4. [Query endpoint and parse response](#4.-Query-endpoint-and-parse-response)\n",
    "5. [Semantic Textual Similarity](#5.-Semantic-Textual-Similarity)"
   ]
  },
  {
   "cell_type": "code",
   "execution_count": 1,
   "id": "7c30cd25-3d1c-4013-b4d8-6b7cec8839b2",
   "metadata": {
    "tags": []
   },
   "outputs": [
    {
     "name": "stdout",
     "output_type": "stream",
     "text": [
      "\u001b[33mDEPRECATION: pyodbc 4.0.0-unsupported has a non-standard version number. pip 23.3 will enforce this behaviour change. A possible replacement is to upgrade to a newer version of pyodbc or contact the author to suggest that they release a version with a conforming version number. Discussion can be found at https://github.com/pypa/pip/issues/12063\u001b[0m\u001b[33m\n",
      "\u001b[0m\u001b[31mERROR: pip's dependency resolver does not currently take into account all the packages that are installed. This behaviour is the source of the following dependency conflicts.\n",
      "daal4py 2021.3.0 requires daal==2021.2.3, which is not installed.\n",
      "spyder 5.1.5 requires pyqt5<5.13, which is not installed.\n",
      "spyder 5.1.5 requires pyqtwebengine<5.13, which is not installed.\n",
      "autovizwidget 0.21.0 requires pandas<2.0.0,>=0.20.1, but you have pandas 2.0.3 which is incompatible.\n",
      "awscli 1.29.63 requires botocore==1.31.63, but you have botocore 1.32.3 which is incompatible.\n",
      "flask 3.0.0 requires Werkzeug>=3.0.0, but you have werkzeug 2.3.7 which is incompatible.\n",
      "hdijupyterutils 0.21.0 requires pandas<2.0.0,>=0.17.1, but you have pandas 2.0.3 which is incompatible.\n",
      "jupyterlab 3.2.1 requires jupyter-server~=1.4, but you have jupyter-server 2.7.3 which is incompatible.\n",
      "jupyterlab 3.2.1 requires nbclassic~=0.2, but you have nbclassic 1.0.0 which is incompatible.\n",
      "jupyterlab-server 2.8.2 requires jupyter-server~=1.4, but you have jupyter-server 2.7.3 which is incompatible.\n",
      "numba 0.54.1 requires numpy<1.21,>=1.17, but you have numpy 1.24.4 which is incompatible.\n",
      "sagemaker-datawrangler 0.4.3 requires sagemaker-data-insights==0.4.0, but you have sagemaker-data-insights 0.3.3 which is incompatible.\n",
      "spyder 5.1.5 requires pylint<2.10.0,>=2.5.0, but you have pylint 3.0.1 which is incompatible.\n",
      "spyder-kernels 2.1.3 requires jupyter-client<7,>=5.3.4, but you have jupyter-client 7.4.9 which is incompatible.\u001b[0m\u001b[31m\n",
      "\u001b[0m\u001b[33mWARNING: Running pip as the 'root' user can result in broken permissions and conflicting behaviour with the system package manager. It is recommended to use a virtual environment instead: https://pip.pypa.io/warnings/venv\u001b[0m\u001b[33m\n",
      "\u001b[0m\n",
      "\u001b[1m[\u001b[0m\u001b[34;49mnotice\u001b[0m\u001b[1;39;49m]\u001b[0m\u001b[39;49m A new release of pip is available: \u001b[0m\u001b[31;49m23.2.1\u001b[0m\u001b[39;49m -> \u001b[0m\u001b[32;49m23.3.1\u001b[0m\n",
      "\u001b[1m[\u001b[0m\u001b[34;49mnotice\u001b[0m\u001b[1;39;49m]\u001b[0m\u001b[39;49m To update, run: \u001b[0m\u001b[32;49mpip install --upgrade pip\u001b[0m\n",
      "Collecting ipywidgets==7.0.0\n",
      "  Using cached ipywidgets-7.0.0-py2.py3-none-any.whl (64 kB)\n",
      "Requirement already satisfied: ipykernel>=4.5.1 in /opt/conda/lib/python3.8/site-packages (from ipywidgets==7.0.0) (6.15.0)\n",
      "Requirement already satisfied: nbformat>=4.2.0 in /opt/conda/lib/python3.8/site-packages (from ipywidgets==7.0.0) (5.9.2)\n",
      "Requirement already satisfied: traitlets>=4.3.1 in /opt/conda/lib/python3.8/site-packages (from ipywidgets==7.0.0) (5.11.2)\n",
      "Collecting widgetsnbextension~=3.0.0 (from ipywidgets==7.0.0)\n",
      "  Using cached widgetsnbextension-3.0.8-py2.py3-none-any.whl (2.2 MB)\n",
      "Requirement already satisfied: ipython>=4.0.0 in /opt/conda/lib/python3.8/site-packages (from ipywidgets==7.0.0) (8.12.3)\n",
      "Requirement already satisfied: debugpy>=1.0 in /opt/conda/lib/python3.8/site-packages (from ipykernel>=4.5.1->ipywidgets==7.0.0) (1.4.1)\n",
      "Requirement already satisfied: jupyter-client>=6.1.12 in /opt/conda/lib/python3.8/site-packages (from ipykernel>=4.5.1->ipywidgets==7.0.0) (7.4.9)\n",
      "Requirement already satisfied: matplotlib-inline>=0.1 in /opt/conda/lib/python3.8/site-packages (from ipykernel>=4.5.1->ipywidgets==7.0.0) (0.1.2)\n",
      "Requirement already satisfied: nest-asyncio in /opt/conda/lib/python3.8/site-packages (from ipykernel>=4.5.1->ipywidgets==7.0.0) (1.5.5)\n",
      "Requirement already satisfied: packaging in /opt/conda/lib/python3.8/site-packages (from ipykernel>=4.5.1->ipywidgets==7.0.0) (23.2)\n",
      "Requirement already satisfied: psutil in /opt/conda/lib/python3.8/site-packages (from ipykernel>=4.5.1->ipywidgets==7.0.0) (5.8.0)\n",
      "Requirement already satisfied: pyzmq>=17 in /opt/conda/lib/python3.8/site-packages (from ipykernel>=4.5.1->ipywidgets==7.0.0) (24.0.1)\n",
      "Requirement already satisfied: tornado>=6.1 in /opt/conda/lib/python3.8/site-packages (from ipykernel>=4.5.1->ipywidgets==7.0.0) (6.3.3)\n",
      "Requirement already satisfied: backcall in /opt/conda/lib/python3.8/site-packages (from ipython>=4.0.0->ipywidgets==7.0.0) (0.2.0)\n",
      "Requirement already satisfied: decorator in /opt/conda/lib/python3.8/site-packages (from ipython>=4.0.0->ipywidgets==7.0.0) (5.1.0)\n",
      "Requirement already satisfied: jedi>=0.16 in /opt/conda/lib/python3.8/site-packages (from ipython>=4.0.0->ipywidgets==7.0.0) (0.18.0)\n",
      "Requirement already satisfied: pickleshare in /opt/conda/lib/python3.8/site-packages (from ipython>=4.0.0->ipywidgets==7.0.0) (0.7.5)\n",
      "Requirement already satisfied: prompt-toolkit!=3.0.37,<3.1.0,>=3.0.30 in /opt/conda/lib/python3.8/site-packages (from ipython>=4.0.0->ipywidgets==7.0.0) (3.0.39)\n",
      "Requirement already satisfied: pygments>=2.4.0 in /opt/conda/lib/python3.8/site-packages (from ipython>=4.0.0->ipywidgets==7.0.0) (2.16.1)\n",
      "Requirement already satisfied: stack-data in /opt/conda/lib/python3.8/site-packages (from ipython>=4.0.0->ipywidgets==7.0.0) (0.6.3)\n",
      "Requirement already satisfied: typing-extensions in /opt/conda/lib/python3.8/site-packages (from ipython>=4.0.0->ipywidgets==7.0.0) (4.8.0)\n",
      "Requirement already satisfied: pexpect>4.3 in /opt/conda/lib/python3.8/site-packages (from ipython>=4.0.0->ipywidgets==7.0.0) (4.8.0)\n",
      "Requirement already satisfied: fastjsonschema in /opt/conda/lib/python3.8/site-packages (from nbformat>=4.2.0->ipywidgets==7.0.0) (2.18.1)\n",
      "Requirement already satisfied: jsonschema>=2.6 in /opt/conda/lib/python3.8/site-packages (from nbformat>=4.2.0->ipywidgets==7.0.0) (4.20.0)\n",
      "Requirement already satisfied: jupyter-core in /opt/conda/lib/python3.8/site-packages (from nbformat>=4.2.0->ipywidgets==7.0.0) (5.4.0)\n",
      "Requirement already satisfied: notebook>=4.4.1 in /opt/conda/lib/python3.8/site-packages (from widgetsnbextension~=3.0.0->ipywidgets==7.0.0) (6.5.6)\n",
      "Requirement already satisfied: parso<0.9.0,>=0.8.0 in /opt/conda/lib/python3.8/site-packages (from jedi>=0.16->ipython>=4.0.0->ipywidgets==7.0.0) (0.8.2)\n",
      "Requirement already satisfied: attrs>=22.2.0 in /opt/conda/lib/python3.8/site-packages (from jsonschema>=2.6->nbformat>=4.2.0->ipywidgets==7.0.0) (23.1.0)\n",
      "Requirement already satisfied: importlib-resources>=1.4.0 in /opt/conda/lib/python3.8/site-packages (from jsonschema>=2.6->nbformat>=4.2.0->ipywidgets==7.0.0) (6.1.1)\n",
      "Requirement already satisfied: jsonschema-specifications>=2023.03.6 in /opt/conda/lib/python3.8/site-packages (from jsonschema>=2.6->nbformat>=4.2.0->ipywidgets==7.0.0) (2023.11.1)\n",
      "Requirement already satisfied: pkgutil-resolve-name>=1.3.10 in /opt/conda/lib/python3.8/site-packages (from jsonschema>=2.6->nbformat>=4.2.0->ipywidgets==7.0.0) (1.3.10)\n",
      "Requirement already satisfied: referencing>=0.28.4 in /opt/conda/lib/python3.8/site-packages (from jsonschema>=2.6->nbformat>=4.2.0->ipywidgets==7.0.0) (0.31.0)\n",
      "Requirement already satisfied: rpds-py>=0.7.1 in /opt/conda/lib/python3.8/site-packages (from jsonschema>=2.6->nbformat>=4.2.0->ipywidgets==7.0.0) (0.13.0)\n",
      "Requirement already satisfied: entrypoints in /opt/conda/lib/python3.8/site-packages (from jupyter-client>=6.1.12->ipykernel>=4.5.1->ipywidgets==7.0.0) (0.3)\n",
      "Requirement already satisfied: python-dateutil>=2.8.2 in /opt/conda/lib/python3.8/site-packages (from jupyter-client>=6.1.12->ipykernel>=4.5.1->ipywidgets==7.0.0) (2.8.2)\n",
      "Requirement already satisfied: platformdirs>=2.5 in /opt/conda/lib/python3.8/site-packages (from jupyter-core->nbformat>=4.2.0->ipywidgets==7.0.0) (4.0.0)\n",
      "Requirement already satisfied: jinja2 in /opt/conda/lib/python3.8/site-packages (from notebook>=4.4.1->widgetsnbextension~=3.0.0->ipywidgets==7.0.0) (3.1.2)\n",
      "Requirement already satisfied: argon2-cffi in /opt/conda/lib/python3.8/site-packages (from notebook>=4.4.1->widgetsnbextension~=3.0.0->ipywidgets==7.0.0) (20.1.0)\n",
      "Requirement already satisfied: ipython-genutils in /opt/conda/lib/python3.8/site-packages (from notebook>=4.4.1->widgetsnbextension~=3.0.0->ipywidgets==7.0.0) (0.2.0)\n",
      "Requirement already satisfied: nbconvert>=5 in /opt/conda/lib/python3.8/site-packages (from notebook>=4.4.1->widgetsnbextension~=3.0.0->ipywidgets==7.0.0) (7.9.2)\n",
      "Requirement already satisfied: Send2Trash>=1.8.0 in /opt/conda/lib/python3.8/site-packages (from notebook>=4.4.1->widgetsnbextension~=3.0.0->ipywidgets==7.0.0) (1.8.2)\n",
      "Requirement already satisfied: terminado>=0.8.3 in /opt/conda/lib/python3.8/site-packages (from notebook>=4.4.1->widgetsnbextension~=3.0.0->ipywidgets==7.0.0) (0.9.4)\n",
      "Requirement already satisfied: prometheus-client in /opt/conda/lib/python3.8/site-packages (from notebook>=4.4.1->widgetsnbextension~=3.0.0->ipywidgets==7.0.0) (0.11.0)\n",
      "Requirement already satisfied: nbclassic>=0.4.7 in /opt/conda/lib/python3.8/site-packages (from notebook>=4.4.1->widgetsnbextension~=3.0.0->ipywidgets==7.0.0) (1.0.0)\n",
      "Requirement already satisfied: ptyprocess>=0.5 in /opt/conda/lib/python3.8/site-packages (from pexpect>4.3->ipython>=4.0.0->ipywidgets==7.0.0) (0.7.0)\n",
      "Requirement already satisfied: wcwidth in /opt/conda/lib/python3.8/site-packages (from prompt-toolkit!=3.0.37,<3.1.0,>=3.0.30->ipython>=4.0.0->ipywidgets==7.0.0) (0.2.5)\n",
      "Requirement already satisfied: executing>=1.2.0 in /opt/conda/lib/python3.8/site-packages (from stack-data->ipython>=4.0.0->ipywidgets==7.0.0) (2.0.0)\n",
      "Requirement already satisfied: asttokens>=2.1.0 in /opt/conda/lib/python3.8/site-packages (from stack-data->ipython>=4.0.0->ipywidgets==7.0.0) (2.4.0)\n",
      "Requirement already satisfied: pure-eval in /opt/conda/lib/python3.8/site-packages (from stack-data->ipython>=4.0.0->ipywidgets==7.0.0) (0.2.2)\n",
      "Requirement already satisfied: six>=1.12.0 in /opt/conda/lib/python3.8/site-packages (from asttokens>=2.1.0->stack-data->ipython>=4.0.0->ipywidgets==7.0.0) (1.16.0)\n",
      "Requirement already satisfied: zipp>=3.1.0 in /opt/conda/lib/python3.8/site-packages (from importlib-resources>=1.4.0->jsonschema>=2.6->nbformat>=4.2.0->ipywidgets==7.0.0) (3.17.0)\n",
      "Requirement already satisfied: jupyter-server>=1.8 in /opt/conda/lib/python3.8/site-packages (from nbclassic>=0.4.7->notebook>=4.4.1->widgetsnbextension~=3.0.0->ipywidgets==7.0.0) (2.7.3)\n",
      "Requirement already satisfied: notebook-shim>=0.2.3 in /opt/conda/lib/python3.8/site-packages (from nbclassic>=0.4.7->notebook>=4.4.1->widgetsnbextension~=3.0.0->ipywidgets==7.0.0) (0.2.3)\n",
      "Requirement already satisfied: beautifulsoup4 in /opt/conda/lib/python3.8/site-packages (from nbconvert>=5->notebook>=4.4.1->widgetsnbextension~=3.0.0->ipywidgets==7.0.0) (4.10.0)\n",
      "Requirement already satisfied: bleach!=5.0.0 in /opt/conda/lib/python3.8/site-packages (from nbconvert>=5->notebook>=4.4.1->widgetsnbextension~=3.0.0->ipywidgets==7.0.0) (4.0.0)\n",
      "Requirement already satisfied: defusedxml in /opt/conda/lib/python3.8/site-packages (from nbconvert>=5->notebook>=4.4.1->widgetsnbextension~=3.0.0->ipywidgets==7.0.0) (0.7.1)\n",
      "Requirement already satisfied: importlib-metadata>=3.6 in /opt/conda/lib/python3.8/site-packages (from nbconvert>=5->notebook>=4.4.1->widgetsnbextension~=3.0.0->ipywidgets==7.0.0) (6.8.0)\n",
      "Requirement already satisfied: jupyterlab-pygments in /opt/conda/lib/python3.8/site-packages (from nbconvert>=5->notebook>=4.4.1->widgetsnbextension~=3.0.0->ipywidgets==7.0.0) (0.1.2)\n",
      "Requirement already satisfied: markupsafe>=2.0 in /opt/conda/lib/python3.8/site-packages (from nbconvert>=5->notebook>=4.4.1->widgetsnbextension~=3.0.0->ipywidgets==7.0.0) (2.1.3)\n",
      "Requirement already satisfied: mistune<4,>=2.0.3 in /opt/conda/lib/python3.8/site-packages (from nbconvert>=5->notebook>=4.4.1->widgetsnbextension~=3.0.0->ipywidgets==7.0.0) (3.0.2)\n",
      "Requirement already satisfied: nbclient>=0.5.0 in /opt/conda/lib/python3.8/site-packages (from nbconvert>=5->notebook>=4.4.1->widgetsnbextension~=3.0.0->ipywidgets==7.0.0) (0.5.3)\n",
      "Requirement already satisfied: pandocfilters>=1.4.1 in /opt/conda/lib/python3.8/site-packages (from nbconvert>=5->notebook>=4.4.1->widgetsnbextension~=3.0.0->ipywidgets==7.0.0) (1.4.3)\n",
      "Requirement already satisfied: tinycss2 in /opt/conda/lib/python3.8/site-packages (from nbconvert>=5->notebook>=4.4.1->widgetsnbextension~=3.0.0->ipywidgets==7.0.0) (1.2.1)\n",
      "Requirement already satisfied: cffi>=1.0.0 in /opt/conda/lib/python3.8/site-packages (from argon2-cffi->notebook>=4.4.1->widgetsnbextension~=3.0.0->ipywidgets==7.0.0) (1.14.6)\n",
      "Requirement already satisfied: webencodings in /opt/conda/lib/python3.8/site-packages (from bleach!=5.0.0->nbconvert>=5->notebook>=4.4.1->widgetsnbextension~=3.0.0->ipywidgets==7.0.0) (0.5.1)\n",
      "Requirement already satisfied: pycparser in /opt/conda/lib/python3.8/site-packages (from cffi>=1.0.0->argon2-cffi->notebook>=4.4.1->widgetsnbextension~=3.0.0->ipywidgets==7.0.0) (2.20)\n",
      "Requirement already satisfied: anyio>=3.1.0 in /opt/conda/lib/python3.8/site-packages (from jupyter-server>=1.8->nbclassic>=0.4.7->notebook>=4.4.1->widgetsnbextension~=3.0.0->ipywidgets==7.0.0) (4.0.0)\n",
      "Requirement already satisfied: jupyter-events>=0.6.0 in /opt/conda/lib/python3.8/site-packages (from jupyter-server>=1.8->nbclassic>=0.4.7->notebook>=4.4.1->widgetsnbextension~=3.0.0->ipywidgets==7.0.0) (0.7.0)\n",
      "Requirement already satisfied: jupyter-server-terminals in /opt/conda/lib/python3.8/site-packages (from jupyter-server>=1.8->nbclassic>=0.4.7->notebook>=4.4.1->widgetsnbextension~=3.0.0->ipywidgets==7.0.0) (0.4.4)\n",
      "Requirement already satisfied: overrides in /opt/conda/lib/python3.8/site-packages (from jupyter-server>=1.8->nbclassic>=0.4.7->notebook>=4.4.1->widgetsnbextension~=3.0.0->ipywidgets==7.0.0) (7.4.0)\n",
      "Requirement already satisfied: websocket-client in /opt/conda/lib/python3.8/site-packages (from jupyter-server>=1.8->nbclassic>=0.4.7->notebook>=4.4.1->widgetsnbextension~=3.0.0->ipywidgets==7.0.0) (1.6.4)\n",
      "Requirement already satisfied: async-generator in /opt/conda/lib/python3.8/site-packages (from nbclient>=0.5.0->nbconvert>=5->notebook>=4.4.1->widgetsnbextension~=3.0.0->ipywidgets==7.0.0) (1.10)\n",
      "Requirement already satisfied: soupsieve>1.2 in /opt/conda/lib/python3.8/site-packages (from beautifulsoup4->nbconvert>=5->notebook>=4.4.1->widgetsnbextension~=3.0.0->ipywidgets==7.0.0) (2.2.1)\n",
      "Requirement already satisfied: idna>=2.8 in /opt/conda/lib/python3.8/site-packages (from anyio>=3.1.0->jupyter-server>=1.8->nbclassic>=0.4.7->notebook>=4.4.1->widgetsnbextension~=3.0.0->ipywidgets==7.0.0) (3.2)\n",
      "Requirement already satisfied: sniffio>=1.1 in /opt/conda/lib/python3.8/site-packages (from anyio>=3.1.0->jupyter-server>=1.8->nbclassic>=0.4.7->notebook>=4.4.1->widgetsnbextension~=3.0.0->ipywidgets==7.0.0) (1.2.0)\n",
      "Requirement already satisfied: exceptiongroup>=1.0.2 in /opt/conda/lib/python3.8/site-packages (from anyio>=3.1.0->jupyter-server>=1.8->nbclassic>=0.4.7->notebook>=4.4.1->widgetsnbextension~=3.0.0->ipywidgets==7.0.0) (1.1.3)\n",
      "Requirement already satisfied: python-json-logger>=2.0.4 in /opt/conda/lib/python3.8/site-packages (from jupyter-events>=0.6.0->jupyter-server>=1.8->nbclassic>=0.4.7->notebook>=4.4.1->widgetsnbextension~=3.0.0->ipywidgets==7.0.0) (2.0.7)\n",
      "Requirement already satisfied: pyyaml>=5.3 in /opt/conda/lib/python3.8/site-packages (from jupyter-events>=0.6.0->jupyter-server>=1.8->nbclassic>=0.4.7->notebook>=4.4.1->widgetsnbextension~=3.0.0->ipywidgets==7.0.0) (6.0.1)\n",
      "Requirement already satisfied: rfc3339-validator in /opt/conda/lib/python3.8/site-packages (from jupyter-events>=0.6.0->jupyter-server>=1.8->nbclassic>=0.4.7->notebook>=4.4.1->widgetsnbextension~=3.0.0->ipywidgets==7.0.0) (0.1.4)\n",
      "Requirement already satisfied: rfc3986-validator>=0.1.1 in /opt/conda/lib/python3.8/site-packages (from jupyter-events>=0.6.0->jupyter-server>=1.8->nbclassic>=0.4.7->notebook>=4.4.1->widgetsnbextension~=3.0.0->ipywidgets==7.0.0) (0.1.1)\n",
      "Requirement already satisfied: fqdn in /opt/conda/lib/python3.8/site-packages (from jsonschema>=2.6->nbformat>=4.2.0->ipywidgets==7.0.0) (1.5.1)\n",
      "Requirement already satisfied: isoduration in /opt/conda/lib/python3.8/site-packages (from jsonschema>=2.6->nbformat>=4.2.0->ipywidgets==7.0.0) (20.11.0)\n",
      "Requirement already satisfied: jsonpointer>1.13 in /opt/conda/lib/python3.8/site-packages (from jsonschema>=2.6->nbformat>=4.2.0->ipywidgets==7.0.0) (2.4)\n",
      "Requirement already satisfied: uri-template in /opt/conda/lib/python3.8/site-packages (from jsonschema>=2.6->nbformat>=4.2.0->ipywidgets==7.0.0) (1.3.0)\n",
      "Requirement already satisfied: webcolors>=1.11 in /opt/conda/lib/python3.8/site-packages (from jsonschema>=2.6->nbformat>=4.2.0->ipywidgets==7.0.0) (1.13)\n",
      "Requirement already satisfied: arrow>=0.15.0 in /opt/conda/lib/python3.8/site-packages (from isoduration->jsonschema>=2.6->nbformat>=4.2.0->ipywidgets==7.0.0) (1.3.0)\n",
      "Requirement already satisfied: types-python-dateutil>=2.8.10 in /opt/conda/lib/python3.8/site-packages (from arrow>=0.15.0->isoduration->jsonschema>=2.6->nbformat>=4.2.0->ipywidgets==7.0.0) (2.8.19.14)\n",
      "\u001b[33mDEPRECATION: pyodbc 4.0.0-unsupported has a non-standard version number. pip 23.3 will enforce this behaviour change. A possible replacement is to upgrade to a newer version of pyodbc or contact the author to suggest that they release a version with a conforming version number. Discussion can be found at https://github.com/pypa/pip/issues/12063\u001b[0m\u001b[33m\n",
      "\u001b[0mInstalling collected packages: widgetsnbextension, ipywidgets\n",
      "  Attempting uninstall: widgetsnbextension\n",
      "    Found existing installation: widgetsnbextension 3.5.1\n",
      "    Uninstalling widgetsnbextension-3.5.1:\n",
      "      Successfully uninstalled widgetsnbextension-3.5.1\n",
      "  Attempting uninstall: ipywidgets\n",
      "    Found existing installation: ipywidgets 7.6.5\n",
      "    Uninstalling ipywidgets-7.6.5:\n",
      "      Successfully uninstalled ipywidgets-7.6.5\n",
      "\u001b[31mERROR: pip's dependency resolver does not currently take into account all the packages that are installed. This behaviour is the source of the following dependency conflicts.\n",
      "autovizwidget 0.21.0 requires pandas<2.0.0,>=0.20.1, but you have pandas 2.0.3 which is incompatible.\n",
      "hdijupyterutils 0.21.0 requires pandas<2.0.0,>=0.17.1, but you have pandas 2.0.3 which is incompatible.\n",
      "sagemaker-datawrangler 0.4.3 requires sagemaker-data-insights==0.4.0, but you have sagemaker-data-insights 0.3.3 which is incompatible.\u001b[0m\u001b[31m\n",
      "\u001b[0mSuccessfully installed ipywidgets-7.0.0 widgetsnbextension-3.0.8\n",
      "\u001b[33mWARNING: Running pip as the 'root' user can result in broken permissions and conflicting behaviour with the system package manager. It is recommended to use a virtual environment instead: https://pip.pypa.io/warnings/venv\u001b[0m\u001b[33m\n",
      "\u001b[0m\n",
      "\u001b[1m[\u001b[0m\u001b[34;49mnotice\u001b[0m\u001b[1;39;49m]\u001b[0m\u001b[39;49m A new release of pip is available: \u001b[0m\u001b[31;49m23.2.1\u001b[0m\u001b[39;49m -> \u001b[0m\u001b[32;49m23.3.1\u001b[0m\n",
      "\u001b[1m[\u001b[0m\u001b[34;49mnotice\u001b[0m\u001b[1;39;49m]\u001b[0m\u001b[39;49m To update, run: \u001b[0m\u001b[32;49mpip install --upgrade pip\u001b[0m\n"
     ]
    }
   ],
   "source": [
    "!pip install sagemaker --quiet --upgrade --force-reinstall\n",
    "!pip install ipywidgets==7.0.0 "
   ]
  },
  {
   "cell_type": "code",
   "execution_count": 3,
   "id": "2d07c2cb-df73-42fc-8662-f7e07e86dfd8",
   "metadata": {
    "tags": []
   },
   "outputs": [
    {
     "name": "stdout",
     "output_type": "stream",
     "text": [
      "sagemaker.config INFO - Not applying SDK defaults from location: /etc/xdg/sagemaker/config.yaml\n",
      "sagemaker.config INFO - Not applying SDK defaults from location: /root/.config/sagemaker/config.yaml\n",
      "sagemaker.config INFO - Not applying SDK defaults from location: /etc/xdg/sagemaker/config.yaml\n",
      "sagemaker.config INFO - Not applying SDK defaults from location: /root/.config/sagemaker/config.yaml\n",
      "sagemaker.config INFO - Not applying SDK defaults from location: /etc/xdg/sagemaker/config.yaml\n",
      "sagemaker.config INFO - Not applying SDK defaults from location: /root/.config/sagemaker/config.yaml\n"
     ]
    }
   ],
   "source": [
    "import sagemaker, boto3, json\n",
    "from sagemaker.session import Session\n",
    "\n",
    "sagemaker_session = Session()\n",
    "aws_role = sagemaker_session.get_caller_identity_arn()\n",
    "aws_region = boto3.Session().region_name\n",
    "sess = sagemaker.Session()"
   ]
  },
  {
   "cell_type": "markdown",
   "id": "91d5c55a-6bb1-4e1a-9ec2-bcd4cb0d05e9",
   "metadata": {},
   "source": [
    "Show all the Text Embedding Models available to deploy using SageMaker SDK"
   ]
  },
  {
   "cell_type": "code",
   "execution_count": 4,
   "id": "7b53dfce-5a8f-4f6a-a43c-348ad86a5c34",
   "metadata": {
    "tags": []
   },
   "outputs": [],
   "source": [
    "from sagemaker.jumpstart.notebook_utils import list_jumpstart_models\n",
    "\n",
    "# filter_value = \"task == tcembedding\"\n",
    "filter_value = \"task == textembedding\"\n",
    "# huggingface-textembedding-gpt-j-6b-fp16\n",
    "text_embedding_models = list_jumpstart_models(filter=filter_value)\n",
    "# text_embedding_models = list_jumpstart_models()"
   ]
  },
  {
   "cell_type": "code",
   "execution_count": 5,
   "id": "fa103dd5-2edd-4115-985f-076738a579f5",
   "metadata": {
    "tags": []
   },
   "outputs": [
    {
     "data": {
      "text/plain": [
       "['huggingface-textembedding-all-MiniLM-L6-v2',\n",
       " 'huggingface-textembedding-bloom-7b1',\n",
       " 'huggingface-textembedding-bloom-7b1-fp16',\n",
       " 'huggingface-textembedding-gpt-j-6b',\n",
       " 'huggingface-textembedding-gpt-j-6b-fp16']"
      ]
     },
     "execution_count": 5,
     "metadata": {},
     "output_type": "execute_result"
    }
   ],
   "source": [
    "text_embedding_models"
   ]
  },
  {
   "cell_type": "markdown",
   "id": "465e2ba7-5041-43b4-a6b3-3de523ec1e55",
   "metadata": {},
   "source": [
    "# What is Vector Embedding\n",
    "## Introduction\n",
    "Vector embeddings are essential components in solving various NLP tasks. It's widely adopted for addressing challenges in providing recommendation, search algorithms and more. \n",
    "\n",
    "In a nutshell, a vector embedding is a numeric representation of an object. These objects could be texts, images, audios or videos. Because they are numerical, we could perform various operations with them. For instance, a whole paragraph of text or any other object can be reduced to a vector. Even numerical data can be turned into vectors for easier operations.\n",
    "\n",
    "The importance of vector embeddings for LLMs extends beyond language generation. These embeddings also facilitate a range of downstream tasks, such as sentiment analysis, named entity recognition, text classification, and more. By incorporating pre-trained vector embeddings, LLMs can leverage the knowledge captured during the embedding training process, leading to improved performance on these tasks.\n",
    "\n",
    "![Vector Embeddings](images/vector-embeddings.png)\n",
    "\n",
    "## Embedding Model Selection\n",
    "There are many embedding models to choose from, ranging from the proprietary models, to open source models. Choosing the right embeddings is an essential step in the development of an LLM application. \n",
    "While important, evaluating the performance of all embedding models is extremely time consuming, in many cases not feasible due to time and hardware resouces required to perform these evaluations. For this, we turn to open source comminity for insights. Hugging Face, a renowned platform in the NLP community hosts the Massive Text Embedding Benchmark (MTEB) Leaderboard. This leaderboard serves as a valuable resource for evaluating the performance of various text embedding models across diverse embedding tasks. For a comprehensive understanding of the MTEB Leaderboard and its significance, I recommend referring to the “MTEB: Massive Text Embedding Benchmark” available at (https://huggingface.co/spaces/mteb). It provides a thorough explanation of the leaderboard’s purpose and insights into different text embedding models. Exploring this resource will broaden your understanding of the text embedding landscape and assist you in making informed decisions for your embedding needs."
   ]
  },
  {
   "cell_type": "markdown",
   "id": "2b83213e-0922-418b-9e81-f12dafc3c87f",
   "metadata": {},
   "source": [
    "In this notebook, we'll explore an embedding model supported in SageMaker Jumpstart. "
   ]
  },
  {
   "cell_type": "code",
   "execution_count": 6,
   "id": "4fb224a9-cd20-440b-8627-e38b2ec98377",
   "metadata": {
    "tags": []
   },
   "outputs": [],
   "source": [
    "model_id, model_version = \"huggingface-textembedding-gpt-j-6b-fp16\", \"*\""
   ]
  },
  {
   "cell_type": "markdown",
   "id": "baa65295-a2e8-4e85-ba16-814a94394846",
   "metadata": {},
   "source": [
    "### 3. Retrieve Artifacts & Deploy an Endpoint\n",
    "\n",
    "***\n",
    "\n",
    "We start by retrieving the `deploy_image_uri`, `deploy_source_uri`, and `model_uri` for the pre-trained model. To host the pre-trained model, we create an instance of [`sagemaker.model.Model`](https://sagemaker.readthedocs.io/en/stable/api/inference/model.html) and deploy it. This may take a few minutes.\n",
    "***\n"
   ]
  },
  {
   "cell_type": "code",
   "execution_count": 7,
   "id": "47ffeb19-6cf7-4109-a95f-610e4b5190e2",
   "metadata": {
    "tags": []
   },
   "outputs": [
    {
     "name": "stdout",
     "output_type": "stream",
     "text": [
      "-------------!"
     ]
    }
   ],
   "source": [
    "from sagemaker import image_uris, model_uris, script_uris, hyperparameters\n",
    "from sagemaker.model import Model\n",
    "from sagemaker.predictor import Predictor\n",
    "from sagemaker.utils import name_from_base\n",
    "\n",
    "from sagemaker.jumpstart.model import JumpStartModel\n",
    "\n",
    "my_model = JumpStartModel(model_id=model_id)\n",
    "predictor = my_model.deploy() "
   ]
  },
  {
   "cell_type": "code",
   "execution_count": 12,
   "id": "1600ba73-0286-46de-9a04-69b537ef859d",
   "metadata": {
    "tags": []
   },
   "outputs": [
    {
     "name": "stdout",
     "output_type": "stream",
     "text": [
      "Embedding endpoint name: hf-textembedding-gpt-j-6b-fp16-2023-11-18-17-32-19-920\n"
     ]
    }
   ],
   "source": [
    "print(f\"Embedding endpoint name: {predictor.endpoint_name}\")"
   ]
  },
  {
   "cell_type": "code",
   "execution_count": 13,
   "id": "883a473d-de9f-40eb-a16e-50af29051534",
   "metadata": {
    "tags": []
   },
   "outputs": [],
   "source": [
    "def query(model_predictor, text):\n",
    "    \"\"\"Query the model predictor.\"\"\"\n",
    "\n",
    "    encoded_text = text.encode(\"utf-8\")\n",
    "\n",
    "    query_response = model_predictor.predict(\n",
    "        encoded_text,\n",
    "        {\n",
    "            \"ContentType\": \"application/x-text\",\n",
    "            \"Accept\": \"application/json\",\n",
    "        },\n",
    "    )\n",
    "    return query_response\n",
    "\n",
    "\n",
    "def parse_response(query_response):\n",
    "    \"\"\"Parse response and return the embedding.\"\"\"\n",
    "\n",
    "    if isinstance(query_response, dict):\n",
    "        model_predictions = query_response\n",
    "    else:\n",
    "        model_predictions = json.loads(query_response)\n",
    "    \n",
    "    translation_text = model_predictions[\"embedding\"]\n",
    "    return translation_text"
   ]
  },
  {
   "cell_type": "code",
   "execution_count": 14,
   "id": "fc26186f-7254-45e0-a895-9fcae7830637",
   "metadata": {
    "tags": []
   },
   "outputs": [],
   "source": [
    "predictor.serializer = sagemaker.base_serializers.IdentitySerializer()\n",
    "predictor.deserializer = sagemaker.base_deserializers.BytesDeserializer()\n",
    "embedding_endpoint_name = predictor.endpoint_name"
   ]
  },
  {
   "cell_type": "code",
   "execution_count": 15,
   "id": "74abf802-2013-4722-be9e-ac20ed674a0b",
   "metadata": {
    "tags": []
   },
   "outputs": [
    {
     "name": "stdout",
     "output_type": "stream",
     "text": [
      "\u001b[1mInference\u001b[0m:\n",
      "\u001b[1mInput text sentence\u001b[0m: 'astonishing ... ( frames ) profound ethical and philosophical questions in the form of dazzling pop entertainment'\n",
      "\u001b[1mThe first 5 elements of sentence embedding\u001b[0m: [[0.009996350854635239, -0.02590801566839218, 0.0035119703970849514, 0.007944339886307716, 0.009689831174910069, 0.033790651708841324, -0.004627589136362076, 0.0006076921708881855, 0.011857078410685062, 0.0003446016926318407, 0.002330269431695342, 0.01107209175825119, 0.0007209235336631536, 0.001853365683928132, -0.0011050882749259472, -0.004702294245362282, 0.01713818870484829, -0.012639057822525501, 0.012963414192199707, -0.012942683883011341, 0.0010387217625975609, -0.0017110742628574371, 0.006888621021062136, -0.008405650034546852, 0.009511508978903294, -0.011742526665329933, -0.0022953753359615803, -0.0040961061604321, 0.02139236405491829, -0.0013950372813269496, -0.01219457108527422, 0.0038425284437835217, -0.007446082308888435, 0.005350677762180567, 0.008284089155495167, 0.006112145725637674, 0.00834719929844141, 0.004804958123713732, -0.0014617156703025103, -0.006905719637870789, -0.014127576723694801, -0.014241817407310009, 0.00474265543743968, 0.005338441114872694, 0.0002058418613160029, -0.00414963997900486, -0.00047134485794231296, -0.011295544914901257, 0.005942115560173988, 0.0018228563712909818, -0.005313949193805456, 0.007514035329222679, 0.0022728831972926855, 0.00553610036149621, 0.005195920355618, -0.011796023696660995, 0.00015663796511944383, 0.011090877465903759, 0.0053426786325871944, 0.0007512677693739533, 0.009481200948357582, 0.0056413146667182446, -0.011456916108727455, 0.0006384032894857228, 0.012595641426742077, -0.0065710158087313175, 0.004103187937289476, 0.015931574627757072, 0.004660171922296286, 0.006692905910313129, -0.002896664896979928, -0.0020215066615492105, 0.0009421026334166527, -0.007938157767057419, 0.0012620565248653293, 0.008051719516515732, 0.008404218591749668, 0.008044637739658356, -0.001033318811096251, 0.002509124344214797, 0.0040309918113052845, -0.00651880307123065, 0.003375733271241188, -0.005388837307691574, 0.015496241860091686, 0.019886892288923264, -0.011552718468010426, 0.010564843192696571, -0.003615868976339698, 0.001941234921105206, 0.003196071134880185, 0.0030816930811852217, -0.003979682922363281, 0.015318303368985653, 0.010719426907598972, 0.03373340889811516, 0.00868454109877348, 0.0014200154691934586, 0.016764113679528236, 0.012982788495719433, -0.002580710221081972, -0.021184027194976807, -0.016053831204771996, -0.0006392552750185132, -0.010469315573573112, 0.006640216335654259, -0.009775764308869839, -0.006650710478425026, -0.0006321289693005383, -0.007350279483944178, -0.015006202273070812, 0.0014394252793863416, 0.010738744400441647, 0.006691768765449524, 0.003976674284785986, -0.009031137451529503, 0.006339562591165304, -0.007752716541290283, -0.003327373182401061, 0.0022257890086621046, 0.021082904189825058, -0.011311542242765427, 0.0003570127300918102, -0.0068518188782036304, -0.004449560306966305, 0.010703043080866337, 0.005174813326448202, -0.0036223765928298235, -0.01386504527181387, -0.014367395080626011, -0.003735571401193738, 0.0036719106137752533, -0.003897786373272538, -0.007065990008413792, -0.00486744474619627, 0.0064157722517848015, -0.018935946747660637, 0.002959958277642727, 0.0007416178123094141, -0.012016340158879757, 0.006172907538712025, 0.008069670759141445, -0.013409588485956192, -0.013319656252861023, -0.0041285790503025055, 0.008685499429702759, 0.005784779787063599, -0.010264427401125431, -0.001870812731795013, -0.0037501382175832987, -0.005665476433932781, -0.0018670563586056232, 0.0012990053510293365, 0.005194259807467461, 0.0020511536858975887, -0.010140473023056984, 0.004959027748554945, -0.007038599345833063, 0.002327664289623499, -0.0049839988350868225, -0.008648863062262535, -0.005522286053746939, -0.010445172898471355, -0.0016813561087474227, -0.0022834178525954485, -0.013009940274059772, -0.0016498538898304105, 0.008168943226337433, 0.012542631477117538, 0.001647207303903997, -0.0011353224981576204, 0.007820160128176212, -0.0015728006837889552, 0.004616948775947094, 0.013992037624120712, 0.004948130343109369, 0.008761937730014324, 0.01660296320915222, -0.002113352296873927, -0.016840800642967224, -0.011311102658510208, -0.001160185900516808, -0.004621278494596481, 0.013582316227257252, -0.009556199423968792, -0.005519276950508356, 0.0068862405605614185, 0.00234395544975996, -0.006702592596411705, -0.0015383103163912892, -0.008230812847614288, 0.012594293802976608, -0.0016427721129730344, 0.004711412359029055, -0.0003624981618486345, 0.00028285826556384563, 0.0009818400721997023, -0.012318442575633526, 0.0107583561912179, 0.0011896999785676599, -0.0026123938150703907, -0.002288623945787549, 0.0020941703114658594, -0.011975228786468506, 0.005521625280380249, -0.01277944166213274, -0.006142159923911095, -0.007763559464365244, -0.010898391716182232, -0.001679757609963417, -0.0008427592110820115, -0.017137931659817696, 0.010679560713469982, -0.007373258471488953, 0.025081446394324303, -0.010318951681256294, -0.017824145033955574, 0.009286587126553059, -0.0007223912398330867, 0.01146935299038887, -0.0005372436135075986, 0.015587256290018559, 0.013759189285337925, 0.0002686034713406116, 0.005068828351795673, 0.007915335707366467, 0.015294775366783142, 0.011645641177892685, 0.005546576343476772, 0.008834468200802803, 0.013449848629534245, 0.005796461831778288, -0.008475180715322495, -0.011232581920921803, -0.0062593817710876465, -0.0018642630893737078, -0.010187081061303616, 0.005988714285194874, 0.003921471070498228, 0.02238568849861622, -0.009353953413665295, -0.005186921451240778, 0.026489831507205963, 0.019080257043242455, -0.0018862050492316484, -2.0226440028636716e-05, -0.00440897885710001, -0.004462585784494877, -0.004509441554546356, -0.01439219992607832, -0.0030800695531070232, -0.007671453058719635, -0.0034028119407594204, -0.025163479149341583, 0.00012282632815185934, -0.0076275235041975975, 0.013937072828412056, -0.01278068870306015, -0.009360050782561302, 0.0028551891446113586, -0.0037421390879899263, 0.004885056987404823, -0.028664598241448402, 0.01461825892329216, 0.009049667045474052, 0.009931925684213638, 0.0075705223716795444, -0.001640717382542789, -0.010584437288343906, 0.005180537234991789, -0.0020179932471364737, -0.01157121080905199, -0.019032631069421768, -0.011068934574723244, -0.004598419182002544, -0.0030227566603571177, 0.0031635803170502186, -0.004128138534724712, 0.013275296427309513, -0.008466732688248158, 1.6016037989174947e-05, -0.0028174284379929304, 0.022404327988624573, 0.007448466494679451, -0.0011041159741580486, 0.004007646813988686, 0.012366949580609798, -0.0008364114328287542, -0.011867940425872803, 0.004240732640028, -0.0036192943807691336, 0.0007946009864099324, -0.011227949522435665, -0.0029483819380402565, -0.005708314478397369, 0.001471310737542808, -0.013304539956152439, -0.009219294413924217, -0.008473713882267475, 0.0002621364837978035, -0.01697392761707306, 0.015580981969833374, 0.0032212785445153713, -0.01105631422251463, 0.012528210878372192, -0.008837844245135784, -0.006395774427801371, 0.0025645107962191105, -0.013382620178163052, -0.007022294215857983, -0.004417124204337597, 0.005901896860450506, -0.005860585719347, -0.015094523318111897, 0.0002518535766284913, 0.0012218054616823792, -0.00307568465359509, 0.00038966856664046645, -0.008663301356136799, 0.014460005797445774, 0.0068568456918001175, 0.0035963987465947866, 0.0007376917637884617, -0.006901243235915899, 0.010293474420905113, 0.014668875373899937, -3.5187586036045104e-05, 0.012926869094371796, -0.0014212995301932096, -0.009986339136958122, 0.0016721992287784815, -0.007416324689984322, -0.016424914821982384, 0.011707473546266556, 0.0019053490832448006, 0.0015635909512639046, -0.0032592180650681257, 0.004572624806314707, 0.010313448496162891, -0.03054649382829666, -0.012122434563934803, -0.013925367966294289, 0.005013552028685808, -0.001034933258779347, -0.003959428984671831, 0.007026802748441696, -0.04934392869472504, -0.010669433511793613, 0.010213426314294338, 0.01917506940662861, 0.02079797349870205, 0.006113026291131973, 0.012545713223516941, 0.008140422403812408, -0.006243943236768246, 0.0020943402778357267, 0.00881436187773943, 0.0024564529303461313, 0.643956184387207, -0.030787484720349312, -0.004075779113918543, 0.0012205945095047355, -0.006057254504412413, -0.009749969467520714, 0.014033938758075237, -0.008555573411285877, -0.017917132005095482, 0.006921057123690844, -0.0030254353769123554, 0.0039972951635718346, -0.01014187652617693, -0.0029326046351343393, -0.0012187600368633866, 0.0038061297964304686, -0.0069351280108094215, -0.013799111358821392, -0.005745670758187771, -5.421235982794315e-06, 0.0009263250976800919, 0.007638201117515564, -0.008526843972504139, -0.0038491925224661827, 0.002567611401900649, 0.006787167862057686, 0.009372969157993793, 0.004173728171736002, -0.005951655097305775, 0.0019417383009567857, -0.01498444378376007, 7.326466584345326e-05, -0.007915124297142029, 0.010028938762843609, -0.011558846570551395, 0.0008412731694988906, 0.0006999907782301307, -0.018562166020274162, -0.004073173739016056, -0.008117948658764362, -0.010932606644928455, 0.0061945924535393715, -9.183996735373512e-05, 0.008322983048856258, -0.002149157924577594, 0.0015621233033016324, 0.009155376814305782, 0.016951464116573334, 0.00558715732768178, -0.003198510967195034, -0.004343465436249971, 0.005361850373446941, -0.012152522802352905, 0.009528313763439655, -0.013105026446282864, -0.005816041957587004, -0.02000107802450657, 0.016820693388581276, -0.012968551367521286, 0.0015999526949599385, -0.007495523896068335, 0.008995509706437588, -0.0038564715068787336, 0.00389793305657804, 0.004629497416317463, 0.0010288424091413617, -0.0006956060533411801, 0.015652842819690704, 0.008782665245234966, -0.010217039845883846, 0.0003371440398041159, -0.006101904436945915, 0.011336933821439743, 0.014171340502798557, 0.00518446322530508, -0.00812491960823536, -0.003116027684882283, -0.0022729565389454365, -0.011161875911056995, -0.010762925259768963, -0.0018467428162693977, 0.003998276311904192, 0.0008180654840543866, 0.015704523772001266, -0.0020761776249855757, 0.016130922362208366, 0.00795877818018198, 9.53990820562467e-06, -0.0011394136818125844, 0.0006456362316384912, 0.0166084673255682, -0.019933858886361122, 0.0007540931110270321, -0.0029031408485025167, 0.022961238399147987, 0.0030967644415795803, -0.016073038801550865, -0.0028549274429678917, -0.0020119252149015665, 0.009768499061465263, -0.002129968022927642, 0.004378157667815685, 0.0112379752099514, 0.007251724600791931, -0.002509303158149123, -0.01193163637071848, -0.008909430354833603, 0.005428005941212177, 0.014105809852480888, 8.809738210402429e-05, -0.0003713185724336654, 0.014371357858181, -0.0045591723173856735, -0.001870555803179741, -0.006883813999593258, 0.010669088922441006, 0.0049220421351492405, 0.002021817723289132, -0.008332651108503342, 0.005461523775011301, -0.008792126551270485, 0.018377238884568214, -0.012593119405210018, -0.0013523553498089314, -0.014663939364254475, 0.0078078689984977245, -0.016688501462340355, 0.004392476752400398, -0.011963265016674995, 0.0058033461682498455, 0.006089213769882917, 0.00024043320445343852, -0.0003986213996540755, -0.00560806505382061, 0.005819050595164299, -0.00616355100646615, -0.004966183099895716, -0.01018151268362999, 0.01089562103152275, 0.020458407700061798, 0.0046606119722127914, -0.009947813116014004, 0.007276932243257761, 0.0032349464017897844, -0.011074879206717014, -0.006585921626538038, 0.010390647687017918, -0.010293331928551197, -0.010331426747143269, 0.013548137620091438, 0.0016697040991857648, 0.009042572230100632, -0.0016183353727683425, 0.012079578824341297, -0.0032504668924957514, 0.006726795341819525, 0.00339396926574409, -0.009301776997745037, -0.006677357945591211, -0.003460564883425832, -0.0014363799709826708, 0.01045273058116436, 0.00608304888010025, 0.00592890614643693, -0.004180676769465208, 0.0047548371367156506, -0.007003760430961847, -0.010980362072587013, 0.00881871022284031, 0.003553148126229644, -0.011874690651893616, -0.00865064188838005, 0.009077589958906174, -0.003265941981226206, 0.009298053570091724, 0.009687217883765697, -0.021494735032320023, -0.0011682168114930391, 0.012769901193678379, -0.011438936926424503, 0.0016952967271208763, -0.0012033837847411633, -0.0008785154786892235, 0.0035744018387049437, -0.0004519348149187863, -0.009066802449524403, -0.0187105480581522, -0.005102511495351791, 0.003425366012379527, 0.005567893851548433, -0.01005821954458952, -0.01375926285982132, -0.0030229033436626196, -0.008795429021120071, 0.01427559182047844, -0.005914596375077963, 0.005966121330857277, -0.007160728797316551, -0.00827324204146862, -0.005450534634292126, -0.000570633274037391, -0.0030117169953882694, 0.007981820963323116, 0.0010609112214297056, 0.007480609230697155, 0.003030136227607727, 0.0003657087218016386, 9.099604358198121e-05, -0.015840210020542145, 0.0015044412575662136, -0.004147463943809271, -0.009428511373698711, 0.01715998351573944, -0.010830365121364594, 0.00037455145502462983, -0.0024055978283286095, -0.0013995046028867364, -0.007465785369277, 0.0036393925547599792, -0.005507590714842081, -0.014954227954149246, 0.003704786766320467, -0.006385721266269684, -0.009060454554855824, -0.003138042986392975, 0.0038763582706451416, -0.012420887127518654, -0.012921879068017006, 0.004406777210533619, -0.0020037477370351553, 0.01315575372427702, 0.009482430294156075, 0.00702636269852519, -0.0006313218036666512, 0.014305569231510162, 0.007203878369182348, -0.010954970493912697, 0.019942544400691986, 0.000860903353895992, -0.0012798887910321355, 0.004084255080670118, 0.014325236901640892, 0.0033887221943587065, 0.008020274341106415, -0.011000981554389, 0.003474875120446086, -0.016306234523653984, -0.003800405887886882, -0.0074267820455133915, 0.02121998555958271, -0.008823681622743607, -0.011860872618854046, 0.0060182418674230576, 0.007441862020641565, -0.011762780137360096, 0.005839772522449493, -0.0004513110325206071, 0.0009806659072637558, 0.007234993390738964, -0.012726971879601479, -0.003109790151938796, -0.0005690922262147069, 0.007180290296673775, 0.0036731490399688482, 0.003910060040652752, -0.004520155489444733, 0.004653163719922304, 0.0016211812617257237, -0.0007610782631672919, 0.0031071482226252556, -0.004089464899152517, -0.0024481790605932474, 0.005679474212229252, -0.01300216093659401, 0.0001021137140924111, 0.0013748842757195234, 0.004284226335585117, -0.0023133177310228348, -0.0014214463299140334, 0.008399760350584984, 0.0015749287558719516, -0.012332900427281857, -0.021582134068012238, -0.009468854404985905, 0.005521900951862335, -0.009126903489232063, 0.006572483107447624, 0.002734220353886485, 0.008483399637043476, -0.003931836690753698, -0.005365061108022928, -0.0073423539288342, -0.017273839563131332, -0.00350062339566648, -0.003789912210777402, 0.004415032919496298, 0.004366929642856121, -0.012253792025148869, 0.006415551528334618, -0.000536876730620861, 0.012730346992611885, -0.01773659698665142, -0.010624879971146584, 0.007253522519022226, 0.01780528575181961, 0.005080515053123236, -0.014233175665140152, 0.024102210998535156, -0.01004002895206213, -0.007734930142760277, -0.00014735259173903614, -0.00046554754953831434, -0.008304343558847904, -0.013752952218055725, 0.010336490347981453, -0.004153382498770952, 0.008645432069897652, -0.018150703981518745, -0.01614856906235218, 0.010114028118550777, 0.018420131877064705, 0.00538428733125329, -0.0018007494509220123, -0.000773759966250509, -0.00330335833132267, 0.008353914134204388, -0.005946628283709288, -0.006531938444823027, -0.000969181302934885, -0.01013809721916914, 0.007963328622281551, 0.0005883554695174098, 0.002083736239001155, -0.017594672739505768, 0.0038792204577475786, 0.0019456276204437017, -0.00932911317795515, 0.009468932636082172, 0.014273940585553646, -0.004345355089753866, -0.011132802814245224, 0.006836656015366316, 0.005945050623267889, 0.008846944198012352, 0.015404604375362396, -0.001189553178846836, 0.018398936837911606, 0.001081678899936378, -0.017112411558628082, -0.022843925282359123, -0.0070153274573385715, 0.0014508181484416127, 0.006843123119324446, 0.003120760666206479, 0.0028420123271644115, -0.0009869677014648914, -0.009608962573111057, 0.013055878691375256, 0.0006169852567836642, -0.009815971367061138, -0.005976174492388964, 0.014729948714375496, -0.0043206242844462395, 0.008928711526095867, -0.011291141621768475, 0.0034722331911325455, -0.011230159550905228, -0.000910850299987942, -0.0070680719800293446, 0.0022322102449834347, 0.015073109418153763, 0.016006644815206528, 0.0050792396068573, -0.019568627700209618, -0.033515606075525284, 6.384400421666214e-06, -0.0025343969464302063, -0.0032064365223050117, 0.007225746754556894, -0.010424835607409477, -0.005226548761129379, 0.015026750043034554, -0.00027278633206151426, -0.0006004088209010661, 0.01178134698420763, 0.005203799810260534, -0.0038263103924691677, 0.011609187349677086, -0.006680027116090059, 0.008029851131141186, 0.014471307396888733, -0.011155162006616592, 0.007987692020833492, -0.01747458055615425, -0.0007772090611979365, -0.004156648181378841, 0.0033669820986688137, -0.0039015014190226793, 0.0038005525711923838, 0.013660230673849583, -0.018731022253632545, -0.015085539780557156, 0.0006326427101157606, -0.006615247577428818, -0.003687468124553561, 0.004122121259570122, -0.013303622603416443, -0.0013309639180079103, 0.015059038996696472, 0.010051320306956768, -0.00876836571842432, 0.04752635583281517, -0.0061930883675813675, -0.00657600536942482, -0.0009145286749117076, -0.005961103364825249, -0.009732541628181934, 0.007506623398512602, 0.014286746270954609, 0.004810902290046215, -0.00280763185583055, 0.001063140225596726, 0.0018710695439949632, 0.01255584042519331, -0.005569362081587315, -0.0025518154725432396, -0.0030350482556968927, 0.005485153757035732, 0.008510882034897804, 0.0035020268987864256, 0.0115196593105793, 0.001120719127357006, -0.006875145714730024, -0.0024270995054394007, 0.005489469040185213, 0.001091374666430056, 0.00573407206684351, -0.011369452811777592, -0.005266616586595774, 0.0036530876532197, 0.008466594852507114, 0.00652993842959404, 0.00889912061393261, -0.0016423686174675822, -0.0004812195838894695, 0.009341854602098465, -0.012021775357425213, 0.003459170926362276, -0.008890754543244839, -0.014989800751209259, 0.0016204267740249634, 0.002106081461533904, 0.0024642134085297585, 0.0013689035549759865, 0.004435584880411625, -0.015438506379723549, 0.004554223734885454, -0.00874777976423502, -0.005604961887001991, -0.01754697412252426, 0.008039308711886406, -0.006545899901539087, 0.005888104904443026, 0.005933419335633516, 0.004991977009922266, 0.005193636287003756, -0.004128111060708761, -0.010754896327853203, 0.0005399588262662292, 0.0013227816671133041, 0.007573219947516918, -0.017643509432673454, -0.013904406689107418, -0.00016797576972749084, 0.009911525063216686, -0.00781850516796112, -0.005762765184044838, -0.009166792035102844, -0.0005632215179502964, -0.002816180931404233, 0.003911289386451244, 0.003522317623719573, 0.006511065177619457, 0.008437241427600384, -0.00641309330239892, 0.0026474713813513517, 0.003924975171685219, -0.01097137201577425, 0.006978525780141354, 0.01828756369650364, 0.0034601616207510233, -0.0042551662772893906, -0.006944906432181597, 0.0024953463580459356, 0.011600088328123093, -0.0029432817827910185, 0.0008049848256632686, 0.00012411054922267795, -0.004459687042981386, 0.01337022241204977, 0.0005517094396054745, 0.0003136428422294557, -0.0018217555480077863, 0.01862366311252117, -0.002040852326899767, -0.002590488875284791, -0.0006937301950529218, -0.011711485683918, 0.013819694519042969, -0.006475111935287714, -0.02010887861251831, -0.01308185700327158, 0.005642781965434551, 0.003321500029414892, -0.0052882833406329155, 0.01371714100241661, -0.001426289789378643, -0.011728418990969658, -3.995983206550591e-06, 0.01190066896378994, 0.001150439609773457, 0.008388037793338299, 0.013341047801077366, -0.021056486293673515, 0.00723482808098197, 0.005167961120605469, 0.002612723968923092, -0.0015235968166962266, 0.00035422411747276783, -0.002107365755364299, 0.0018662263173609972, -5.45724033145234e-05, -0.0074097937904298306, -0.009234998375177383, 0.022559095174074173, 0.0016864781500771642, -0.004136632662266493, -0.002268553478643298, -0.002002537017688155, 0.014714152552187443, 0.0016756115946918726, 0.0027690960559993982, 0.00925444532185793, 0.000607251888141036, -0.005977669730782509, -0.005222512874752283, -0.007090609986335039, -0.008027613162994385, -0.0056810155510902405, -0.001217374810948968, -0.00553528405725956, 0.005502692889422178, 0.010808276012539864, -0.002974614966660738, 0.0073381345719099045, -0.00043032324174419045, -0.002982615726068616, -0.010617918334901333, 0.004378561396151781, -0.005188535898923874, 0.006596479564905167, -0.0024818163365125656, -0.009375674650073051, -0.0032090051099658012, 0.003801745129749179, 0.0031627800781279802, -0.00779147120192647, 0.004149438347667456, -0.004756891634315252, -0.011676296591758728, -0.00046294700587168336, 0.008091512136161327, 0.022901613265275955, -0.007749313488602638, 0.008207733742892742, 0.006939402781426907, 0.012958396226167679, 0.013157331384718418, -0.010259090922772884, 0.010402755811810493, -0.013665991835296154, -0.38315561413764954, -0.01654711738228798, -0.008980723097920418, 0.001752407755702734, -0.009985054843127728, -0.009388517588376999, 0.018018098548054695, 0.0005782239022664726, 0.008444947190582752, 0.006301329471170902, 0.0008710670517757535, -0.0018621901981532574, -0.013655168004333973, 0.0034089763648808002, -0.01294550858438015, 0.0192977674305439, -0.0007778326980769634, 0.0002812071470543742, 0.004470499232411385, -0.017500007525086403, -0.00867515243589878, -0.0037722266279160976, -0.003180770669132471, 0.0027980736922472715, -0.0026123938150703907, -0.0005314004374668002, 0.0027955600526183844, -0.007097508292645216, 0.002398773329332471, -0.02253131754696369, 0.003874376881867647, -0.004926335532218218, 0.005506288725882769, 0.012021532282233238, -0.012124672532081604, -0.009338249452412128, -0.013111650943756104, 0.009609127417206764, -0.003990525379776955, 0.010298844426870346, 0.008398009464144707, -0.0009496199199929833, 0.012231593951582909, -0.010066107846796513, 0.0014357746113091707, 0.008786879479885101, 0.0030885820742696524, -0.0010048963595181704, -0.009474010206758976, -0.01103279460221529, 0.006270221900194883, -0.0020405130926519632, 0.008541814051568508, -0.01351100578904152, 0.00039016391383484006, -0.013777315616607666, 0.002668055472895503, -0.007098425179719925, 0.008942563086748123, -0.008310727775096893, -0.009943593293428421, 0.003160131396725774, -0.010569851845502853, -0.004509184509515762, -0.007797874975949526, 0.003693118691444397, 0.0007723105954937637, 0.008663704618811607, -0.014842336066067219, -0.008105693385004997, -0.005773479584604502, -0.002305722562596202, -0.014452814124524593, -0.009070691652595997, -0.0006555751315318048, -0.012424630112946033, -0.010028645396232605, -0.0038559208624064922, 0.0002461296389810741, 0.0014039810048416257, -0.005928502418100834, 0.00227794679813087, 0.009854862466454506, 0.003750596661120653, 0.00864561926573515, 0.014778932556509972, 0.0008095437660813332, -0.02386804297566414, -0.009914611466228962, 0.009509804658591747, -0.010490156710147858, 0.0004050058196298778, 0.012864859774708748, 0.00031423906330019236, 0.006496630609035492, 0.01354383584111929, 0.010615368373692036, -0.008397247642278671, 0.0038203662261366844, -0.0065061417408287525, 0.00041241757571697235, 0.00875402893871069, 0.013466130942106247, -0.003677414497360587, -0.006955180317163467, 0.004019823856651783, -0.00016526057152077556, -0.002402259036898613, -0.0005473705823533237, 0.008505654521286488, 0.006998339202255011, -0.007358076516538858, 0.0014541755663231015, -0.0023913432378321886, 0.00839803647249937, -0.006824630778282881, -0.0004820589383598417, 0.005853614304214716, 0.003073708154261112, 0.0005555253592319787, 0.01870042271912098, 0.007351499050855637, -0.007895815186202526, 0.007688285317271948, -0.011105993762612343, -0.00512648792937398, -0.002420715056359768, -0.0031453080009669065, -0.0037993784062564373, -0.0005172464880160987, -0.0072135282680392265, -0.0003071116516366601, 0.012225612998008728, -0.017657490447163582, -0.0011733353603631258, -0.012861814349889755, -0.00375931104645133, -0.011212841607630253, -0.01301933266222477, 0.0017610074719414115, 0.01437936257570982, 0.0034875839482992887, 0.0004675105446949601, 0.006631593685597181, -0.0007569183362647891, -0.009766907431185246, 0.011961724609136581, -0.0037036859430372715, -0.0077615221962332726, 0.020001811906695366, -0.0159006267786026, 0.015598190948367119, -0.007801420520991087, 0.007679259404540062, -0.01475735753774643, -0.004815865308046341, 0.0012555987341329455, -0.009249637834727764, 0.0022739656269550323, -0.003508778288960457, -0.016443783417344093, -0.0008004166302271187, -0.0035919591318815947, 0.0033166224602609873, 0.016078781336545944, -0.003545416286215186, 0.007917181588709354, -0.011488251388072968, 0.016540072858333588, 0.0021529921796172857, -0.015760736539959908, -0.010680037550628185, 0.00017450694576837122, 0.0024145508650690317, 9.070250962395221e-05, -0.010327758267521858, -0.00566949462518096, 0.002292366698384285, -0.0013064262457191944, 0.004824441857635975, 0.0005091696511954069, 0.0006669863942079246, -0.005604035686701536, -0.0008548308396711946, -0.006417349446564913, -7.371872925432399e-05, 0.005916724447160959, -0.022113213315606117, 0.004841576796025038, -0.0005293915164656937, 0.00729017797857523, 0.01980631798505783, 0.0001447130780434236, -0.01249060221016407, 0.013914469629526138, -0.015995748341083527, -0.01688138209283352, -0.018589098006486893, -0.014245724305510521, -0.02202882245182991, -0.011931562796235085, -0.025449832901358604, 0.003294790629297495, 0.0015276328194886446, 0.010960033163428307, 0.013641239143908024, -0.0007472317083738744, -0.0037686489522457123, -0.004743325058370829, 0.0006820627604611218, 0.002759088296443224, 0.0002952234644908458, -0.00478824507445097, 0.005126600153744221, -0.002114997711032629, -0.015573020093142986, 0.008218484930694103, -0.013262050226330757, 0.014720922335982323, -0.0049930415116250515, -0.00865842029452324, -0.012931052595376968, -0.0029251377563923597, -0.006824924144893885, -0.010117772035300732, -0.00014510865730699152, 0.009657176211476326, -0.006977415643632412, 0.020384948700666428, -0.01894831284880638, -0.0027511995285749435, -0.0008673060801811516, -0.0009656588663347065, -0.0043571144342422485, 0.012323067523539066, 0.005546865053474903, 0.007064889185130596, 0.0025390097871422768, -0.0008813958265818655, 0.01306774839758873, -0.002367915352806449, 0.0006003537564538419, -0.008342576213181019, -0.0031275672372430563, -0.012799621559679508, 0.01651475578546524, 0.002900086110457778, -0.19341884553432465, -0.007025532890111208, 0.007784748449921608, 0.006051971111446619, 0.008036749437451363, 0.0041475300677120686, -0.0011819396167993546, 0.015286749228835106, 0.007969455793499947, 0.0015625635860487819, -0.005071451887488365, 0.005392909981310368, 0.016870850697159767, -0.006603432819247246, 0.001277678064070642, 0.0004660612321458757, -0.023229649290442467, 0.012817766517400742, -0.0036723718512803316, 0.009298622608184814, 0.0035415994934737682, 0.0047174845822155476, -0.013454645872116089, 0.008654017932713032, 0.010785380378365517, 0.0036944763269275427, -0.0032792335841804743, 0.002107319887727499, 0.008679013699293137, 0.007265410851687193, -0.002163073280826211, -0.002272259443998337, -0.0039812237955629826, -0.0015561975305899978, 0.008237416855990887, 0.008926565758883953, -0.0021786950528621674, 0.00536351976916194, 0.015051187016069889, -0.005794870667159557, 0.01578436605632305, -0.008485455065965652, 0.00981491431593895, 0.014579295180737972, -0.008528393693268299, 0.000650860252790153, 0.0019890342373400927, 0.00627971813082695, 0.0007002292550168931, 0.005428133998066187, 0.015682728961110115, -0.007367451209574938, 0.004761973395943642, 0.00011075466318288818, -0.019246215000748634, 0.0005299785989336669, -0.0034599597565829754, 0.03583644703030586, -0.011736288666725159, -0.0026492325123399496, 0.00482623977586627, 0.004808113910257816, 0.00025563285453245044, -0.003621706971898675, 0.014411352574825287, -0.0031187061686068773, 0.004789382219314575, -0.011201980523765087, 0.005840533412992954, 0.006594220642000437, 0.0019630196038633585, 0.004768926650285721, -0.006536892149597406, -0.004553912207484245, 0.0026924419216811657, -0.0028287204913794994, 0.005333895795047283, 0.0013234055368229747, 0.012233171612024307, 0.0037229859735816717, -0.0025382027961313725, 0.0015883947489783168, -0.0011396704940125346, 0.011641990393400192, -0.0014949770411476493, 0.01419817190617323, 0.009482448920607567, 0.019129278138279915, -0.008346465416252613, -0.0003499266167636961, 0.0007304909522645175, -0.0010517565533518791, -0.0101073132827878, 0.018350673839449883, 0.011570597067475319, 0.006530287675559521, 0.011395640671253204, 0.0007594134076498449, -0.005464345216751099, -0.004748370032757521, -0.0012117150472477078, -0.0037033925764262676, -0.005954737775027752, -0.014511961489915848, -0.002279377542436123, -0.01576785370707512, -0.0037757307291030884, 0.003419323358684778, 0.0013957619667053223, 0.005883261561393738, 0.003593426663428545, -0.0033375550992786884, -0.006732973735779524, 0.011134101077914238, 0.0035059896763414145, -0.010120228864252567, 0.009400185197591782, 0.00032390281558036804, 0.011103389784693718, 0.009239676408469677, -0.010128007270395756, 0.01378729660063982, 0.011110770516097546, -0.024200106039643288, 0.006670927628874779, -0.014069869183003902, -0.005796852055937052, -0.008395321667194366, 0.0036683515645563602, 0.010919580236077309, 0.009716557338833809, 0.0206349678337574, -0.0006043532048352063, -0.00188442540820688, 0.02172178402543068, -0.007080960087478161, -0.011432956904172897, -0.013770624063909054, 0.006998880300670862, -0.012253645807504654, -0.006640143226832151, 0.0005889792810194194, 0.0003096800937782973, -0.0021642749197781086, -0.0065452940762043, 0.020986881107091904, -0.00294586387462914, -0.003526610555127263, 0.005247847177088261, 0.006553242914378643, -0.010382850654423237, -0.00257293158210814, 0.007199842017143965, -0.007815075106918812, 0.01348891668021679, 0.008314883336424828, -0.003539893077686429, -0.01436247956007719, 0.011306442320346832, 0.004167765844613314, -0.011723666451871395, -0.014004053547978401, 0.0024654793087393045, -0.009057409130036831, -0.004803958348929882, -0.006844810675829649, -0.003934845328330994, 0.0025832238607108593, -0.006101798266172409, -0.005649946630001068, 0.002650259993970394, -0.006538774818181992, 0.012485208921134472, 0.004924500826746225, 0.012050298973917961, 0.013120676390826702, -0.0033920290879905224, 0.012541236355900764, -0.020087193697690964, -0.013634216040372849, -0.0005108437617309391, 0.014250166714191437, 0.013209552504122257, -0.008647922426462173, -0.003932263236492872, -0.009583204984664917, 0.021255703642964363, -0.013016177341341972, 0.00804214272648096, -0.0007941607036627829, -0.0037728871684521437, 0.00341183808632195, 0.005278798285871744, 0.003523712046444416, 0.025734342634677887, -0.0033972326200455427, 0.009041264653205872, 0.0070715672336518764, -0.0065404511988162994, 0.007306007202714682, 0.012792136520147324, -0.008758002892136574, -0.012678519822657108, 0.0019206036813557148, -0.004977777134627104, -0.0055379718542099, 0.0010087352711707354, 0.007233580574393272, -0.0019090089481323957, 0.006117406766861677, 0.013832720927894115, 0.002852396108210087, -0.011733793653547764, -0.0026049085427075624, -0.007711952086538076, -0.009049704298377037, 0.003225149353966117, 0.011641000397503376, -0.0035921973176300526, -0.00632760114967823, 0.004636707250028849, -0.002805671188980341, 0.017651472240686417, -0.003943752031773329, 0.012697875499725342, -0.0056107137352228165, -0.0035519280936568975, 0.011119515635073185, 0.0026704403571784496, 0.00824519619345665, -0.007074869703501463, 0.008454358205199242, 0.013243667781352997, -0.01362262200564146, -0.003949448466300964, 0.0032512007746845484, 0.009867384098470211, 0.01818644069135189, -0.005341202020645142, -0.007848702371120453, 0.004594236146658659, 0.002024478744715452, -0.0028611470479518175, -0.005672576371580362, 0.004617572296410799, -0.0019853650592267513, -0.006400618236511946, -0.014415976591408253, -0.009346541948616505, 0.008099602535367012, -0.004817360080778599, 0.022854097187519073, -0.013383903540670872, 0.002810245845466852, 0.0033916577231138945, 0.005386085715144873, 0.006629502400755882, -0.0005572040681727231, -0.018445633351802826, -0.00694655766710639, -0.0010538296774029732, -0.00451953150331974, -0.002538441214710474, -0.007944505661725998, 0.0020736802835017443, -0.0001543263642815873, -0.0028958115726709366, -0.001401485875248909, -0.007474243175238371, 0.0074663725681602955, -0.01650976575911045, -0.002179135102778673, 0.008198450319468975, 0.006459618918597698, 0.008618509396910667, -0.011611683294177055, -0.006345727015286684, -0.009603963233530521, -0.00823326874524355, -0.002939539263024926, 0.0005651019746437669, 0.010231918655335903, -0.006578574422746897, -0.013317253440618515, 0.017967352643609047, 0.0005796595360152423, -0.0036169460508972406, -0.0061826081946492195, -0.011772027239203453, -1.889635677798651e-05, 0.0022218446247279644, -0.007244881242513657, -0.011047250591218472, 0.01104647945612669, -0.00935505423694849, -0.0019558279309421778, 0.01397669967263937, 0.006159492302685976, 0.00782096292823553, 0.005584754515439272, -0.00440893042832613, 0.02453106828033924, -0.016352999955415726, 0.00016607237921562046, 0.016917193308472633, -0.002916313474997878, 0.011052488349378109, -0.005961195100098848, -0.01088388916105032, 0.000865673238877207, 0.007573219947516918, -0.029174653813242912, 0.001663319650106132, -0.018076732754707336, -0.009494484402239323, -0.005004159174859524, -0.0008031869074329734, 0.0012699086219072342, -0.015138329938054085, 0.00743626244366169, 0.0014901887625455856, -0.009585442952811718, -0.0024957500863820314, 0.01089501567184925, 0.016675759106874466, 0.007362901698797941, -0.007439734414219856, 0.002804732881486416, -0.0016228851163759828, 0.001222883234731853, -0.0027061968576163054, -0.008248461410403252, 0.0010116338962689042, 0.00699444068595767, -0.0021933168172836304, -0.015517615713179111, 0.012296794913709164, -0.006761666852980852, -0.003156352089717984, 0.002946455730125308, 0.011201063171029091, -0.0028875102289021015, -0.016124224290251732, 0.008841305039823055, -0.009824344888329506, -0.005341284442692995, -0.00309529691003263, -0.0040868232026696205, 0.02230958826839924, -0.014201272279024124, 0.017457682639360428, 0.0034043530467897654, -0.008168280124664307, -0.004977997392416, 0.0006273671169765294, -0.005169859621673822, -0.013154652900993824, 0.0022273666691035032, 0.0022960356436669827, -0.012114216573536396, 0.012998656369745731, 0.0002341680519748479, -0.0058083366602659225, -0.005194259807467461, -0.006492457818239927, -0.009389691054821014, -0.006671184208244085, -0.006346626207232475, -0.0010280718561261892, 0.00981106236577034, 0.014687936753034592, -0.0024947593919932842, -0.012767810374498367, -0.009457718580961227, 0.00041388528188690543, -0.0005128801567479968, -0.0031337940599769354, -0.003606195328757167, -0.01888740435242653, -0.016555923968553543, -0.010873881168663502, 0.0011000247905030847, 0.0006289734737947583, 0.010765640065073967, -0.007034471724182367, -0.012693105265498161, -0.006429898552596569, -0.007578943390399218, 0.0027501354925334454, -0.0031778900884091854, -0.011132558807730675, 0.009907855652272701, 0.009852230548858643, 0.006422559730708599, -0.0068333446979522705, 0.010874761268496513, 0.009304199367761612, 0.003476966405287385, -0.009477385319769382, 0.014292689971625805, 0.011738196946680546, 0.0159588735550642, -0.0004758212890010327, 0.0003454822872299701, 0.013861047104001045, 0.013677293434739113, -0.010973963886499405, -0.011403107084333897, 0.008468620479106903, 0.0015199643094092607, -0.0025821414310485125, -0.0019281621789559722, -0.0014686230570077896, 0.008593274280428886, -0.009742667898535728, -0.013334021903574467, -0.010033524595201015, -0.009123675525188446, 0.009026440791785717, 0.019717760384082794, -0.003352140309289098, -0.004778613802045584, 1.0310439392924309e-05, -0.010216581635177135, -0.013521059416234493, 0.0007461308850906789, -0.005449819378554821, -0.0043813129886984825, 0.0016535597387701273, -0.006519830320030451, -0.00014210795052349567, 0.006473745219409466, -0.0013958949130028486, -0.0014667976647615433, 0.005129681900143623, -0.005385131575167179, -0.004469465464353561, 0.014895420521497726, 0.011592603288590908, -0.00420559523627162, 0.004719521384686232, -0.011292645707726479, -0.01410627830773592, -0.004120699129998684, -0.0005568370688706636, -0.010613331571221352, 0.018623465672135353, -0.009695775806903839, 0.012070626020431519, -0.0010374007979407907, -0.013843728229403496, 0.0040114582516252995, -0.009297768585383892, 0.010012720711529255, -0.0006392839713953435, -0.006557879503816366, 0.005566536448895931, -0.01231414545327425, 0.001451728749088943, 0.008555904030799866, 0.0059167612344026566, -0.0029108463786542416, 0.001073771738447249, 0.005473981145769358, -0.00412630382925272, 0.00389980454929173, 0.008253819309175014, 0.013932577334344387, 0.010646207258105278, 0.0103569645434618, -0.006752585526555777, -0.008101730607450008, -0.005800530314445496, -0.00664259260520339, -0.0024272555019706488, -0.008859749883413315, 0.002192399464547634, 0.006029203999787569, 0.009173796512186527, 0.003206289606168866, 0.004116819240152836, 0.0014890329912304878, -0.001052031759172678, -0.006345066707581282, 0.011979189701378345, -0.00877627544105053, -0.004205191973596811, -0.002088432665914297, -0.0013773059472441673, 0.002906894776970148, 0.0010766519699245691, 0.006060814019292593, 0.00863902922719717, -0.013458802364766598, 0.0005586717161349952, 0.00946076400578022, -0.009378544054925442, 0.000290380121441558, -0.015492518432438374, 0.0006306613213382661, 0.009683851152658463, 0.0115589564666152, 0.0020513555500656366, 0.0016278019174933434, 0.006627961527556181, -0.01212331559509039, 0.0019307674374431372, -0.00615735026076436, -0.006973159499466419, -0.004697524476796389, -0.0029971457552164793, -0.003519051941111684, -0.00019813656399492174, 0.0016077130567282438, -0.006555421743541956, 0.010010666213929653, 0.0003450419753789902, 0.005782743915915489, -0.004374194890260696, -0.011450132355093956, 0.0023403598461300135, -0.005590826738625765, -0.03742373734712601, -0.004361260682344437, -0.0019301619613543153, 0.01105616707354784, -0.010441649705171585, 0.0033518101554363966, 0.007632807362824678, 0.002346434397622943, 0.015697112306952477, 0.0019990510772913694, 0.0013979864306747913, 0.01369020901620388, 0.007959108799695969, 4.694735980592668e-05, 0.0036203586496412754, -0.00360476435162127, -0.0006336700753308833, 0.006553256418555975, -0.004185139667242765, 0.0008476116927340627, 0.0007226847228594124, -0.002310923533514142, -0.017199721187353134, -0.0006296339561231434, -0.008603419177234173, -0.007014511618763208, -0.0024270261637866497, 0.00192437379155308, 0.0017289615934714675, -0.005743318237364292, -0.002774645807221532, 0.002612682757899165, -0.010156920179724693, -0.012798079289495945, 0.006206609774380922, -0.0017194950487464666, 0.008337073028087616, 0.010541195049881935, 0.0032842785585671663, -0.002034513745456934, -0.018069760873913765, 0.0022916877642273903, -0.004287454765290022, 0.002257582498714328, 0.010096598416566849, 0.020321618765592575, 0.012980146333575249, 0.008096685633063316, 0.01457678247243166, 0.02602960169315338, -0.006298467516899109, 0.011114287190139294, -0.012153440155088902, 0.0028236662037670612, 0.002750630723312497, -0.004328219685703516, 0.0007048341212794185, -0.017580656334757805, -0.00906925555318594, -0.01427052915096283, 0.009065664373338223, 0.010048385709524155, 0.015872498974204063, -0.0011154355015605688, -0.0061453524976968765, -0.012728897854685783, -0.012912523001432419, 0.004537143744528294, -0.013615278527140617, 0.004211860708892345, 0.006264160852879286, 0.0012247958220541477, 0.02030554786324501, 0.003068291349336505, -0.006658658850938082, -0.0009459185530431569, 0.01277452427893877, -0.009062509052455425, 0.010816642083227634, 0.009020277298986912, 0.0012937217252328992, 0.0003195227182004601, 0.008784127421677113, 0.005787123925983906, -0.024668000638484955, 0.008446469902992249, -0.0038807610981166363, -0.012198309414088726, 0.004541069734841585, -0.001064953044988215, -0.0025451742112636566, 0.011917180381715298, 0.010427706874907017, 0.014279256574809551, 0.009826600551605225, 0.006612036842852831, 0.0007332611712627113, 0.004434810020029545, -0.0022077548783272505, -0.005884821061044931, 0.002771141706034541, 0.0013893959112465382, 0.004730950575321913, -0.009084378369152546, 0.01344236359000206, 0.004635368008166552, -0.004692240618169308, 0.009096449241042137, 0.0029022968374192715, 0.0029702873434871435, 0.002352357842028141, 0.0043888213112950325, 0.0067426604218780994, 0.009918931871652603, 0.006514729931950569, 0.002276965184137225, -0.0016666218871250749, 0.007017629686743021, 0.0004409925895743072, -0.0026101924013346434, -0.014252366498112679, -0.009268938563764095, -0.004597685299813747, -0.008257304318249226, -0.016024844720959663, 0.007619011215865612, 0.0019375187112018466, -0.014090664684772491, 0.010084783658385277, -0.005064278841018677, 0.00882015936076641, -0.0016908368561416864, -0.007195163983851671, 0.001211254158988595, 0.0029104058630764484, 0.013134068809449673, 0.0002919211983680725, -0.0008029667660593987, 0.0041798376478254795, -0.0033042572904378176, 0.014196575619280338, 0.013370741158723831, -0.004272028338164091, -0.009697417728602886, 0.013176769018173218, 0.01017621997743845, 0.0012728623114526272, 0.004132688511162996, -0.011254670098423958, 0.005504719913005829, -0.0027534880209714174, -0.009803210385143757, -0.019234638661146164, -0.008937610313296318, -0.007673062849789858, -0.009150313213467598, 0.007155335042625666, 0.005403404124081135, -0.008747803047299385, -0.002679650206118822, -0.0019019641913473606, -0.006187002174556255, 0.014653593301773071, -0.0004932866431772709, -0.007227214053273201, 0.010397693142294884, -0.004943029955029488, 0.0005125958123244345, -0.00972131360322237, -0.013468296267092228, 0.00860108993947506, -0.005700168665498495, -0.007003590930253267, 9.892150410450995e-05, 0.010068750008940697, 0.00658213347196579, 0.0034982108045369387, -0.011984555050730705, 0.009845222346484661, 0.005486768204718828, 0.005587304010987282, -0.008251287043094635, 0.005150963552296162, 0.0008937426027841866, -0.018878011032938957, -0.0004883699584752321, -0.01864905282855034, -0.0024650755804032087, -0.015212594531476498, -0.0002681814949028194, -0.002475239336490631, -0.001202175160869956, 0.00872446596622467, -0.006432099733501673, -0.002931008581072092, -0.007734397891908884, 0.008818177506327629, -0.011345593258738518, 0.0016081350622698665, 0.003735993057489395, -0.008197056129574776, 0.0009626868413761258, 0.006272994447499514, -0.012975008226931095, 0.007601619232445955, -0.005472935736179352, -0.006396875716745853, 0.006610826123505831, 0.012259663082659245, 0.012150974944233894, -0.003524464089423418, -0.0032480452209711075, -0.007221086882054806, -0.00038440327625721693, -0.0017379694618284702, -0.004818937741219997, 0.005466184113174677, -0.001428858027793467, -0.004054901655763388, 0.006452060304582119, -0.0011047213338315487, -0.009181134402751923, -0.005367849487811327, -0.01501288078725338, 0.0005602769670076668, 0.002518976107239723, -0.013729908503592014, 0.00486674765124917, 0.008957680314779282, -0.024090763181447983, 0.003234542440623045, 0.005956076551228762, 0.013618621975183487, 0.0018668407574295998, -0.0008134606177918613, -0.006829914171248674, -0.0060430001467466354, -0.0010793672408908606, -0.004473813343793154, -0.015650220215320587, -0.012688444927334785, -0.012431051582098007, 0.007728371303528547, 0.004222565330564976, 0.0013422284973785281, 0.0013737467816099524, 0.0023752169217914343, 0.008927354589104652, -0.004608729854226112, 0.0007094022585079074, 0.002391508314758539, -0.007517887745052576, -0.012762279249727726, -0.009513343684375286, -0.011378340423107147, -0.007275794167071581, -0.0048803603276610374, -0.004234985448420048, 0.00017795599706005305, -0.002529671648517251, 0.0026358033064752817, -0.006023351568728685, -0.012336202897131443, -0.0008573075174354017, -0.004559342283755541, -0.0290993619710207, -0.00752981286495924, -0.007875652983784676, -0.011843392625451088, 0.0013012434355914593, -0.017693521454930305, 0.014783702790737152, 0.0013299365527927876, 0.004836513195186853, -0.0033965008333325386, -0.006539386697113514, 0.016031742095947266, 0.0009049680666066706, 0.0018037031404674053, 0.003924883436411619, -0.012201139703392982, 0.004653126932680607, 0.0039812237955629826, 0.009291467256844044, -0.0055184331722557545, -0.0049198041670024395, -0.006238806992769241, 0.00034930743277072906, -0.0027876347303390503, 0.005037218332290649, -0.006723250728100538, 0.002436932874843478, 5.90740455663763e-05, 0.0022008568048477173, -0.009220999665558338, 0.009011250920593739, 0.0038446933031082153, -0.006587160285562277, -0.011610124260187149, 0.004607849288731813, 0.009310363791882992, 0.013826923444867134, -0.0028146214317530394, 0.0010226048761978745, -0.00842814240604639, 0.006127396132797003, -0.004879736341536045, -0.014179212041199207, -0.00807164330035448, -0.0028413881082087755, 0.004546188283711672, -0.007021372672170401, 0.01040701288729906, 0.007833145558834076, 0.008333004079759121, -0.005116472952067852, 0.004333265125751495, 0.005399184301495552, -0.01255535427480936, 0.006888070609420538, -0.005369647406041622, -0.014439458027482033, 0.0039117843843996525, -0.02056363970041275, 0.010661948472261429, 0.005250765476375818, -0.006630823016166687, -0.003599040675908327, -0.0014128603506833315, 0.006573069840669632, 0.008203073404729366, -0.0045202928595244884, -0.0008759103366173804, 0.0032548699527978897, -0.0037999930791556835, -0.0166105218231678, -0.0030751528684049845, -0.01760825887322426, -0.023273561149835587, -0.004979318473488092, -0.008579377084970474, -0.00669657438993454, 0.0020309456158429384, -0.004665895830839872, -0.008677211590111256, -0.002517636865377426, -0.00862019695341587, -0.0011790592689067125, 0.009874685667455196, -0.003409338416531682, 0.012072313576936722, 0.0008822947856970131, -0.0036037920508533716, 0.0022719658445566893, 0.005650671664625406, 0.0017738359747454524, -0.004634358920156956, 0.004725226666778326, 0.024164075031876564, 0.01405155099928379, -0.014652124606072903, 0.016628647223114967, 0.010453023947775364, -0.0020411000587046146, 0.019952278584241867, 0.0028726866003125906, -0.0033152648247778416, 0.0032410004641860723, 0.00641375407576561, 0.0029118733946233988, 0.009149395860731602, 0.006708536762744188, 0.0015814232174307108, -0.0007095490582287312, -0.0140148950740695, -0.009103870950639248, -0.0001608942257007584, -0.011863738298416138, -0.009710745885968208, 0.0011465501738712192, 0.004102123901247978, -0.012593008577823639, 0.0002329572307644412, -0.006577766966074705, -0.023697204887866974, 0.0005913275526836514, -0.006452133879065514, -0.006071839947253466, 0.007765613961964846, 0.006221971474587917, 0.007713126018643379, 0.0017971720080822706, 0.005603879690170288, 0.017828768119215965, 0.005956168286502361, 0.009891013614833355, 0.010888924822211266, -0.007019574288278818, -0.0004228564503137022, -0.019360436126589775, 0.0034936245065182447, 0.010300183668732643, -0.004593575838953257, -0.013523297384381294, 0.0086717763915658, -0.01131913810968399, -0.008241893723607063, -0.00981230940669775, 0.005628307815641165, 0.007931369356811047, -0.016661688685417175, -0.01681709662079811, 0.008625324815511703, -0.008513560518622398, 0.002763931406661868, 0.010111128911376, 0.0079245176166296, -0.0034825801849365234, -0.005147918127477169, -0.008828524500131607, 0.01030750386416912, 0.004576587583869696, -0.0011063175043091178, 0.0006673418101854622, 0.000523740949574858, -0.0015591696137562394, 0.003972124308347702, -0.008490592241287231, -0.004005330614745617, -0.004711760673671961, 0.0040649548172950745, -0.004170339088886976, -0.008837844245135784, 0.011865443550050259, 0.009365768171846867, 0.01716655120253563, -0.0007435258012264967, -0.0095912404358387, -0.0010102762607857585, 0.013453911989927292, -0.01992982253432274, 0.0006877540145069361, 0.002291229087859392, -0.007401501294225454, -0.012295033782720566, 0.00027555658016353846, 0.014035332947969437, -0.004511514212936163, 0.004579449538141489, -0.0008616738487035036, -0.001181847881525755, 0.002780736656859517, -0.015656311064958572, 0.0006217084592208266, 0.002571170451119542, 0.004456347785890102, -0.002772517269477248, 0.015967315062880516, 0.0023334615398198366, -0.003001695265993476, -0.0003334931971039623, 0.004725960548967123, -0.005845762323588133, -0.0012492142850533128, 0.019530100747942924, 0.0027850696351379156, -0.0031164130195975304, -0.014846593141555786, 0.010817228816449642, 0.005445233080536127, -0.002454398199915886, 0.013026965782046318, -0.016424493864178658, -0.009475110098719597, 0.0015563259366899729, -0.007696210872381926, -0.009144222363829613, 0.002703866921365261, -0.02263849414885044, 0.008677134290337563, -0.010110219940543175, 0.006330243311822414, 0.004838651046156883, -0.004583485424518585, -0.006934870965778828, -0.00837068259716034, 0.005676538683474064, 0.0024153580889105797, -0.007723106537014246, 0.00036948799970559776, 0.008373251184821129, 0.018570128828287125, 0.0037360757123678923, -0.008052930235862732, 0.016034787520766258, -0.016125600785017014, -0.012408631853759289, -0.004398044664412737, 0.009425980038940907, -0.001225437968969345, 0.0002529176708776504, 0.012390010058879852, 0.01262584887444973, -5.3643638239009306e-05, -0.00899574626237154, -0.012652266770601273, 0.004744581878185272, 0.011885019950568676, 0.008953121490776539, 0.0057130432687699795, 0.005874565802514553, 0.020945493131875992, 0.00042592023964971304, -0.00185690657235682, 0.008640771731734276, -0.014695494435727596, -0.002882767701521516, -0.006188905797898769, -0.009920862503349781, -0.009545926004648209, -0.02367548458278179, -0.0045315297320485115, 0.00796134676784277, 0.001349897007457912, -0.006848333403468132, -0.0009521195315755904, 0.013985102996230125, 0.01189586240798235, -0.0011453026672825217, 0.0048670778051018715, 0.0024313556496053934, 0.006885208655148745, 0.00280620064586401, 0.010020866990089417, 0.001490573980845511, -0.01818794570863247, 0.01004812866449356, 0.01161265466362238, -0.0048852404579520226, -0.01332391332834959, 0.0009097403381019831, 0.007613286841660738, 0.00728201400488615, 0.014373468235135078, 0.010582895018160343, -0.007327970117330551, 0.01597515493631363, -0.0066568381153047085, -0.010763071477413177, 0.005451837554574013, 0.011685764417052269, 0.004332292824983597, -0.0012000470887869596, 0.0039389729499816895, 0.004401273559778929, 0.0011243883054703474, -0.013296578079462051, 0.00048660871107131243, -0.009197205305099487, 0.0010076344478875399, -0.009593258611857891, 8.439149610239838e-07, -0.0050317877903580666, -0.01692851632833481, 0.007660619914531708, -0.0011616672854870558, -0.009723992086946964, -0.0016767489723861217, -0.011537312529981136, 0.002361732767894864, -0.009959223680198193, 0.007675699889659882, -0.00520680844783783, 0.0003059375158045441, -0.0005126966862007976, -0.0027593818958848715, 0.00024950530496425927, -0.0035897206980735064, 0.010186420753598213, 0.0035391959827393293, -0.004814113024622202, -0.00370955653488636, 0.0028887828812003136, -0.007067384198307991, 0.009182579815387726, -0.00014654766710009426, -0.004422775004059076, -0.004451541695743799, -0.005808538291603327, 0.014429404400289059, 0.005718601401895285, 0.0050481525249779224, -0.001234042108990252, -0.002264609094709158, -0.007149482145905495, -0.00596251618117094, 0.0018295343033969402, 0.0218210369348526, -0.005073470063507557, 0.005954443942755461, 0.00858184415847063, -0.008636942133307457, 0.005066260229796171, -0.0021929130889475346, -0.007805029395967722, 0.001559188007377088, -0.002608412876725197, -0.00978828314691782, -0.011649981141090393, 0.00850891973823309, -0.0015685810940340161, -0.011788235045969486, 0.0006214516470208764, 0.005755756516009569, 0.006110182963311672, -0.013750347308814526, 0.009051685221493244, 0.017238467931747437, -0.0013431273400783539, -0.0034331928472965956, 0.011910135857760906, -0.0030184269417077303, 0.00744501780718565, -0.014379209838807583, 0.10385056585073471, 0.0065520089119672775, 0.010403802618384361, -0.01763305254280567, 0.0025923599023371935, -0.01923139952123165, 0.008884002454578876, 0.010844307951629162, -0.0028167313430458307, -0.008806069381535053, 0.0009575132862664759, 0.012634067796170712, -0.002004371490329504, 0.0010253200307488441, -0.0009247839916497469, 0.005193158984184265, -0.0007210118346847594, -0.007401171140372753, -0.0008349253912456334, 0.0003317503142170608, 0.003076501190662384, 0.006358826067298651, 0.004529071506112814, -0.007878496311604977, 0.010990194976329803, 0.001345200464129448, -0.006953713018447161, 0.009122264571487904, 0.008187700062990189, -0.012050812132656574, -0.0062011610716581345, -0.010451079346239567, -0.0017658737488090992, 0.00686475308611989, 0.0008439149823971093, 0.010043138638138771, 0.002355660079047084, -0.010673029348254204, -0.003959961235523224, -0.011551911942660809, 0.0018044598400592804, 0.008964138105511665, 0.009352853521704674, -0.005034172907471657, -0.009094578213989735, -0.014575732871890068, 0.002096908399835229, 0.008156263269484043, 0.009226338937878609, 0.008580725640058517, 0.009188802912831306, -0.006734950467944145, 0.0057272473350167274, 0.011492140591144562, -0.008142421953380108, 0.01431852113455534, -0.0027094807010143995, 0.004143805708736181, 0.007031425833702087, -0.00519314082339406, -0.00010416846635052934, 0.00999804399907589, 0.016680968925356865, 0.012607025913894176, 0.004611004609614611, 0.012635608203709126, -0.003089563688263297, 0.0003721298126038164, -0.011527584865689278, -0.008744207210838795, -0.004460860975086689, -0.003702218411490321, 0.013427347876131535, 0.003891218453645706, -0.008889231830835342, 0.0014091545017436147, 0.004581063985824585, 0.014258640818297863, 0.0005441784160211682, 0.009518186561763287, -0.002147396793588996, -0.005627499893307686, -0.012981981039047241, -0.0015548032242804766, 0.0177022535353899, 0.0012136964360252023, 0.0009705756092444062, -0.007120626512914896, 0.0055920095182955265, -0.004122267942875624, 0.00014265831850934774, -0.005610897205770016, 0.003390483558177948, -0.009600138291716576, 0.006718039978295565, 0.006139150820672512, 1.291556782234693e-05, 0.00018133163393940777, 0.007305221166461706, 0.004671766422688961, -0.005915916990488768, 0.004522503819316626, 0.00037425797199830413, 0.023861348628997803, -0.013580132275819778, 0.002861275337636471, -0.006836738903075457, -0.00203361501917243, -0.0024145692586898804, 0.015790602192282677, -0.006626053713262081, -0.008273907005786896, 0.007333694491535425, 0.022184543311595917, -0.0013338993303477764, 0.0014350957935675979, -0.0068940334022045135, -0.0019194663036614656, -0.020054804161190987, -0.018747976049780846, -0.007532693445682526, -0.012423996813595295, 0.008105105720460415, 0.012223410420119762, -0.00011202054156456143, -0.008919483982026577, -0.0009506152127869427, -0.011612636968493462, -0.01379670761525631, -0.0009369657491333783, 0.005426593124866486, -0.003169469302520156, -0.004670592490583658, 0.012021311558783054, 0.01504502259194851, 0.002651947783306241, 0.009044493548572063, 0.019283970817923546, -0.0012049637734889984, 0.018045544624328613, -0.008173646405339241, -0.01203569583594799, -0.004365829285234213, 0.012255406938493252, 0.011993433348834515, -0.005977413151413202, 0.011852693744003773, 0.015804966911673546, 0.00041091322782449424, 0.005655221175402403, 0.018915923312306404, 0.018085116520524025, 0.021239835768938065, -0.005778368096798658, -0.007285811472684145, -0.00759999081492424, 0.003444539848715067, -0.007914441637694836, 0.012670062482357025, 0.016344651579856873, 0.014678837731480598, 0.0030835000798106194, -0.014305459335446358, -0.0012630564160645008, -0.0036234038416296244, 0.015004368498921394, -0.015184012241661549, 0.002545027295127511, -0.003723646281287074, -0.006939311046153307, 0.005688353441655636, -0.004337979480624199, 0.001331110717728734, 0.016316251829266548, 0.0006623264634981751, 0.00708349235355854, 0.005550539121031761, -0.0070267110131680965, -0.005424325820058584, 0.01218723226338625, -0.015324762091040611, -0.007838943041861057, -0.01699879579246044, -0.0059022861532866955, 0.006265169475227594, 0.0019208971643820405, 0.014136236160993576, -0.013262619264423847, 0.002917038043960929, 0.009372812695801258, -0.007799241691827774, 0.009783470071852207, -0.004682608880102634, 0.009630207903683186, -0.006120364647358656, -0.0021203546784818172, 0.003951173275709152, 0.0013925720704719424, -0.007076116744428873, 0.002550787990912795, 0.009362686425447464, -0.005907771643251181, 0.006530947983264923, 0.010136079043149948, 0.007398271933197975, 0.005427004303783178, 0.005287347827106714, 0.0032931764144450426, -0.005155513063073158, -0.008310255594551563, -0.001676400424912572, 0.0035275828558951616, 0.007441862020641565, -0.006817438639700413, 0.014834530651569366, -0.007343683857470751, 0.004950258415192366, 0.005775533616542816, 0.0007767778588458896, 0.02082378976047039, 0.021436871960759163, -0.00482506537809968, -0.0017358963377773762, -0.0005292447749525309, 0.01397470012307167, 0.014281058683991432, 0.015037757344543934, 0.001063039293512702, -0.002094037365168333, 0.02297297865152359, 0.009505418129265308, 0.010027177631855011, 0.008424399420619011, -0.010294194333255291, 0.009786184877157211, 0.009866027161478996, -0.002330691320821643, -0.0025592090096324682, -0.016484998166561127, 0.0011432479368522763, -0.013515849597752094, -0.012926282361149788, 0.005292002577334642, 0.006365577690303326, 0.008592668920755386, 0.001986062154173851, 0.01293692272156477, -0.0032897014170885086, 0.022019576281309128, -0.018336143344640732, -0.004636835772544146, 0.01644100621342659, 0.0009376629022881389, 0.0017633786192163825, -0.0009921503951773047, -0.009744282811880112, 0.012063338421285152, 0.008998041972517967, -0.016161633655428886, 0.001286039245314896, -0.022753708064556122, -0.0011659350711852312, -0.005138414911925793, -0.017631879076361656, 0.007552121765911579, -0.0005283091450110078, -0.014920119196176529, -0.02224523201584816, 0.006316300015896559, -0.0012175674783065915, -0.009868521243333817, 0.010261877439916134, -0.00485863396897912, 0.005852917209267616, 0.0005150082870386541, -0.011711925268173218, -0.02012656442821026, -0.005808850284665823, 0.01922394335269928, 0.002873714081943035, -0.006129134446382523, -0.005833140108734369, -0.005871483590453863, -0.018523933365941048, 0.017753731459379196, -0.00670182891190052, 0.0027775075286626816, 0.01540469005703926, -0.0032774722203612328, -0.019156282767653465, 0.0023984797298908234, 0.00120995391625911, 0.012311692349612713, -0.0029919217340648174, 0.012662246823310852, -0.007254256866872311, -0.00015843585424590856, -0.002224416472017765, -0.003401931142434478, 0.006302797235548496, -0.002160936128348112, -0.004651439376175404, -0.016264809295535088, -0.0017255493439733982, 0.001238059950992465, -0.005149294156581163, -0.001014789449982345, -0.006969857029616833, 0.0013599139638245106, -0.0012770819012075663, 0.008059791289269924, 0.0052026258781552315, 0.00633071968331933, -0.008301903493702412, 0.007390988990664482, 0.0067175813019275665, 0.011378982104361057, 0.004227793775498867, 0.002289706375449896, -0.0008146715117618442, 0.016463423147797585, 0.005708094220608473, 0.019256800413131714, -0.007243633735924959, 0.013821051456034184, 0.009400827810168266, -0.00045376940397545695, -0.006101211532950401, 0.003579887328669429, -0.005462918430566788, -0.013260475359857082, 0.012659898959100246, -0.008528842590749264, 0.0032783206552267075, 0.0070426445454359055, -0.0009473863174207509, -0.005556703079491854, -0.005244748201221228, 0.001050490653142333, -0.003549286164343357, 0.0014910143800079823, -0.005586407613009214, 0.015299315564334393, -0.0008985126041807234, -0.0003678552166093141, 0.0027011241763830185, -0.002432163106277585, 0.016985220834612846, 0.00809901487082243, 0.008211219683289528, -0.01863129436969757, -0.007966263219714165, -0.0030383141711354256, -0.0003459867730271071, -0.010320383124053478, -0.005320003256201744, 0.014116056263446808, -0.0014267299557104707, -0.004466420039534569, 0.004970916081219912, -0.004930297844111919, 0.01671300269663334, 0.0008780751959420741, 0.0026242085732519627, 0.02365882694721222, -0.011153464205563068, 0.018251605331897736, -0.02346714772284031, 0.002519875066354871, 0.0027523371390998363, 0.0037182343658059835, -0.01266510970890522, -0.009622366167604923, -0.010388785973191261, 0.003606782527640462, -0.022866537794470787, 0.003421543398872018, -0.009619438089430332, 0.013824721798300743, 0.0010967958951368928, 0.004533226601779461, 0.002682879101485014, 0.010641180910170078, 0.0011906540021300316, -0.013178732246160507, 0.005851082969456911, -0.005206221714615822, -0.0054172007367014885, 0.011228105053305626, -0.0033559196162968874, 0.007290544919669628, -0.0015926508931443095, 0.004464144818484783, -0.014949182979762554, -0.015094923786818981, -0.0038366117514669895, 0.002274460857734084, 0.015459613874554634, -0.014368276111781597, -0.0072222244925796986, 0.007419406436383724, 0.0076795900240540504, -0.0159270241856575, -0.0010659380350261927, 0.000971983652561903, 0.0034716827794909477, 0.0036810103338211775, 0.010596636682748795, 0.0025064824149012566, 0.008874316699802876, 0.009236466139554977, -0.025631770491600037, -0.010428848676383495, -0.007184064481407404, -0.0051651266403496265, 0.006120364647358656, -0.009287280961871147, 0.0003867698833346367, -0.00255111837759614, -0.0007082464289851487, 0.005720569286495447, 0.008048269897699356, -0.011925766244530678, -0.009623345918953419, -0.004755644593387842, -0.023050179705023766, -0.002379730110988021, -0.0020842498634010553, -0.002686768537387252, -0.006925257854163647, 0.004906393121927977, -0.016926366835832596, 0.0025432799011468887, 0.01185384951531887, -0.0010150462621822953, 0.00875396654009819, -0.00540333054959774, -0.0027823876589536667, 0.005774653051048517, -0.0007626790320500731, -0.0032703173346817493, 0.0010417854646220803, -0.0004101060039829463, -0.0036350812297314405, -0.01064345519989729, -0.012578699737787247, 0.009492593817412853, 0.009398331865668297, -0.013414799235761166, 0.0026869885623455048, -0.004696805030107498, 0.010541947558522224, -0.00656169606372714, -0.1528404951095581, 0.0033171179238706827, -0.003003548365086317, 0.007992810569703579, 0.015171682462096214, 0.0009533303673379123, -0.0005227503133937716, -0.012757861986756325, -0.009478853084146976, -0.005532706622034311, -0.003393675433471799, -0.0057962192222476006, -0.006634694058448076, -0.009433485567569733, -0.0017923286650329828, 0.028273940086364746, 0.009089688770473003, -0.0038498484063893557, 0.0047910152934491634, 0.032312989234924316, 0.0007435992010869086, 0.00023336084268521518, -0.001820434583351016, -0.0010732763912528753, -0.020026354119181633, -0.0011417068308219314, 0.002976597985252738, -0.00275453832000494, -0.017540808767080307, -0.005239831283688545, -0.008233179338276386, 0.010589133016765118, -0.011683746241033077, -0.006104147061705589, -0.007613764144480228, 0.00502654118463397, 0.008667501620948315, 0.0028176852501928806, 0.008061111904680729, -0.010398711077868938, 0.009601917117834091, -0.010299027897417545, -0.0032955247443169355, -0.006427384912967682, -0.011886285617947578, -0.001865382306277752, -0.01382420863956213, -0.014512108638882637, -0.008287502452731133, -0.010187448002398014, -0.007534420117735863, -0.008825267665088177, 0.0031847150530666113, -0.003049982013180852, 0.010757104493677616, 0.004697524476796389, 0.0014679718296974897, -0.007782510481774807, 0.02031545527279377, -0.004455009009689093, -0.0036192943807691336, -0.0013720588758587837, 0.0005669594975188375, -0.006567162927240133, 0.014110368676483631, 0.022694332525134087, 0.004012611694633961, -0.014009281061589718, 0.0032512741163372993, -0.009711626917123795, -0.001577387098222971, 0.013058098033070564, 0.0006632438162341714, 0.00466908561065793, 0.009287027642130852, -0.007372255437076092, 0.011946240440011024, 0.0038663598243147135, -0.01073525846004486, -0.001261469442397356, -0.004705890081822872, -0.01959548518061638, 0.004790520295500755, 0.021127667278051376, 0.0009539175080135465, 0.008181132376194, -0.0014359763590618968, 0.008012442849576473, 0.004275048617273569, 0.002661671256646514, 0.0005465358844958246, 0.009438400156795979, 0.00941170658916235, 0.006135115399956703, -0.012810628861188889, 0.006315896287560463, 0.01502175908535719, -0.008547459729015827, 0.011641302146017551, -0.012634947896003723, 0.005116766784340143, -0.004127533175051212, -0.00429858174175024, -0.013232715427875519, -0.004551196936517954, 0.007506073452532291, 0.010228910483419895, -0.003993552178144455, -0.0009657322079874575, -0.0010847976664081216, -0.015675721690058708, 0.00021435439703054726, -0.010324510745704174, -0.027668597176671028, -0.005868511274456978, 0.0020157666876912117, 0.0018656024476513267, -0.004724713042378426, -0.009417852386832237, -0.005692022852599621, 0.005040062125772238, 0.010489124804735184, 0.0031433722469955683, 0.018654996529221535, 0.0014283077325671911, 0.003409416414797306, 0.0065191881731152534, 0.0041023073717951775, -0.0003108037926722318, 0.006039030849933624, 0.004178846720606089, -0.0068788607604801655, -0.0029699935112148523, -0.007020849734544754, -0.019630158320069313, -0.0006207912229001522, 0.00871406402438879, -0.00668909028172493, -0.008968467824161053, -0.010207775980234146, 0.004906310699880123, -0.001190562266856432, 0.011179194785654545, 0.010284769348800182, 0.007290654815733433, -0.012999665923416615, 0.008314580656588078, -0.01370517909526825, 0.0008492410415783525, -0.0016969662392511964, 0.009924367070198059, -0.006786470767110586, 0.0028330592904239893, 0.0006978167803026736, 0.008207623846828938, -0.0037647413555532694, 0.0016079859342426062, -0.09316234290599823, -0.0006771867629140615, -0.011088088154792786, 0.0025771695654839277, 0.006099964026361704, 0.004139586351811886, -0.0046062348410487175, 0.0146099291741848, -0.005247536581009626, -0.0006718021468259394, -0.006485780235379934, -0.006369062699377537, 0.001177481608465314, -0.001453001401387155, 0.012021346017718315, -0.02496417984366417, -0.01948845572769642, -0.010744504630565643, 0.016452673822641373, -0.00416747247800231, 0.01006067730486393, 0.011329797096550465, 0.015262781642377377, 0.010120081715285778, 0.009582177735865116, 0.010333701968193054, 0.01627013087272644, 0.01113138534128666, -0.009468909353017807, -0.01888446882367134, -0.016588635742664337, -0.007230296265333891, -0.005728439893573523, 0.016410769894719124, -0.00957150012254715, 0.009671008214354515, -9.327095176558942e-05, -0.00042390215094201267, -0.0038755510468035936, 0.004873352125287056, 0.008672822266817093, -0.003762099426239729, 0.00016173813492059708, 0.01408728864043951, 0.006594131700694561, 0.013322776183485985, -0.012895021587610245, 0.002645255997776985, 0.01662588119506836, -0.004134706221520901, 0.02851361222565174, -0.008048893883824348, -0.017490733414888382, -0.003512851195409894, -0.012632305733859539, 0.0037114189472049475, -0.004305360838770866, 0.010464618913829327, 0.004078017547726631, 0.0024516095872968435, 0.003525606356561184, 0.0039080786518752575, 0.009618539363145828, -0.005161392968147993, -0.0008184324251487851, -0.008889580145478249, -0.018122881650924683, -0.004841283429414034, -0.013371869921684265, 0.015476482920348644, 0.009921541437506676, 0.0003620739153120667, -0.01077092345803976, -0.003193044103682041, -0.010592013597488403, 0.003935047425329685, 0.00028539003687910736, -0.04865969717502594, 0.013517756946384907, -0.0034601984079927206, -0.007972502149641514, 0.002942823339253664, 0.014628496021032333, 0.0011456971988081932, -0.014544544741511345, -0.0024167890660464764, -0.016848431900143623, 0.0017092121997848153, -0.00846201740205288, -0.0021682376973330975, -0.0019337577978149056, -0.003240266814827919, 0.004335273522883654, 0.009175814688205719, -0.006175255868583918, 0.008308966644108295, 0.0015559775056317449, 0.0008080118568614125, -0.010289921425282955, -0.00892573781311512, 0.01437253225594759, -0.004900513216853142, -0.0028133555315434933, 0.005125205963850021, -0.006317364051938057, -0.005561326164752245, 0.006317657884210348, -0.016232116147875786, 0.0017714141868054867, -0.0021472866646945477, -0.008726567029953003, 0.00857869815081358, -0.005520451348274946, -0.010410535149276257, -0.011557158082723618, 0.007939144037663937, -0.006857900880277157, -0.003896392183378339, 0.0005313729052431881, 0.00920641515403986, -0.007683368865400553, -0.005038172472268343, 0.0047629461623728275, 0.0011600895086303353, 0.012894388288259506, 0.00650348886847496, -0.005893315188586712, -0.006749704945832491, 0.006358935963362455, -0.0019629462622106075, 0.0035079161170870066, -0.001596687245182693, 0.004741187673062086, -0.0068677798844873905, -0.008595897816121578, 0.014739304780960083, 0.011314918287098408, 0.010891493409872055, 0.0016050796257331967, 0.005501885432749987, 0.01390669122338295, 0.008211549371480942, 0.019682005047798157, 0.0018745185807347298, 0.00675366772338748, 0.016132131218910217, 0.008649688214063644, -0.005818903911858797, -0.02116876281797886, -0.005926814861595631, -0.0050664618611335754, 0.00608066376298666, 0.0031552331056445837, 0.010724508203566074, 0.0012446645414456725, -0.0009350210893899202, -0.008172729052603245, 0.006701161619275808, 0.00010231552005279809, 0.0005493336357176304, 0.0006597213796339929, 0.011862361803650856, 0.005567857064306736, 0.0010608377633616328, 0.009191774763166904, -0.014964116737246513, 0.003803744912147522, 0.014741220511496067, 0.007258696015924215, 0.00037796382093802094, -0.001037942012771964, -0.0014146033208817244, -0.004258541390299797, -0.004769477061927319, -0.005035805981606245, -0.006373319309204817, -0.011294444091618061, 0.012303913943469524, -0.016714800149202347, -0.014258640818297863, -0.01766820251941681, 0.01616324670612812, 0.0014714208664372563, -0.0025772934313863516, 0.004292463418096304, 0.007924471981823444, -0.013934100978076458, 0.01212441548705101, 0.003452823031693697, -0.008822654373943806, 0.0012673401506617665, 0.00160064990632236, 0.0034992750734090805, 0.011723374016582966, -0.0076449159532785416, -0.0065240501426160336, -0.0028326096944510937, 0.0028760989662259817, 0.020480642095208168, 0.0029639622662216425, -0.0007058752817101777, -0.0023837846238166094, 0.00022009669919498265, 0.007249816786497831, -0.007415737956762314, 0.0033181270118802786, -0.01591726392507553, 0.006694997660815716, -0.0025798389688134193, 0.0018044369062408805, -0.007879780605435371, -0.00400221161544323, 0.00519015034660697, -0.002275194739922881, 0.014910436235368252, -0.002149763284251094, -0.0034376876428723335, -0.012001718394458294, 0.0034176905173808336, 0.014380063861608505, -0.001841495861299336, -0.012377912178635597, 0.0031556549947708845, 0.009256242774426937, 0.003014097223058343, 0.0018499350408092141, -0.0026912540197372437, -0.01773832179605961, 0.0016823995392769575, 0.015225620940327644, 0.01860690675675869, -0.012117665261030197, 0.0066685425117611885, 0.0027640601620078087, -0.011865443550050259, 0.013490714132785797, -0.007516420446336269, 0.0025836823042482138, 0.007863452658057213, -0.009379875846207142, -0.0074071334674954414, 0.006771417334675789, -9.024386235978454e-05, -0.005820371676236391, -0.01053805835545063, -0.0009013746166601777, 0.0011477244552224874, -0.004268081858754158, 0.008037574589252472, 0.007958906702697277, -0.0016818123403936625, -0.009919325821101665, -0.00453068595379591, -0.006508510559797287, -0.00130843510851264, -0.011156409047544003, 0.006177127361297607, 0.01158111821860075, -0.01527199987322092, -0.015267412178218365, 0.008730740286409855, 0.0009119418682530522, -0.02063966542482376, 0.005805841647088528, -0.0007553405594080687, 0.02019532583653927, -0.019013918936252594, 0.001336541143245995, 0.005572737660259008, 0.005340669769793749, 0.011092418804764748, 0.008289409801363945, -0.010553303174674511, 0.0031562969088554382, 7.1118185587693e-05, 0.021657058969140053, -0.0017920350655913353, 0.008238958194851875, 0.013612055219709873, 0.002664349740371108, 0.007902493700385094, -0.0015605317894369364, -0.010721903294324875, 0.0005079084075987339, 0.006135179195553064, 0.0017741912743076682, 0.004022062290459871, -0.01770929805934429, -2.9268643629620783e-05, 0.00692751444876194, 0.011438222602009773, 0.010202418081462383, -0.0037794639356434345, -0.0012256581103429198, -0.00020815346215385944, -0.009335855022072792, -0.0019620656967163086, -0.000597932084929198, 0.019718844443559647, 0.00969320721924305, -0.005532339680939913, -0.003208599053323269, -0.006544817704707384, -0.009077663533389568, -0.0003796516393776983, -0.0014230241067707539, -0.001266496255993843, -0.01459631696343422, 0.008470704779028893, 0.007541581988334656, -0.0024438677355647087, 0.004316478502005339, 0.0105546610429883, -0.00047008044202812016, 0.008060048334300518, 0.011377179063856602, 0.00464498158544302, 0.0076459795236587524, -0.006413453258574009, -0.006345542147755623, -0.0015496847918257117, 0.003169221570715308, 0.008110931143164635, 0.008438168093562126, -0.0013280652929097414, 0.002293430734425783, 0.003084325697273016, -0.00686110183596611, -0.010902122594416142, -0.01249918807297945, -0.014758092351257801, -0.008860060945153236, -0.00950668379664421, 0.004985299427062273, 0.004439176060259342, -0.0018643182702362537, -0.0036102684680372477, 0.01570320315659046, 0.0031234025955200195, 0.01550198346376419, 0.017030423507094383, -0.012022330425679684, -0.01812175288796425, 0.0032757935114204884, 0.022768238559365273, 0.016100576147437096, 0.004993114620447159, 0.009071535430848598, -0.008527962490916252, 0.003254934214055538, -0.002897178288549185, -0.006289450451731682, 0.01679243892431259, -0.001764075830578804, -0.007934597320854664, -0.005300960037857294, 0.00519743375480175, 0.00856859888881445, 0.009770398028194904, -0.018971575424075127, 0.01938392035663128, -0.008581624366343021, -0.006190373096615076, -0.0022295271046459675, -0.0027940189465880394, -0.01026699598878622, 0.002152496948838234, -0.010448253713548183, 0.009446968324482441, -0.0061095040291547775, -3.9407161239068955e-05, 0.010464838705956936, -0.0035687696654349566, -0.00478316331282258, 0.013913222588598728, -0.0021883815061300993, 0.0015180930495262146, -0.0012080458691343665, 0.010259474627673626, 0.01214907318353653, -0.015421826392412186, -0.0026314002461731434, -0.003923030104488134, -0.0029645473696291447, -0.0015024254098534584, 0.006260234862565994, 0.007532950025051832, -0.0007956834160722792, 0.006194272078573704, -0.002615865785628557, 0.007104039192199707, -0.008177123963832855, 0.003420296823605895, 0.0039131236262619495, -0.0003431431541685015, -0.0008358427439816296, -0.006047751288861036, -0.005067957099527121, 0.0022401907481253147, 0.014221936464309692, -0.004732262343168259, 0.004210640676319599, -0.006661296356469393, 0.009522479958832264, -0.008973824791610241, -0.0028591472655534744, -0.0017354193842038512, 0.00597983505576849, -0.006908654700964689, 0.009163852781057358, -0.01493186503648758, 0.0037725199945271015, -0.0031955388840287924, 0.010330620221793652, 0.006555934902280569, 0.010695521719753742, 0.004917254205793142, 0.00020022799435537308, 0.003855884075164795, 0.011264924891293049, 0.02375422604382038, 0.008100730367004871, 0.000614661374129355, -0.002467607380822301, -0.012903295457363129, -0.023244023323059082, -0.02115134336054325, -0.014167058281600475, -0.0008315497543662786, -0.011386026628315449, -0.00020405313989613205, 0.00042927754111588, -0.005281256511807442, 0.003848765976727009, -0.016548512503504753, -0.005101392511278391, -0.005375371314585209, -0.013362512923777103, -0.008279466070234776, -0.0069910562597215176, 0.00915354210883379, 0.00807043258100748, -0.013212553225457668, 0.011012577451765537, 0.0030846470035612583, -0.0046142335049808025, -0.0006849654018878937, 0.014349453151226044, -0.0006030689692124724, 0.0019321066793054342, -0.009512316435575485, 0.004436112474650145, 0.018733445554971695, -0.009483182802796364, 0.0065299938432872295, -0.005883187986910343, -0.006784067489206791, -0.007526712492108345, -0.005599210970103741, -0.0243978388607502, 0.003188310656696558, 0.007239616475999355, -0.015324670821428299, -0.006147901993244886, 0.014268928207457066, -0.0006207361584529281, 0.005859320051968098, -0.01213934924453497, 0.0062182592228055, 0.02296564169228077, -0.017356323078274727, -0.007937313988804817, 0.02195279859006405, 0.0027930650394409895, 0.0028258676175028086, 0.0006559788016602397, 0.007445752155035734, 0.00890384428203106, 0.004739591386169195, 0.004233444109559059, 0.0017237697029486299, -0.014595326036214828, -0.0033168885856866837, 0.00384718831628561, 0.002539248438552022, -0.020764637738466263, 0.0028308576438575983, -0.008197515271604061, 0.012807399965822697, -0.0006864698370918632, -0.0012922906316816807, 0.007585584651678801, -0.0005424997070804238, 0.002851185156032443, 0.006363581866025925, -0.012940151616930962, 0.00490743899717927, -0.006623191758990288, 0.004234994761645794, 0.011082226410508156, -3.5811346606351435e-05, 0.013766088522970676, 0.010441264137625694, -0.0007388200610876083, 0.0020628951024264097, 0.01834392175078392, 0.0030677958857268095, -0.005772039294242859, 0.006306062918156385, -0.002459681825712323, 0.004615461453795433, 0.0015412730863317847, -0.005976393818855286, -0.011619792319834232, -0.009251142852008343, -0.012978054583072662, -0.009806695394217968, -0.0024457962717860937, 0.00901066418737173, 0.014470504596829414, 0.004142375197261572, -0.0010698320111259818, -0.005691655911505222, -0.0010666351299732924, -0.007746405433863401, 0.002341203624382615, -0.008387102745473385, -0.00187382148578763, 0.009315794333815575, -0.0069974493235349655, -1.064066691469634e-05, -0.004865376278758049, 0.010038405656814575, 0.0018796921940520406, 0.014357883483171463, -0.010051798075437546, 0.0026482052635401487, -0.007634531706571579, -0.0038940070662647486, 0.002631840528920293, 0.023224834352731705, 0.002234691521152854, 0.009871823713183403, -0.005836185999214649, -0.006592516787350178, -0.004440607503056526, -0.004684131592512131, 0.0015091585228219628, 0.0019278594991192222, -0.006229340098798275, 0.006448519416153431, -0.013150909915566444, 0.004195285029709339, 0.003553982824087143, -0.005456461105495691, -0.011080511845648289, -0.0005153384990990162, 0.0024624704383313656, 0.0031203206162899733, 0.005835158284753561, -0.00481218658387661, 0.007224897854030132, 0.0039871311746537685, 0.003100029891356826, -0.020359156653285027, -0.0033543487079441547, -0.00036695622839033604, 0.02538272552192211, -0.0028143462259322405, -0.006077600177377462, 0.007588703650981188, -0.008303627371788025, 0.004307296127080917, 0.006331160198897123, 0.010548129677772522, 0.007920178584754467, -0.0005890801548957825, -0.0051856739446520805, 0.005718771368265152, -0.009258050471544266, 0.015605179592967033, 0.006050430238246918, 0.004721447359770536, -0.0008170197834260762, 0.014039579778909683, -0.005877023562788963, 0.009800301864743233, 0.0030560637824237347, -0.00035427918191999197, -0.010018683038651943, -0.0024028094485402107, 0.009304162114858627, -0.015557095408439636, -0.015079513192176819, 0.008209017105400562, -0.001734428689815104, -0.012941216118633747, 0.010805340483784676, 0.01630825363099575, 0.0009468725766055286, 0.014968262054026127, -0.007267648819833994, 0.010472837835550308, 0.015190505422651768, 0.003921892959624529, -4.146190985920839e-05, -0.005449011921882629, 0.013722699135541916, 0.0028682833071798086, 0.008604190312325954, -0.004499204456806183, -0.008882462047040462, 0.006305292248725891, -0.010293598286807537, -0.0068480768240988255, 0.00880578812211752, -0.001995051745325327, 0.004302351735532284, -0.008212237618863583, -0.0004778209840878844, -0.00033893276122398674, 0.03445836901664734, -0.007279327604919672, 0.017876174300909042, 0.019482456147670746, 0.008164254017174244, 0.009275432676076889, -0.004487258847802877, 0.010976618155837059, 0.0004784998018294573, -7.820890459697694e-05, -0.0005816225311718881, -0.015045673586428165, -0.007677571848034859, -0.00458546681329608, 0.004406043328344822, -0.00156100420281291, 0.010536205023527145, -0.0003546552616171539, -0.0016240776749327779, 0.01375405304133892, 0.004926408641040325, -0.0042121997103095055, -0.0002965948369819671, 0.001001507043838501, 0.010071097873151302, -0.007456667721271515, -0.010596086271107197, 0.003928433172404766, -0.0189790241420269, 0.012418318539857864, 0.015030273236334324, 0.003511310089379549, -0.0071821934543550014, -0.00013871393457520753, -0.01726231724023819, -0.023257562890648842, 0.004637468606233597, 0.009291100315749645, -0.008484354242682457, 0.022453129291534424, -0.013499191030859947, 0.006101688835769892, 0.012690408155322075, -0.008249965496361256, 0.0011345382081344724, 0.00911897886544466, 0.0002982872538268566, -0.0004754635156132281, -0.02256966382265091, 0.008104316890239716, -0.009426603093743324, 0.008957534097135067, -0.0033955653198063374, -0.0058610993437469006, 0.0069749667309224606, -0.00504193315282464, 0.01189446821808815, -0.030822306871414185, -0.005281146615743637, 0.002772444160655141, -0.004617003723978996, -0.010863910429179668, -0.0017497292719781399, 0.009789230301976204, -0.0035251257941126823, -0.010392775759100914, -0.017377015203237534, -0.011813432909548283, 0.009613998234272003, 0.003881348529830575, 0.007249046117067337, -0.00041087649879045784, 0.00495840422809124, -0.016644058749079704, -0.0053292131051421165, -0.005180610343813896, -0.01443773414939642, 0.007734994404017925, -0.007163040339946747, -0.0025603463873267174, 0.009782038629055023, 0.006502401549369097, -0.0072384788654744625, 0.012953369878232479, 0.006646601017564535, 0.002682750578969717, -0.01072781067341566, 0.009764284826815128, 0.009046938270330429, 0.008394661359488964, -0.0057931458577513695, 0.001063442905433476, 0.013954536989331245, 0.0003044629702344537, -0.002917157020419836, -0.009786772541701794, 0.011571230366826057, -0.0028737871907651424, -0.005178555846214294, -0.009481238201260567, 0.006669496651738882, 0.00431003887206316, 0.015362647362053394, 0.01611936278641224, 0.010636924766004086, -0.002992678666487336, -0.00993897020816803, 0.012539989314973354, -0.013150167651474476, -0.002705884864553809, 0.006804357748478651, -0.01155341137200594, 0.010290222242474556, -0.012251850217580795, 0.0007214922225102782, -0.004676137585192919, 0.013659828342497349, 0.0035072737373411655, 0.016585497185587883, -0.009328773245215416, 0.004117204342037439, -0.004252560902386904, 0.003762099426239729, -0.0040969871915876865, 0.01242044661194086, -0.019638707861304283, -0.005635077133774757, 0.008085439912974834, 0.002601607469841838, 0.0047777327708899975, 0.013796358369290829, 0.0027736551128327847, 0.010979700833559036, -0.008688838221132755, -0.0004973961040377617, -0.004538501147180796, -0.004865548107773066, -0.0007566523854620755, 0.0030205182265490294, 0.0073651764541864395, 0.013638711534440517, 0.004157895687967539, 0.00619184086099267, 0.0014541022246703506, 0.0016538716154173017, -0.0037801521830260754, 0.006784855388104916, 6.964018393773586e-05, 0.010089168325066566, -0.004778173286467791, 0.0011659970041364431, 0.003649088554084301, 0.0016948381671682, -0.010860176756978035, 0.00257328012958169, -0.009796142578125, -0.0008919814135879278, 0.001475677010603249, -0.005258067511022091, -0.00993537437170744, -0.009908149018883705, -0.0011667124927043915, -0.0036841752007603645, -0.0004425783408805728, 0.00035422411747276783, 0.021307531744241714, 0.0005390415317378938, 0.0065689608454704285, 0.016783157363533974, 0.006316300015896559, 0.001708194031380117, -0.00319084245711565, -0.005239317659288645, -0.01404617540538311, 0.005468358285725117, 0.004887221846729517, -0.011165508069097996, -0.008509809151291847, 0.0010364009067416191, 0.01198826264590025, -0.013713544234633446, 0.006180429365485907, 0.010147600434720516, 0.003743239678442478, 0.0016640536487102509, 0.01600385643541813, -0.008710064925253391, -0.015909338369965553, -0.0026052757166326046, 0.010839756578207016, 0.0020700867753475904, -0.003988225013017654, -0.004545426927506924, -0.00018903696036431938, 0.008054177276790142, 0.02471856214106083, -0.009119858965277672, 0.005419071763753891, 0.005787715781480074, 0.004822607152163982, 0.007576888892799616, 0.007802728097885847, -0.016752151772379875, -0.013239118270576, -0.006954740267246962, -0.011766229756176472, 0.01962968334555626, -0.0034305143635720015, 0.0020687778014689684, 0.009963242337107658, -0.011695193126797676, -0.006107669789344072, -0.005139809101819992, 0.0030012920033186674, 0.007794674020260572, -0.008317772299051285, -0.01158093474805355, 0.007412582170218229, -0.005311600863933563, -0.0036072181537747383, 0.0035983158741146326, 0.004723983816802502, 0.005603769328445196, -0.01796085759997368, 0.00739891454577446, 0.0005250343238003552, -0.011736728250980377, -0.0059133488684892654, 0.009220541454851627, -0.011043031699955463, -0.028224334120750427, 0.011435928754508495, 0.0053370650857687, -0.014162067323923111, 0.005240932106971741, -0.005027091596275568, -0.014490533620119095, 0.0008318066247738898, 0.012435490265488625, 0.007590244524180889, -0.011767220683395863, -0.005012524779886007, -0.0009802989661693573, 0.005444902926683426, 0.005737191066145897, -0.002322160406038165, -0.0007324448088183999, -0.0055755628272891045, 0.003956181928515434, -0.003767428919672966, 0.010444384068250656, 0.0005174207617528737, -0.005486841779202223, 0.0062508233822882175, -0.004208163823932409, -0.012267882004380226, 0.008395119570195675, 0.007196393329650164, 0.005298098083585501, 0.010486780665814877, -0.004619702696800232, 0.004240489564836025, -0.00440867617726326, 0.002801715163514018, 0.01070230919867754, 0.005946885794401169, 0.006326573900878429, -0.0011777383042499423, 0.010521207004785538, 0.008117727935314178, 0.0023223806638270617, -0.005598898511379957, 0.019201377406716347, -0.0028464519418776035, -0.0028970499988645315, 0.005220751743763685, -0.012134176678955555, 0.005311564076691866, -0.0006504015764221549, 0.007426525000482798, -0.004888097755610943, 0.005137681029736996, 0.007510182913392782, 0.0005481044645421207, -0.007640769239515066, 0.006918084807693958, 0.0009198305779136717, 0.01262687612324953, 0.004780209623277187, 0.004069082904607058, -0.009514187462627888, 0.00790601596236229, -0.0017583152512088418, 0.0059815957210958, 0.01547861099243164, 0.004930591676384211, 0.0016348466742783785, -0.019610896706581116, -0.005795696284621954, 0.0033238506875932217, -0.005983577109873295, -0.01218833401799202, -0.003713519312441349, -0.006458664778620005, 0.012774818576872349, -0.0038958049844950438, 0.009751840494573116, 0.015142477117478848, 0.0035107594449073076, -0.011755881831049919, 0.00662385206669569, 0.007948394864797592, 0.010936330072581768, -0.002036256715655327, 0.005809657275676727, 0.009960407391190529, -0.014213582500815392, 0.003545020706951618, 0.01923832669854164, 0.010142610408365726, 0.011557452380657196, 0.0009514315752312541, -0.00014823550009168684, -0.0044040619395673275, -0.006789974868297577, 0.01646921969950199, 0.0024250447750091553, -0.010676111094653606, 0.00043006642954424024, -0.0019419491291046143, 0.0053539942018687725, 0.009140333160758018, -0.0036876057274639606, -0.00535293435677886, 0.011008760891854763, -0.005359116941690445, -0.00366596644744277, 0.0015490014338865876, -0.016241179779171944, -0.01797538809478283, 0.0026100454851984978, 0.014570430852472782, -0.009879162535071373, 0.011050736531615257, 0.0035656876862049103, -0.0049542211927473545, 0.009716149419546127, 0.004153786227107048, -0.014449439011514187, 0.009565262123942375, -0.00817995797842741, 0.007342940662056208, -0.010265675373375416, -0.00528778787702322, -0.0068671563640236855, 0.0095469169318676, 0.0025978272315114737, 0.0013944777892902493, 0.003958988469094038, 0.008700773119926453, 0.0014373339945450425, 0.0009982092306017876, -0.00033441049163229764, -0.018437780439853668, 1.0732396731327754e-05, 0.00577080063521862, 0.0018141602631658316, 0.0025578695349395275, 0.0022467218805104494, 0.005936061032116413, 0.013414285145699978, -0.00032171508064493537, -0.006486293859779835, -0.008578688837587833, -0.0008712504641152918, -0.013557237572968006, 0.0061424532905220985, 0.011537235230207443, -0.013039954006671906, -0.0013679013354703784, -0.0063820332288742065, 0.008972871117293835, -0.006805623881518841, 0.011226638220250607, 0.012354791164398193, -0.01238867174834013, -0.014620717614889145, 0.003969867713749409, -0.00791845377534628, 0.013946758583188057, 0.011761624366044998, -0.0003291268367320299, 1.5080394405231345e-05, 0.006996201816946268, 0.008018712513148785, -0.005491281393915415, -0.005623959004878998, -0.008764313533902168, 0.015846265479922295, -0.0064285979606211185, -0.002606014022603631, -0.006760584656149149, -0.004529768601059914, -0.0010696438839659095, 0.008757122792303562, -0.0022044158540666103, 0.0036060118582099676, 0.007975069805979729, 0.010332528501749039, 0.01047799363732338, -0.005318773910403252, -0.015018860809504986, 0.005931694991886616, -0.007675718516111374, 0.004238801542669535, -0.001358482986688614, -0.0054135313257575035, 0.0008630463853478432, 0.0026298959273844957, 0.011269898153841496, 0.015500443987548351, 0.0026576053351163864, 0.004275653976947069, -0.0035332173574715853, 0.011110837571322918, -0.019543584436178207, 0.0032166370656341314, 0.0030441847629845142, -0.01911298558115959, -0.01024883333593607, 0.021752532571554184, -0.0074882409535348415, 0.006128804292529821, -0.0010904115624725819, 0.012596495449543, -0.0002225504576927051, -0.0040006800554692745, 0.0008238994632847607, 0.006187676452100277, -0.0013315510004758835, -0.011066733859479427, -0.0074276989325881, 0.005663476884365082, -0.005546126514673233, 0.006504254415631294, -0.006074573379009962, -0.012270230799913406, -0.0050443364307284355, 0.0040547545067965984, 0.0063718329183757305, -0.0021048339549452066, -0.007543719373643398, -0.0033620104659348726, 0.0037607785779982805, -0.008993051014840603, -0.01274990476667881, 0.013163018971681595, -0.008876664564013481, 0.001355327432975173, 0.013389308005571365, 0.011898760683834553, -0.0059014237485826015, 0.0069815246388316154, 0.014177844859659672, 0.00794290006160736, 0.0025581265799701214, 0.003076693741604686, -0.0006189199048094451, 0.0025488801766186953, 0.01708010584115982, -0.012771516107022762, -0.006961408536881208, 0.01386493630707264, -0.014544177800416946, 0.0010282553266733885, -0.00038893474265933037, -0.0008248718804679811, -0.005789458751678467, 0.013527113012969494, 0.01843227818608284, -0.008884966373443604, 0.014200721867382526, -0.011041490361094475, 0.002089161891490221, 0.015009661205112934, 0.0027526305057108402, -0.0020278727170079947, 0.003907986916601658, 0.002918074605986476, 0.009818785823881626, 0.0008478409727104008, -0.0007970227161422372, -0.010382452048361301, 0.0013624564744532108, -0.012776725925505161, -0.007745231501758099, -0.00787409394979477, -0.01085208635777235, 0.00025779768475331366, 0.0017458765069022775, 0.06984151899814606, -0.00011036940122721717, 0.014885229989886284, 0.0096714673563838, -0.01150630321353674, 0.006443841382861137, 0.002366300905123353, 0.01046014204621315, -0.011394833214581013, 0.0035810614936053753, -0.004465264268219471, 0.022785115987062454, -0.015464664436876774, -0.007212464231997728, -0.013137426227331161, 0.010992506518959999, -0.014262824319303036, 0.012133534997701645, -0.002354823285713792, -0.014749359339475632, -0.0026601667050272226, -0.00933766271919012, 0.010737607255578041, -0.016778791323304176, 0.01023045089095831, 0.0023862614762037992, 0.02094290591776371, -0.01094054989516735, 0.02299947291612625, -0.016739381477236748, -0.011549306102097034, 0.001682839822024107, -0.01591785065829754]]\n",
      "\u001b[1mSentence embedding size\u001b[0m: 1\n",
      "\n"
     ]
    }
   ],
   "source": [
    "newline, bold, unbold = \"\\n\", \"\\033[1m\", \"\\033[0m\"\n",
    "\n",
    "input_text = \"astonishing ... ( frames ) profound ethical and philosophical questions in the form of dazzling pop entertainment\"\n",
    "\n",
    "\n",
    "query_response = query(predictor, input_text)\n",
    "embedding = parse_response(query_response)\n",
    "\n",
    "print(\n",
    "    f\"{bold}Inference{unbold}:{newline}\"\n",
    "    f\"{bold}Input text sentence{unbold}: '{input_text}'{newline}\"\n",
    "    f\"{bold}The first 5 elements of sentence embedding{unbold}: {embedding[:5]}{newline}\"\n",
    "    f\"{bold}Sentence embedding size{unbold}: {len(embedding)}{newline}\"\n",
    ")"
   ]
  },
  {
   "cell_type": "markdown",
   "id": "91e993da-2afe-48f5-b400-0dfff02d34f9",
   "metadata": {
    "tags": []
   },
   "source": [
    "### 4. Semantic Similarity"
   ]
  },
  {
   "cell_type": "markdown",
   "id": "828c0755-e212-48ec-873c-1b11f8dc2356",
   "metadata": {},
   "source": [
    "A use case of sentence embedding is to cluster together sentences with similar semantic meaning.  In the example below we compute the embeddings of sentences in three categories: pets, cities in the U.S., and color.  We see that sentences originating from the same category have much closer embedding vectors than those from different categories.  Specifically, the code will do the following:\n",
    "The SageMaker embedding model will output an embedding vector for each sentence;  The distance between any pair of sentences is computed by the cosine similarity of corresponded embedding vectors;A heatmap is created to visualize the distance between any pair of sentences in the embedding space. Darker the color, larger the cosine similarity (smaller the distance).\n",
    "Note. Cosine similarity of two vectors is  the inner product of the normalized vectors (scale down to have length 1)."
   ]
  },
  {
   "cell_type": "code",
   "execution_count": 16,
   "id": "07f1fba8-d298-4955-9817-973a147f84f3",
   "metadata": {
    "tags": []
   },
   "outputs": [],
   "source": [
    "%matplotlib inline"
   ]
  },
  {
   "cell_type": "code",
   "execution_count": 17,
   "id": "f63ae1ba-92bc-4489-94f0-304f89cee15e",
   "metadata": {
    "tags": []
   },
   "outputs": [
    {
     "data": {
      "image/png": "[encoded data removed]",
      "text/plain": [
       "<Figure size 432x288 with 2 Axes>"
      ]
     },
     "metadata": {},
     "output_type": "display_data"
    }
   ],
   "source": [
    "import sklearn\n",
    "from sklearn.preprocessing import normalize\n",
    "import numpy as np\n",
    "import seaborn as sns\n",
    "\n",
    "\n",
    "def get_embedding(predictor, sentence):\n",
    "    query_response = query(predictor, sentence)\n",
    "    embedding = parse_response(query_response)\n",
    "    return embedding\n",
    "    \n",
    "def plot_similarity_heatmap(text_labels, embeddings, rotation):\n",
    "    \"\"\"Takes sentences, embeddings and rotation as input and plot similarity heat map.\n",
    "\n",
    "    Args:\n",
    "      text_labels: a list of sentences to compute semantic textual similarity search.\n",
    "      embeddings: a list of embedding vectors, each of which corresponds to a sentence.\n",
    "      rotation: rotation used for display of the text_labels.\n",
    "    \"\"\"\n",
    "    inner_product = np.inner(embeddings, embeddings)\n",
    "    sns.set(font_scale=1.1)\n",
    "    graph = sns.heatmap(\n",
    "        inner_product,\n",
    "        xticklabels=text_labels,\n",
    "        yticklabels=text_labels,\n",
    "        vmin=np.min(inner_product),\n",
    "        vmax=1,\n",
    "        cmap=\"OrRd\",\n",
    "    )\n",
    "    graph.set_xticklabels(text_labels, rotation=rotation)\n",
    "    graph.set_title(\"Semantic Textual Similarity Between Sentences\")\n",
    "\n",
    "\n",
    "sentences = [\n",
    "    # Pets\n",
    "    \"Your dog is so cute.\",\n",
    "    \"How cute your dog is!\",\n",
    "    \"You have such a cute dog!\",\n",
    "    # Cities in the US\n",
    "    \"New York City is the place where I work.\",\n",
    "    \"I work in New York City.\",\n",
    "    # Color\n",
    "    \"What color do you like the most?\",\n",
    "    \"What is your favourite color?\",\n",
    "]\n",
    "\n",
    "embeddings = []\n",
    "\n",
    "for sentence in sentences:\n",
    "    query_response = get_embedding(predictor=predictor, sentence=sentence)\n",
    "    embeddings.append(query_response[0])\n",
    "    \n",
    "embeddings = normalize(np.array(embeddings), axis=1)  # normalization before inner product\n",
    "plot_similarity_heatmap(sentences, embeddings, 90)"
   ]
  },
  {
   "cell_type": "code",
   "execution_count": 18,
   "id": "a75c27f6-4850-4d1b-8cdb-e72f45f8f68a",
   "metadata": {
    "tags": []
   },
   "outputs": [
    {
     "name": "stdout",
     "output_type": "stream",
     "text": [
      "Stored 'embedding_endpoint_name' (str)\n"
     ]
    }
   ],
   "source": [
    "%store embedding_endpoint_name"
   ]
  },
  {
   "cell_type": "markdown",
   "id": "9609b985-9cdb-48de-8964-af75a50fdf09",
   "metadata": {},
   "source": [
    "### Next Step"
   ]
  },
  {
   "cell_type": "markdown",
   "id": "b69f0209-adfc-40c8-a222-e6f35b07921e",
   "metadata": {},
   "source": [
    "In the next lab, we'll develop a knowledge base repository using a vector database that can be used to provide semantic search capability for downstream tasks, including a Q&A bot. We'll use the embedding model to extract the embeddings from the given documents and ingest into the vector database. Additionally, we'll use the embedding model to find similar documents from the vector database to build a RAG based chatbot application."
   ]
  },
  {
   "cell_type": "code",
   "execution_count": null,
   "id": "101b624c-fbc1-4e21-a391-138b0aa21fa9",
   "metadata": {},
   "outputs": [],
   "source": []
  }
 ],
 "metadata": {
  "availableInstances": [
   {
    "_defaultOrder": 0,
    "_isFastLaunch": true,
    "category": "General purpose",
    "gpuNum": 0,
    "hideHardwareSpecs": false,
    "memoryGiB": 4,
    "name": "ml.t3.medium",
    "vcpuNum": 2
   },
   {
    "_defaultOrder": 1,
    "_isFastLaunch": false,
    "category": "General purpose",
    "gpuNum": 0,
    "hideHardwareSpecs": false,
    "memoryGiB": 8,
    "name": "ml.t3.large",
    "vcpuNum": 2
   },
   {
    "_defaultOrder": 2,
    "_isFastLaunch": false,
    "category": "General purpose",
    "gpuNum": 0,
    "hideHardwareSpecs": false,
    "memoryGiB": 16,
    "name": "ml.t3.xlarge",
    "vcpuNum": 4
   },
   {
    "_defaultOrder": 3,
    "_isFastLaunch": false,
    "category": "General purpose",
    "gpuNum": 0,
    "hideHardwareSpecs": false,
    "memoryGiB": 32,
    "name": "ml.t3.2xlarge",
    "vcpuNum": 8
   },
   {
    "_defaultOrder": 4,
    "_isFastLaunch": true,
    "category": "General purpose",
    "gpuNum": 0,
    "hideHardwareSpecs": false,
    "memoryGiB": 8,
    "name": "ml.m5.large",
    "vcpuNum": 2
   },
   {
    "_defaultOrder": 5,
    "_isFastLaunch": false,
    "category": "General purpose",
    "gpuNum": 0,
    "hideHardwareSpecs": false,
    "memoryGiB": 16,
    "name": "ml.m5.xlarge",
    "vcpuNum": 4
   },
   {
    "_defaultOrder": 6,
    "_isFastLaunch": false,
    "category": "General purpose",
    "gpuNum": 0,
    "hideHardwareSpecs": false,
    "memoryGiB": 32,
    "name": "ml.m5.2xlarge",
    "vcpuNum": 8
   },
   {
    "_defaultOrder": 7,
    "_isFastLaunch": false,
    "category": "General purpose",
    "gpuNum": 0,
    "hideHardwareSpecs": false,
    "memoryGiB": 64,
    "name": "ml.m5.4xlarge",
    "vcpuNum": 16
   },
   {
    "_defaultOrder": 8,
    "_isFastLaunch": false,
    "category": "General purpose",
    "gpuNum": 0,
    "hideHardwareSpecs": false,
    "memoryGiB": 128,
    "name": "ml.m5.8xlarge",
    "vcpuNum": 32
   },
   {
    "_defaultOrder": 9,
    "_isFastLaunch": false,
    "category": "General purpose",
    "gpuNum": 0,
    "hideHardwareSpecs": false,
    "memoryGiB": 192,
    "name": "ml.m5.12xlarge",
    "vcpuNum": 48
   },
   {
    "_defaultOrder": 10,
    "_isFastLaunch": false,
    "category": "General purpose",
    "gpuNum": 0,
    "hideHardwareSpecs": false,
    "memoryGiB": 256,
    "name": "ml.m5.16xlarge",
    "vcpuNum": 64
   },
   {
    "_defaultOrder": 11,
    "_isFastLaunch": false,
    "category": "General purpose",
    "gpuNum": 0,
    "hideHardwareSpecs": false,
    "memoryGiB": 384,
    "name": "ml.m5.24xlarge",
    "vcpuNum": 96
   },
   {
    "_defaultOrder": 12,
    "_isFastLaunch": false,
    "category": "General purpose",
    "gpuNum": 0,
    "hideHardwareSpecs": false,
    "memoryGiB": 8,
    "name": "ml.m5d.large",
    "vcpuNum": 2
   },
   {
    "_defaultOrder": 13,
    "_isFastLaunch": false,
    "category": "General purpose",
    "gpuNum": 0,
    "hideHardwareSpecs": false,
    "memoryGiB": 16,
    "name": "ml.m5d.xlarge",
    "vcpuNum": 4
   },
   {
    "_defaultOrder": 14,
    "_isFastLaunch": false,
    "category": "General purpose",
    "gpuNum": 0,
    "hideHardwareSpecs": false,
    "memoryGiB": 32,
    "name": "ml.m5d.2xlarge",
    "vcpuNum": 8
   },
   {
    "_defaultOrder": 15,
    "_isFastLaunch": false,
    "category": "General purpose",
    "gpuNum": 0,
    "hideHardwareSpecs": false,
    "memoryGiB": 64,
    "name": "ml.m5d.4xlarge",
    "vcpuNum": 16
   },
   {
    "_defaultOrder": 16,
    "_isFastLaunch": false,
    "category": "General purpose",
    "gpuNum": 0,
    "hideHardwareSpecs": false,
    "memoryGiB": 128,
    "name": "ml.m5d.8xlarge",
    "vcpuNum": 32
   },
   {
    "_defaultOrder": 17,
    "_isFastLaunch": false,
    "category": "General purpose",
    "gpuNum": 0,
    "hideHardwareSpecs": false,
    "memoryGiB": 192,
    "name": "ml.m5d.12xlarge",
    "vcpuNum": 48
   },
   {
    "_defaultOrder": 18,
    "_isFastLaunch": false,
    "category": "General purpose",
    "gpuNum": 0,
    "hideHardwareSpecs": false,
    "memoryGiB": 256,
    "name": "ml.m5d.16xlarge",
    "vcpuNum": 64
   },
   {
    "_defaultOrder": 19,
    "_isFastLaunch": false,
    "category": "General purpose",
    "gpuNum": 0,
    "hideHardwareSpecs": false,
    "memoryGiB": 384,
    "name": "ml.m5d.24xlarge",
    "vcpuNum": 96
   },
   {
    "_defaultOrder": 20,
    "_isFastLaunch": false,
    "category": "General purpose",
    "gpuNum": 0,
    "hideHardwareSpecs": true,
    "memoryGiB": 0,
    "name": "ml.geospatial.interactive",
    "supportedImageNames": [
     "sagemaker-geospatial-v1-0"
    ],
    "vcpuNum": 0
   },
   {
    "_defaultOrder": 21,
    "_isFastLaunch": true,
    "category": "Compute optimized",
    "gpuNum": 0,
    "hideHardwareSpecs": false,
    "memoryGiB": 4,
    "name": "ml.c5.large",
    "vcpuNum": 2
   },
   {
    "_defaultOrder": 22,
    "_isFastLaunch": false,
    "category": "Compute optimized",
    "gpuNum": 0,
    "hideHardwareSpecs": false,
    "memoryGiB": 8,
    "name": "ml.c5.xlarge",
    "vcpuNum": 4
   },
   {
    "_defaultOrder": 23,
    "_isFastLaunch": false,
    "category": "Compute optimized",
    "gpuNum": 0,
    "hideHardwareSpecs": false,
    "memoryGiB": 16,
    "name": "ml.c5.2xlarge",
    "vcpuNum": 8
   },
   {
    "_defaultOrder": 24,
    "_isFastLaunch": false,
    "category": "Compute optimized",
    "gpuNum": 0,
    "hideHardwareSpecs": false,
    "memoryGiB": 32,
    "name": "ml.c5.4xlarge",
    "vcpuNum": 16
   },
   {
    "_defaultOrder": 25,
    "_isFastLaunch": false,
    "category": "Compute optimized",
    "gpuNum": 0,
    "hideHardwareSpecs": false,
    "memoryGiB": 72,
    "name": "ml.c5.9xlarge",
    "vcpuNum": 36
   },
   {
    "_defaultOrder": 26,
    "_isFastLaunch": false,
    "category": "Compute optimized",
    "gpuNum": 0,
    "hideHardwareSpecs": false,
    "memoryGiB": 96,
    "name": "ml.c5.12xlarge",
    "vcpuNum": 48
   },
   {
    "_defaultOrder": 27,
    "_isFastLaunch": false,
    "category": "Compute optimized",
    "gpuNum": 0,
    "hideHardwareSpecs": false,
    "memoryGiB": 144,
    "name": "ml.c5.18xlarge",
    "vcpuNum": 72
   },
   {
    "_defaultOrder": 28,
    "_isFastLaunch": false,
    "category": "Compute optimized",
    "gpuNum": 0,
    "hideHardwareSpecs": false,
    "memoryGiB": 192,
    "name": "ml.c5.24xlarge",
    "vcpuNum": 96
   },
   {
    "_defaultOrder": 29,
    "_isFastLaunch": true,
    "category": "Accelerated computing",
    "gpuNum": 1,
    "hideHardwareSpecs": false,
    "memoryGiB": 16,
    "name": "ml.g4dn.xlarge",
    "vcpuNum": 4
   },
   {
    "_defaultOrder": 30,
    "_isFastLaunch": false,
    "category": "Accelerated computing",
    "gpuNum": 1,
    "hideHardwareSpecs": false,
    "memoryGiB": 32,
    "name": "ml.g4dn.2xlarge",
    "vcpuNum": 8
   },
   {
    "_defaultOrder": 31,
    "_isFastLaunch": false,
    "category": "Accelerated computing",
    "gpuNum": 1,
    "hideHardwareSpecs": false,
    "memoryGiB": 64,
    "name": "ml.g4dn.4xlarge",
    "vcpuNum": 16
   },
   {
    "_defaultOrder": 32,
    "_isFastLaunch": false,
    "category": "Accelerated computing",
    "gpuNum": 1,
    "hideHardwareSpecs": false,
    "memoryGiB": 128,
    "name": "ml.g4dn.8xlarge",
    "vcpuNum": 32
   },
   {
    "_defaultOrder": 33,
    "_isFastLaunch": false,
    "category": "Accelerated computing",
    "gpuNum": 4,
    "hideHardwareSpecs": false,
    "memoryGiB": 192,
    "name": "ml.g4dn.12xlarge",
    "vcpuNum": 48
   },
   {
    "_defaultOrder": 34,
    "_isFastLaunch": false,
    "category": "Accelerated computing",
    "gpuNum": 1,
    "hideHardwareSpecs": false,
    "memoryGiB": 256,
    "name": "ml.g4dn.16xlarge",
    "vcpuNum": 64
   },
   {
    "_defaultOrder": 35,
    "_isFastLaunch": false,
    "category": "Accelerated computing",
    "gpuNum": 1,
    "hideHardwareSpecs": false,
    "memoryGiB": 61,
    "name": "ml.p3.2xlarge",
    "vcpuNum": 8
   },
   {
    "_defaultOrder": 36,
    "_isFastLaunch": false,
    "category": "Accelerated computing",
    "gpuNum": 4,
    "hideHardwareSpecs": false,
    "memoryGiB": 244,
    "name": "ml.p3.8xlarge",
    "vcpuNum": 32
   },
   {
    "_defaultOrder": 37,
    "_isFastLaunch": false,
    "category": "Accelerated computing",
    "gpuNum": 8,
    "hideHardwareSpecs": false,
    "memoryGiB": 488,
    "name": "ml.p3.16xlarge",
    "vcpuNum": 64
   },
   {
    "_defaultOrder": 38,
    "_isFastLaunch": false,
    "category": "Accelerated computing",
    "gpuNum": 8,
    "hideHardwareSpecs": false,
    "memoryGiB": 768,
    "name": "ml.p3dn.24xlarge",
    "vcpuNum": 96
   },
   {
    "_defaultOrder": 39,
    "_isFastLaunch": false,
    "category": "Memory Optimized",
    "gpuNum": 0,
    "hideHardwareSpecs": false,
    "memoryGiB": 16,
    "name": "ml.r5.large",
    "vcpuNum": 2
   },
   {
    "_defaultOrder": 40,
    "_isFastLaunch": false,
    "category": "Memory Optimized",
    "gpuNum": 0,
    "hideHardwareSpecs": false,
    "memoryGiB": 32,
    "name": "ml.r5.xlarge",
    "vcpuNum": 4
   },
   {
    "_defaultOrder": 41,
    "_isFastLaunch": false,
    "category": "Memory Optimized",
    "gpuNum": 0,
    "hideHardwareSpecs": false,
    "memoryGiB": 64,
    "name": "ml.r5.2xlarge",
    "vcpuNum": 8
   },
   {
    "_defaultOrder": 42,
    "_isFastLaunch": false,
    "category": "Memory Optimized",
    "gpuNum": 0,
    "hideHardwareSpecs": false,
    "memoryGiB": 128,
    "name": "ml.r5.4xlarge",
    "vcpuNum": 16
   },
   {
    "_defaultOrder": 43,
    "_isFastLaunch": false,
    "category": "Memory Optimized",
    "gpuNum": 0,
    "hideHardwareSpecs": false,
    "memoryGiB": 256,
    "name": "ml.r5.8xlarge",
    "vcpuNum": 32
   },
   {
    "_defaultOrder": 44,
    "_isFastLaunch": false,
    "category": "Memory Optimized",
    "gpuNum": 0,
    "hideHardwareSpecs": false,
    "memoryGiB": 384,
    "name": "ml.r5.12xlarge",
    "vcpuNum": 48
   },
   {
    "_defaultOrder": 45,
    "_isFastLaunch": false,
    "category": "Memory Optimized",
    "gpuNum": 0,
    "hideHardwareSpecs": false,
    "memoryGiB": 512,
    "name": "ml.r5.16xlarge",
    "vcpuNum": 64
   },
   {
    "_defaultOrder": 46,
    "_isFastLaunch": false,
    "category": "Memory Optimized",
    "gpuNum": 0,
    "hideHardwareSpecs": false,
    "memoryGiB": 768,
    "name": "ml.r5.24xlarge",
    "vcpuNum": 96
   },
   {
    "_defaultOrder": 47,
    "_isFastLaunch": false,
    "category": "Accelerated computing",
    "gpuNum": 1,
    "hideHardwareSpecs": false,
    "memoryGiB": 16,
    "name": "ml.g5.xlarge",
    "vcpuNum": 4
   },
   {
    "_defaultOrder": 48,
    "_isFastLaunch": false,
    "category": "Accelerated computing",
    "gpuNum": 1,
    "hideHardwareSpecs": false,
    "memoryGiB": 32,
    "name": "ml.g5.2xlarge",
    "vcpuNum": 8
   },
   {
    "_defaultOrder": 49,
    "_isFastLaunch": false,
    "category": "Accelerated computing",
    "gpuNum": 1,
    "hideHardwareSpecs": false,
    "memoryGiB": 64,
    "name": "ml.g5.4xlarge",
    "vcpuNum": 16
   },
   {
    "_defaultOrder": 50,
    "_isFastLaunch": false,
    "category": "Accelerated computing",
    "gpuNum": 1,
    "hideHardwareSpecs": false,
    "memoryGiB": 128,
    "name": "ml.g5.8xlarge",
    "vcpuNum": 32
   },
   {
    "_defaultOrder": 51,
    "_isFastLaunch": false,
    "category": "Accelerated computing",
    "gpuNum": 1,
    "hideHardwareSpecs": false,
    "memoryGiB": 256,
    "name": "ml.g5.16xlarge",
    "vcpuNum": 64
   },
   {
    "_defaultOrder": 52,
    "_isFastLaunch": false,
    "category": "Accelerated computing",
    "gpuNum": 4,
    "hideHardwareSpecs": false,
    "memoryGiB": 192,
    "name": "ml.g5.12xlarge",
    "vcpuNum": 48
   },
   {
    "_defaultOrder": 53,
    "_isFastLaunch": false,
    "category": "Accelerated computing",
    "gpuNum": 4,
    "hideHardwareSpecs": false,
    "memoryGiB": 384,
    "name": "ml.g5.24xlarge",
    "vcpuNum": 96
   },
   {
    "_defaultOrder": 54,
    "_isFastLaunch": false,
    "category": "Accelerated computing",
    "gpuNum": 8,
    "hideHardwareSpecs": false,
    "memoryGiB": 768,
    "name": "ml.g5.48xlarge",
    "vcpuNum": 192
   },
   {
    "_defaultOrder": 55,
    "_isFastLaunch": false,
    "category": "Accelerated computing",
    "gpuNum": 8,
    "hideHardwareSpecs": false,
    "memoryGiB": 1152,
    "name": "ml.p4d.24xlarge",
    "vcpuNum": 96
   },
   {
    "_defaultOrder": 56,
    "_isFastLaunch": false,
    "category": "Accelerated computing",
    "gpuNum": 8,
    "hideHardwareSpecs": false,
    "memoryGiB": 1152,
    "name": "ml.p4de.24xlarge",
    "vcpuNum": 96
   },
   {
    "_defaultOrder": 57,
    "_isFastLaunch": false,
    "category": "Accelerated computing",
    "gpuNum": 0,
    "hideHardwareSpecs": false,
    "memoryGiB": 32,
    "name": "ml.trn1.2xlarge",
    "vcpuNum": 8
   },
   {
    "_defaultOrder": 58,
    "_isFastLaunch": false,
    "category": "Accelerated computing",
    "gpuNum": 0,
    "hideHardwareSpecs": false,
    "memoryGiB": 512,
    "name": "ml.trn1.32xlarge",
    "vcpuNum": 128
   },
   {
    "_defaultOrder": 59,
    "_isFastLaunch": false,
    "category": "Accelerated computing",
    "gpuNum": 0,
    "hideHardwareSpecs": false,
    "memoryGiB": 512,
    "name": "ml.trn1n.32xlarge",
    "vcpuNum": 128
   }
  ],
  "kernelspec": {
   "display_name": "Python 3 (Data Science 2.0)",
   "language": "python",
   "name": "python3__SAGEMAKER_INTERNAL__arn:aws:sagemaker:us-west-2:236514542706:image/sagemaker-data-science-38"
  },
  "language_info": {
   "codemirror_mode": {
    "name": "ipython",
    "version": 3
   },
   "file_extension": ".py",
   "mimetype": "text/x-python",
   "name": "python",
   "nbconvert_exporter": "python",
   "pygments_lexer": "ipython3",
   "version": "3.8.13"
  }
 },
 "nbformat": 4,
 "nbformat_minor": 5
}
