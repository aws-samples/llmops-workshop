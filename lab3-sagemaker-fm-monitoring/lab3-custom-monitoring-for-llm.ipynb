{
 "cells": [
  {
   "cell_type": "markdown",
   "id": "0c3a6a23",
   "metadata": {},
   "source": [
    "## Build a Custom Model monitoring for Foundation Models with Amazon SageMaker Model Monitor\n",
    "\n",
    "This notebook shows how to:\n",
    "\n",
    "* Test custom monitoring script locally\n",
    "* Build a Docker container to include your custom drift algorithms\n",
    "* Monitor a live llama2 model endpoint for answer relevance\n",
    "\n",
    "\n",
    "Amazon SageMaker enables you to capture the input, output and metadata for invocations of the models that you deploy. It also enables you to bring your own metrics to analyze the data and monitor its quality. In this notebook, you learn how Amazon SageMaker enables these capabilities."
   ]
  },
  {
   "cell_type": "markdown",
   "id": "ae63d2ee",
   "metadata": {},
   "source": [
    "## Prerequisite\n",
    "\n",
    "To get started, make sure you have these prerequisites completed.\n",
    "\n",
    "* Complete the previous lab where you hosted a fine tuned Llama 2 model and enabled data capture on the live endpoint.\n",
    "* Add **Amazon Bedrock permission** to SageMaker Execution Role\n",
    "\n",
    "**inline policy**\n",
    "```\n",
    "{\n",
    "\t\"Version\": \"2012-10-17\",\n",
    "\t\"Statement\": [\n",
    "\t\t{\n",
    "\t\t\t\"Sid\": \"BedrockConsole\",\n",
    "\t\t\t\"Effect\": \"Allow\",\n",
    "\t\t\t\"Action\": [\n",
    "\t\t\t\t\"bedrock:*\"\n",
    "\t\t\t],\n",
    "\t\t\t\"Resource\": \"*\"\n",
    "\t\t}\n",
    "\t]\n",
    "}\n",
    "```\n",
    "**trusted relationship**\n",
    "```\n",
    "{\n",
    "    \"Version\": \"2012-10-17\",\n",
    "    \"Statement\": [\n",
    "        {\n",
    "            \"Effect\": \"Allow\",\n",
    "            \"Principal\": {\n",
    "                \"Service\": [\n",
    "                    \"sagemaker.amazonaws.com\",\n",
    "                    \"bedrock.amazonaws.com\"\n",
    "                ]\n",
    "            },\n",
    "            \"Action\": \"sts:AssumeRole\"\n",
    "        }\n",
    "    ]\n",
    "}\n",
    "```\n",
    "* Add permission to access ECR: Add **AmazonEC2ContainerRegistryFullAccess** policy to SageMaker Execution Role"
   ]
  },
  {
   "cell_type": "markdown",
   "id": "b5119e6c",
   "metadata": {},
   "source": [
    "### Setup"
   ]
  },
  {
   "cell_type": "code",
   "execution_count": null,
   "id": "68485d8d-a8ad-4349-a9d3-740fa8bdf6bf",
   "metadata": {
    "tags": []
   },
   "outputs": [],
   "source": [
    "!pip install -Uq langchain\n",
    "!pip install -Uq botocore\n",
    "!pip install -Uq boto3"
   ]
  },
  {
   "cell_type": "code",
   "execution_count": null,
   "id": "3d484578",
   "metadata": {
    "tags": []
   },
   "outputs": [],
   "source": [
    "# Handful of configuration\n",
    "\n",
    "import os\n",
    "import boto3\n",
    "import json\n",
    "from sagemaker import get_execution_role, session\n",
    "\n",
    "region= boto3.Session().region_name\n",
    "\n",
    "sm_client = boto3.client('sagemaker')\n",
    "\n",
    "role = get_execution_role()\n",
    "print(\"RoleArn: {}\".format(role))"
   ]
  },
  {
   "cell_type": "markdown",
   "id": "8eca7220",
   "metadata": {},
   "source": [
    "Bring the parameters from previous lab"
   ]
  },
  {
   "cell_type": "code",
   "execution_count": null,
   "id": "57243a4a",
   "metadata": {
    "tags": []
   },
   "outputs": [],
   "source": [
    "endpoint_name = <provide endpoint name>\n",
    "default_bucket = <default bucket>\n",
    "current_endpoint_capture_prefix = \"\"\n",
    "s3_key_prefix = \"\""
   ]
  },
  {
   "cell_type": "markdown",
   "id": "c6e75a23",
   "metadata": {},
   "source": [
    "Download example captured data for testing\n",
    "\n",
    "Example file path from lab 2: s3://sagemaker-project-p-nebjikc0mfsc/datacapture-staging/hf-llama2-b987c-pipeline-staging/AllTraffic/2023/11/14/04/"
   ]
  },
  {
   "cell_type": "code",
   "execution_count": null,
   "id": "d1cdfb99",
   "metadata": {},
   "outputs": [],
   "source": [
    "!aws s3 cp s3://{default_bucket}/{current_endpoint_capture_prefix} workspace/data"
   ]
  },
  {
   "cell_type": "markdown",
   "id": "a9b0e3ef",
   "metadata": {},
   "source": [
    "## Test script locally\n",
    "\n",
    "Preview the custom algorithm script to evaluate answer relevance.\n",
    "\n",
    "Explain how the algrorithm works."
   ]
  },
  {
   "cell_type": "code",
   "execution_count": null,
   "id": "76f63157",
   "metadata": {
    "tags": []
   },
   "outputs": [],
   "source": [
    "!pygmentize workspace/src/llm_monitoring.py"
   ]
  },
  {
   "cell_type": "code",
   "execution_count": null,
   "id": "6c3a1d2b-824b-461b-9588-f81a1f72b23d",
   "metadata": {
    "tags": []
   },
   "outputs": [],
   "source": [
    "import json \n",
    "import base64\n",
    "import os \n",
    "import pathlib\n",
    "\n",
    "infer_dir = os.path.join(os.getcwd(), \"workspace/data\")\n",
    "\n",
    "for filepath in pathlib.Path(infer_dir).rglob('*.jsonl'):\n",
    "    print(filepath)\n",
    "    with open(filepath, 'r') as handle:\n",
    "        json_data = [json.loads(line) for line in handle]"
   ]
  },
  {
   "cell_type": "code",
   "execution_count": null,
   "id": "d374083a-95b5-4bab-a9d2-21c31bb1fd1f",
   "metadata": {
    "tags": []
   },
   "outputs": [],
   "source": [
    "base64.b64decode(json_data[1]['captureData']['endpointInput']['data']).decode('utf-8')"
   ]
  },
  {
   "cell_type": "code",
   "execution_count": null,
   "id": "94e0bc19-c7f3-4d1b-87a1-9fe5069bafab",
   "metadata": {
    "tags": []
   },
   "outputs": [],
   "source": [
    "base64.b64decode(json_data[1]['captureData']['endpointOutput']['data']).decode('utf-8')"
   ]
  },
  {
   "cell_type": "code",
   "execution_count": null,
   "id": "14ee727d",
   "metadata": {
    "scrolled": true,
    "tags": []
   },
   "outputs": [],
   "source": [
    "os.environ['dataset_source'] = f'{os.getcwd()}/workspace/data'\n",
    "os.environ['output_path'] = f'{os.getcwd()}/workspace/output'\n",
    "\n",
    "!python workspace/src/llm_monitoring.py"
   ]
  },
  {
   "cell_type": "markdown",
   "id": "acb08750",
   "metadata": {},
   "source": [
    "## Bring your own custom algorithm for model monitoring\n",
    "\n",
    "In order to bring your own custom algorithm for model monitoring, you need to do following things:\n",
    "* Create custom detection algorithms. We have included algorithms under src folder\n",
    "* Create a Docker container.\n",
    "* Set enviornmental variables where the container can find the datacapture data from SageMaker Model Monitor. These variables have to match with the values we provide to monitor scheduler later.## Test container locally"
   ]
  },
  {
   "cell_type": "markdown",
   "id": "fc685109",
   "metadata": {},
   "source": [
    "preview the Dockerfile"
   ]
  },
  {
   "cell_type": "code",
   "execution_count": null,
   "id": "1bbae84b",
   "metadata": {
    "tags": []
   },
   "outputs": [],
   "source": [
    "!pygmentize workspace/Dockerfile"
   ]
  },
  {
   "cell_type": "markdown",
   "id": "7dfcbfe5",
   "metadata": {},
   "source": [
    "Build & test docker container locally."
   ]
  },
  {
   "cell_type": "code",
   "execution_count": null,
   "id": "282747a0",
   "metadata": {
    "tags": []
   },
   "outputs": [],
   "source": [
    "!cd workspace && docker build -t workspace ."
   ]
  },
  {
   "cell_type": "code",
   "execution_count": null,
   "id": "db8945c7",
   "metadata": {
    "scrolled": true,
    "tags": []
   },
   "outputs": [],
   "source": [
    "!docker run -v {os.getcwd()}/workspace/data:/home/data -v {os.getcwd()}/workspace/output:/home/output -e dataset_source=data/ -e output_path=output workspace"
   ]
  },
  {
   "cell_type": "markdown",
   "id": "e02fc626",
   "metadata": {},
   "source": [
    "Build & push the container to ECR"
   ]
  },
  {
   "cell_type": "code",
   "execution_count": null,
   "id": "ece8f8b7",
   "metadata": {
    "scrolled": true,
    "tags": []
   },
   "outputs": [],
   "source": [
    "from docker_utils import build_and_push_docker_image\n",
    "\n",
    "repository_short_name = 'custom-llm-monitor'\n",
    "\n",
    "image_name = build_and_push_docker_image(repository_short_name, dockerfile='workspace/Dockerfile', context='workspace')"
   ]
  },
  {
   "cell_type": "markdown",
   "id": "8cd7b27e",
   "metadata": {},
   "source": [
    "### Create monitoring schedule to detect drifts on hourly basis\n",
    "Default Model monitor can be setup to monitor the inference on an hourly basis against the baseline metrics and violations. In this example, we are setting custom model monitor. For this purpose, we are using Boto3 calls directly to setup model monitor with the container we built above. Note that we need to setup input and output paths on the container."
   ]
  },
  {
   "cell_type": "code",
   "execution_count": null,
   "id": "ed5cc191",
   "metadata": {
    "tags": []
   },
   "outputs": [],
   "source": [
    "s3_result_path = f's3://{default_bucket}/{s3_key_prefix}/result/{endpoint_name}'\n",
    "\n",
    "sm_client.create_monitoring_schedule(\n",
    "    MonitoringScheduleName=endpoint_name,\n",
    "    MonitoringScheduleConfig={\n",
    "        'ScheduleConfig': {\n",
    "            'ScheduleExpression': 'cron(0 * ? * * *)'\n",
    "        },\n",
    "        'MonitoringJobDefinition': {\n",
    "            'MonitoringInputs': [\n",
    "                {\n",
    "                    'EndpointInput': {\n",
    "                        'EndpointName': endpoint_name,\n",
    "                        'LocalPath': '/opt/ml/processing/endpointdata'\n",
    "                    }\n",
    "                },\n",
    "            ],\n",
    "            'MonitoringOutputConfig': {\n",
    "                'MonitoringOutputs': [\n",
    "                    {\n",
    "                        'S3Output': {\n",
    "                            'S3Uri': s3_result_path,\n",
    "                            'LocalPath': '/opt/ml/processing/resultdata',\n",
    "                            'S3UploadMode': 'EndOfJob'\n",
    "                        }\n",
    "                    },\n",
    "                ]\n",
    "            },\n",
    "            'MonitoringResources': {\n",
    "                'ClusterConfig': {\n",
    "                    'InstanceCount': 1,\n",
    "                    'InstanceType': 'ml.c5.xlarge',\n",
    "                    'VolumeSizeInGB': 10\n",
    "                }\n",
    "            },\n",
    "            'MonitoringAppSpecification': {\n",
    "                'ImageUri': image_name,\n",
    "            },\n",
    "            'StoppingCondition': {\n",
    "                'MaxRuntimeInSeconds': 600\n",
    "            },\n",
    "            'Environment': {\n",
    "                'string': 'string'\n",
    "            },\n",
    "            'RoleArn': role\n",
    "        }\n",
    "    }\n",
    ")"
   ]
  },
  {
   "cell_type": "markdown",
   "id": "13d76d56",
   "metadata": {},
   "source": [
    "## Triggering job execution manually\n",
    "Instead of waiting for the monitoring job to execute hourly, you can also trigger the execution manually. Model monitoring is essentially a scheduled processing job."
   ]
  },
  {
   "cell_type": "code",
   "execution_count": null,
   "id": "d234ec38",
   "metadata": {
    "tags": []
   },
   "outputs": [],
   "source": [
    "from sagemaker.processing import Processor, ProcessingInput, ProcessingOutput\n",
    "from urllib.parse import urlparse\n",
    "\n",
    "# region\n",
    "# role\n",
    "data_capture_path=f's3://{default_bucket}/{current_endpoint_capture_prefix}'\n",
    "# s3_result_path\n",
    "instance_count=1\n",
    "instance_type='ml.c5.xlarge'\n",
    "# publish_cloudwatch_metrics='Disabled'\n",
    "\n",
    "data_capture_sub_path = data_capture_path[data_capture_path.rfind('datacapture/') :]\n",
    "data_capture_sub_path = data_capture_sub_path[data_capture_sub_path.find('/') + 1 :]\n",
    "\n",
    "input_1 = ProcessingInput(input_name='input_1',\n",
    "                      source=data_capture_path,\n",
    "                      destination='/opt/ml/processing/input/endpoint/' + data_capture_sub_path,\n",
    "                      s3_data_type='S3Prefix',\n",
    "                      s3_input_mode='File')\n",
    "\n",
    "outputs = ProcessingOutput(output_name='result',\n",
    "                           source='/opt/ml/processing/output',\n",
    "                           destination=s3_result_path,\n",
    "                           s3_upload_mode='Continuous')\n",
    "\n",
    "env = {'dataset_source': '/opt/ml/processing/input/endpoint',\n",
    "       'output_path': '/opt/ml/processing/output'}\n",
    "\n",
    "processor = Processor(image_uri = image_name,\n",
    "                      instance_count = instance_count,\n",
    "                      instance_type = instance_type,\n",
    "                      role=role,\n",
    "                      env = env)\n",
    "\n",
    "processor.run(inputs=[input_1], outputs=[outputs])"
   ]
  },
  {
   "cell_type": "markdown",
   "id": "3729cbfd",
   "metadata": {},
   "source": [
    "## Clean up resources\n",
    "Delete the monitor schedule"
   ]
  },
  {
   "cell_type": "code",
   "execution_count": null,
   "id": "e530c057",
   "metadata": {
    "tags": []
   },
   "outputs": [],
   "source": [
    "sm_client.delete_monitoring_schedule(MonitoringScheduleName=endpoint_name)"
   ]
  },
  {
   "cell_type": "code",
   "execution_count": null,
   "id": "74108e03",
   "metadata": {
    "tags": []
   },
   "outputs": [],
   "source": [
    "!docker stop 94fb507a2d09"
   ]
  },
  {
   "cell_type": "code",
   "execution_count": null,
   "id": "5ce69660",
   "metadata": {},
   "outputs": [],
   "source": []
  }
 ],
 "metadata": {
  "kernelspec": {
   "display_name": "conda_pytorch_p310",
   "language": "python",
   "name": "conda_pytorch_p310"
  },
  "language_info": {
   "codemirror_mode": {
    "name": "ipython",
    "version": 3
   },
   "file_extension": ".py",
   "mimetype": "text/x-python",
   "name": "python",
   "nbconvert_exporter": "python",
   "pygments_lexer": "ipython3",
   "version": "3.10.13"
  }
 },
 "nbformat": 4,
 "nbformat_minor": 5
}
