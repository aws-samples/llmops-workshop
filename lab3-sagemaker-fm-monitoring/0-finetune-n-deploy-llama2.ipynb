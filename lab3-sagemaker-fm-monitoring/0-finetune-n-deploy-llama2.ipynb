{
 "cells": [
  {
   "cell_type": "markdown",
   "id": "0912c70f-9c8d-480b-9301-db2a99249acc",
   "metadata": {},
   "source": [
    "## Model Management for LoRA Fine-tuned models using Llama2 & Amazon SageMaker (Full Model Copy)\n",
    "\n",
    "In this example notebook, we will walk through an example using LoRA techniques to fine-tune a LLama2 7B model on Amazon SageMaker, and then add the proper model governance using SageMaker Model Registry. While LoRA allows you to store LoRA adapter and base model artifacts separately, this notebook will focus on combining the components and managing a full model copy after finetuning.\n",
    "\n",
    "The example is tested on following kernel and instance types:\n",
    "\n",
    "<div style=\"background-color: #FFDDDD; border-left: 5px solid red; padding: 10px; color: black;\">\n",
    "    <strong>Kernel:</strong> PyTorch 2.0.0 Python 3.10 GPU Optimized, <strong>Instance Type:</strong> ml.g4dn.xlarge\n",
    "</div>"
   ]
  },
  {
   "cell_type": "code",
   "execution_count": 1,
   "id": "ddb034f2-ec0d-45b4-b136-a385c59d157a",
   "metadata": {
    "tags": []
   },
   "outputs": [],
   "source": [
    "!pip install -Uq pip"
   ]
  },
  {
   "cell_type": "code",
   "execution_count": 233,
   "id": "43440ba1-410e-4a77-b904-c26130a3b555",
   "metadata": {
    "scrolled": true,
    "tags": []
   },
   "outputs": [
    {
     "name": "stdout",
     "output_type": "stream",
     "text": [
      "huggingface/tokenizers: The current process just got forked, after parallelism has already been used. Disabling parallelism to avoid deadlocks...\n",
      "To disable this warning, you can either:\n",
      "\t- Avoid using `tokenizers` before the fork if possible\n",
      "\t- Explicitly set the environment variable TOKENIZERS_PARALLELISM=(true | false)\n",
      "huggingface/tokenizers: The current process just got forked, after parallelism has already been used. Disabling parallelism to avoid deadlocks...\n",
      "To disable this warning, you can either:\n",
      "\t- Avoid using `tokenizers` before the fork if possible\n",
      "\t- Explicitly set the environment variable TOKENIZERS_PARALLELISM=(true | false)\n",
      "huggingface/tokenizers: The current process just got forked, after parallelism has already been used. Disabling parallelism to avoid deadlocks...\n",
      "To disable this warning, you can either:\n",
      "\t- Avoid using `tokenizers` before the fork if possible\n",
      "\t- Explicitly set the environment variable TOKENIZERS_PARALLELISM=(true | false)\n",
      "huggingface/tokenizers: The current process just got forked, after parallelism has already been used. Disabling parallelism to avoid deadlocks...\n",
      "To disable this warning, you can either:\n",
      "\t- Avoid using `tokenizers` before the fork if possible\n",
      "\t- Explicitly set the environment variable TOKENIZERS_PARALLELISM=(true | false)\n",
      "huggingface/tokenizers: The current process just got forked, after parallelism has already been used. Disabling parallelism to avoid deadlocks...\n",
      "To disable this warning, you can either:\n",
      "\t- Avoid using `tokenizers` before the fork if possible\n",
      "\t- Explicitly set the environment variable TOKENIZERS_PARALLELISM=(true | false)\n",
      "\u001b[31mERROR: pip's dependency resolver does not currently take into account all the packages that are installed. This behaviour is the source of the following dependency conflicts.\n",
      "awscli 1.29.57 requires botocore==1.31.57, but you have botocore 1.31.68 which is incompatible.\u001b[0m\u001b[31m\n",
      "\u001b[0mhuggingface/tokenizers: The current process just got forked, after parallelism has already been used. Disabling parallelism to avoid deadlocks...\n",
      "To disable this warning, you can either:\n",
      "\t- Avoid using `tokenizers` before the fork if possible\n",
      "\t- Explicitly set the environment variable TOKENIZERS_PARALLELISM=(true | false)\n",
      "huggingface/tokenizers: The current process just got forked, after parallelism has already been used. Disabling parallelism to avoid deadlocks...\n",
      "To disable this warning, you can either:\n",
      "\t- Avoid using `tokenizers` before the fork if possible\n",
      "\t- Explicitly set the environment variable TOKENIZERS_PARALLELISM=(true | false)\n",
      "huggingface/tokenizers: The current process just got forked, after parallelism has already been used. Disabling parallelism to avoid deadlocks...\n",
      "To disable this warning, you can either:\n",
      "\t- Avoid using `tokenizers` before the fork if possible\n",
      "\t- Explicitly set the environment variable TOKENIZERS_PARALLELISM=(true | false)\n"
     ]
    }
   ],
   "source": [
    "!pip install -Uq datasets\n",
    "!pip install -Uq transformers==4.31.0\n",
    "!pip install -Uq accelerate==0.21.0\n",
    "!pip install -Uq safetensors>=0.3.1\n",
    "!pip install -Uq botocore\n",
    "!pip install -Uq boto3\n",
    "!pip install -q sagemaker==2.177.0\n",
    "!pip install -Uq langchain"
   ]
  },
  {
   "cell_type": "markdown",
   "id": "4987570d-afff-4189-8d7a-9612fd27b2e8",
   "metadata": {},
   "source": [
    "## Setup"
   ]
  },
  {
   "cell_type": "code",
   "execution_count": 3,
   "id": "7ecca766-8e59-49c5-96e5-11f9558f3f4b",
   "metadata": {
    "tags": []
   },
   "outputs": [],
   "source": [
    "import os\n",
    "import glob\n",
    "import boto3\n",
    "import pprint\n",
    "from tqdm import tqdm\n",
    "import sagemaker\n",
    "from sagemaker.collection import Collection\n",
    "from sagemaker.utils import name_from_base"
   ]
  },
  {
   "cell_type": "code",
   "execution_count": 4,
   "id": "11d88909-473a-4982-9bbb-94df35b2d618",
   "metadata": {
    "tags": []
   },
   "outputs": [],
   "source": [
    "sagemaker_session =  sagemaker.session.Session() #sagemaker.session.Session()\n",
    "region = sagemaker_session.boto_region_name\n",
    "role = sagemaker.get_execution_role()\n",
    "default_bucket = sagemaker_session.default_bucket()\n",
    "sm_client = boto3.client('sagemaker', region_name=region)\n",
    "model_collector = Collection(sagemaker_session=sagemaker_session)"
   ]
  },
  {
   "cell_type": "markdown",
   "id": "ac69a230-8e94-4b52-9a6c-d5d8bda9fa0a",
   "metadata": {},
   "source": [
    "## Define Parameters "
   ]
  },
  {
   "cell_type": "code",
   "execution_count": 5,
   "id": "e01a8ecf-508a-4a58-a77b-d8a52c5887c7",
   "metadata": {
    "tags": []
   },
   "outputs": [],
   "source": [
    "model_group_for_base = \"llama-2-7b\" # we'll group all llama-2 variants under this collection \n",
    "# define base model name\n",
    "model_id = f\"Mikael110/{model_group_for_base}-guanaco-fp16\" \n",
    "# define a base dataset to finetune this base model\n",
    "dataset_name = \"databricks/databricks-dolly-15k\"\n",
    "\n",
    "# s3 prefix\n",
    "s3_key_prefix = model_id.replace('/', '-')\n",
    "# model collection name\n",
    "model_registry_name = s3_key_prefix\n",
    "\n",
    "model_group_for_finetune = f\"{model_group_for_base}-{dataset_name.split('/')[-1]}\" # all fine tune variant will be base name + dataset name"
   ]
  },
  {
   "cell_type": "markdown",
   "id": "c8829bd7-5a05-4082-a888-f44d08e9ddfc",
   "metadata": {},
   "source": [
    "## Prepare Dataset\n",
    "\n",
    "split the data into training and validation and preview the a sample data"
   ]
  },
  {
   "cell_type": "code",
   "execution_count": 6,
   "id": "d64e2521-d25a-4232-bdf0-086babec1b32",
   "metadata": {
    "tags": []
   },
   "outputs": [
    {
     "data": {
      "application/vnd.jupyter.widget-view+json": {
       "model_id": "e7f61cfc243f427b92621081cac45d9c",
       "version_major": 2,
       "version_minor": 0
      },
      "text/plain": [
       "Downloading readme:   0%|          | 0.00/8.20k [00:00<?, ?B/s]"
      ]
     },
     "metadata": {},
     "output_type": "display_data"
    },
    {
     "data": {
      "application/vnd.jupyter.widget-view+json": {
       "model_id": "d0b14e700fb849a688bd6ecf89995d3f",
       "version_major": 2,
       "version_minor": 0
      },
      "text/plain": [
       "Downloading data files:   0%|          | 0/1 [00:00<?, ?it/s]"
      ]
     },
     "metadata": {},
     "output_type": "display_data"
    },
    {
     "data": {
      "application/vnd.jupyter.widget-view+json": {
       "model_id": "a2ea24f22669475b99d63de27b7c18e4",
       "version_major": 2,
       "version_minor": 0
      },
      "text/plain": [
       "Downloading data:   0%|          | 0.00/13.1M [00:00<?, ?B/s]"
      ]
     },
     "metadata": {},
     "output_type": "display_data"
    },
    {
     "data": {
      "application/vnd.jupyter.widget-view+json": {
       "model_id": "3638545fb3da4d33befa2fe3d82b5db6",
       "version_major": 2,
       "version_minor": 0
      },
      "text/plain": [
       "Extracting data files:   0%|          | 0/1 [00:00<?, ?it/s]"
      ]
     },
     "metadata": {},
     "output_type": "display_data"
    },
    {
     "data": {
      "application/vnd.jupyter.widget-view+json": {
       "model_id": "ccd5bfa5c1744df29456a08fc8e854ce",
       "version_major": 2,
       "version_minor": 0
      },
      "text/plain": [
       "Generating train split: 0 examples [00:00, ? examples/s]"
      ]
     },
     "metadata": {},
     "output_type": "display_data"
    },
    {
     "name": "stdout",
     "output_type": "stream",
     "text": [
      "Training size: 751 | Validation size: 751\n",
      "\n",
      "Training sample:\n",
      "\n",
      "{'instruction': 'why did Syd Barrett left the Pink Floyd?', 'context': '', 'response': 'Syd Barrett was one of the main members of the Pink Floyd. He has used drugs a lot and after a while he was not able to perform with the team. Even though the band gave him multiple chances, he could not keep up with the band. In the end, they had to ask him to leave the band. The main reason that he has left the team is his health problems and addiction to drugs.', 'category': 'open_qa'}\n",
      "\n",
      "Validation sample:\n",
      "\n",
      "{'instruction': 'Which characters belong to DC or Marvel Universe? Quicksilver, Flash', 'context': '', 'response': 'Flash is DC, Quicksilver is Marvel', 'category': 'classification'}\n"
     ]
    }
   ],
   "source": [
    "from datasets import load_dataset\n",
    "from random import randrange\n",
    "\n",
    "# Load dataset from the hub\n",
    "train_dataset = load_dataset(dataset_name, split=\"train[:05%]\")\n",
    "validation_dataset = load_dataset(dataset_name, split=\"train[95%:]\")\n",
    "\n",
    "print(f\"Training size: {len(train_dataset)} | Validation size: {len(validation_dataset)}\")\n",
    "print(\"\\nTraining sample:\\n\")\n",
    "print(train_dataset[randrange(len(train_dataset))])\n",
    "print(\"\\nValidation sample:\\n\")\n",
    "print(validation_dataset[randrange(len(validation_dataset))])"
   ]
  },
  {
   "cell_type": "code",
   "execution_count": 7,
   "id": "b7052faf-94a0-46dc-bf1a-ba9db1bd7061",
   "metadata": {
    "tags": []
   },
   "outputs": [],
   "source": [
    "def format_dolly(sample):\n",
    "    instruction = f\"### Instruction\\n{sample['instruction']}\"\n",
    "    context = f\"### Context\\n{sample['context']}\" if len(sample[\"context\"]) > 0 else None\n",
    "    response = f\"### Answer\\n{sample['response']}\"\n",
    "    # join all the parts together\n",
    "    prompt = \"\\n\\n\".join([i for i in [instruction, context, response] if i is not None])\n",
    "    return prompt"
   ]
  },
  {
   "cell_type": "markdown",
   "id": "f70fcd8d-ec61-4655-8ef8-83a28f4b8777",
   "metadata": {},
   "source": [
    "Format the data for instruction fine tuning"
   ]
  },
  {
   "cell_type": "code",
   "execution_count": 8,
   "id": "ef05a79a-cec9-4e33-8010-fb83fd9c19a6",
   "metadata": {
    "tags": []
   },
   "outputs": [
    {
     "name": "stdout",
     "output_type": "stream",
     "text": [
      "### Instruction\n",
      "Identify which instrument is string or woodwind: Panduri, Zurna\n",
      "\n",
      "### Answer\n",
      "Zurna is woodwind, Panduri is string.\n"
     ]
    }
   ],
   "source": [
    "from random import randrange\n",
    "\n",
    "print(format_dolly(train_dataset[randrange(len(train_dataset))]))"
   ]
  },
  {
   "cell_type": "markdown",
   "id": "82c5fd33-39ff-47e1-9ed4-a7b5f93f6889",
   "metadata": {},
   "source": [
    "Load the tokenizer for Llama2"
   ]
  },
  {
   "cell_type": "code",
   "execution_count": 9,
   "id": "7f3234ac-6f91-4d33-b7ae-e658938cdb0d",
   "metadata": {
    "tags": []
   },
   "outputs": [
    {
     "data": {
      "application/vnd.jupyter.widget-view+json": {
       "model_id": "3e76894792934a67b3bb724cd57b2f32",
       "version_major": 2,
       "version_minor": 0
      },
      "text/plain": [
       "(…)-fp16/resolve/main/tokenizer_config.json:   0%|          | 0.00/695 [00:00<?, ?B/s]"
      ]
     },
     "metadata": {},
     "output_type": "display_data"
    },
    {
     "data": {
      "application/vnd.jupyter.widget-view+json": {
       "model_id": "8d9f1922c5b84227a047c1ecdf86628d",
       "version_major": 2,
       "version_minor": 0
      },
      "text/plain": [
       "tokenizer.model:   0%|          | 0.00/500k [00:00<?, ?B/s]"
      ]
     },
     "metadata": {},
     "output_type": "display_data"
    },
    {
     "data": {
      "application/vnd.jupyter.widget-view+json": {
       "model_id": "7cf1ac1e6577411ca66f70133bb6370c",
       "version_major": 2,
       "version_minor": 0
      },
      "text/plain": [
       "(…)guanaco-fp16/resolve/main/tokenizer.json:   0%|          | 0.00/1.84M [00:00<?, ?B/s]"
      ]
     },
     "metadata": {},
     "output_type": "display_data"
    },
    {
     "data": {
      "application/vnd.jupyter.widget-view+json": {
       "model_id": "28be339b67b743d2983169539945009c",
       "version_major": 2,
       "version_minor": 0
      },
      "text/plain": [
       "(…)naco-fp16/resolve/main/added_tokens.json:   0%|          | 0.00/21.0 [00:00<?, ?B/s]"
      ]
     },
     "metadata": {},
     "output_type": "display_data"
    },
    {
     "data": {
      "application/vnd.jupyter.widget-view+json": {
       "model_id": "8b43379a00a542c4a7134dabd5a5537a",
       "version_major": 2,
       "version_minor": 0
      },
      "text/plain": [
       "(…)p16/resolve/main/special_tokens_map.json:   0%|          | 0.00/435 [00:00<?, ?B/s]"
      ]
     },
     "metadata": {},
     "output_type": "display_data"
    }
   ],
   "source": [
    "from transformers import AutoTokenizer\n",
    "\n",
    "tokenizer = AutoTokenizer.from_pretrained(model_id)\n",
    "tokenizer.pad_token = tokenizer.eos_token"
   ]
  },
  {
   "cell_type": "code",
   "execution_count": 10,
   "id": "816e01ab-751a-4e56-816e-fde2aa421913",
   "metadata": {
    "tags": []
   },
   "outputs": [
    {
     "data": {
      "application/vnd.jupyter.widget-view+json": {
       "model_id": "8e1b2563396c40b0bdba15cb892b700e",
       "version_major": 2,
       "version_minor": 0
      },
      "text/plain": [
       "Map:   0%|          | 0/751 [00:00<?, ? examples/s]"
      ]
     },
     "metadata": {},
     "output_type": "display_data"
    },
    {
     "data": {
      "application/vnd.jupyter.widget-view+json": {
       "model_id": "a35a77855caa42f2b613b2004bfdbbf9",
       "version_major": 2,
       "version_minor": 0
      },
      "text/plain": [
       "Map:   0%|          | 0/751 [00:00<?, ? examples/s]"
      ]
     },
     "metadata": {},
     "output_type": "display_data"
    },
    {
     "name": "stdout",
     "output_type": "stream",
     "text": [
      "### Instruction\n",
      "Which of these are Pixar movies? Finding Nemo, Shrek, Avatar, Toy Story, Fast and Furious, Up, Inside Out, Turning Red, Everything Everywhere All at Once, John Wick 4, Ice Age, Madagascar, Incredibles 2\n",
      "\n",
      "### Answer\n",
      "Finding Nemo, Toy Story, Up, Inside Out, Turning Red, and Incredibles 2 are Pixar movies.</s>\n"
     ]
    },
    {
     "data": {
      "application/vnd.jupyter.widget-view+json": {
       "model_id": "1b5a050e5c2f4fc5ba8c1d2621e4e8d3",
       "version_major": 2,
       "version_minor": 0
      },
      "text/plain": [
       "Map:   0%|          | 0/751 [00:00<?, ? examples/s]"
      ]
     },
     "metadata": {},
     "output_type": "display_data"
    },
    {
     "data": {
      "application/vnd.jupyter.widget-view+json": {
       "model_id": "dc1de46a9df1448baef3e7782911d9c7",
       "version_major": 2,
       "version_minor": 0
      },
      "text/plain": [
       "Map:   0%|          | 0/751 [00:00<?, ? examples/s]"
      ]
     },
     "metadata": {},
     "output_type": "display_data"
    },
    {
     "data": {
      "application/vnd.jupyter.widget-view+json": {
       "model_id": "91ff49515d1949c78f8312e9e1333c63",
       "version_major": 2,
       "version_minor": 0
      },
      "text/plain": [
       "Map:   0%|          | 0/751 [00:00<?, ? examples/s]"
      ]
     },
     "metadata": {},
     "output_type": "display_data"
    },
    {
     "data": {
      "application/vnd.jupyter.widget-view+json": {
       "model_id": "4f4bbf2c1e934f9ca745cc347f730887",
       "version_major": 2,
       "version_minor": 0
      },
      "text/plain": [
       "Map:   0%|          | 0/751 [00:00<?, ? examples/s]"
      ]
     },
     "metadata": {},
     "output_type": "display_data"
    },
    {
     "name": "stdout",
     "output_type": "stream",
     "text": [
      "Total number of samples: 751\n"
     ]
    }
   ],
   "source": [
    "from random import randint\n",
    "from itertools import chain\n",
    "from functools import partial\n",
    "\n",
    "\n",
    "# template dataset to add prompt to each sample\n",
    "def template_dataset(sample):\n",
    "    sample[\"text\"] = f\"{format_dolly(sample)}{tokenizer.eos_token}\"\n",
    "    return sample\n",
    "\n",
    "\n",
    "# apply prompt template per sample\n",
    "# train\n",
    "train_dataset = train_dataset.map(template_dataset, remove_columns=list(train_dataset.features))\n",
    "# validation\n",
    "validation_dataset = validation_dataset.map(template_dataset, remove_columns=list(validation_dataset.features))\n",
    "# print random sample\n",
    "print(validation_dataset[randint(0, len(validation_dataset))][\"text\"])\n",
    "\n",
    "# empty list to save remainder from batches to use in next batch\n",
    "remainder = {\"input_ids\": [], \"attention_mask\": [], \"token_type_ids\": []}\n",
    "\n",
    "def chunk(sample, chunk_length=2048):\n",
    "    # define global remainder variable to save remainder from batches to use in next batch\n",
    "    global remainder\n",
    "    # Concatenate all texts and add remainder from previous batch\n",
    "    concatenated_examples = {k: list(chain(*sample[k])) for k in sample.keys()}\n",
    "    concatenated_examples = {k: remainder[k] + concatenated_examples[k] for k in concatenated_examples.keys()}\n",
    "    # get total number of tokens for batch\n",
    "    batch_total_length = len(concatenated_examples[list(sample.keys())[0]])\n",
    "\n",
    "    # get max number of chunks for batch\n",
    "    if batch_total_length >= chunk_length:\n",
    "        batch_chunk_length = (batch_total_length // chunk_length) * chunk_length\n",
    "\n",
    "    # Split by chunks of max_len.\n",
    "    result = {\n",
    "        k: [t[i : i + chunk_length] for i in range(0, batch_chunk_length, chunk_length)]\n",
    "        for k, t in concatenated_examples.items()\n",
    "    }\n",
    "    # add remainder to global variable for next batch\n",
    "    remainder = {k: concatenated_examples[k][batch_chunk_length:] for k in concatenated_examples.keys()}\n",
    "    # prepare labels\n",
    "    result[\"labels\"] = result[\"input_ids\"].copy()\n",
    "    return result\n",
    "\n",
    "\n",
    "# tokenize and chunk dataset\n",
    "\n",
    "# training\n",
    "lm_train_dataset = train_dataset.map(\n",
    "    lambda sample: tokenizer(sample[\"text\"]), batched=True, remove_columns=list(train_dataset.features)\n",
    ").map(\n",
    "    partial(chunk, chunk_length=2048),\n",
    "    batched=True,\n",
    ")\n",
    "\n",
    "# validation\n",
    "lm_valid_dataset = validation_dataset.map(\n",
    "    lambda sample: tokenizer(sample[\"text\"]), batched=True, remove_columns=list(validation_dataset.features)\n",
    ").map(\n",
    "    partial(chunk, chunk_length=2048),\n",
    "    batched=True,\n",
    ")\n",
    "\n",
    "# Print total number of samples\n",
    "print(f\"Total number of samples: {len(validation_dataset)}\")"
   ]
  },
  {
   "cell_type": "markdown",
   "id": "7056f763-39ea-496d-b777-abfbf725e2b4",
   "metadata": {},
   "source": [
    "## Upload dataset to S3"
   ]
  },
  {
   "cell_type": "code",
   "execution_count": 11,
   "id": "0ca8d6f1-c540-460b-b086-eacec5a12b2e",
   "metadata": {
    "tags": []
   },
   "outputs": [
    {
     "data": {
      "application/vnd.jupyter.widget-view+json": {
       "model_id": "e1fb738229b9482bbae553c9b27ae5c9",
       "version_major": 2,
       "version_minor": 0
      },
      "text/plain": [
       "Saving the dataset (0/1 shards):   0%|          | 0/78 [00:00<?, ? examples/s]"
      ]
     },
     "metadata": {},
     "output_type": "display_data"
    },
    {
     "name": "stdout",
     "output_type": "stream",
     "text": [
      "saving training dataset to: s3://sagemaker-us-west-2-376678947624/Mikael110-llama-2-7b-guanaco-fp16/dataset/train\n"
     ]
    },
    {
     "data": {
      "application/vnd.jupyter.widget-view+json": {
       "model_id": "e90323bd1850461fa33979390e4035d0",
       "version_major": 2,
       "version_minor": 0
      },
      "text/plain": [
       "Saving the dataset (0/1 shards):   0%|          | 0/71 [00:00<?, ? examples/s]"
      ]
     },
     "metadata": {},
     "output_type": "display_data"
    },
    {
     "name": "stdout",
     "output_type": "stream",
     "text": [
      "saving validation dataset to: s3://sagemaker-us-west-2-376678947624/Mikael110-llama-2-7b-guanaco-fp16/dataset/validation\n"
     ]
    }
   ],
   "source": [
    "# save train_dataset to s3\n",
    "training_input_path = f's3://{default_bucket}/{s3_key_prefix}/dataset/train'\n",
    "lm_train_dataset.save_to_disk(training_input_path)\n",
    "\n",
    "print(f\"saving training dataset to: {training_input_path}\")\n",
    "\n",
    "# save train_dataset to s3\n",
    "validation_input_path = f's3://{default_bucket}/{s3_key_prefix}/dataset/validation'\n",
    "lm_valid_dataset.save_to_disk(validation_input_path)\n",
    "\n",
    "print(f\"saving validation dataset to: {validation_input_path}\")"
   ]
  },
  {
   "cell_type": "markdown",
   "id": "948b7f65-a97f-4488-a5d6-1c095f68ffc9",
   "metadata": {},
   "source": [
    "## Register Base model into Model Registry\n",
    "\n",
    "We are registering the base model into Model registry. This gives a central repository to manage and version base model, so you don't need to duplicate the download from the hub each time you want to experiment or deploy. \n",
    "\n",
    "---\n",
    "download and save the mdoel"
   ]
  },
  {
   "cell_type": "code",
   "execution_count": 12,
   "id": "9ad168a9-78eb-4df6-9d8e-5da4388d164c",
   "metadata": {
    "scrolled": true,
    "tags": []
   },
   "outputs": [
    {
     "data": {
      "application/vnd.jupyter.widget-view+json": {
       "model_id": "bc4a991e696e47bca6c21f897690b9ed",
       "version_major": 2,
       "version_minor": 0
      },
      "text/plain": [
       "(…)7b-guanaco-fp16/resolve/main/config.json:   0%|          | 0.00/618 [00:00<?, ?B/s]"
      ]
     },
     "metadata": {},
     "output_type": "display_data"
    },
    {
     "name": "stdout",
     "output_type": "stream",
     "text": [
      "huggingface/tokenizers: The current process just got forked, after parallelism has already been used. Disabling parallelism to avoid deadlocks...\n",
      "To disable this warning, you can either:\n",
      "\t- Avoid using `tokenizers` before the fork if possible\n",
      "\t- Explicitly set the environment variable TOKENIZERS_PARALLELISM=(true | false)\n",
      "huggingface/tokenizers: The current process just got forked, after parallelism has already been used. Disabling parallelism to avoid deadlocks...\n",
      "To disable this warning, you can either:\n",
      "\t- Avoid using `tokenizers` before the fork if possible\n",
      "\t- Explicitly set the environment variable TOKENIZERS_PARALLELISM=(true | false)\n",
      "huggingface/tokenizers: The current process just got forked, after parallelism has already been used. Disabling parallelism to avoid deadlocks...\n",
      "To disable this warning, you can either:\n",
      "\t- Avoid using `tokenizers` before the fork if possible\n",
      "\t- Explicitly set the environment variable TOKENIZERS_PARALLELISM=(true | false)\n",
      "huggingface/tokenizers: The current process just got forked, after parallelism has already been used. Disabling parallelism to avoid deadlocks...\n",
      "To disable this warning, you can either:\n",
      "\t- Avoid using `tokenizers` before the fork if possible\n",
      "\t- Explicitly set the environment variable TOKENIZERS_PARALLELISM=(true | false)\n",
      "huggingface/tokenizers: The current process just got forked, after parallelism has already been used. Disabling parallelism to avoid deadlocks...\n",
      "To disable this warning, you can either:\n",
      "\t- Avoid using `tokenizers` before the fork if possible\n",
      "\t- Explicitly set the environment variable TOKENIZERS_PARALLELISM=(true | false)\n",
      "huggingface/tokenizers: The current process just got forked, after parallelism has already been used. Disabling parallelism to avoid deadlocks...\n",
      "To disable this warning, you can either:\n",
      "\t- Avoid using `tokenizers` before the fork if possible\n",
      "\t- Explicitly set the environment variable TOKENIZERS_PARALLELISM=(true | false)\n",
      "huggingface/tokenizers: The current process just got forked, after parallelism has already been used. Disabling parallelism to avoid deadlocks...\n",
      "To disable this warning, you can either:\n",
      "\t- Avoid using `tokenizers` before the fork if possible\n",
      "\t- Explicitly set the environment variable TOKENIZERS_PARALLELISM=(true | false)\n",
      "huggingface/tokenizers: The current process just got forked, after parallelism has already been used. Disabling parallelism to avoid deadlocks...\n",
      "To disable this warning, you can either:\n",
      "\t- Avoid using `tokenizers` before the fork if possible\n",
      "\t- Explicitly set the environment variable TOKENIZERS_PARALLELISM=(true | false)\n",
      "huggingface/tokenizers: The current process just got forked, after parallelism has already been used. Disabling parallelism to avoid deadlocks...\n",
      "To disable this warning, you can either:\n",
      "\t- Avoid using `tokenizers` before the fork if possible\n",
      "\t- Explicitly set the environment variable TOKENIZERS_PARALLELISM=(true | false)\n"
     ]
    },
    {
     "data": {
      "application/vnd.jupyter.widget-view+json": {
       "model_id": "6feb4144f4ac403fbdfe0f61840a5793",
       "version_major": 2,
       "version_minor": 0
      },
      "text/plain": [
       "(…)esolve/main/pytorch_model.bin.index.json:   0%|          | 0.00/26.8k [00:00<?, ?B/s]"
      ]
     },
     "metadata": {},
     "output_type": "display_data"
    },
    {
     "data": {
      "application/vnd.jupyter.widget-view+json": {
       "model_id": "f74fe66bedc14867ba612356c489beb1",
       "version_major": 2,
       "version_minor": 0
      },
      "text/plain": [
       "Downloading shards:   0%|          | 0/2 [00:00<?, ?it/s]"
      ]
     },
     "metadata": {},
     "output_type": "display_data"
    },
    {
     "data": {
      "application/vnd.jupyter.widget-view+json": {
       "model_id": "abd0b0e4d30845c9a3b359b3cb95bdc2",
       "version_major": 2,
       "version_minor": 0
      },
      "text/plain": [
       "pytorch_model-00001-of-00002.bin:   0%|          | 0.00/9.98G [00:00<?, ?B/s]"
      ]
     },
     "metadata": {},
     "output_type": "display_data"
    },
    {
     "data": {
      "application/vnd.jupyter.widget-view+json": {
       "model_id": "2bb862789fc74670b2aeb6f2e19e506e",
       "version_major": 2,
       "version_minor": 0
      },
      "text/plain": [
       "pytorch_model-00002-of-00002.bin:   0%|          | 0.00/3.50G [00:00<?, ?B/s]"
      ]
     },
     "metadata": {},
     "output_type": "display_data"
    },
    {
     "data": {
      "application/vnd.jupyter.widget-view+json": {
       "model_id": "6ea62694cd6743f78d86f4ef65e347ab",
       "version_major": 2,
       "version_minor": 0
      },
      "text/plain": [
       "Loading checkpoint shards:   0%|          | 0/2 [00:00<?, ?it/s]"
      ]
     },
     "metadata": {},
     "output_type": "display_data"
    },
    {
     "data": {
      "application/vnd.jupyter.widget-view+json": {
       "model_id": "7e709353e13247988011ef71f56cd16a",
       "version_major": 2,
       "version_minor": 0
      },
      "text/plain": [
       "(…)fp16/resolve/main/generation_config.json:   0%|          | 0.00/179 [00:00<?, ?B/s]"
      ]
     },
     "metadata": {},
     "output_type": "display_data"
    }
   ],
   "source": [
    "import torch\n",
    "from transformers import AutoTokenizer, AutoModelForCausalLM\n",
    "\n",
    "base_model_save_dir = f\"./base_model/{model_id}\"\n",
    "os.makedirs(base_model_save_dir, exist_ok=True)\n",
    "\n",
    "tokenizer = AutoTokenizer.from_pretrained(model_id).save_pretrained(base_model_save_dir)\n",
    "model = AutoModelForCausalLM.from_pretrained(\n",
    "    model_id, \n",
    "    torch_dtype=torch.float16,\n",
    "    device_map=\"auto\"\n",
    ").save_pretrained(base_model_save_dir)"
   ]
  },
  {
   "cell_type": "markdown",
   "id": "79f3dd4d-a177-4ae2-9490-1df69e7572fd",
   "metadata": {},
   "source": [
    "remove model to clear cache memory"
   ]
  },
  {
   "cell_type": "code",
   "execution_count": 13,
   "id": "94f850ce-406a-4bba-b8c7-b761cd02a8bd",
   "metadata": {
    "tags": []
   },
   "outputs": [],
   "source": [
    "del model\n",
    "import torch; torch.cuda.empty_cache()"
   ]
  },
  {
   "cell_type": "markdown",
   "id": "fc0cb85b-cf59-4e93-bbca-dd7d10d72d56",
   "metadata": {},
   "source": [
    "Tar and upload the model to S3"
   ]
  },
  {
   "cell_type": "code",
   "execution_count": 14,
   "id": "534f03b5-7a51-485b-9ac7-a52bf4538096",
   "metadata": {
    "tags": []
   },
   "outputs": [
    {
     "name": "stdout",
     "output_type": "stream",
     "text": [
      "Model tar file name: Mikael110-llama-2-7b-guanaco-fp16.tar.gz\n"
     ]
    }
   ],
   "source": [
    "model_tar_filename = f\"{model_id.replace('/', '-')}.tar.gz\"\n",
    "print(f\"Model tar file name: {model_tar_filename}\")"
   ]
  },
  {
   "cell_type": "code",
   "execution_count": 15,
   "id": "84ab4f07-af5f-4e7d-8a08-6c62d4b7ef90",
   "metadata": {
    "tags": []
   },
   "outputs": [
    {
     "name": "stdout",
     "output_type": "stream",
     "text": [
      "huggingface/tokenizers: The current process just got forked, after parallelism has already been used. Disabling parallelism to avoid deadlocks...\n",
      "To disable this warning, you can either:\n",
      "\t- Avoid using `tokenizers` before the fork if possible\n",
      "\t- Explicitly set the environment variable TOKENIZERS_PARALLELISM=(true | false)\n",
      "./Mikael110/llama-2-7b-guanaco-fp16/\n",
      "./Mikael110/llama-2-7b-guanaco-fp16/config.json\n",
      "./Mikael110/llama-2-7b-guanaco-fp16/pytorch_model-00002-of-00002.bin\n",
      "./Mikael110/llama-2-7b-guanaco-fp16/pytorch_model.bin.index.json\n",
      "./Mikael110/llama-2-7b-guanaco-fp16/special_tokens_map.json\n",
      "./Mikael110/llama-2-7b-guanaco-fp16/tokenizer.json\n",
      "./Mikael110/llama-2-7b-guanaco-fp16/pytorch_model-00001-of-00002.bin\n",
      "./Mikael110/llama-2-7b-guanaco-fp16/tokenizer_config.json\n",
      "./Mikael110/llama-2-7b-guanaco-fp16/generation_config.json\n",
      "CPU times: user 378 ms, sys: 105 ms, total: 483 ms\n",
      "Wall time: 1min 2s\n"
     ]
    }
   ],
   "source": [
    "%%time\n",
    "!cd ./base_model && tar -cvf ./{model_tar_filename} ./{model_id}"
   ]
  },
  {
   "cell_type": "code",
   "execution_count": 16,
   "id": "39825137-d3e7-4dd2-8a5f-b6851746f773",
   "metadata": {
    "tags": []
   },
   "outputs": [
    {
     "name": "stdout",
     "output_type": "stream",
     "text": [
      "s3://sagemaker-us-west-2-376678947624/Mikael110-llama-2-7b-guanaco-fp16/models/base/Mikael110-llama-2-7b-guanaco-fp16.tar.gz\n",
      "CPU times: user 1min 3s, sys: 47.2 s, total: 1min 50s\n",
      "Wall time: 51.1 s\n"
     ]
    }
   ],
   "source": [
    "%%time\n",
    "model_data_uri = sagemaker.s3.S3Uploader.upload(\n",
    "    local_path=f\"./base_model/{model_tar_filename}\",\n",
    "    desired_s3_uri=f's3://{default_bucket}/{s3_key_prefix}/models/base',\n",
    ")\n",
    "print(model_data_uri)"
   ]
  },
  {
   "cell_type": "markdown",
   "id": "a6391a89-cc12-456b-8d04-f4a5444aa0e5",
   "metadata": {
    "tags": []
   },
   "source": [
    "### Create Base Model Package Group"
   ]
  },
  {
   "cell_type": "code",
   "execution_count": 17,
   "id": "ef06c711-69da-48f8-a9c4-5b4af9717125",
   "metadata": {
    "tags": []
   },
   "outputs": [
    {
     "name": "stdout",
     "output_type": "stream",
     "text": [
      "Created ModelPackageGroup Arn : arn:aws:sagemaker:us-west-2:376678947624:model-package-group/Mikael110-llama-2-7b-guanaco-fp16-2023-10-20-20-36-23-385\n"
     ]
    }
   ],
   "source": [
    "# Model Package Group Vars\n",
    "base_package_group_name = name_from_base(model_id.replace('/', '-'))\n",
    "base_package_group_desc = f\"Source: https://huggingface.co/{model_id}\"\n",
    "base_tags = [\n",
    "    { \n",
    "        \"Key\": \"modelType\",\n",
    "        \"Value\": \"BaseModel\"\n",
    "    },\n",
    "    { \n",
    "        \"Key\": \"fineTuned\",\n",
    "        \"Value\": \"False\"\n",
    "    },\n",
    "    { \n",
    "        \"Key\": \"sourceDataset\",\n",
    "        \"Value\": \"None\"\n",
    "    }\n",
    "]\n",
    "\n",
    "model_package_group_input_dict = {\n",
    "    \"ModelPackageGroupName\" : base_package_group_name,\n",
    "    \"ModelPackageGroupDescription\" : base_package_group_desc,\n",
    "    \"Tags\": base_tags\n",
    "    \n",
    "}\n",
    "create_model_pacakge_group_response = sm_client.create_model_package_group(\n",
    "    **model_package_group_input_dict\n",
    ")\n",
    "print(f'Created ModelPackageGroup Arn : {create_model_pacakge_group_response[\"ModelPackageGroupArn\"]}')\n",
    "\n",
    "base_model_pkg_group_name = create_model_pacakge_group_response[\"ModelPackageGroupArn\"]"
   ]
  },
  {
   "cell_type": "markdown",
   "id": "94c530fa-eca5-45ee-8647-1a0958966433",
   "metadata": {},
   "source": [
    "### Register the Base Model"
   ]
  },
  {
   "cell_type": "code",
   "execution_count": 18,
   "id": "8559aa57-96b8-4632-9453-7c1c6461d1e5",
   "metadata": {
    "tags": []
   },
   "outputs": [],
   "source": [
    "from sagemaker.huggingface import HuggingFaceModel\n",
    "\n",
    "# create Hugging Face Model Class\n",
    "huggingface_model = HuggingFaceModel(\n",
    "    transformers_version='4.28',\n",
    "    pytorch_version='2.0',  \n",
    "    py_version='py310',\n",
    "    model_data=model_data_uri,\n",
    "    role=role,\n",
    ")"
   ]
  },
  {
   "cell_type": "code",
   "execution_count": 19,
   "id": "df8a99d6-a54c-4d28-9572-88bc3757d770",
   "metadata": {
    "tags": []
   },
   "outputs": [],
   "source": [
    "_response = huggingface_model.register(\n",
    "    content_types=[\"application/json\"],\n",
    "    response_types=[\"application/json\"],\n",
    "    inference_instances=[\n",
    "        \"ml.p2.16xlarge\", \n",
    "        \"ml.p3.16xlarge\", \n",
    "        \"ml.g4dn.4xlarge\", \n",
    "        \"ml.g4dn.8xlarge\", \n",
    "        \"ml.g4dn.12xlarge\", \n",
    "        \"ml.g4dn.16xlarge\"\n",
    "    ],\n",
    "    transform_instances=[\n",
    "        \"ml.p2.16xlarge\", \n",
    "        \"ml.p3.16xlarge\", \n",
    "        \"ml.g4dn.4xlarge\", \n",
    "        \"ml.g4dn.8xlarge\", \n",
    "        \"ml.g4dn.12xlarge\", \n",
    "        \"ml.g4dn.16xlarge\"\n",
    "    ],\n",
    "    model_package_group_name=base_model_pkg_group_name,\n",
    "    approval_status=\"Approved\"\n",
    ")"
   ]
  },
  {
   "cell_type": "markdown",
   "id": "8c01fd70-b88e-472a-878b-40e4df2e1acc",
   "metadata": {},
   "source": [
    "### Add Base Model to Model Collection\n",
    "We can associate the base model and the fine tuned model in a model collection. If you get a permission error during creation of collection, please refer to the pre-req or this [AWS documentation to add the IAM polciy](https://docs.aws.amazon.com/sagemaker/latest/dg/modelcollections-permissions.html)"
   ]
  },
  {
   "cell_type": "code",
   "execution_count": 21,
   "id": "e0fd8657-adcf-49fd-82bb-92af9fe94233",
   "metadata": {
    "tags": []
   },
   "outputs": [],
   "source": [
    "# create model collection\n",
    "base_collection = model_collector.create(\n",
    "    collection_name=name_from_base(model_group_for_base)\n",
    ")"
   ]
  },
  {
   "cell_type": "code",
   "execution_count": 22,
   "id": "2814d0b3-0f30-4d21-a25a-984288e9b103",
   "metadata": {
    "tags": []
   },
   "outputs": [
    {
     "name": "stdout",
     "output_type": "stream",
     "text": [
      "Model collection creation status: {'added_groups': ['arn:aws:sagemaker:us-west-2:376678947624:model-package-group/Mikael110-llama-2-7b-guanaco-fp16-2023-10-20-20-36-23-385'], 'failure': []}\n"
     ]
    }
   ],
   "source": [
    "_response = model_collector.add_model_groups(\n",
    "    collection_name=base_collection[\"Arn\"], \n",
    "    model_groups=[base_model_pkg_group_name]\n",
    ")\n",
    "\n",
    "print(f\"Model collection creation status: {_response}\")"
   ]
  },
  {
   "cell_type": "markdown",
   "id": "ce9d9159-ac44-43d3-86c2-d81ac9cffe27",
   "metadata": {},
   "source": [
    "## Create A Fine Tuning Job\n",
    "\n",
    "We will use a HuggingFace training estimator to fine tune the llama2 model"
   ]
  },
  {
   "cell_type": "code",
   "execution_count": 23,
   "id": "b8f1d637-e93a-44c5-9f55-d3b15d695431",
   "metadata": {
    "tags": []
   },
   "outputs": [
    {
     "name": "stdout",
     "output_type": "stream",
     "text": [
      "huggingface/tokenizers: The current process just got forked, after parallelism has already been used. Disabling parallelism to avoid deadlocks...\n",
      "To disable this warning, you can either:\n",
      "\t- Avoid using `tokenizers` before the fork if possible\n",
      "\t- Explicitly set the environment variable TOKENIZERS_PARALLELISM=(true | false)\n"
     ]
    }
   ],
   "source": [
    "rm -rf `find -type d -name .ipynb_checkpoints`"
   ]
  },
  {
   "cell_type": "code",
   "execution_count": 24,
   "id": "0fc31941-ad73-4d44-9c72-c883edf19f16",
   "metadata": {
    "scrolled": true,
    "tags": []
   },
   "outputs": [
    {
     "name": "stderr",
     "output_type": "stream",
     "text": [
      "INFO:sagemaker.image_uris:image_uri is not presented, retrieving image_uri based on instance_type, framework etc.\n",
      "INFO:sagemaker:Creating training-job with name: huggingface-qlora-2310202059-2023-10-20-20-59-29-824\n"
     ]
    },
    {
     "name": "stdout",
     "output_type": "stream",
     "text": [
      "Using provided s3_resource\n",
      "2023-10-20 20:59:30 Starting - Starting the training job...\n",
      "2023-10-20 20:59:45 Starting - Preparing the instances for training......\n",
      "2023-10-20 21:00:52 Downloading - Downloading input data...\n",
      "2023-10-20 21:01:12 Training - Downloading the training image..........................................\n",
      "2023-10-20 21:08:14 Training - Training image download completed. Training in progress....\u001b[34mbash: cannot set terminal process group (-1): Inappropriate ioctl for device\u001b[0m\n",
      "\u001b[34mbash: no job control in this shell\u001b[0m\n",
      "\u001b[34m2023-10-20 21:08:52,036 sagemaker-training-toolkit INFO     Imported framework sagemaker_pytorch_container.training\u001b[0m\n",
      "\u001b[34m2023-10-20 21:08:52,049 sagemaker-training-toolkit INFO     No Neurons detected (normal if no neurons installed)\u001b[0m\n",
      "\u001b[34m2023-10-20 21:08:52,058 sagemaker_pytorch_container.training INFO     Block until all host DNS lookups succeed.\u001b[0m\n",
      "\u001b[34m2023-10-20 21:08:52,059 sagemaker_pytorch_container.training INFO     Invoking user training script.\u001b[0m\n",
      "\u001b[34m2023-10-20 21:08:53,395 sagemaker-training-toolkit INFO     Installing dependencies from requirements.txt:\u001b[0m\n",
      "\u001b[34m/opt/conda/bin/python3.10 -m pip install -r requirements.txt\u001b[0m\n",
      "\u001b[34mCollecting transformers==4.31.0 (from -r requirements.txt (line 1))\u001b[0m\n",
      "\u001b[34mDownloading transformers-4.31.0-py3-none-any.whl (7.4 MB)\u001b[0m\n",
      "\u001b[34m━━━━━━━━━━━━━━━━━━━━━━━━━━━━━━━━━━━━━━━━ 7.4/7.4 MB 68.0 MB/s eta 0:00:00\u001b[0m\n",
      "\u001b[34mCollecting peft==0.4.0 (from -r requirements.txt (line 2))\u001b[0m\n",
      "\u001b[34mDownloading peft-0.4.0-py3-none-any.whl (72 kB)\u001b[0m\n",
      "\u001b[34m━━━━━━━━━━━━━━━━━━━━━━━━━━━━━━━━━━━━━━━━ 72.9/72.9 kB 22.3 MB/s eta 0:00:00\u001b[0m\n",
      "\u001b[34mCollecting accelerate==0.21.0 (from -r requirements.txt (line 3))\u001b[0m\n",
      "\u001b[34mDownloading accelerate-0.21.0-py3-none-any.whl (244 kB)\u001b[0m\n",
      "\u001b[34m━━━━━━━━━━━━━━━━━━━━━━━━━━━━━━━━━━━━━━ 244.2/244.2 kB 49.0 MB/s eta 0:00:00\u001b[0m\n",
      "\u001b[34mCollecting bitsandbytes==0.40.2 (from -r requirements.txt (line 4))\u001b[0m\n",
      "\u001b[34mDownloading bitsandbytes-0.40.2-py3-none-any.whl (92.5 MB)\u001b[0m\n",
      "\u001b[34m━━━━━━━━━━━━━━━━━━━━━━━━━━━━━━━━━━━━━━━━ 92.5/92.5 MB 26.3 MB/s eta 0:00:00\u001b[0m\n",
      "\u001b[34mCollecting safetensors>=0.3.1 (from -r requirements.txt (line 5))\u001b[0m\n",
      "\u001b[34mDownloading safetensors-0.4.0-cp310-cp310-manylinux_2_17_x86_64.manylinux2014_x86_64.whl (1.3 MB)\u001b[0m\n",
      "\u001b[34m━━━━━━━━━━━━━━━━━━━━━━━━━━━━━━━━━━━━━━━━ 1.3/1.3 MB 96.4 MB/s eta 0:00:00\u001b[0m\n",
      "\u001b[34mRequirement already satisfied: tokenizers>=0.13.3 in /opt/conda/lib/python3.10/site-packages (from -r requirements.txt (line 6)) (0.13.3)\u001b[0m\n",
      "\u001b[34mRequirement already satisfied: filelock in /opt/conda/lib/python3.10/site-packages (from transformers==4.31.0->-r requirements.txt (line 1)) (3.12.0)\u001b[0m\n",
      "\u001b[34mRequirement already satisfied: huggingface-hub<1.0,>=0.14.1 in /opt/conda/lib/python3.10/site-packages (from transformers==4.31.0->-r requirements.txt (line 1)) (0.14.1)\u001b[0m\n",
      "\u001b[34mRequirement already satisfied: numpy>=1.17 in /opt/conda/lib/python3.10/site-packages (from transformers==4.31.0->-r requirements.txt (line 1)) (1.23.5)\u001b[0m\n",
      "\u001b[34mRequirement already satisfied: packaging>=20.0 in /opt/conda/lib/python3.10/site-packages (from transformers==4.31.0->-r requirements.txt (line 1)) (23.1)\u001b[0m\n",
      "\u001b[34mRequirement already satisfied: pyyaml>=5.1 in /opt/conda/lib/python3.10/site-packages (from transformers==4.31.0->-r requirements.txt (line 1)) (5.4.1)\u001b[0m\n",
      "\u001b[34mRequirement already satisfied: regex!=2019.12.17 in /opt/conda/lib/python3.10/site-packages (from transformers==4.31.0->-r requirements.txt (line 1)) (2023.5.5)\u001b[0m\n",
      "\u001b[34mRequirement already satisfied: requests in /opt/conda/lib/python3.10/site-packages (from transformers==4.31.0->-r requirements.txt (line 1)) (2.28.2)\u001b[0m\n",
      "\u001b[34mRequirement already satisfied: tqdm>=4.27 in /opt/conda/lib/python3.10/site-packages (from transformers==4.31.0->-r requirements.txt (line 1)) (4.65.0)\u001b[0m\n",
      "\u001b[34mRequirement already satisfied: psutil in /opt/conda/lib/python3.10/site-packages (from peft==0.4.0->-r requirements.txt (line 2)) (5.9.5)\u001b[0m\n",
      "\u001b[34mRequirement already satisfied: torch>=1.13.0 in /opt/conda/lib/python3.10/site-packages (from peft==0.4.0->-r requirements.txt (line 2)) (2.0.0)\u001b[0m\n",
      "\u001b[34mRequirement already satisfied: fsspec in /opt/conda/lib/python3.10/site-packages (from huggingface-hub<1.0,>=0.14.1->transformers==4.31.0->-r requirements.txt (line 1)) (2023.5.0)\u001b[0m\n",
      "\u001b[34mRequirement already satisfied: typing-extensions>=3.7.4.3 in /opt/conda/lib/python3.10/site-packages (from huggingface-hub<1.0,>=0.14.1->transformers==4.31.0->-r requirements.txt (line 1)) (4.5.0)\u001b[0m\n",
      "\u001b[34mRequirement already satisfied: sympy in /opt/conda/lib/python3.10/site-packages (from torch>=1.13.0->peft==0.4.0->-r requirements.txt (line 2)) (1.11.1)\u001b[0m\n",
      "\u001b[34mRequirement already satisfied: networkx in /opt/conda/lib/python3.10/site-packages (from torch>=1.13.0->peft==0.4.0->-r requirements.txt (line 2)) (3.1)\u001b[0m\n",
      "\u001b[34mRequirement already satisfied: jinja2 in /opt/conda/lib/python3.10/site-packages (from torch>=1.13.0->peft==0.4.0->-r requirements.txt (line 2)) (3.1.2)\u001b[0m\n",
      "\u001b[34mRequirement already satisfied: charset-normalizer<4,>=2 in /opt/conda/lib/python3.10/site-packages (from requests->transformers==4.31.0->-r requirements.txt (line 1)) (3.1.0)\u001b[0m\n",
      "\u001b[34mRequirement already satisfied: idna<4,>=2.5 in /opt/conda/lib/python3.10/site-packages (from requests->transformers==4.31.0->-r requirements.txt (line 1)) (3.4)\u001b[0m\n",
      "\u001b[34mRequirement already satisfied: urllib3<1.27,>=1.21.1 in /opt/conda/lib/python3.10/site-packages (from requests->transformers==4.31.0->-r requirements.txt (line 1)) (1.26.15)\u001b[0m\n",
      "\u001b[34mRequirement already satisfied: certifi>=2017.4.17 in /opt/conda/lib/python3.10/site-packages (from requests->transformers==4.31.0->-r requirements.txt (line 1)) (2023.5.7)\u001b[0m\n",
      "\u001b[34mRequirement already satisfied: MarkupSafe>=2.0 in /opt/conda/lib/python3.10/site-packages (from jinja2->torch>=1.13.0->peft==0.4.0->-r requirements.txt (line 2)) (2.1.2)\u001b[0m\n",
      "\u001b[34mRequirement already satisfied: mpmath>=0.19 in /opt/conda/lib/python3.10/site-packages (from sympy->torch>=1.13.0->peft==0.4.0->-r requirements.txt (line 2)) (1.3.0)\u001b[0m\n",
      "\u001b[34mInstalling collected packages: bitsandbytes, safetensors, transformers, accelerate, peft\u001b[0m\n",
      "\u001b[34mAttempting uninstall: transformers\u001b[0m\n",
      "\u001b[34mFound existing installation: transformers 4.28.1\u001b[0m\n",
      "\u001b[34mUninstalling transformers-4.28.1:\u001b[0m\n",
      "\u001b[34mSuccessfully uninstalled transformers-4.28.1\u001b[0m\n",
      "\u001b[34mAttempting uninstall: accelerate\u001b[0m\n",
      "\u001b[34mFound existing installation: accelerate 0.19.0\u001b[0m\n",
      "\u001b[34mUninstalling accelerate-0.19.0:\u001b[0m\n",
      "\u001b[34mSuccessfully uninstalled accelerate-0.19.0\u001b[0m\n",
      "\u001b[34mSuccessfully installed accelerate-0.21.0 bitsandbytes-0.40.2 peft-0.4.0 safetensors-0.4.0 transformers-4.31.0\u001b[0m\n",
      "\u001b[34mWARNING: Running pip as the 'root' user can result in broken permissions and conflicting behaviour with the system package manager. It is recommended to use a virtual environment instead: https://pip.pypa.io/warnings/venv\u001b[0m\n",
      "\u001b[34m[notice] A new release of pip is available: 23.1.2 -> 23.3\u001b[0m\n",
      "\u001b[34m[notice] To update, run: pip install --upgrade pip\u001b[0m\n",
      "\u001b[34m2023-10-20 21:09:04,328 sagemaker-training-toolkit INFO     Waiting for the process to finish and give a return code.\u001b[0m\n",
      "\u001b[34m2023-10-20 21:09:04,328 sagemaker-training-toolkit INFO     Done waiting for a return code. Received 0 from exiting process.\u001b[0m\n",
      "\u001b[34m2023-10-20 21:09:04,362 sagemaker-training-toolkit INFO     No Neurons detected (normal if no neurons installed)\u001b[0m\n",
      "\u001b[34m2023-10-20 21:09:04,384 sagemaker-training-toolkit INFO     No Neurons detected (normal if no neurons installed)\u001b[0m\n",
      "\u001b[34m2023-10-20 21:09:04,406 sagemaker-training-toolkit INFO     No Neurons detected (normal if no neurons installed)\u001b[0m\n",
      "\u001b[34m2023-10-20 21:09:04,417 sagemaker-training-toolkit INFO     Invoking user script\u001b[0m\n",
      "\u001b[34mTraining Env:\u001b[0m\n",
      "\u001b[34m{\n",
      "    \"additional_framework_parameters\": {},\n",
      "    \"channel_input_dirs\": {\n",
      "        \"training\": \"/opt/ml/input/data/training\",\n",
      "        \"validation\": \"/opt/ml/input/data/validation\"\n",
      "    },\n",
      "    \"current_host\": \"algo-1\",\n",
      "    \"current_instance_group\": \"homogeneousCluster\",\n",
      "    \"current_instance_group_hosts\": [\n",
      "        \"algo-1\"\n",
      "    ],\n",
      "    \"current_instance_type\": \"ml.g5.2xlarge\",\n",
      "    \"distribution_hosts\": [],\n",
      "    \"distribution_instance_groups\": [],\n",
      "    \"framework_module\": \"sagemaker_pytorch_container.training:main\",\n",
      "    \"hosts\": [\n",
      "        \"algo-1\"\n",
      "    ],\n",
      "    \"hyperparameters\": {\n",
      "        \"base_model_group_name\": \"Mikael110-llama-2-7b-guanaco-fp16-2023-10-20-20-36-23-385\",\n",
      "        \"dataset_path\": \"/opt/ml/input/data/training\",\n",
      "        \"epochs\": 1,\n",
      "        \"lr\": 0.0001,\n",
      "        \"merge_weights\": true,\n",
      "        \"model_id\": \"Mikael110/llama-2-7b-guanaco-fp16\",\n",
      "        \"per_device_train_batch_size\": 2,\n",
      "        \"region\": \"us-west-2\"\n",
      "    },\n",
      "    \"input_config_dir\": \"/opt/ml/input/config\",\n",
      "    \"input_data_config\": {\n",
      "        \"training\": {\n",
      "            \"TrainingInputMode\": \"File\",\n",
      "            \"S3DistributionType\": \"FullyReplicated\",\n",
      "            \"RecordWrapperType\": \"None\"\n",
      "        },\n",
      "        \"validation\": {\n",
      "            \"TrainingInputMode\": \"File\",\n",
      "            \"S3DistributionType\": \"FullyReplicated\",\n",
      "            \"RecordWrapperType\": \"None\"\n",
      "        }\n",
      "    },\n",
      "    \"input_dir\": \"/opt/ml/input\",\n",
      "    \"instance_groups\": [\n",
      "        \"homogeneousCluster\"\n",
      "    ],\n",
      "    \"instance_groups_dict\": {\n",
      "        \"homogeneousCluster\": {\n",
      "            \"instance_group_name\": \"homogeneousCluster\",\n",
      "            \"instance_type\": \"ml.g5.2xlarge\",\n",
      "            \"hosts\": [\n",
      "                \"algo-1\"\n",
      "            ]\n",
      "        }\n",
      "    },\n",
      "    \"is_hetero\": false,\n",
      "    \"is_master\": true,\n",
      "    \"is_modelparallel_enabled\": null,\n",
      "    \"is_smddpmprun_installed\": true,\n",
      "    \"job_name\": \"huggingface-qlora-2310202059-2023-10-20-20-59-29-824\",\n",
      "    \"log_level\": 20,\n",
      "    \"master_hostname\": \"algo-1\",\n",
      "    \"model_dir\": \"/opt/ml/model\",\n",
      "    \"module_dir\": \"s3://sagemaker-us-west-2-376678947624/huggingface-qlora-2310202059-2023-10-20-20-59-29-824/source/sourcedir.tar.gz\",\n",
      "    \"module_name\": \"finetune_llm\",\n",
      "    \"network_interface_name\": \"eth0\",\n",
      "    \"num_cpus\": 8,\n",
      "    \"num_gpus\": 1,\n",
      "    \"num_neurons\": 0,\n",
      "    \"output_data_dir\": \"/opt/ml/output/data\",\n",
      "    \"output_dir\": \"/opt/ml/output\",\n",
      "    \"output_intermediate_dir\": \"/opt/ml/output/intermediate\",\n",
      "    \"resource_config\": {\n",
      "        \"current_host\": \"algo-1\",\n",
      "        \"current_instance_type\": \"ml.g5.2xlarge\",\n",
      "        \"current_group_name\": \"homogeneousCluster\",\n",
      "        \"hosts\": [\n",
      "            \"algo-1\"\n",
      "        ],\n",
      "        \"instance_groups\": [\n",
      "            {\n",
      "                \"instance_group_name\": \"homogeneousCluster\",\n",
      "                \"instance_type\": \"ml.g5.2xlarge\",\n",
      "                \"hosts\": [\n",
      "                    \"algo-1\"\n",
      "                ]\n",
      "            }\n",
      "        ],\n",
      "        \"network_interface_name\": \"eth0\"\n",
      "    },\n",
      "    \"user_entry_point\": \"finetune_llm.py\"\u001b[0m\n",
      "\u001b[34m}\u001b[0m\n",
      "\u001b[34mEnvironment variables:\u001b[0m\n",
      "\u001b[34mSM_HOSTS=[\"algo-1\"]\u001b[0m\n",
      "\u001b[34mSM_NETWORK_INTERFACE_NAME=eth0\u001b[0m\n",
      "\u001b[34mSM_HPS={\"base_model_group_name\":\"Mikael110-llama-2-7b-guanaco-fp16-2023-10-20-20-36-23-385\",\"dataset_path\":\"/opt/ml/input/data/training\",\"epochs\":1,\"lr\":0.0001,\"merge_weights\":true,\"model_id\":\"Mikael110/llama-2-7b-guanaco-fp16\",\"per_device_train_batch_size\":2,\"region\":\"us-west-2\"}\u001b[0m\n",
      "\u001b[34mSM_USER_ENTRY_POINT=finetune_llm.py\u001b[0m\n",
      "\u001b[34mSM_FRAMEWORK_PARAMS={}\u001b[0m\n",
      "\u001b[34mSM_RESOURCE_CONFIG={\"current_group_name\":\"homogeneousCluster\",\"current_host\":\"algo-1\",\"current_instance_type\":\"ml.g5.2xlarge\",\"hosts\":[\"algo-1\"],\"instance_groups\":[{\"hosts\":[\"algo-1\"],\"instance_group_name\":\"homogeneousCluster\",\"instance_type\":\"ml.g5.2xlarge\"}],\"network_interface_name\":\"eth0\"}\u001b[0m\n",
      "\u001b[34mSM_INPUT_DATA_CONFIG={\"training\":{\"RecordWrapperType\":\"None\",\"S3DistributionType\":\"FullyReplicated\",\"TrainingInputMode\":\"File\"},\"validation\":{\"RecordWrapperType\":\"None\",\"S3DistributionType\":\"FullyReplicated\",\"TrainingInputMode\":\"File\"}}\u001b[0m\n",
      "\u001b[34mSM_OUTPUT_DATA_DIR=/opt/ml/output/data\u001b[0m\n",
      "\u001b[34mSM_CHANNELS=[\"training\",\"validation\"]\u001b[0m\n",
      "\u001b[34mSM_CURRENT_HOST=algo-1\u001b[0m\n",
      "\u001b[34mSM_CURRENT_INSTANCE_TYPE=ml.g5.2xlarge\u001b[0m\n",
      "\u001b[34mSM_CURRENT_INSTANCE_GROUP=homogeneousCluster\u001b[0m\n",
      "\u001b[34mSM_CURRENT_INSTANCE_GROUP_HOSTS=[\"algo-1\"]\u001b[0m\n",
      "\u001b[34mSM_INSTANCE_GROUPS=[\"homogeneousCluster\"]\u001b[0m\n",
      "\u001b[34mSM_INSTANCE_GROUPS_DICT={\"homogeneousCluster\":{\"hosts\":[\"algo-1\"],\"instance_group_name\":\"homogeneousCluster\",\"instance_type\":\"ml.g5.2xlarge\"}}\u001b[0m\n",
      "\u001b[34mSM_DISTRIBUTION_INSTANCE_GROUPS=[]\u001b[0m\n",
      "\u001b[34mSM_IS_HETERO=false\u001b[0m\n",
      "\u001b[34mSM_MODULE_NAME=finetune_llm\u001b[0m\n",
      "\u001b[34mSM_LOG_LEVEL=20\u001b[0m\n",
      "\u001b[34mSM_FRAMEWORK_MODULE=sagemaker_pytorch_container.training:main\u001b[0m\n",
      "\u001b[34mSM_INPUT_DIR=/opt/ml/input\u001b[0m\n",
      "\u001b[34mSM_INPUT_CONFIG_DIR=/opt/ml/input/config\u001b[0m\n",
      "\u001b[34mSM_OUTPUT_DIR=/opt/ml/output\u001b[0m\n",
      "\u001b[34mSM_NUM_CPUS=8\u001b[0m\n",
      "\u001b[34mSM_NUM_GPUS=1\u001b[0m\n",
      "\u001b[34mSM_NUM_NEURONS=0\u001b[0m\n",
      "\u001b[34mSM_MODEL_DIR=/opt/ml/model\u001b[0m\n",
      "\u001b[34mSM_MODULE_DIR=s3://sagemaker-us-west-2-376678947624/huggingface-qlora-2310202059-2023-10-20-20-59-29-824/source/sourcedir.tar.gz\u001b[0m\n",
      "\u001b[34mSM_TRAINING_ENV={\"additional_framework_parameters\":{},\"channel_input_dirs\":{\"training\":\"/opt/ml/input/data/training\",\"validation\":\"/opt/ml/input/data/validation\"},\"current_host\":\"algo-1\",\"current_instance_group\":\"homogeneousCluster\",\"current_instance_group_hosts\":[\"algo-1\"],\"current_instance_type\":\"ml.g5.2xlarge\",\"distribution_hosts\":[],\"distribution_instance_groups\":[],\"framework_module\":\"sagemaker_pytorch_container.training:main\",\"hosts\":[\"algo-1\"],\"hyperparameters\":{\"base_model_group_name\":\"Mikael110-llama-2-7b-guanaco-fp16-2023-10-20-20-36-23-385\",\"dataset_path\":\"/opt/ml/input/data/training\",\"epochs\":1,\"lr\":0.0001,\"merge_weights\":true,\"model_id\":\"Mikael110/llama-2-7b-guanaco-fp16\",\"per_device_train_batch_size\":2,\"region\":\"us-west-2\"},\"input_config_dir\":\"/opt/ml/input/config\",\"input_data_config\":{\"training\":{\"RecordWrapperType\":\"None\",\"S3DistributionType\":\"FullyReplicated\",\"TrainingInputMode\":\"File\"},\"validation\":{\"RecordWrapperType\":\"None\",\"S3DistributionType\":\"FullyReplicated\",\"TrainingInputMode\":\"File\"}},\"input_dir\":\"/opt/ml/input\",\"instance_groups\":[\"homogeneousCluster\"],\"instance_groups_dict\":{\"homogeneousCluster\":{\"hosts\":[\"algo-1\"],\"instance_group_name\":\"homogeneousCluster\",\"instance_type\":\"ml.g5.2xlarge\"}},\"is_hetero\":false,\"is_master\":true,\"is_modelparallel_enabled\":null,\"is_smddpmprun_installed\":true,\"job_name\":\"huggingface-qlora-2310202059-2023-10-20-20-59-29-824\",\"log_level\":20,\"master_hostname\":\"algo-1\",\"model_dir\":\"/opt/ml/model\",\"module_dir\":\"s3://sagemaker-us-west-2-376678947624/huggingface-qlora-2310202059-2023-10-20-20-59-29-824/source/sourcedir.tar.gz\",\"module_name\":\"finetune_llm\",\"network_interface_name\":\"eth0\",\"num_cpus\":8,\"num_gpus\":1,\"num_neurons\":0,\"output_data_dir\":\"/opt/ml/output/data\",\"output_dir\":\"/opt/ml/output\",\"output_intermediate_dir\":\"/opt/ml/output/intermediate\",\"resource_config\":{\"current_group_name\":\"homogeneousCluster\",\"current_host\":\"algo-1\",\"current_instance_type\":\"ml.g5.2xlarge\",\"hosts\":[\"algo-1\"],\"instance_groups\":[{\"hosts\":[\"algo-1\"],\"instance_group_name\":\"homogeneousCluster\",\"instance_type\":\"ml.g5.2xlarge\"}],\"network_interface_name\":\"eth0\"},\"user_entry_point\":\"finetune_llm.py\"}\u001b[0m\n",
      "\u001b[34mSM_USER_ARGS=[\"--base_model_group_name\",\"Mikael110-llama-2-7b-guanaco-fp16-2023-10-20-20-36-23-385\",\"--dataset_path\",\"/opt/ml/input/data/training\",\"--epochs\",\"1\",\"--lr\",\"0.0001\",\"--merge_weights\",\"True\",\"--model_id\",\"Mikael110/llama-2-7b-guanaco-fp16\",\"--per_device_train_batch_size\",\"2\",\"--region\",\"us-west-2\"]\u001b[0m\n",
      "\u001b[34mSM_OUTPUT_INTERMEDIATE_DIR=/opt/ml/output/intermediate\u001b[0m\n",
      "\u001b[34mSM_CHANNEL_TRAINING=/opt/ml/input/data/training\u001b[0m\n",
      "\u001b[34mSM_CHANNEL_VALIDATION=/opt/ml/input/data/validation\u001b[0m\n",
      "\u001b[34mSM_HP_BASE_MODEL_GROUP_NAME=Mikael110-llama-2-7b-guanaco-fp16-2023-10-20-20-36-23-385\u001b[0m\n",
      "\u001b[34mSM_HP_DATASET_PATH=/opt/ml/input/data/training\u001b[0m\n",
      "\u001b[34mSM_HP_EPOCHS=1\u001b[0m\n",
      "\u001b[34mSM_HP_LR=0.0001\u001b[0m\n",
      "\u001b[34mSM_HP_MERGE_WEIGHTS=true\u001b[0m\n",
      "\u001b[34mSM_HP_MODEL_ID=Mikael110/llama-2-7b-guanaco-fp16\u001b[0m\n",
      "\u001b[34mSM_HP_PER_DEVICE_TRAIN_BATCH_SIZE=2\u001b[0m\n",
      "\u001b[34mSM_HP_REGION=us-west-2\u001b[0m\n",
      "\u001b[34mPYTHONPATH=/opt/ml/code:/opt/conda/bin:/opt/conda/lib/python310.zip:/opt/conda/lib/python3.10:/opt/conda/lib/python3.10/lib-dynload:/opt/conda/lib/python3.10/site-packages\u001b[0m\n",
      "\u001b[34mInvoking script with the following command:\u001b[0m\n",
      "\u001b[34m/opt/conda/bin/python3.10 finetune_llm.py --base_model_group_name Mikael110-llama-2-7b-guanaco-fp16-2023-10-20-20-36-23-385 --dataset_path /opt/ml/input/data/training --epochs 1 --lr 0.0001 --merge_weights True --model_id Mikael110/llama-2-7b-guanaco-fp16 --per_device_train_batch_size 2 --region us-west-2\u001b[0m\n",
      "\u001b[34m2023-10-20 21:09:04,444 sagemaker-training-toolkit INFO     Exceptions not imported for SageMaker TF as Tensorflow is not installed.\u001b[0m\n",
      "\u001b[34mNamespace(model_id='Mikael110/llama-2-7b-guanaco-fp16', base_model_group_name='Mikael110-llama-2-7b-guanaco-fp16-2023-10-20-20-36-23-385', epochs=1, per_device_train_batch_size=2, learning_rate=1e-05, seed=8, gradient_checkpointing=True, bf16=False, lora_r=64, lora_alpha=16, lora_dropout=0.1, task_type='CAUSAL_LM', merge_weights=True, sm_exp_logging_steps=2, region='us-west-2', sm_model_dir='/opt/ml/model', sm_train_dir='/opt/ml/input/data/training', sm_validation_dir='/opt/ml/input/data/validation', sm_current_host='algo-1', sm_hosts=['[', '\"', 'a', 'l', 'g', 'o', '-', '1', '\"', ']'], sm_output_dir=['/', 'o', 'p', 't', '/', 'm', 'l', '/', 'o', 'u', 't', 'p', 'u', 't'], n_gpus=['1'])\u001b[0m\n",
      "\u001b[34mloading dataset from /opt/ml/input/data/training and /opt/ml/input/data/validation\u001b[0m\n",
      "\u001b[34mregion: us-west-2\u001b[0m\n",
      "\u001b[34mfound model package: arn:aws:sagemaker:us-west-2:376678947624:model-package/Mikael110-llama-2-7b-guanaco-fp16-2023-10-20-20-36-23-385/1\u001b[0m\n",
      "\u001b[34mbase model s3 uri: s3://sagemaker-us-west-2-376678947624/Mikael110-llama-2-7b-guanaco-fp16/models/base/Mikael110-llama-2-7b-guanaco-fp16.tar.gz from: Mikael110-llama-2-7b-guanaco-fp16-2023-10-20-20-36-23-385 \u001b[0m\n",
      "\u001b[34mDownloading file from sagemaker-us-west-2-376678947624/Mikael110-llama-2-7b-guanaco-fp16/models/base/Mikael110-llama-2-7b-guanaco-fp16.tar.gz to /tmp/Mikael110-llama-2-7b-guanaco-fp16.tar.gz\u001b[0m\n",
      "\u001b[34m0.0%|                          | ?B/s | source: s3://sagemaker-us-west-2-376678947624/Mikael110-llama-2-7b-guanaco-fp16/models/base/Mikael110-llama-2-7b-guanaco-fp16.tar.gz\u001b[0m\n",
      "\u001b[34m0.0%|                          | 1.16MB/s | source: s3://sagemaker-us-west-2-376678947624/Mikael110-llama-2-7b-guanaco-fp16/models/base/Mikael110-llama-2-7b-guanaco-fp16.tar.gz\u001b[0m\n",
      "\u001b[34m0.2%|                          | 125MB/s | source: s3://sagemaker-us-west-2-376678947624/Mikael110-llama-2-7b-guanaco-fp16/models/base/Mikael110-llama-2-7b-guanaco-fp16.tar.gz\u001b[0m\n",
      "\u001b[34m0.5%|▏                         | 207MB/s | source: s3://sagemaker-us-west-2-376678947624/Mikael110-llama-2-7b-guanaco-fp16/models/base/Mikael110-llama-2-7b-guanaco-fp16.tar.gz\u001b[0m\n",
      "\u001b[34m0.7%|▏                         | 130MB/s | source: s3://sagemaker-us-west-2-376678947624/Mikael110-llama-2-7b-guanaco-fp16/models/base/Mikael110-llama-2-7b-guanaco-fp16.tar.gz\u001b[0m\n",
      "\u001b[34m0.9%|▏                         | 158MB/s | source: s3://sagemaker-us-west-2-376678947624/Mikael110-llama-2-7b-guanaco-fp16/models/base/Mikael110-llama-2-7b-guanaco-fp16.tar.gz\u001b[0m\n",
      "\u001b[34m1.1%|▎                         | 158MB/s | source: s3://sagemaker-us-west-2-376678947624/Mikael110-llama-2-7b-guanaco-fp16/models/base/Mikael110-llama-2-7b-guanaco-fp16.tar.gz\u001b[0m\n",
      "\u001b[34m1.3%|▎                         | 182MB/s | source: s3://sagemaker-us-west-2-376678947624/Mikael110-llama-2-7b-guanaco-fp16/models/base/Mikael110-llama-2-7b-guanaco-fp16.tar.gz\u001b[0m\n",
      "\u001b[34m1.4%|▎                         | 168MB/s | source: s3://sagemaker-us-west-2-376678947624/Mikael110-llama-2-7b-guanaco-fp16/models/base/Mikael110-llama-2-7b-guanaco-fp16.tar.gz\u001b[0m\n",
      "\u001b[34m1.7%|▍                         | 215MB/s | source: s3://sagemaker-us-west-2-376678947624/Mikael110-llama-2-7b-guanaco-fp16/models/base/Mikael110-llama-2-7b-guanaco-fp16.tar.gz\u001b[0m\n",
      "\u001b[34m1.9%|▍                         | 169MB/s | source: s3://sagemaker-us-west-2-376678947624/Mikael110-llama-2-7b-guanaco-fp16/models/base/Mikael110-llama-2-7b-guanaco-fp16.tar.gz\u001b[0m\n",
      "\u001b[34m2.0%|▌                         | 148MB/s | source: s3://sagemaker-us-west-2-376678947624/Mikael110-llama-2-7b-guanaco-fp16/models/base/Mikael110-llama-2-7b-guanaco-fp16.tar.gz\u001b[0m\n",
      "\u001b[34m2.2%|▌                         | 152MB/s | source: s3://sagemaker-us-west-2-376678947624/Mikael110-llama-2-7b-guanaco-fp16/models/base/Mikael110-llama-2-7b-guanaco-fp16.tar.gz\u001b[0m\n",
      "\u001b[34m2.5%|▌                         | 191MB/s | source: s3://sagemaker-us-west-2-376678947624/Mikael110-llama-2-7b-guanaco-fp16/models/base/Mikael110-llama-2-7b-guanaco-fp16.tar.gz\u001b[0m\n",
      "\u001b[34m2.6%|▋                         | 182MB/s | source: s3://sagemaker-us-west-2-376678947624/Mikael110-llama-2-7b-guanaco-fp16/models/base/Mikael110-llama-2-7b-guanaco-fp16.tar.gz\u001b[0m\n",
      "\u001b[34m2.8%|▋                         | 186MB/s | source: s3://sagemaker-us-west-2-376678947624/Mikael110-llama-2-7b-guanaco-fp16/models/base/Mikael110-llama-2-7b-guanaco-fp16.tar.gz\u001b[0m\n",
      "\u001b[34m2.9%|▋                         | 172MB/s | source: s3://sagemaker-us-west-2-376678947624/Mikael110-llama-2-7b-guanaco-fp16/models/base/Mikael110-llama-2-7b-guanaco-fp16.tar.gz\u001b[0m\n",
      "\u001b[34m2.9%|▋                         | 163MB/s | source: s3://sagemaker-us-west-2-376678947624/Mikael110-llama-2-7b-guanaco-fp16/models/base/Mikael110-llama-2-7b-guanaco-fp16.tar.gz\u001b[0m\n",
      "\u001b[34m3.1%|▊                         | 189MB/s | source: s3://sagemaker-us-west-2-376678947624/Mikael110-llama-2-7b-guanaco-fp16/models/base/Mikael110-llama-2-7b-guanaco-fp16.tar.gz\u001b[0m\n",
      "\u001b[34m3.3%|▊                         | 193MB/s | source: s3://sagemaker-us-west-2-376678947624/Mikael110-llama-2-7b-guanaco-fp16/models/base/Mikael110-llama-2-7b-guanaco-fp16.tar.gz\u001b[0m\n",
      "\u001b[34m3.4%|▊                         | 195MB/s | source: s3://sagemaker-us-west-2-376678947624/Mikael110-llama-2-7b-guanaco-fp16/models/base/Mikael110-llama-2-7b-guanaco-fp16.tar.gz\u001b[0m\n",
      "\u001b[34m3.6%|▉                         | 166MB/s | source: s3://sagemaker-us-west-2-376678947624/Mikael110-llama-2-7b-guanaco-fp16/models/base/Mikael110-llama-2-7b-guanaco-fp16.tar.gz\u001b[0m\n",
      "\u001b[34m3.8%|▉                         | 193MB/s | source: s3://sagemaker-us-west-2-376678947624/Mikael110-llama-2-7b-guanaco-fp16/models/base/Mikael110-llama-2-7b-guanaco-fp16.tar.gz\u001b[0m\n",
      "\u001b[34m3.9%|▉                         | 198MB/s | source: s3://sagemaker-us-west-2-376678947624/Mikael110-llama-2-7b-guanaco-fp16/models/base/Mikael110-llama-2-7b-guanaco-fp16.tar.gz\u001b[0m\n",
      "\u001b[34m4.1%|█                         | 192MB/s | source: s3://sagemaker-us-west-2-376678947624/Mikael110-llama-2-7b-guanaco-fp16/models/base/Mikael110-llama-2-7b-guanaco-fp16.tar.gz\u001b[0m\n",
      "\u001b[34m4.3%|█                         | 190MB/s | source: s3://sagemaker-us-west-2-376678947624/Mikael110-llama-2-7b-guanaco-fp16/models/base/Mikael110-llama-2-7b-guanaco-fp16.tar.gz\u001b[0m\n",
      "\u001b[34m4.4%|█                         | 189MB/s | source: s3://sagemaker-us-west-2-376678947624/Mikael110-llama-2-7b-guanaco-fp16/models/base/Mikael110-llama-2-7b-guanaco-fp16.tar.gz\u001b[0m\n",
      "\u001b[34m4.5%|█▏                        | 175MB/s | source: s3://sagemaker-us-west-2-376678947624/Mikael110-llama-2-7b-guanaco-fp16/models/base/Mikael110-llama-2-7b-guanaco-fp16.tar.gz\u001b[0m\n",
      "\u001b[34m4.7%|█▏                        | 172MB/s | source: s3://sagemaker-us-west-2-376678947624/Mikael110-llama-2-7b-guanaco-fp16/models/base/Mikael110-llama-2-7b-guanaco-fp16.tar.gz\u001b[0m\n",
      "\u001b[34m4.8%|█▏                        | 172MB/s | source: s3://sagemaker-us-west-2-376678947624/Mikael110-llama-2-7b-guanaco-fp16/models/base/Mikael110-llama-2-7b-guanaco-fp16.tar.gz\u001b[0m\n",
      "\u001b[34m5.0%|█▏                        | 164MB/s | source: s3://sagemaker-us-west-2-376678947624/Mikael110-llama-2-7b-guanaco-fp16/models/base/Mikael110-llama-2-7b-guanaco-fp16.tar.gz\u001b[0m\n",
      "\u001b[34m5.1%|█▎                        | 164MB/s | source: s3://sagemaker-us-west-2-376678947624/Mikael110-llama-2-7b-guanaco-fp16/models/base/Mikael110-llama-2-7b-guanaco-fp16.tar.gz\u001b[0m\n",
      "\u001b[34m5.2%|█▎                        | 169MB/s | source: s3://sagemaker-us-west-2-376678947624/Mikael110-llama-2-7b-guanaco-fp16/models/base/Mikael110-llama-2-7b-guanaco-fp16.tar.gz\u001b[0m\n",
      "\u001b[34m5.5%|█▎                        | 206MB/s | source: s3://sagemaker-us-west-2-376678947624/Mikael110-llama-2-7b-guanaco-fp16/models/base/Mikael110-llama-2-7b-guanaco-fp16.tar.gz\u001b[0m\n",
      "\u001b[34m5.6%|█▍                        | 189MB/s | source: s3://sagemaker-us-west-2-376678947624/Mikael110-llama-2-7b-guanaco-fp16/models/base/Mikael110-llama-2-7b-guanaco-fp16.tar.gz\u001b[0m\n",
      "\u001b[34m5.8%|█▍                        | 168MB/s | source: s3://sagemaker-us-west-2-376678947624/Mikael110-llama-2-7b-guanaco-fp16/models/base/Mikael110-llama-2-7b-guanaco-fp16.tar.gz\u001b[0m\n",
      "\u001b[34m5.9%|█▍                        | 175MB/s | source: s3://sagemaker-us-west-2-376678947624/Mikael110-llama-2-7b-guanaco-fp16/models/base/Mikael110-llama-2-7b-guanaco-fp16.tar.gz\u001b[0m\n",
      "\u001b[34m6.1%|█▌                        | 172MB/s | source: s3://sagemaker-us-west-2-376678947624/Mikael110-llama-2-7b-guanaco-fp16/models/base/Mikael110-llama-2-7b-guanaco-fp16.tar.gz\u001b[0m\n",
      "\u001b[34m6.3%|█▌                        | 195MB/s | source: s3://sagemaker-us-west-2-376678947624/Mikael110-llama-2-7b-guanaco-fp16/models/base/Mikael110-llama-2-7b-guanaco-fp16.tar.gz\u001b[0m\n",
      "\u001b[34m6.4%|█▌                        | 165MB/s | source: s3://sagemaker-us-west-2-376678947624/Mikael110-llama-2-7b-guanaco-fp16/models/base/Mikael110-llama-2-7b-guanaco-fp16.tar.gz\u001b[0m\n",
      "\u001b[34m6.5%|█▋                        | 140MB/s | source: s3://sagemaker-us-west-2-376678947624/Mikael110-llama-2-7b-guanaco-fp16/models/base/Mikael110-llama-2-7b-guanaco-fp16.tar.gz\u001b[0m\n",
      "\u001b[34m6.7%|█▋                        | 127MB/s | source: s3://sagemaker-us-west-2-376678947624/Mikael110-llama-2-7b-guanaco-fp16/models/base/Mikael110-llama-2-7b-guanaco-fp16.tar.gz\u001b[0m\n",
      "\u001b[34m6.9%|█▋                        | 169MB/s | source: s3://sagemaker-us-west-2-376678947624/Mikael110-llama-2-7b-guanaco-fp16/models/base/Mikael110-llama-2-7b-guanaco-fp16.tar.gz\u001b[0m\n",
      "\u001b[34m7.1%|█▊                        | 171MB/s | source: s3://sagemaker-us-west-2-376678947624/Mikael110-llama-2-7b-guanaco-fp16/models/base/Mikael110-llama-2-7b-guanaco-fp16.tar.gz\u001b[0m\n",
      "\u001b[34m7.2%|█▊                        | 160MB/s | source: s3://sagemaker-us-west-2-376678947624/Mikael110-llama-2-7b-guanaco-fp16/models/base/Mikael110-llama-2-7b-guanaco-fp16.tar.gz\u001b[0m\n"
     ]
    },
    {
     "name": "stdout",
     "output_type": "stream",
     "text": [
      "\u001b[34m7.4%|█▊                        | 168MB/s | source: s3://sagemaker-us-west-2-376678947624/Mikael110-llama-2-7b-guanaco-fp16/models/base/Mikael110-llama-2-7b-guanaco-fp16.tar.gz\u001b[0m\n",
      "\u001b[34m7.5%|█▊                        | 163MB/s | source: s3://sagemaker-us-west-2-376678947624/Mikael110-llama-2-7b-guanaco-fp16/models/base/Mikael110-llama-2-7b-guanaco-fp16.tar.gz\u001b[0m\n",
      "\u001b[34m7.6%|█▉                        | 147MB/s | source: s3://sagemaker-us-west-2-376678947624/Mikael110-llama-2-7b-guanaco-fp16/models/base/Mikael110-llama-2-7b-guanaco-fp16.tar.gz\u001b[0m\n",
      "\u001b[34m7.6%|█▉                        | 137MB/s | source: s3://sagemaker-us-west-2-376678947624/Mikael110-llama-2-7b-guanaco-fp16/models/base/Mikael110-llama-2-7b-guanaco-fp16.tar.gz\u001b[0m\n",
      "\u001b[34m7.8%|█▉                        | 157MB/s | source: s3://sagemaker-us-west-2-376678947624/Mikael110-llama-2-7b-guanaco-fp16/models/base/Mikael110-llama-2-7b-guanaco-fp16.tar.gz\u001b[0m\n",
      "\u001b[34m7.9%|█▉                        | 156MB/s | source: s3://sagemaker-us-west-2-376678947624/Mikael110-llama-2-7b-guanaco-fp16/models/base/Mikael110-llama-2-7b-guanaco-fp16.tar.gz\u001b[0m\n",
      "\u001b[34m8.0%|██                        | 154MB/s | source: s3://sagemaker-us-west-2-376678947624/Mikael110-llama-2-7b-guanaco-fp16/models/base/Mikael110-llama-2-7b-guanaco-fp16.tar.gz\u001b[0m\n",
      "\u001b[34m8.1%|██                        | 145MB/s | source: s3://sagemaker-us-west-2-376678947624/Mikael110-llama-2-7b-guanaco-fp16/models/base/Mikael110-llama-2-7b-guanaco-fp16.tar.gz\u001b[0m\n",
      "\u001b[34m8.4%|██                        | 177MB/s | source: s3://sagemaker-us-west-2-376678947624/Mikael110-llama-2-7b-guanaco-fp16/models/base/Mikael110-llama-2-7b-guanaco-fp16.tar.gz\u001b[0m\n",
      "\u001b[34m8.5%|██▏                       | 179MB/s | source: s3://sagemaker-us-west-2-376678947624/Mikael110-llama-2-7b-guanaco-fp16/models/base/Mikael110-llama-2-7b-guanaco-fp16.tar.gz\u001b[0m\n",
      "\u001b[34m8.7%|██▏                       | 168MB/s | source: s3://sagemaker-us-west-2-376678947624/Mikael110-llama-2-7b-guanaco-fp16/models/base/Mikael110-llama-2-7b-guanaco-fp16.tar.gz\u001b[0m\n",
      "\u001b[34m8.8%|██▏                       | 172MB/s | source: s3://sagemaker-us-west-2-376678947624/Mikael110-llama-2-7b-guanaco-fp16/models/base/Mikael110-llama-2-7b-guanaco-fp16.tar.gz\u001b[0m\n",
      "\u001b[34m8.9%|██▏                       | 182MB/s | source: s3://sagemaker-us-west-2-376678947624/Mikael110-llama-2-7b-guanaco-fp16/models/base/Mikael110-llama-2-7b-guanaco-fp16.tar.gz\u001b[0m\n",
      "\u001b[34m9.1%|██▎                       | 159MB/s | source: s3://sagemaker-us-west-2-376678947624/Mikael110-llama-2-7b-guanaco-fp16/models/base/Mikael110-llama-2-7b-guanaco-fp16.tar.gz\u001b[0m\n",
      "\u001b[34m9.3%|██▎                       | 172MB/s | source: s3://sagemaker-us-west-2-376678947624/Mikael110-llama-2-7b-guanaco-fp16/models/base/Mikael110-llama-2-7b-guanaco-fp16.tar.gz\u001b[0m\n",
      "\u001b[34m9.5%|██▎                       | 185MB/s | source: s3://sagemaker-us-west-2-376678947624/Mikael110-llama-2-7b-guanaco-fp16/models/base/Mikael110-llama-2-7b-guanaco-fp16.tar.gz\u001b[0m\n",
      "\u001b[34m9.6%|██▍                       | 182MB/s | source: s3://sagemaker-us-west-2-376678947624/Mikael110-llama-2-7b-guanaco-fp16/models/base/Mikael110-llama-2-7b-guanaco-fp16.tar.gz\u001b[0m\n",
      "\u001b[34m9.8%|██▍                       | 182MB/s | source: s3://sagemaker-us-west-2-376678947624/Mikael110-llama-2-7b-guanaco-fp16/models/base/Mikael110-llama-2-7b-guanaco-fp16.tar.gz\u001b[0m\n",
      "\u001b[34m9.9%|██▍                       | 166MB/s | source: s3://sagemaker-us-west-2-376678947624/Mikael110-llama-2-7b-guanaco-fp16/models/base/Mikael110-llama-2-7b-guanaco-fp16.tar.gz\u001b[0m\n",
      "\u001b[34m10.1%|██▌                       | 187MB/s | source: s3://sagemaker-us-west-2-376678947624/Mikael110-llama-2-7b-guanaco-fp16/models/base/Mikael110-llama-2-7b-guanaco-fp16.tar.gz\u001b[0m\n",
      "\u001b[34m10.2%|██▌                       | 149MB/s | source: s3://sagemaker-us-west-2-376678947624/Mikael110-llama-2-7b-guanaco-fp16/models/base/Mikael110-llama-2-7b-guanaco-fp16.tar.gz\u001b[0m\n",
      "\u001b[34m10.4%|██▌                       | 165MB/s | source: s3://sagemaker-us-west-2-376678947624/Mikael110-llama-2-7b-guanaco-fp16/models/base/Mikael110-llama-2-7b-guanaco-fp16.tar.gz\u001b[0m\n",
      "\u001b[34m10.6%|██▋                       | 188MB/s | source: s3://sagemaker-us-west-2-376678947624/Mikael110-llama-2-7b-guanaco-fp16/models/base/Mikael110-llama-2-7b-guanaco-fp16.tar.gz\u001b[0m\n",
      "\u001b[34m10.7%|██▋                       | 170MB/s | source: s3://sagemaker-us-west-2-376678947624/Mikael110-llama-2-7b-guanaco-fp16/models/base/Mikael110-llama-2-7b-guanaco-fp16.tar.gz\u001b[0m\n",
      "\u001b[34m10.9%|██▋                       | 168MB/s | source: s3://sagemaker-us-west-2-376678947624/Mikael110-llama-2-7b-guanaco-fp16/models/base/Mikael110-llama-2-7b-guanaco-fp16.tar.gz\u001b[0m\n",
      "\u001b[34m11.1%|██▊                       | 193MB/s | source: s3://sagemaker-us-west-2-376678947624/Mikael110-llama-2-7b-guanaco-fp16/models/base/Mikael110-llama-2-7b-guanaco-fp16.tar.gz\u001b[0m\n",
      "\u001b[34m11.2%|██▊                       | 199MB/s | source: s3://sagemaker-us-west-2-376678947624/Mikael110-llama-2-7b-guanaco-fp16/models/base/Mikael110-llama-2-7b-guanaco-fp16.tar.gz\u001b[0m\n",
      "\u001b[34m11.4%|██▊                       | 184MB/s | source: s3://sagemaker-us-west-2-376678947624/Mikael110-llama-2-7b-guanaco-fp16/models/base/Mikael110-llama-2-7b-guanaco-fp16.tar.gz\u001b[0m\n",
      "\u001b[34m11.5%|██▉                       | 184MB/s | source: s3://sagemaker-us-west-2-376678947624/Mikael110-llama-2-7b-guanaco-fp16/models/base/Mikael110-llama-2-7b-guanaco-fp16.tar.gz\u001b[0m\n",
      "\u001b[34m11.7%|██▉                       | 173MB/s | source: s3://sagemaker-us-west-2-376678947624/Mikael110-llama-2-7b-guanaco-fp16/models/base/Mikael110-llama-2-7b-guanaco-fp16.tar.gz\u001b[0m\n",
      "\u001b[34m11.8%|██▉                       | 174MB/s | source: s3://sagemaker-us-west-2-376678947624/Mikael110-llama-2-7b-guanaco-fp16/models/base/Mikael110-llama-2-7b-guanaco-fp16.tar.gz\u001b[0m\n",
      "\u001b[34m12.0%|███                       | 200MB/s | source: s3://sagemaker-us-west-2-376678947624/Mikael110-llama-2-7b-guanaco-fp16/models/base/Mikael110-llama-2-7b-guanaco-fp16.tar.gz\u001b[0m\n",
      "\u001b[34m12.2%|███                       | 172MB/s | source: s3://sagemaker-us-west-2-376678947624/Mikael110-llama-2-7b-guanaco-fp16/models/base/Mikael110-llama-2-7b-guanaco-fp16.tar.gz\u001b[0m\n",
      "\u001b[34m12.3%|███                       | 177MB/s | source: s3://sagemaker-us-west-2-376678947624/Mikael110-llama-2-7b-guanaco-fp16/models/base/Mikael110-llama-2-7b-guanaco-fp16.tar.gz\u001b[0m\n",
      "\u001b[34m12.5%|███                       | 165MB/s | source: s3://sagemaker-us-west-2-376678947624/Mikael110-llama-2-7b-guanaco-fp16/models/base/Mikael110-llama-2-7b-guanaco-fp16.tar.gz\u001b[0m\n",
      "\u001b[34m12.7%|███▏                      | 192MB/s | source: s3://sagemaker-us-west-2-376678947624/Mikael110-llama-2-7b-guanaco-fp16/models/base/Mikael110-llama-2-7b-guanaco-fp16.tar.gz\u001b[0m\n",
      "\u001b[34m12.8%|███▏                      | 166MB/s | source: s3://sagemaker-us-west-2-376678947624/Mikael110-llama-2-7b-guanaco-fp16/models/base/Mikael110-llama-2-7b-guanaco-fp16.tar.gz\u001b[0m\n",
      "\u001b[34m13.0%|███▏                      | 177MB/s | source: s3://sagemaker-us-west-2-376678947624/Mikael110-llama-2-7b-guanaco-fp16/models/base/Mikael110-llama-2-7b-guanaco-fp16.tar.gz\u001b[0m\n",
      "\u001b[34m13.1%|███▎                      | 172MB/s | source: s3://sagemaker-us-west-2-376678947624/Mikael110-llama-2-7b-guanaco-fp16/models/base/Mikael110-llama-2-7b-guanaco-fp16.tar.gz\u001b[0m\n",
      "\u001b[34m13.3%|███▎                      | 187MB/s | source: s3://sagemaker-us-west-2-376678947624/Mikael110-llama-2-7b-guanaco-fp16/models/base/Mikael110-llama-2-7b-guanaco-fp16.tar.gz\u001b[0m\n",
      "\u001b[34m13.4%|███▎                      | 181MB/s | source: s3://sagemaker-us-west-2-376678947624/Mikael110-llama-2-7b-guanaco-fp16/models/base/Mikael110-llama-2-7b-guanaco-fp16.tar.gz\u001b[0m\n",
      "\u001b[34m13.6%|███▍                      | 203MB/s | source: s3://sagemaker-us-west-2-376678947624/Mikael110-llama-2-7b-guanaco-fp16/models/base/Mikael110-llama-2-7b-guanaco-fp16.tar.gz\u001b[0m\n",
      "\u001b[34m13.8%|███▍                      | 163MB/s | source: s3://sagemaker-us-west-2-376678947624/Mikael110-llama-2-7b-guanaco-fp16/models/base/Mikael110-llama-2-7b-guanaco-fp16.tar.gz\u001b[0m\n",
      "\u001b[34m13.9%|███▍                      | 167MB/s | source: s3://sagemaker-us-west-2-376678947624/Mikael110-llama-2-7b-guanaco-fp16/models/base/Mikael110-llama-2-7b-guanaco-fp16.tar.gz\u001b[0m\n",
      "\u001b[34m14.1%|███▌                      | 195MB/s | source: s3://sagemaker-us-west-2-376678947624/Mikael110-llama-2-7b-guanaco-fp16/models/base/Mikael110-llama-2-7b-guanaco-fp16.tar.gz\u001b[0m\n",
      "\u001b[34m14.3%|███▌                      | 193MB/s | source: s3://sagemaker-us-west-2-376678947624/Mikael110-llama-2-7b-guanaco-fp16/models/base/Mikael110-llama-2-7b-guanaco-fp16.tar.gz\u001b[0m\n",
      "\u001b[34m14.4%|███▌                      | 156MB/s | source: s3://sagemaker-us-west-2-376678947624/Mikael110-llama-2-7b-guanaco-fp16/models/base/Mikael110-llama-2-7b-guanaco-fp16.tar.gz\u001b[0m\n",
      "\u001b[34m14.7%|███▋                      | 176MB/s | source: s3://sagemaker-us-west-2-376678947624/Mikael110-llama-2-7b-guanaco-fp16/models/base/Mikael110-llama-2-7b-guanaco-fp16.tar.gz\u001b[0m\n",
      "\u001b[34m14.9%|███▋                      | 189MB/s | source: s3://sagemaker-us-west-2-376678947624/Mikael110-llama-2-7b-guanaco-fp16/models/base/Mikael110-llama-2-7b-guanaco-fp16.tar.gz\u001b[0m\n",
      "\u001b[34m15.0%|███▊                      | 186MB/s | source: s3://sagemaker-us-west-2-376678947624/Mikael110-llama-2-7b-guanaco-fp16/models/base/Mikael110-llama-2-7b-guanaco-fp16.tar.gz\u001b[0m\n",
      "\u001b[34m15.1%|███▊                      | 176MB/s | source: s3://sagemaker-us-west-2-376678947624/Mikael110-llama-2-7b-guanaco-fp16/models/base/Mikael110-llama-2-7b-guanaco-fp16.tar.gz\u001b[0m\n",
      "\u001b[34m15.3%|███▊                      | 169MB/s | source: s3://sagemaker-us-west-2-376678947624/Mikael110-llama-2-7b-guanaco-fp16/models/base/Mikael110-llama-2-7b-guanaco-fp16.tar.gz\u001b[0m\n",
      "\u001b[34m15.5%|███▉                      | 205MB/s | source: s3://sagemaker-us-west-2-376678947624/Mikael110-llama-2-7b-guanaco-fp16/models/base/Mikael110-llama-2-7b-guanaco-fp16.tar.gz\u001b[0m\n",
      "\u001b[34m15.7%|███▉                      | 193MB/s | source: s3://sagemaker-us-west-2-376678947624/Mikael110-llama-2-7b-guanaco-fp16/models/base/Mikael110-llama-2-7b-guanaco-fp16.tar.gz\u001b[0m\n",
      "\u001b[34m15.9%|███▉                      | 187MB/s | source: s3://sagemaker-us-west-2-376678947624/Mikael110-llama-2-7b-guanaco-fp16/models/base/Mikael110-llama-2-7b-guanaco-fp16.tar.gz\u001b[0m\n",
      "\u001b[34m16.0%|████                      | 197MB/s | source: s3://sagemaker-us-west-2-376678947624/Mikael110-llama-2-7b-guanaco-fp16/models/base/Mikael110-llama-2-7b-guanaco-fp16.tar.gz\u001b[0m\n",
      "\u001b[34m16.2%|████                      | 182MB/s | source: s3://sagemaker-us-west-2-376678947624/Mikael110-llama-2-7b-guanaco-fp16/models/base/Mikael110-llama-2-7b-guanaco-fp16.tar.gz\u001b[0m\n",
      "\u001b[34m16.3%|████                      | 171MB/s | source: s3://sagemaker-us-west-2-376678947624/Mikael110-llama-2-7b-guanaco-fp16/models/base/Mikael110-llama-2-7b-guanaco-fp16.tar.gz\u001b[0m\n",
      "\u001b[34m16.5%|████▏                     | 199MB/s | source: s3://sagemaker-us-west-2-376678947624/Mikael110-llama-2-7b-guanaco-fp16/models/base/Mikael110-llama-2-7b-guanaco-fp16.tar.gz\u001b[0m\n",
      "\u001b[34m16.7%|████▏                     | 184MB/s | source: s3://sagemaker-us-west-2-376678947624/Mikael110-llama-2-7b-guanaco-fp16/models/base/Mikael110-llama-2-7b-guanaco-fp16.tar.gz\u001b[0m\n",
      "\u001b[34m16.8%|████▏                     | 182MB/s | source: s3://sagemaker-us-west-2-376678947624/Mikael110-llama-2-7b-guanaco-fp16/models/base/Mikael110-llama-2-7b-guanaco-fp16.tar.gz\u001b[0m\n",
      "\u001b[34m17.0%|████▎                     | 189MB/s | source: s3://sagemaker-us-west-2-376678947624/Mikael110-llama-2-7b-guanaco-fp16/models/base/Mikael110-llama-2-7b-guanaco-fp16.tar.gz\u001b[0m\n",
      "\u001b[34m17.2%|████▎                     | 161MB/s | source: s3://sagemaker-us-west-2-376678947624/Mikael110-llama-2-7b-guanaco-fp16/models/base/Mikael110-llama-2-7b-guanaco-fp16.tar.gz\u001b[0m\n",
      "\u001b[34m17.3%|████▎                     | 177MB/s | source: s3://sagemaker-us-west-2-376678947624/Mikael110-llama-2-7b-guanaco-fp16/models/base/Mikael110-llama-2-7b-guanaco-fp16.tar.gz\u001b[0m\n",
      "\u001b[34m17.5%|████▎                     | 176MB/s | source: s3://sagemaker-us-west-2-376678947624/Mikael110-llama-2-7b-guanaco-fp16/models/base/Mikael110-llama-2-7b-guanaco-fp16.tar.gz\u001b[0m\n",
      "\u001b[34m17.7%|████▍                     | 213MB/s | source: s3://sagemaker-us-west-2-376678947624/Mikael110-llama-2-7b-guanaco-fp16/models/base/Mikael110-llama-2-7b-guanaco-fp16.tar.gz\u001b[0m\n",
      "\u001b[34m17.9%|████▍                     | 180MB/s | source: s3://sagemaker-us-west-2-376678947624/Mikael110-llama-2-7b-guanaco-fp16/models/base/Mikael110-llama-2-7b-guanaco-fp16.tar.gz\u001b[0m\n",
      "\u001b[34m18.1%|████▌                     | 185MB/s | source: s3://sagemaker-us-west-2-376678947624/Mikael110-llama-2-7b-guanaco-fp16/models/base/Mikael110-llama-2-7b-guanaco-fp16.tar.gz\u001b[0m\n",
      "\u001b[34m18.2%|████▌                     | 192MB/s | source: s3://sagemaker-us-west-2-376678947624/Mikael110-llama-2-7b-guanaco-fp16/models/base/Mikael110-llama-2-7b-guanaco-fp16.tar.gz\u001b[0m\n",
      "\u001b[34m18.6%|████▋                     | 257MB/s | source: s3://sagemaker-us-west-2-376678947624/Mikael110-llama-2-7b-guanaco-fp16/models/base/Mikael110-llama-2-7b-guanaco-fp16.tar.gz\u001b[0m\n",
      "\u001b[34m18.8%|████▋                     | 230MB/s | source: s3://sagemaker-us-west-2-376678947624/Mikael110-llama-2-7b-guanaco-fp16/models/base/Mikael110-llama-2-7b-guanaco-fp16.tar.gz\u001b[0m\n",
      "\u001b[34m18.9%|████▋                     | 222MB/s | source: s3://sagemaker-us-west-2-376678947624/Mikael110-llama-2-7b-guanaco-fp16/models/base/Mikael110-llama-2-7b-guanaco-fp16.tar.gz\u001b[0m\n",
      "\u001b[34m19.1%|████▊                     | 188MB/s | source: s3://sagemaker-us-west-2-376678947624/Mikael110-llama-2-7b-guanaco-fp16/models/base/Mikael110-llama-2-7b-guanaco-fp16.tar.gz\u001b[0m\n",
      "\u001b[34m19.3%|████▊                     | 185MB/s | source: s3://sagemaker-us-west-2-376678947624/Mikael110-llama-2-7b-guanaco-fp16/models/base/Mikael110-llama-2-7b-guanaco-fp16.tar.gz\u001b[0m\n",
      "\u001b[34m19.5%|████▊                     | 209MB/s | source: s3://sagemaker-us-west-2-376678947624/Mikael110-llama-2-7b-guanaco-fp16/models/base/Mikael110-llama-2-7b-guanaco-fp16.tar.gz\u001b[0m\n",
      "\u001b[34m19.6%|████▉                     | 199MB/s | source: s3://sagemaker-us-west-2-376678947624/Mikael110-llama-2-7b-guanaco-fp16/models/base/Mikael110-llama-2-7b-guanaco-fp16.tar.gz\u001b[0m\n",
      "\u001b[34m19.9%|████▉                     | 233MB/s | source: s3://sagemaker-us-west-2-376678947624/Mikael110-llama-2-7b-guanaco-fp16/models/base/Mikael110-llama-2-7b-guanaco-fp16.tar.gz\u001b[0m\n",
      "\u001b[34m20.1%|█████                     | 217MB/s | source: s3://sagemaker-us-west-2-376678947624/Mikael110-llama-2-7b-guanaco-fp16/models/base/Mikael110-llama-2-7b-guanaco-fp16.tar.gz\u001b[0m\n",
      "\u001b[34m20.2%|█████                     | 220MB/s | source: s3://sagemaker-us-west-2-376678947624/Mikael110-llama-2-7b-guanaco-fp16/models/base/Mikael110-llama-2-7b-guanaco-fp16.tar.gz\u001b[0m\n",
      "\u001b[34m20.4%|█████                     | 218MB/s | source: s3://sagemaker-us-west-2-376678947624/Mikael110-llama-2-7b-guanaco-fp16/models/base/Mikael110-llama-2-7b-guanaco-fp16.tar.gz\u001b[0m\n",
      "\u001b[34m20.6%|█████▏                    | 162MB/s | source: s3://sagemaker-us-west-2-376678947624/Mikael110-llama-2-7b-guanaco-fp16/models/base/Mikael110-llama-2-7b-guanaco-fp16.tar.gz\u001b[0m\n",
      "\u001b[34m20.7%|█████▏                    | 161MB/s | source: s3://sagemaker-us-west-2-376678947624/Mikael110-llama-2-7b-guanaco-fp16/models/base/Mikael110-llama-2-7b-guanaco-fp16.tar.gz\u001b[0m\n"
     ]
    },
    {
     "name": "stdout",
     "output_type": "stream",
     "text": [
      "\u001b[34m20.9%|█████▏                    | 185MB/s | source: s3://sagemaker-us-west-2-376678947624/Mikael110-llama-2-7b-guanaco-fp16/models/base/Mikael110-llama-2-7b-guanaco-fp16.tar.gz\u001b[0m\n",
      "\u001b[34m21.2%|█████▎                    | 196MB/s | source: s3://sagemaker-us-west-2-376678947624/Mikael110-llama-2-7b-guanaco-fp16/models/base/Mikael110-llama-2-7b-guanaco-fp16.tar.gz\u001b[0m\n",
      "\u001b[34m21.3%|█████▎                    | 195MB/s | source: s3://sagemaker-us-west-2-376678947624/Mikael110-llama-2-7b-guanaco-fp16/models/base/Mikael110-llama-2-7b-guanaco-fp16.tar.gz\u001b[0m\n",
      "\u001b[34m21.5%|█████▍                    | 215MB/s | source: s3://sagemaker-us-west-2-376678947624/Mikael110-llama-2-7b-guanaco-fp16/models/base/Mikael110-llama-2-7b-guanaco-fp16.tar.gz\u001b[0m\n",
      "\u001b[34m21.7%|█████▍                    | 182MB/s | source: s3://sagemaker-us-west-2-376678947624/Mikael110-llama-2-7b-guanaco-fp16/models/base/Mikael110-llama-2-7b-guanaco-fp16.tar.gz\u001b[0m\n",
      "\u001b[34m21.9%|█████▍                    | 173MB/s | source: s3://sagemaker-us-west-2-376678947624/Mikael110-llama-2-7b-guanaco-fp16/models/base/Mikael110-llama-2-7b-guanaco-fp16.tar.gz\u001b[0m\n",
      "\u001b[34m22.0%|█████▌                    | 188MB/s | source: s3://sagemaker-us-west-2-376678947624/Mikael110-llama-2-7b-guanaco-fp16/models/base/Mikael110-llama-2-7b-guanaco-fp16.tar.gz\u001b[0m\n",
      "\u001b[34m22.2%|█████▌                    | 197MB/s | source: s3://sagemaker-us-west-2-376678947624/Mikael110-llama-2-7b-guanaco-fp16/models/base/Mikael110-llama-2-7b-guanaco-fp16.tar.gz\u001b[0m\n",
      "\u001b[34m22.4%|█████▌                    | 160MB/s | source: s3://sagemaker-us-west-2-376678947624/Mikael110-llama-2-7b-guanaco-fp16/models/base/Mikael110-llama-2-7b-guanaco-fp16.tar.gz\u001b[0m\n",
      "\u001b[34m22.5%|█████▌                    | 135MB/s | source: s3://sagemaker-us-west-2-376678947624/Mikael110-llama-2-7b-guanaco-fp16/models/base/Mikael110-llama-2-7b-guanaco-fp16.tar.gz\u001b[0m\n",
      "\u001b[34m22.6%|█████▋                    | 140MB/s | source: s3://sagemaker-us-west-2-376678947624/Mikael110-llama-2-7b-guanaco-fp16/models/base/Mikael110-llama-2-7b-guanaco-fp16.tar.gz\u001b[0m\n",
      "\u001b[34m22.8%|█████▋                    | 170MB/s | source: s3://sagemaker-us-west-2-376678947624/Mikael110-llama-2-7b-guanaco-fp16/models/base/Mikael110-llama-2-7b-guanaco-fp16.tar.gz\u001b[0m\n",
      "\u001b[34m22.9%|█████▋                    | 167MB/s | source: s3://sagemaker-us-west-2-376678947624/Mikael110-llama-2-7b-guanaco-fp16/models/base/Mikael110-llama-2-7b-guanaco-fp16.tar.gz\u001b[0m\n",
      "\u001b[34m23.2%|█████▊                    | 206MB/s | source: s3://sagemaker-us-west-2-376678947624/Mikael110-llama-2-7b-guanaco-fp16/models/base/Mikael110-llama-2-7b-guanaco-fp16.tar.gz\u001b[0m\n",
      "\u001b[34m23.3%|█████▊                    | 192MB/s | source: s3://sagemaker-us-west-2-376678947624/Mikael110-llama-2-7b-guanaco-fp16/models/base/Mikael110-llama-2-7b-guanaco-fp16.tar.gz\u001b[0m\n",
      "\u001b[34m23.5%|█████▉                    | 171MB/s | source: s3://sagemaker-us-west-2-376678947624/Mikael110-llama-2-7b-guanaco-fp16/models/base/Mikael110-llama-2-7b-guanaco-fp16.tar.gz\u001b[0m\n",
      "\u001b[34m23.7%|█████▉                    | 183MB/s | source: s3://sagemaker-us-west-2-376678947624/Mikael110-llama-2-7b-guanaco-fp16/models/base/Mikael110-llama-2-7b-guanaco-fp16.tar.gz\u001b[0m\n",
      "\u001b[34m23.8%|█████▉                    | 188MB/s | source: s3://sagemaker-us-west-2-376678947624/Mikael110-llama-2-7b-guanaco-fp16/models/base/Mikael110-llama-2-7b-guanaco-fp16.tar.gz\u001b[0m\n",
      "\u001b[34m24.0%|█████▉                    | 174MB/s | source: s3://sagemaker-us-west-2-376678947624/Mikael110-llama-2-7b-guanaco-fp16/models/base/Mikael110-llama-2-7b-guanaco-fp16.tar.gz\u001b[0m\n",
      "\u001b[34m24.2%|██████                    | 191MB/s | source: s3://sagemaker-us-west-2-376678947624/Mikael110-llama-2-7b-guanaco-fp16/models/base/Mikael110-llama-2-7b-guanaco-fp16.tar.gz\u001b[0m\n",
      "\u001b[34m24.3%|██████                    | 175MB/s | source: s3://sagemaker-us-west-2-376678947624/Mikael110-llama-2-7b-guanaco-fp16/models/base/Mikael110-llama-2-7b-guanaco-fp16.tar.gz\u001b[0m\n",
      "\u001b[34m24.5%|██████                    | 172MB/s | source: s3://sagemaker-us-west-2-376678947624/Mikael110-llama-2-7b-guanaco-fp16/models/base/Mikael110-llama-2-7b-guanaco-fp16.tar.gz\u001b[0m\n",
      "\u001b[34m24.7%|██████▏                   | 211MB/s | source: s3://sagemaker-us-west-2-376678947624/Mikael110-llama-2-7b-guanaco-fp16/models/base/Mikael110-llama-2-7b-guanaco-fp16.tar.gz\u001b[0m\n",
      "\u001b[34m24.9%|██████▏                   | 200MB/s | source: s3://sagemaker-us-west-2-376678947624/Mikael110-llama-2-7b-guanaco-fp16/models/base/Mikael110-llama-2-7b-guanaco-fp16.tar.gz\u001b[0m\n",
      "\u001b[34m25.0%|██████▎                   | 179MB/s | source: s3://sagemaker-us-west-2-376678947624/Mikael110-llama-2-7b-guanaco-fp16/models/base/Mikael110-llama-2-7b-guanaco-fp16.tar.gz\u001b[0m\n",
      "\u001b[34m25.2%|██████▎                   | 181MB/s | source: s3://sagemaker-us-west-2-376678947624/Mikael110-llama-2-7b-guanaco-fp16/models/base/Mikael110-llama-2-7b-guanaco-fp16.tar.gz\u001b[0m\n",
      "\u001b[34m25.3%|██████▎                   | 173MB/s | source: s3://sagemaker-us-west-2-376678947624/Mikael110-llama-2-7b-guanaco-fp16/models/base/Mikael110-llama-2-7b-guanaco-fp16.tar.gz\u001b[0m\n",
      "\u001b[34m25.5%|██████▎                   | 188MB/s | source: s3://sagemaker-us-west-2-376678947624/Mikael110-llama-2-7b-guanaco-fp16/models/base/Mikael110-llama-2-7b-guanaco-fp16.tar.gz\u001b[0m\n",
      "\u001b[34m25.6%|██████▍                   | 181MB/s | source: s3://sagemaker-us-west-2-376678947624/Mikael110-llama-2-7b-guanaco-fp16/models/base/Mikael110-llama-2-7b-guanaco-fp16.tar.gz\u001b[0m\n",
      "\u001b[34m25.8%|██████▍                   | 178MB/s | source: s3://sagemaker-us-west-2-376678947624/Mikael110-llama-2-7b-guanaco-fp16/models/base/Mikael110-llama-2-7b-guanaco-fp16.tar.gz\u001b[0m\n",
      "\u001b[34m25.9%|██████▍                   | 170MB/s | source: s3://sagemaker-us-west-2-376678947624/Mikael110-llama-2-7b-guanaco-fp16/models/base/Mikael110-llama-2-7b-guanaco-fp16.tar.gz\u001b[0m\n",
      "\u001b[34m26.0%|██████▌                   | 147MB/s | source: s3://sagemaker-us-west-2-376678947624/Mikael110-llama-2-7b-guanaco-fp16/models/base/Mikael110-llama-2-7b-guanaco-fp16.tar.gz\u001b[0m\n",
      "\u001b[34m26.3%|██████▌                   | 183MB/s | source: s3://sagemaker-us-west-2-376678947624/Mikael110-llama-2-7b-guanaco-fp16/models/base/Mikael110-llama-2-7b-guanaco-fp16.tar.gz\u001b[0m\n",
      "\u001b[34m26.4%|██████▌                   | 182MB/s | source: s3://sagemaker-us-west-2-376678947624/Mikael110-llama-2-7b-guanaco-fp16/models/base/Mikael110-llama-2-7b-guanaco-fp16.tar.gz\u001b[0m\n",
      "\u001b[34m26.6%|██████▋                   | 192MB/s | source: s3://sagemaker-us-west-2-376678947624/Mikael110-llama-2-7b-guanaco-fp16/models/base/Mikael110-llama-2-7b-guanaco-fp16.tar.gz\u001b[0m\n",
      "\u001b[34m26.7%|██████▋                   | 156MB/s | source: s3://sagemaker-us-west-2-376678947624/Mikael110-llama-2-7b-guanaco-fp16/models/base/Mikael110-llama-2-7b-guanaco-fp16.tar.gz\u001b[0m\n",
      "\u001b[34m26.9%|██████▋                   | 167MB/s | source: s3://sagemaker-us-west-2-376678947624/Mikael110-llama-2-7b-guanaco-fp16/models/base/Mikael110-llama-2-7b-guanaco-fp16.tar.gz\u001b[0m\n",
      "\u001b[34m27.0%|██████▊                   | 165MB/s | source: s3://sagemaker-us-west-2-376678947624/Mikael110-llama-2-7b-guanaco-fp16/models/base/Mikael110-llama-2-7b-guanaco-fp16.tar.gz\u001b[0m\n",
      "\u001b[34m27.2%|██████▊                   | 166MB/s | source: s3://sagemaker-us-west-2-376678947624/Mikael110-llama-2-7b-guanaco-fp16/models/base/Mikael110-llama-2-7b-guanaco-fp16.tar.gz\u001b[0m\n",
      "\u001b[34m27.3%|██████▊                   | 154MB/s | source: s3://sagemaker-us-west-2-376678947624/Mikael110-llama-2-7b-guanaco-fp16/models/base/Mikael110-llama-2-7b-guanaco-fp16.tar.gz\u001b[0m\n",
      "\u001b[34m27.5%|██████▉                   | 190MB/s | source: s3://sagemaker-us-west-2-376678947624/Mikael110-llama-2-7b-guanaco-fp16/models/base/Mikael110-llama-2-7b-guanaco-fp16.tar.gz\u001b[0m\n",
      "\u001b[34m27.7%|██████▉                   | 167MB/s | source: s3://sagemaker-us-west-2-376678947624/Mikael110-llama-2-7b-guanaco-fp16/models/base/Mikael110-llama-2-7b-guanaco-fp16.tar.gz\u001b[0m\n",
      "\u001b[34m27.8%|██████▉                   | 159MB/s | source: s3://sagemaker-us-west-2-376678947624/Mikael110-llama-2-7b-guanaco-fp16/models/base/Mikael110-llama-2-7b-guanaco-fp16.tar.gz\u001b[0m\n",
      "\u001b[34m28.0%|███████                   | 177MB/s | source: s3://sagemaker-us-west-2-376678947624/Mikael110-llama-2-7b-guanaco-fp16/models/base/Mikael110-llama-2-7b-guanaco-fp16.tar.gz\u001b[0m\n",
      "\u001b[34m28.3%|███████                   | 210MB/s | source: s3://sagemaker-us-west-2-376678947624/Mikael110-llama-2-7b-guanaco-fp16/models/base/Mikael110-llama-2-7b-guanaco-fp16.tar.gz\u001b[0m\n",
      "\u001b[34m28.4%|███████                   | 168MB/s | source: s3://sagemaker-us-west-2-376678947624/Mikael110-llama-2-7b-guanaco-fp16/models/base/Mikael110-llama-2-7b-guanaco-fp16.tar.gz\u001b[0m\n",
      "\u001b[34m28.6%|███████▏                  | 181MB/s | source: s3://sagemaker-us-west-2-376678947624/Mikael110-llama-2-7b-guanaco-fp16/models/base/Mikael110-llama-2-7b-guanaco-fp16.tar.gz\u001b[0m\n",
      "\u001b[34m28.8%|███████▏                  | 181MB/s | source: s3://sagemaker-us-west-2-376678947624/Mikael110-llama-2-7b-guanaco-fp16/models/base/Mikael110-llama-2-7b-guanaco-fp16.tar.gz\u001b[0m\n",
      "\u001b[34m28.9%|███████▏                  | 195MB/s | source: s3://sagemaker-us-west-2-376678947624/Mikael110-llama-2-7b-guanaco-fp16/models/base/Mikael110-llama-2-7b-guanaco-fp16.tar.gz\u001b[0m\n",
      "\u001b[34m29.1%|███████▎                  | 184MB/s | source: s3://sagemaker-us-west-2-376678947624/Mikael110-llama-2-7b-guanaco-fp16/models/base/Mikael110-llama-2-7b-guanaco-fp16.tar.gz\u001b[0m\n",
      "\u001b[34m29.3%|███████▎                  | 186MB/s | source: s3://sagemaker-us-west-2-376678947624/Mikael110-llama-2-7b-guanaco-fp16/models/base/Mikael110-llama-2-7b-guanaco-fp16.tar.gz\u001b[0m\n",
      "\u001b[34m29.4%|███████▎                  | 184MB/s | source: s3://sagemaker-us-west-2-376678947624/Mikael110-llama-2-7b-guanaco-fp16/models/base/Mikael110-llama-2-7b-guanaco-fp16.tar.gz\u001b[0m\n",
      "\u001b[34m29.6%|███████▍                  | 207MB/s | source: s3://sagemaker-us-west-2-376678947624/Mikael110-llama-2-7b-guanaco-fp16/models/base/Mikael110-llama-2-7b-guanaco-fp16.tar.gz\u001b[0m\n",
      "\u001b[34m29.8%|███████▍                  | 196MB/s | source: s3://sagemaker-us-west-2-376678947624/Mikael110-llama-2-7b-guanaco-fp16/models/base/Mikael110-llama-2-7b-guanaco-fp16.tar.gz\u001b[0m\n",
      "\u001b[34m29.9%|███████▍                  | 189MB/s | source: s3://sagemaker-us-west-2-376678947624/Mikael110-llama-2-7b-guanaco-fp16/models/base/Mikael110-llama-2-7b-guanaco-fp16.tar.gz\u001b[0m\n",
      "\u001b[34m30.1%|███████▌                  | 175MB/s | source: s3://sagemaker-us-west-2-376678947624/Mikael110-llama-2-7b-guanaco-fp16/models/base/Mikael110-llama-2-7b-guanaco-fp16.tar.gz\u001b[0m\n",
      "\u001b[34m30.2%|███████▌                  | 163MB/s | source: s3://sagemaker-us-west-2-376678947624/Mikael110-llama-2-7b-guanaco-fp16/models/base/Mikael110-llama-2-7b-guanaco-fp16.tar.gz\u001b[0m\n",
      "\u001b[34m30.3%|███████▌                  | 167MB/s | source: s3://sagemaker-us-west-2-376678947624/Mikael110-llama-2-7b-guanaco-fp16/models/base/Mikael110-llama-2-7b-guanaco-fp16.tar.gz\u001b[0m\n",
      "\u001b[34m30.5%|███████▌                  | 161MB/s | source: s3://sagemaker-us-west-2-376678947624/Mikael110-llama-2-7b-guanaco-fp16/models/base/Mikael110-llama-2-7b-guanaco-fp16.tar.gz\u001b[0m\n",
      "\u001b[34m30.6%|███████▋                  | 176MB/s | source: s3://sagemaker-us-west-2-376678947624/Mikael110-llama-2-7b-guanaco-fp16/models/base/Mikael110-llama-2-7b-guanaco-fp16.tar.gz\u001b[0m\n",
      "\u001b[34m30.8%|███████▋                  | 150MB/s | source: s3://sagemaker-us-west-2-376678947624/Mikael110-llama-2-7b-guanaco-fp16/models/base/Mikael110-llama-2-7b-guanaco-fp16.tar.gz\u001b[0m\n",
      "\u001b[34m31.0%|███████▊                  | 195MB/s | source: s3://sagemaker-us-west-2-376678947624/Mikael110-llama-2-7b-guanaco-fp16/models/base/Mikael110-llama-2-7b-guanaco-fp16.tar.gz\u001b[0m\n",
      "\u001b[34m31.2%|███████▊                  | 163MB/s | source: s3://sagemaker-us-west-2-376678947624/Mikael110-llama-2-7b-guanaco-fp16/models/base/Mikael110-llama-2-7b-guanaco-fp16.tar.gz\u001b[0m\n",
      "\u001b[34m31.3%|███████▊                  | 172MB/s | source: s3://sagemaker-us-west-2-376678947624/Mikael110-llama-2-7b-guanaco-fp16/models/base/Mikael110-llama-2-7b-guanaco-fp16.tar.gz\u001b[0m\n",
      "\u001b[34m31.5%|███████▊                  | 168MB/s | source: s3://sagemaker-us-west-2-376678947624/Mikael110-llama-2-7b-guanaco-fp16/models/base/Mikael110-llama-2-7b-guanaco-fp16.tar.gz\u001b[0m\n",
      "\u001b[34m31.6%|███████▉                  | 170MB/s | source: s3://sagemaker-us-west-2-376678947624/Mikael110-llama-2-7b-guanaco-fp16/models/base/Mikael110-llama-2-7b-guanaco-fp16.tar.gz\u001b[0m\n",
      "\u001b[34m31.8%|███████▉                  | 196MB/s | source: s3://sagemaker-us-west-2-376678947624/Mikael110-llama-2-7b-guanaco-fp16/models/base/Mikael110-llama-2-7b-guanaco-fp16.tar.gz\u001b[0m\n",
      "\u001b[34m32.0%|███████▉                  | 180MB/s | source: s3://sagemaker-us-west-2-376678947624/Mikael110-llama-2-7b-guanaco-fp16/models/base/Mikael110-llama-2-7b-guanaco-fp16.tar.gz\u001b[0m\n",
      "\u001b[34m32.1%|████████                  | 189MB/s | source: s3://sagemaker-us-west-2-376678947624/Mikael110-llama-2-7b-guanaco-fp16/models/base/Mikael110-llama-2-7b-guanaco-fp16.tar.gz\u001b[0m\n",
      "\u001b[34m32.3%|████████                  | 183MB/s | source: s3://sagemaker-us-west-2-376678947624/Mikael110-llama-2-7b-guanaco-fp16/models/base/Mikael110-llama-2-7b-guanaco-fp16.tar.gz\u001b[0m\n",
      "\u001b[34m32.4%|████████                  | 162MB/s | source: s3://sagemaker-us-west-2-376678947624/Mikael110-llama-2-7b-guanaco-fp16/models/base/Mikael110-llama-2-7b-guanaco-fp16.tar.gz\u001b[0m\n",
      "\u001b[34m32.6%|████████▏                 | 182MB/s | source: s3://sagemaker-us-west-2-376678947624/Mikael110-llama-2-7b-guanaco-fp16/models/base/Mikael110-llama-2-7b-guanaco-fp16.tar.gz\u001b[0m\n",
      "\u001b[34m32.8%|████████▏                 | 195MB/s | source: s3://sagemaker-us-west-2-376678947624/Mikael110-llama-2-7b-guanaco-fp16/models/base/Mikael110-llama-2-7b-guanaco-fp16.tar.gz\u001b[0m\n",
      "\u001b[34m33.0%|████████▏                 | 205MB/s | source: s3://sagemaker-us-west-2-376678947624/Mikael110-llama-2-7b-guanaco-fp16/models/base/Mikael110-llama-2-7b-guanaco-fp16.tar.gz\u001b[0m\n",
      "\u001b[34m33.1%|████████▎                 | 169MB/s | source: s3://sagemaker-us-west-2-376678947624/Mikael110-llama-2-7b-guanaco-fp16/models/base/Mikael110-llama-2-7b-guanaco-fp16.tar.gz\u001b[0m\n",
      "\u001b[34m33.4%|████████▎                 | 208MB/s | source: s3://sagemaker-us-west-2-376678947624/Mikael110-llama-2-7b-guanaco-fp16/models/base/Mikael110-llama-2-7b-guanaco-fp16.tar.gz\u001b[0m\n",
      "\u001b[34m33.6%|████████▍                 | 176MB/s | source: s3://sagemaker-us-west-2-376678947624/Mikael110-llama-2-7b-guanaco-fp16/models/base/Mikael110-llama-2-7b-guanaco-fp16.tar.gz\u001b[0m\n",
      "\u001b[34m33.7%|████████▍                 | 161MB/s | source: s3://sagemaker-us-west-2-376678947624/Mikael110-llama-2-7b-guanaco-fp16/models/base/Mikael110-llama-2-7b-guanaco-fp16.tar.gz\u001b[0m\n",
      "\u001b[34m33.9%|████████▍                 | 179MB/s | source: s3://sagemaker-us-west-2-376678947624/Mikael110-llama-2-7b-guanaco-fp16/models/base/Mikael110-llama-2-7b-guanaco-fp16.tar.gz\u001b[0m\n",
      "\u001b[34m34.2%|████████▌                 | 228MB/s | source: s3://sagemaker-us-west-2-376678947624/Mikael110-llama-2-7b-guanaco-fp16/models/base/Mikael110-llama-2-7b-guanaco-fp16.tar.gz\u001b[0m\n"
     ]
    },
    {
     "name": "stdout",
     "output_type": "stream",
     "text": [
      "\u001b[34m34.4%|████████▌                 | 165MB/s | source: s3://sagemaker-us-west-2-376678947624/Mikael110-llama-2-7b-guanaco-fp16/models/base/Mikael110-llama-2-7b-guanaco-fp16.tar.gz\u001b[0m\n",
      "\u001b[34m34.6%|████████▋                 | 180MB/s | source: s3://sagemaker-us-west-2-376678947624/Mikael110-llama-2-7b-guanaco-fp16/models/base/Mikael110-llama-2-7b-guanaco-fp16.tar.gz\u001b[0m\n",
      "\u001b[34m34.7%|████████▋                 | 182MB/s | source: s3://sagemaker-us-west-2-376678947624/Mikael110-llama-2-7b-guanaco-fp16/models/base/Mikael110-llama-2-7b-guanaco-fp16.tar.gz\u001b[0m\n",
      "\u001b[34m34.9%|████████▋                 | 183MB/s | source: s3://sagemaker-us-west-2-376678947624/Mikael110-llama-2-7b-guanaco-fp16/models/base/Mikael110-llama-2-7b-guanaco-fp16.tar.gz\u001b[0m\n",
      "\u001b[34m35.1%|████████▊                 | 202MB/s | source: s3://sagemaker-us-west-2-376678947624/Mikael110-llama-2-7b-guanaco-fp16/models/base/Mikael110-llama-2-7b-guanaco-fp16.tar.gz\u001b[0m\n",
      "\u001b[34m35.3%|████████▊                 | 221MB/s | source: s3://sagemaker-us-west-2-376678947624/Mikael110-llama-2-7b-guanaco-fp16/models/base/Mikael110-llama-2-7b-guanaco-fp16.tar.gz\u001b[0m\n",
      "\u001b[34m35.5%|████████▊                 | 198MB/s | source: s3://sagemaker-us-west-2-376678947624/Mikael110-llama-2-7b-guanaco-fp16/models/base/Mikael110-llama-2-7b-guanaco-fp16.tar.gz\u001b[0m\n",
      "\u001b[34m35.6%|████████▉                 | 174MB/s | source: s3://sagemaker-us-west-2-376678947624/Mikael110-llama-2-7b-guanaco-fp16/models/base/Mikael110-llama-2-7b-guanaco-fp16.tar.gz\u001b[0m\n",
      "\u001b[34m35.8%|████████▉                 | 195MB/s | source: s3://sagemaker-us-west-2-376678947624/Mikael110-llama-2-7b-guanaco-fp16/models/base/Mikael110-llama-2-7b-guanaco-fp16.tar.gz\u001b[0m\n",
      "\u001b[34m36.1%|█████████                 | 216MB/s | source: s3://sagemaker-us-west-2-376678947624/Mikael110-llama-2-7b-guanaco-fp16/models/base/Mikael110-llama-2-7b-guanaco-fp16.tar.gz\u001b[0m\n",
      "\u001b[34m36.2%|█████████                 | 174MB/s | source: s3://sagemaker-us-west-2-376678947624/Mikael110-llama-2-7b-guanaco-fp16/models/base/Mikael110-llama-2-7b-guanaco-fp16.tar.gz\u001b[0m\n",
      "\u001b[34m36.5%|█████████                 | 186MB/s | source: s3://sagemaker-us-west-2-376678947624/Mikael110-llama-2-7b-guanaco-fp16/models/base/Mikael110-llama-2-7b-guanaco-fp16.tar.gz\u001b[0m\n",
      "\u001b[34m36.6%|█████████▏                | 190MB/s | source: s3://sagemaker-us-west-2-376678947624/Mikael110-llama-2-7b-guanaco-fp16/models/base/Mikael110-llama-2-7b-guanaco-fp16.tar.gz\u001b[0m\n",
      "\u001b[34m36.8%|█████████▏                | 205MB/s | source: s3://sagemaker-us-west-2-376678947624/Mikael110-llama-2-7b-guanaco-fp16/models/base/Mikael110-llama-2-7b-guanaco-fp16.tar.gz\u001b[0m\n",
      "\u001b[34m37.0%|█████████▏                | 207MB/s | source: s3://sagemaker-us-west-2-376678947624/Mikael110-llama-2-7b-guanaco-fp16/models/base/Mikael110-llama-2-7b-guanaco-fp16.tar.gz\u001b[0m\n",
      "\u001b[34m37.1%|█████████▎                | 199MB/s | source: s3://sagemaker-us-west-2-376678947624/Mikael110-llama-2-7b-guanaco-fp16/models/base/Mikael110-llama-2-7b-guanaco-fp16.tar.gz\u001b[0m\n",
      "\u001b[34m37.3%|█████████▎                | 196MB/s | source: s3://sagemaker-us-west-2-376678947624/Mikael110-llama-2-7b-guanaco-fp16/models/base/Mikael110-llama-2-7b-guanaco-fp16.tar.gz\u001b[0m\n",
      "\u001b[34m37.4%|█████████▎                | 180MB/s | source: s3://sagemaker-us-west-2-376678947624/Mikael110-llama-2-7b-guanaco-fp16/models/base/Mikael110-llama-2-7b-guanaco-fp16.tar.gz\u001b[0m\n",
      "\u001b[34m37.6%|█████████▍                | 177MB/s | source: s3://sagemaker-us-west-2-376678947624/Mikael110-llama-2-7b-guanaco-fp16/models/base/Mikael110-llama-2-7b-guanaco-fp16.tar.gz\u001b[0m\n",
      "\u001b[34m37.8%|█████████▍                | 187MB/s | source: s3://sagemaker-us-west-2-376678947624/Mikael110-llama-2-7b-guanaco-fp16/models/base/Mikael110-llama-2-7b-guanaco-fp16.tar.gz\u001b[0m\n",
      "\u001b[34m38.0%|█████████▍                | 210MB/s | source: s3://sagemaker-us-west-2-376678947624/Mikael110-llama-2-7b-guanaco-fp16/models/base/Mikael110-llama-2-7b-guanaco-fp16.tar.gz\u001b[0m\n",
      "\u001b[34m38.1%|█████████▌                | 192MB/s | source: s3://sagemaker-us-west-2-376678947624/Mikael110-llama-2-7b-guanaco-fp16/models/base/Mikael110-llama-2-7b-guanaco-fp16.tar.gz\u001b[0m\n",
      "\u001b[34m38.3%|█████████▌                | 191MB/s | source: s3://sagemaker-us-west-2-376678947624/Mikael110-llama-2-7b-guanaco-fp16/models/base/Mikael110-llama-2-7b-guanaco-fp16.tar.gz\u001b[0m\n",
      "\u001b[34m38.6%|█████████▋                | 209MB/s | source: s3://sagemaker-us-west-2-376678947624/Mikael110-llama-2-7b-guanaco-fp16/models/base/Mikael110-llama-2-7b-guanaco-fp16.tar.gz\u001b[0m\n",
      "\u001b[34m38.7%|█████████▋                | 180MB/s | source: s3://sagemaker-us-west-2-376678947624/Mikael110-llama-2-7b-guanaco-fp16/models/base/Mikael110-llama-2-7b-guanaco-fp16.tar.gz\u001b[0m\n",
      "\u001b[34m38.9%|█████████▋                | 207MB/s | source: s3://sagemaker-us-west-2-376678947624/Mikael110-llama-2-7b-guanaco-fp16/models/base/Mikael110-llama-2-7b-guanaco-fp16.tar.gz\u001b[0m\n",
      "\u001b[34m39.1%|█████████▊                | 198MB/s | source: s3://sagemaker-us-west-2-376678947624/Mikael110-llama-2-7b-guanaco-fp16/models/base/Mikael110-llama-2-7b-guanaco-fp16.tar.gz\u001b[0m\n",
      "\u001b[34m39.3%|█████████▊                | 196MB/s | source: s3://sagemaker-us-west-2-376678947624/Mikael110-llama-2-7b-guanaco-fp16/models/base/Mikael110-llama-2-7b-guanaco-fp16.tar.gz\u001b[0m\n",
      "\u001b[34m39.4%|█████████▊                | 186MB/s | source: s3://sagemaker-us-west-2-376678947624/Mikael110-llama-2-7b-guanaco-fp16/models/base/Mikael110-llama-2-7b-guanaco-fp16.tar.gz\u001b[0m\n",
      "\u001b[34m39.6%|█████████▉                | 193MB/s | source: s3://sagemaker-us-west-2-376678947624/Mikael110-llama-2-7b-guanaco-fp16/models/base/Mikael110-llama-2-7b-guanaco-fp16.tar.gz\u001b[0m\n",
      "\u001b[34m39.7%|█████████▉                | 189MB/s | source: s3://sagemaker-us-west-2-376678947624/Mikael110-llama-2-7b-guanaco-fp16/models/base/Mikael110-llama-2-7b-guanaco-fp16.tar.gz\u001b[0m\n",
      "\u001b[34m40.0%|█████████▉                | 216MB/s | source: s3://sagemaker-us-west-2-376678947624/Mikael110-llama-2-7b-guanaco-fp16/models/base/Mikael110-llama-2-7b-guanaco-fp16.tar.gz\u001b[0m\n",
      "\u001b[34m40.1%|██████████                | 192MB/s | source: s3://sagemaker-us-west-2-376678947624/Mikael110-llama-2-7b-guanaco-fp16/models/base/Mikael110-llama-2-7b-guanaco-fp16.tar.gz\u001b[0m\n",
      "\u001b[34m40.3%|██████████                | 186MB/s | source: s3://sagemaker-us-west-2-376678947624/Mikael110-llama-2-7b-guanaco-fp16/models/base/Mikael110-llama-2-7b-guanaco-fp16.tar.gz\u001b[0m\n",
      "\u001b[34m40.4%|██████████                | 181MB/s | source: s3://sagemaker-us-west-2-376678947624/Mikael110-llama-2-7b-guanaco-fp16/models/base/Mikael110-llama-2-7b-guanaco-fp16.tar.gz\u001b[0m\n",
      "\u001b[34m40.6%|██████████▏               | 186MB/s | source: s3://sagemaker-us-west-2-376678947624/Mikael110-llama-2-7b-guanaco-fp16/models/base/Mikael110-llama-2-7b-guanaco-fp16.tar.gz\u001b[0m\n",
      "\u001b[34m40.7%|██████████▏               | 179MB/s | source: s3://sagemaker-us-west-2-376678947624/Mikael110-llama-2-7b-guanaco-fp16/models/base/Mikael110-llama-2-7b-guanaco-fp16.tar.gz\u001b[0m\n",
      "\u001b[34m40.9%|██████████▏               | 160MB/s | source: s3://sagemaker-us-west-2-376678947624/Mikael110-llama-2-7b-guanaco-fp16/models/base/Mikael110-llama-2-7b-guanaco-fp16.tar.gz\u001b[0m\n",
      "\u001b[34m41.1%|██████████▎               | 185MB/s | source: s3://sagemaker-us-west-2-376678947624/Mikael110-llama-2-7b-guanaco-fp16/models/base/Mikael110-llama-2-7b-guanaco-fp16.tar.gz\u001b[0m\n",
      "\u001b[34m41.3%|██████████▎               | 211MB/s | source: s3://sagemaker-us-west-2-376678947624/Mikael110-llama-2-7b-guanaco-fp16/models/base/Mikael110-llama-2-7b-guanaco-fp16.tar.gz\u001b[0m\n",
      "\u001b[34m41.4%|██████████▎               | 165MB/s | source: s3://sagemaker-us-west-2-376678947624/Mikael110-llama-2-7b-guanaco-fp16/models/base/Mikael110-llama-2-7b-guanaco-fp16.tar.gz\u001b[0m\n",
      "\u001b[34m41.6%|██████████▍               | 183MB/s | source: s3://sagemaker-us-west-2-376678947624/Mikael110-llama-2-7b-guanaco-fp16/models/base/Mikael110-llama-2-7b-guanaco-fp16.tar.gz\u001b[0m\n",
      "\u001b[34m41.8%|██████████▍               | 186MB/s | source: s3://sagemaker-us-west-2-376678947624/Mikael110-llama-2-7b-guanaco-fp16/models/base/Mikael110-llama-2-7b-guanaco-fp16.tar.gz\u001b[0m\n",
      "\u001b[34m41.9%|██████████▍               | 148MB/s | source: s3://sagemaker-us-west-2-376678947624/Mikael110-llama-2-7b-guanaco-fp16/models/base/Mikael110-llama-2-7b-guanaco-fp16.tar.gz\u001b[0m\n",
      "\u001b[34m42.2%|██████████▌               | 199MB/s | source: s3://sagemaker-us-west-2-376678947624/Mikael110-llama-2-7b-guanaco-fp16/models/base/Mikael110-llama-2-7b-guanaco-fp16.tar.gz\u001b[0m\n",
      "\u001b[34m42.4%|██████████▌               | 173MB/s | source: s3://sagemaker-us-west-2-376678947624/Mikael110-llama-2-7b-guanaco-fp16/models/base/Mikael110-llama-2-7b-guanaco-fp16.tar.gz\u001b[0m\n",
      "\u001b[34m42.6%|██████████▋               | 178MB/s | source: s3://sagemaker-us-west-2-376678947624/Mikael110-llama-2-7b-guanaco-fp16/models/base/Mikael110-llama-2-7b-guanaco-fp16.tar.gz\u001b[0m\n",
      "\u001b[34m42.9%|██████████▋               | 189MB/s | source: s3://sagemaker-us-west-2-376678947624/Mikael110-llama-2-7b-guanaco-fp16/models/base/Mikael110-llama-2-7b-guanaco-fp16.tar.gz\u001b[0m\n",
      "\u001b[34m43.0%|██████████▊               | 190MB/s | source: s3://sagemaker-us-west-2-376678947624/Mikael110-llama-2-7b-guanaco-fp16/models/base/Mikael110-llama-2-7b-guanaco-fp16.tar.gz\u001b[0m\n",
      "\u001b[34m43.2%|██████████▊               | 174MB/s | source: s3://sagemaker-us-west-2-376678947624/Mikael110-llama-2-7b-guanaco-fp16/models/base/Mikael110-llama-2-7b-guanaco-fp16.tar.gz\u001b[0m\n",
      "\u001b[34m43.3%|██████████▊               | 173MB/s | source: s3://sagemaker-us-west-2-376678947624/Mikael110-llama-2-7b-guanaco-fp16/models/base/Mikael110-llama-2-7b-guanaco-fp16.tar.gz\u001b[0m\n",
      "\u001b[34m43.4%|██████████▊               | 175MB/s | source: s3://sagemaker-us-west-2-376678947624/Mikael110-llama-2-7b-guanaco-fp16/models/base/Mikael110-llama-2-7b-guanaco-fp16.tar.gz\u001b[0m\n",
      "\u001b[34m43.6%|██████████▉               | 173MB/s | source: s3://sagemaker-us-west-2-376678947624/Mikael110-llama-2-7b-guanaco-fp16/models/base/Mikael110-llama-2-7b-guanaco-fp16.tar.gz\u001b[0m\n",
      "\u001b[34m43.7%|██████████▉               | 173MB/s | source: s3://sagemaker-us-west-2-376678947624/Mikael110-llama-2-7b-guanaco-fp16/models/base/Mikael110-llama-2-7b-guanaco-fp16.tar.gz\u001b[0m\n",
      "\u001b[34m43.9%|██████████▉               | 201MB/s | source: s3://sagemaker-us-west-2-376678947624/Mikael110-llama-2-7b-guanaco-fp16/models/base/Mikael110-llama-2-7b-guanaco-fp16.tar.gz\u001b[0m\n",
      "\u001b[34m44.1%|███████████               | 195MB/s | source: s3://sagemaker-us-west-2-376678947624/Mikael110-llama-2-7b-guanaco-fp16/models/base/Mikael110-llama-2-7b-guanaco-fp16.tar.gz\u001b[0m\n",
      "\u001b[34m44.3%|███████████               | 203MB/s | source: s3://sagemaker-us-west-2-376678947624/Mikael110-llama-2-7b-guanaco-fp16/models/base/Mikael110-llama-2-7b-guanaco-fp16.tar.gz\u001b[0m\n",
      "\u001b[34m44.4%|███████████               | 172MB/s | source: s3://sagemaker-us-west-2-376678947624/Mikael110-llama-2-7b-guanaco-fp16/models/base/Mikael110-llama-2-7b-guanaco-fp16.tar.gz\u001b[0m\n",
      "\u001b[34m44.6%|███████████▏              | 156MB/s | source: s3://sagemaker-us-west-2-376678947624/Mikael110-llama-2-7b-guanaco-fp16/models/base/Mikael110-llama-2-7b-guanaco-fp16.tar.gz\u001b[0m\n",
      "\u001b[34m44.8%|███████████▏              | 184MB/s | source: s3://sagemaker-us-west-2-376678947624/Mikael110-llama-2-7b-guanaco-fp16/models/base/Mikael110-llama-2-7b-guanaco-fp16.tar.gz\u001b[0m\n",
      "\u001b[34m44.9%|███████████▏              | 174MB/s | source: s3://sagemaker-us-west-2-376678947624/Mikael110-llama-2-7b-guanaco-fp16/models/base/Mikael110-llama-2-7b-guanaco-fp16.tar.gz\u001b[0m\n",
      "\u001b[34m45.1%|███████████▎              | 153MB/s | source: s3://sagemaker-us-west-2-376678947624/Mikael110-llama-2-7b-guanaco-fp16/models/base/Mikael110-llama-2-7b-guanaco-fp16.tar.gz\u001b[0m\n",
      "\u001b[34m45.3%|███████████▎              | 193MB/s | source: s3://sagemaker-us-west-2-376678947624/Mikael110-llama-2-7b-guanaco-fp16/models/base/Mikael110-llama-2-7b-guanaco-fp16.tar.gz\u001b[0m\n",
      "\u001b[34m45.5%|███████████▎              | 172MB/s | source: s3://sagemaker-us-west-2-376678947624/Mikael110-llama-2-7b-guanaco-fp16/models/base/Mikael110-llama-2-7b-guanaco-fp16.tar.gz\u001b[0m\n",
      "\u001b[34m45.7%|███████████▍              | 207MB/s | source: s3://sagemaker-us-west-2-376678947624/Mikael110-llama-2-7b-guanaco-fp16/models/base/Mikael110-llama-2-7b-guanaco-fp16.tar.gz\u001b[0m\n",
      "\u001b[34m45.9%|███████████▍              | 150MB/s | source: s3://sagemaker-us-west-2-376678947624/Mikael110-llama-2-7b-guanaco-fp16/models/base/Mikael110-llama-2-7b-guanaco-fp16.tar.gz\u001b[0m\n",
      "\u001b[34m46.1%|███████████▌              | 181MB/s | source: s3://sagemaker-us-west-2-376678947624/Mikael110-llama-2-7b-guanaco-fp16/models/base/Mikael110-llama-2-7b-guanaco-fp16.tar.gz\u001b[0m\n",
      "\u001b[34m46.3%|███████████▌              | 185MB/s | source: s3://sagemaker-us-west-2-376678947624/Mikael110-llama-2-7b-guanaco-fp16/models/base/Mikael110-llama-2-7b-guanaco-fp16.tar.gz\u001b[0m\n",
      "\u001b[34m46.4%|███████████▌              | 159MB/s | source: s3://sagemaker-us-west-2-376678947624/Mikael110-llama-2-7b-guanaco-fp16/models/base/Mikael110-llama-2-7b-guanaco-fp16.tar.gz\u001b[0m\n",
      "\u001b[34m46.7%|███████████▋              | 200MB/s | source: s3://sagemaker-us-west-2-376678947624/Mikael110-llama-2-7b-guanaco-fp16/models/base/Mikael110-llama-2-7b-guanaco-fp16.tar.gz\u001b[0m\n",
      "\u001b[34m46.9%|███████████▋              | 185MB/s | source: s3://sagemaker-us-west-2-376678947624/Mikael110-llama-2-7b-guanaco-fp16/models/base/Mikael110-llama-2-7b-guanaco-fp16.tar.gz\u001b[0m\n",
      "\u001b[34m47.0%|███████████▊              | 187MB/s | source: s3://sagemaker-us-west-2-376678947624/Mikael110-llama-2-7b-guanaco-fp16/models/base/Mikael110-llama-2-7b-guanaco-fp16.tar.gz\u001b[0m\n",
      "\u001b[34m47.2%|███████████▊              | 189MB/s | source: s3://sagemaker-us-west-2-376678947624/Mikael110-llama-2-7b-guanaco-fp16/models/base/Mikael110-llama-2-7b-guanaco-fp16.tar.gz\u001b[0m\n",
      "\u001b[34m47.4%|███████████▊              | 220MB/s | source: s3://sagemaker-us-west-2-376678947624/Mikael110-llama-2-7b-guanaco-fp16/models/base/Mikael110-llama-2-7b-guanaco-fp16.tar.gz\u001b[0m\n",
      "\u001b[34m47.6%|███████████▉              | 198MB/s | source: s3://sagemaker-us-west-2-376678947624/Mikael110-llama-2-7b-guanaco-fp16/models/base/Mikael110-llama-2-7b-guanaco-fp16.tar.gz\u001b[0m\n",
      "\u001b[34m47.7%|███████████▉              | 182MB/s | source: s3://sagemaker-us-west-2-376678947624/Mikael110-llama-2-7b-guanaco-fp16/models/base/Mikael110-llama-2-7b-guanaco-fp16.tar.gz\u001b[0m\n",
      "\u001b[34m47.9%|███████████▉              | 183MB/s | source: s3://sagemaker-us-west-2-376678947624/Mikael110-llama-2-7b-guanaco-fp16/models/base/Mikael110-llama-2-7b-guanaco-fp16.tar.gz\u001b[0m\n"
     ]
    },
    {
     "name": "stdout",
     "output_type": "stream",
     "text": [
      "\u001b[34m48.1%|████████████              | 218MB/s | source: s3://sagemaker-us-west-2-376678947624/Mikael110-llama-2-7b-guanaco-fp16/models/base/Mikael110-llama-2-7b-guanaco-fp16.tar.gz\u001b[0m\n",
      "\u001b[34m48.3%|████████████              | 241MB/s | source: s3://sagemaker-us-west-2-376678947624/Mikael110-llama-2-7b-guanaco-fp16/models/base/Mikael110-llama-2-7b-guanaco-fp16.tar.gz\u001b[0m\n",
      "\u001b[34m48.5%|████████████▏             | 178MB/s | source: s3://sagemaker-us-west-2-376678947624/Mikael110-llama-2-7b-guanaco-fp16/models/base/Mikael110-llama-2-7b-guanaco-fp16.tar.gz\u001b[0m\n",
      "\u001b[34m48.7%|████████████▏             | 181MB/s | source: s3://sagemaker-us-west-2-376678947624/Mikael110-llama-2-7b-guanaco-fp16/models/base/Mikael110-llama-2-7b-guanaco-fp16.tar.gz\u001b[0m\n",
      "\u001b[34m48.8%|████████████▏             | 166MB/s | source: s3://sagemaker-us-west-2-376678947624/Mikael110-llama-2-7b-guanaco-fp16/models/base/Mikael110-llama-2-7b-guanaco-fp16.tar.gz\u001b[0m\n",
      "\u001b[34m49.0%|████████████▎             | 184MB/s | source: s3://sagemaker-us-west-2-376678947624/Mikael110-llama-2-7b-guanaco-fp16/models/base/Mikael110-llama-2-7b-guanaco-fp16.tar.gz\u001b[0m\n",
      "\u001b[34m49.2%|████████████▎             | 193MB/s | source: s3://sagemaker-us-west-2-376678947624/Mikael110-llama-2-7b-guanaco-fp16/models/base/Mikael110-llama-2-7b-guanaco-fp16.tar.gz\u001b[0m\n",
      "\u001b[34m49.3%|████████████▎             | 162MB/s | source: s3://sagemaker-us-west-2-376678947624/Mikael110-llama-2-7b-guanaco-fp16/models/base/Mikael110-llama-2-7b-guanaco-fp16.tar.gz\u001b[0m\n",
      "\u001b[34m49.5%|████████████▍             | 169MB/s | source: s3://sagemaker-us-west-2-376678947624/Mikael110-llama-2-7b-guanaco-fp16/models/base/Mikael110-llama-2-7b-guanaco-fp16.tar.gz\u001b[0m\n",
      "\u001b[34m49.8%|████████████▍             | 232MB/s | source: s3://sagemaker-us-west-2-376678947624/Mikael110-llama-2-7b-guanaco-fp16/models/base/Mikael110-llama-2-7b-guanaco-fp16.tar.gz\u001b[0m\n",
      "\u001b[34m50.0%|████████████▌             | 182MB/s | source: s3://sagemaker-us-west-2-376678947624/Mikael110-llama-2-7b-guanaco-fp16/models/base/Mikael110-llama-2-7b-guanaco-fp16.tar.gz\u001b[0m\n",
      "\u001b[34m50.2%|████████████▌             | 172MB/s | source: s3://sagemaker-us-west-2-376678947624/Mikael110-llama-2-7b-guanaco-fp16/models/base/Mikael110-llama-2-7b-guanaco-fp16.tar.gz\u001b[0m\n",
      "\u001b[34m50.3%|████████████▌             | 170MB/s | source: s3://sagemaker-us-west-2-376678947624/Mikael110-llama-2-7b-guanaco-fp16/models/base/Mikael110-llama-2-7b-guanaco-fp16.tar.gz\u001b[0m\n",
      "\u001b[34m50.5%|████████████▋             | 194MB/s | source: s3://sagemaker-us-west-2-376678947624/Mikael110-llama-2-7b-guanaco-fp16/models/base/Mikael110-llama-2-7b-guanaco-fp16.tar.gz\u001b[0m\n",
      "\u001b[34m50.7%|████████████▋             | 172MB/s | source: s3://sagemaker-us-west-2-376678947624/Mikael110-llama-2-7b-guanaco-fp16/models/base/Mikael110-llama-2-7b-guanaco-fp16.tar.gz\u001b[0m\n",
      "\u001b[34m50.8%|████████████▋             | 166MB/s | source: s3://sagemaker-us-west-2-376678947624/Mikael110-llama-2-7b-guanaco-fp16/models/base/Mikael110-llama-2-7b-guanaco-fp16.tar.gz\u001b[0m\n",
      "\u001b[34m51.0%|████████████▊             | 195MB/s | source: s3://sagemaker-us-west-2-376678947624/Mikael110-llama-2-7b-guanaco-fp16/models/base/Mikael110-llama-2-7b-guanaco-fp16.tar.gz\u001b[0m\n",
      "\u001b[34m51.2%|████████████▊             | 190MB/s | source: s3://sagemaker-us-west-2-376678947624/Mikael110-llama-2-7b-guanaco-fp16/models/base/Mikael110-llama-2-7b-guanaco-fp16.tar.gz\u001b[0m\n",
      "\u001b[34m51.3%|████████████▊             | 185MB/s | source: s3://sagemaker-us-west-2-376678947624/Mikael110-llama-2-7b-guanaco-fp16/models/base/Mikael110-llama-2-7b-guanaco-fp16.tar.gz\u001b[0m\n",
      "\u001b[34m51.6%|████████████▉             | 210MB/s | source: s3://sagemaker-us-west-2-376678947624/Mikael110-llama-2-7b-guanaco-fp16/models/base/Mikael110-llama-2-7b-guanaco-fp16.tar.gz\u001b[0m\n",
      "\u001b[34m51.7%|████████████▉             | 193MB/s | source: s3://sagemaker-us-west-2-376678947624/Mikael110-llama-2-7b-guanaco-fp16/models/base/Mikael110-llama-2-7b-guanaco-fp16.tar.gz\u001b[0m\n",
      "\u001b[34m51.9%|████████████▉             | 170MB/s | source: s3://sagemaker-us-west-2-376678947624/Mikael110-llama-2-7b-guanaco-fp16/models/base/Mikael110-llama-2-7b-guanaco-fp16.tar.gz\u001b[0m\n",
      "\u001b[34m52.1%|█████████████             | 187MB/s | source: s3://sagemaker-us-west-2-376678947624/Mikael110-llama-2-7b-guanaco-fp16/models/base/Mikael110-llama-2-7b-guanaco-fp16.tar.gz\u001b[0m\n",
      "\u001b[34m52.3%|█████████████             | 207MB/s | source: s3://sagemaker-us-west-2-376678947624/Mikael110-llama-2-7b-guanaco-fp16/models/base/Mikael110-llama-2-7b-guanaco-fp16.tar.gz\u001b[0m\n",
      "\u001b[34m52.4%|█████████████             | 200MB/s | source: s3://sagemaker-us-west-2-376678947624/Mikael110-llama-2-7b-guanaco-fp16/models/base/Mikael110-llama-2-7b-guanaco-fp16.tar.gz\u001b[0m\n",
      "\u001b[34m52.6%|█████████████▏            | 203MB/s | source: s3://sagemaker-us-west-2-376678947624/Mikael110-llama-2-7b-guanaco-fp16/models/base/Mikael110-llama-2-7b-guanaco-fp16.tar.gz\u001b[0m\n",
      "\u001b[34m52.8%|█████████████▏            | 204MB/s | source: s3://sagemaker-us-west-2-376678947624/Mikael110-llama-2-7b-guanaco-fp16/models/base/Mikael110-llama-2-7b-guanaco-fp16.tar.gz\u001b[0m\n",
      "\u001b[34m53.0%|█████████████▎            | 216MB/s | source: s3://sagemaker-us-west-2-376678947624/Mikael110-llama-2-7b-guanaco-fp16/models/base/Mikael110-llama-2-7b-guanaco-fp16.tar.gz\u001b[0m\n",
      "\u001b[34m53.2%|█████████████▎            | 191MB/s | source: s3://sagemaker-us-west-2-376678947624/Mikael110-llama-2-7b-guanaco-fp16/models/base/Mikael110-llama-2-7b-guanaco-fp16.tar.gz\u001b[0m\n",
      "\u001b[34m53.3%|█████████████▎            | 171MB/s | source: s3://sagemaker-us-west-2-376678947624/Mikael110-llama-2-7b-guanaco-fp16/models/base/Mikael110-llama-2-7b-guanaco-fp16.tar.gz\u001b[0m\n",
      "\u001b[34m53.6%|█████████████▍            | 213MB/s | source: s3://sagemaker-us-west-2-376678947624/Mikael110-llama-2-7b-guanaco-fp16/models/base/Mikael110-llama-2-7b-guanaco-fp16.tar.gz\u001b[0m\n",
      "\u001b[34m53.7%|█████████████▍            | 190MB/s | source: s3://sagemaker-us-west-2-376678947624/Mikael110-llama-2-7b-guanaco-fp16/models/base/Mikael110-llama-2-7b-guanaco-fp16.tar.gz\u001b[0m\n",
      "\u001b[34m54.0%|█████████████▍            | 208MB/s | source: s3://sagemaker-us-west-2-376678947624/Mikael110-llama-2-7b-guanaco-fp16/models/base/Mikael110-llama-2-7b-guanaco-fp16.tar.gz\u001b[0m\n",
      "\u001b[34m54.1%|█████████████▌            | 186MB/s | source: s3://sagemaker-us-west-2-376678947624/Mikael110-llama-2-7b-guanaco-fp16/models/base/Mikael110-llama-2-7b-guanaco-fp16.tar.gz\u001b[0m\n",
      "\u001b[34m54.4%|█████████████▌            | 219MB/s | source: s3://sagemaker-us-west-2-376678947624/Mikael110-llama-2-7b-guanaco-fp16/models/base/Mikael110-llama-2-7b-guanaco-fp16.tar.gz\u001b[0m\n",
      "\u001b[34m54.5%|█████████████▋            | 201MB/s | source: s3://sagemaker-us-west-2-376678947624/Mikael110-llama-2-7b-guanaco-fp16/models/base/Mikael110-llama-2-7b-guanaco-fp16.tar.gz\u001b[0m\n",
      "\u001b[34m54.7%|█████████████▋            | 207MB/s | source: s3://sagemaker-us-west-2-376678947624/Mikael110-llama-2-7b-guanaco-fp16/models/base/Mikael110-llama-2-7b-guanaco-fp16.tar.gz\u001b[0m\n",
      "\u001b[34m54.9%|█████████████▋            | 206MB/s | source: s3://sagemaker-us-west-2-376678947624/Mikael110-llama-2-7b-guanaco-fp16/models/base/Mikael110-llama-2-7b-guanaco-fp16.tar.gz\u001b[0m\n",
      "\u001b[34m55.1%|█████████████▊            | 204MB/s | source: s3://sagemaker-us-west-2-376678947624/Mikael110-llama-2-7b-guanaco-fp16/models/base/Mikael110-llama-2-7b-guanaco-fp16.tar.gz\u001b[0m\n",
      "\u001b[34m55.2%|█████████████▊            | 189MB/s | source: s3://sagemaker-us-west-2-376678947624/Mikael110-llama-2-7b-guanaco-fp16/models/base/Mikael110-llama-2-7b-guanaco-fp16.tar.gz\u001b[0m\n",
      "\u001b[34m55.4%|█████████████▊            | 180MB/s | source: s3://sagemaker-us-west-2-376678947624/Mikael110-llama-2-7b-guanaco-fp16/models/base/Mikael110-llama-2-7b-guanaco-fp16.tar.gz\u001b[0m\n",
      "\u001b[34m55.5%|█████████████▉            | 177MB/s | source: s3://sagemaker-us-west-2-376678947624/Mikael110-llama-2-7b-guanaco-fp16/models/base/Mikael110-llama-2-7b-guanaco-fp16.tar.gz\u001b[0m\n",
      "\u001b[34m55.6%|█████████████▉            | 173MB/s | source: s3://sagemaker-us-west-2-376678947624/Mikael110-llama-2-7b-guanaco-fp16/models/base/Mikael110-llama-2-7b-guanaco-fp16.tar.gz\u001b[0m\n",
      "\u001b[34m55.9%|█████████████▉            | 204MB/s | source: s3://sagemaker-us-west-2-376678947624/Mikael110-llama-2-7b-guanaco-fp16/models/base/Mikael110-llama-2-7b-guanaco-fp16.tar.gz\u001b[0m\n",
      "\u001b[34m56.0%|██████████████            | 189MB/s | source: s3://sagemaker-us-west-2-376678947624/Mikael110-llama-2-7b-guanaco-fp16/models/base/Mikael110-llama-2-7b-guanaco-fp16.tar.gz\u001b[0m\n",
      "\u001b[34m56.2%|██████████████            | 156MB/s | source: s3://sagemaker-us-west-2-376678947624/Mikael110-llama-2-7b-guanaco-fp16/models/base/Mikael110-llama-2-7b-guanaco-fp16.tar.gz\u001b[0m\n",
      "\u001b[34m56.4%|██████████████            | 199MB/s | source: s3://sagemaker-us-west-2-376678947624/Mikael110-llama-2-7b-guanaco-fp16/models/base/Mikael110-llama-2-7b-guanaco-fp16.tar.gz\u001b[0m\n",
      "\u001b[34m56.6%|██████████████▏           | 163MB/s | source: s3://sagemaker-us-west-2-376678947624/Mikael110-llama-2-7b-guanaco-fp16/models/base/Mikael110-llama-2-7b-guanaco-fp16.tar.gz\u001b[0m\n",
      "\u001b[34m56.8%|██████████████▏           | 188MB/s | source: s3://sagemaker-us-west-2-376678947624/Mikael110-llama-2-7b-guanaco-fp16/models/base/Mikael110-llama-2-7b-guanaco-fp16.tar.gz\u001b[0m\n",
      "\u001b[34m56.9%|██████████████▏           | 192MB/s | source: s3://sagemaker-us-west-2-376678947624/Mikael110-llama-2-7b-guanaco-fp16/models/base/Mikael110-llama-2-7b-guanaco-fp16.tar.gz\u001b[0m\n",
      "\u001b[34m57.1%|██████████████▎           | 192MB/s | source: s3://sagemaker-us-west-2-376678947624/Mikael110-llama-2-7b-guanaco-fp16/models/base/Mikael110-llama-2-7b-guanaco-fp16.tar.gz\u001b[0m\n",
      "\u001b[34m57.3%|██████████████▎           | 181MB/s | source: s3://sagemaker-us-west-2-376678947624/Mikael110-llama-2-7b-guanaco-fp16/models/base/Mikael110-llama-2-7b-guanaco-fp16.tar.gz\u001b[0m\n",
      "\u001b[34m57.4%|██████████████▎           | 174MB/s | source: s3://sagemaker-us-west-2-376678947624/Mikael110-llama-2-7b-guanaco-fp16/models/base/Mikael110-llama-2-7b-guanaco-fp16.tar.gz\u001b[0m\n",
      "\u001b[34m57.6%|██████████████▍           | 188MB/s | source: s3://sagemaker-us-west-2-376678947624/Mikael110-llama-2-7b-guanaco-fp16/models/base/Mikael110-llama-2-7b-guanaco-fp16.tar.gz\u001b[0m\n",
      "\u001b[34m57.7%|██████████████▍           | 169MB/s | source: s3://sagemaker-us-west-2-376678947624/Mikael110-llama-2-7b-guanaco-fp16/models/base/Mikael110-llama-2-7b-guanaco-fp16.tar.gz\u001b[0m\n",
      "\u001b[34m57.9%|██████████████▍           | 160MB/s | source: s3://sagemaker-us-west-2-376678947624/Mikael110-llama-2-7b-guanaco-fp16/models/base/Mikael110-llama-2-7b-guanaco-fp16.tar.gz\u001b[0m\n",
      "\u001b[34m58.0%|██████████████▌           | 160MB/s | source: s3://sagemaker-us-west-2-376678947624/Mikael110-llama-2-7b-guanaco-fp16/models/base/Mikael110-llama-2-7b-guanaco-fp16.tar.gz\u001b[0m\n",
      "\u001b[34m58.2%|██████████████▌           | 164MB/s | source: s3://sagemaker-us-west-2-376678947624/Mikael110-llama-2-7b-guanaco-fp16/models/base/Mikael110-llama-2-7b-guanaco-fp16.tar.gz\u001b[0m\n",
      "\u001b[34m58.4%|██████████████▌           | 165MB/s | source: s3://sagemaker-us-west-2-376678947624/Mikael110-llama-2-7b-guanaco-fp16/models/base/Mikael110-llama-2-7b-guanaco-fp16.tar.gz\u001b[0m\n",
      "\u001b[34m58.6%|██████████████▋           | 211MB/s | source: s3://sagemaker-us-west-2-376678947624/Mikael110-llama-2-7b-guanaco-fp16/models/base/Mikael110-llama-2-7b-guanaco-fp16.tar.gz\u001b[0m\n",
      "\u001b[34m58.8%|██████████████▋           | 195MB/s | source: s3://sagemaker-us-west-2-376678947624/Mikael110-llama-2-7b-guanaco-fp16/models/base/Mikael110-llama-2-7b-guanaco-fp16.tar.gz\u001b[0m\n",
      "\u001b[34m59.0%|██████████████▋           | 183MB/s | source: s3://sagemaker-us-west-2-376678947624/Mikael110-llama-2-7b-guanaco-fp16/models/base/Mikael110-llama-2-7b-guanaco-fp16.tar.gz\u001b[0m\n",
      "\u001b[34m59.2%|██████████████▊           | 197MB/s | source: s3://sagemaker-us-west-2-376678947624/Mikael110-llama-2-7b-guanaco-fp16/models/base/Mikael110-llama-2-7b-guanaco-fp16.tar.gz\u001b[0m\n",
      "\u001b[34m59.3%|██████████████▊           | 193MB/s | source: s3://sagemaker-us-west-2-376678947624/Mikael110-llama-2-7b-guanaco-fp16/models/base/Mikael110-llama-2-7b-guanaco-fp16.tar.gz\u001b[0m\n",
      "\u001b[34m59.5%|██████████████▊           | 205MB/s | source: s3://sagemaker-us-west-2-376678947624/Mikael110-llama-2-7b-guanaco-fp16/models/base/Mikael110-llama-2-7b-guanaco-fp16.tar.gz\u001b[0m\n",
      "\u001b[34m59.7%|██████████████▉           | 206MB/s | source: s3://sagemaker-us-west-2-376678947624/Mikael110-llama-2-7b-guanaco-fp16/models/base/Mikael110-llama-2-7b-guanaco-fp16.tar.gz\u001b[0m\n",
      "\u001b[34m59.9%|██████████████▉           | 234MB/s | source: s3://sagemaker-us-west-2-376678947624/Mikael110-llama-2-7b-guanaco-fp16/models/base/Mikael110-llama-2-7b-guanaco-fp16.tar.gz\u001b[0m\n",
      "\u001b[34m60.1%|███████████████           | 195MB/s | source: s3://sagemaker-us-west-2-376678947624/Mikael110-llama-2-7b-guanaco-fp16/models/base/Mikael110-llama-2-7b-guanaco-fp16.tar.gz\u001b[0m\n",
      "\u001b[34m60.3%|███████████████           | 221MB/s | source: s3://sagemaker-us-west-2-376678947624/Mikael110-llama-2-7b-guanaco-fp16/models/base/Mikael110-llama-2-7b-guanaco-fp16.tar.gz\u001b[0m\n",
      "\u001b[34m60.5%|███████████████           | 227MB/s | source: s3://sagemaker-us-west-2-376678947624/Mikael110-llama-2-7b-guanaco-fp16/models/base/Mikael110-llama-2-7b-guanaco-fp16.tar.gz\u001b[0m\n",
      "\u001b[34m60.6%|███████████████▏          | 215MB/s | source: s3://sagemaker-us-west-2-376678947624/Mikael110-llama-2-7b-guanaco-fp16/models/base/Mikael110-llama-2-7b-guanaco-fp16.tar.gz\u001b[0m\n",
      "\u001b[34m60.8%|███████████████▏          | 206MB/s | source: s3://sagemaker-us-west-2-376678947624/Mikael110-llama-2-7b-guanaco-fp16/models/base/Mikael110-llama-2-7b-guanaco-fp16.tar.gz\u001b[0m\n",
      "\u001b[34m61.0%|███████████████▏          | 199MB/s | source: s3://sagemaker-us-west-2-376678947624/Mikael110-llama-2-7b-guanaco-fp16/models/base/Mikael110-llama-2-7b-guanaco-fp16.tar.gz\u001b[0m\n",
      "\u001b[34m61.1%|███████████████▎          | 187MB/s | source: s3://sagemaker-us-west-2-376678947624/Mikael110-llama-2-7b-guanaco-fp16/models/base/Mikael110-llama-2-7b-guanaco-fp16.tar.gz\u001b[0m\n",
      "\u001b[34m61.3%|███████████████▎          | 188MB/s | source: s3://sagemaker-us-west-2-376678947624/Mikael110-llama-2-7b-guanaco-fp16/models/base/Mikael110-llama-2-7b-guanaco-fp16.tar.gz\u001b[0m\n",
      "\u001b[34m61.5%|███████████████▍          | 191MB/s | source: s3://sagemaker-us-west-2-376678947624/Mikael110-llama-2-7b-guanaco-fp16/models/base/Mikael110-llama-2-7b-guanaco-fp16.tar.gz\u001b[0m\n",
      "\u001b[34m61.7%|███████████████▍          | 168MB/s | source: s3://sagemaker-us-west-2-376678947624/Mikael110-llama-2-7b-guanaco-fp16/models/base/Mikael110-llama-2-7b-guanaco-fp16.tar.gz\u001b[0m\n",
      "\u001b[34m61.8%|███████████████▍          | 158MB/s | source: s3://sagemaker-us-west-2-376678947624/Mikael110-llama-2-7b-guanaco-fp16/models/base/Mikael110-llama-2-7b-guanaco-fp16.tar.gz\u001b[0m\n"
     ]
    },
    {
     "name": "stdout",
     "output_type": "stream",
     "text": [
      "\u001b[34m61.9%|███████████████▍          | 153MB/s | source: s3://sagemaker-us-west-2-376678947624/Mikael110-llama-2-7b-guanaco-fp16/models/base/Mikael110-llama-2-7b-guanaco-fp16.tar.gz\u001b[0m\n",
      "\u001b[34m62.0%|███████████████▌          | 147MB/s | source: s3://sagemaker-us-west-2-376678947624/Mikael110-llama-2-7b-guanaco-fp16/models/base/Mikael110-llama-2-7b-guanaco-fp16.tar.gz\u001b[0m\n",
      "\u001b[34m62.2%|███████████████▌          | 158MB/s | source: s3://sagemaker-us-west-2-376678947624/Mikael110-llama-2-7b-guanaco-fp16/models/base/Mikael110-llama-2-7b-guanaco-fp16.tar.gz\u001b[0m\n",
      "\u001b[34m62.3%|███████████████▌          | 146MB/s | source: s3://sagemaker-us-west-2-376678947624/Mikael110-llama-2-7b-guanaco-fp16/models/base/Mikael110-llama-2-7b-guanaco-fp16.tar.gz\u001b[0m\n",
      "\u001b[34m62.5%|███████████████▌          | 165MB/s | source: s3://sagemaker-us-west-2-376678947624/Mikael110-llama-2-7b-guanaco-fp16/models/base/Mikael110-llama-2-7b-guanaco-fp16.tar.gz\u001b[0m\n",
      "\u001b[34m62.7%|███████████████▋          | 188MB/s | source: s3://sagemaker-us-west-2-376678947624/Mikael110-llama-2-7b-guanaco-fp16/models/base/Mikael110-llama-2-7b-guanaco-fp16.tar.gz\u001b[0m\n",
      "\u001b[34m62.8%|███████████████▋          | 170MB/s | source: s3://sagemaker-us-west-2-376678947624/Mikael110-llama-2-7b-guanaco-fp16/models/base/Mikael110-llama-2-7b-guanaco-fp16.tar.gz\u001b[0m\n",
      "\u001b[34m63.0%|███████████████▋          | 163MB/s | source: s3://sagemaker-us-west-2-376678947624/Mikael110-llama-2-7b-guanaco-fp16/models/base/Mikael110-llama-2-7b-guanaco-fp16.tar.gz\u001b[0m\n",
      "\u001b[34m63.1%|███████████████▊          | 136MB/s | source: s3://sagemaker-us-west-2-376678947624/Mikael110-llama-2-7b-guanaco-fp16/models/base/Mikael110-llama-2-7b-guanaco-fp16.tar.gz\u001b[0m\n",
      "\u001b[34m63.3%|███████████████▊          | 178MB/s | source: s3://sagemaker-us-west-2-376678947624/Mikael110-llama-2-7b-guanaco-fp16/models/base/Mikael110-llama-2-7b-guanaco-fp16.tar.gz\u001b[0m\n",
      "\u001b[34m63.5%|███████████████▉          | 208MB/s | source: s3://sagemaker-us-west-2-376678947624/Mikael110-llama-2-7b-guanaco-fp16/models/base/Mikael110-llama-2-7b-guanaco-fp16.tar.gz\u001b[0m\n",
      "\u001b[34m63.7%|███████████████▉          | 156MB/s | source: s3://sagemaker-us-west-2-376678947624/Mikael110-llama-2-7b-guanaco-fp16/models/base/Mikael110-llama-2-7b-guanaco-fp16.tar.gz\u001b[0m\n",
      "\u001b[34m63.8%|███████████████▉          | 157MB/s | source: s3://sagemaker-us-west-2-376678947624/Mikael110-llama-2-7b-guanaco-fp16/models/base/Mikael110-llama-2-7b-guanaco-fp16.tar.gz\u001b[0m\n",
      "\u001b[34m64.0%|████████████████          | 158MB/s | source: s3://sagemaker-us-west-2-376678947624/Mikael110-llama-2-7b-guanaco-fp16/models/base/Mikael110-llama-2-7b-guanaco-fp16.tar.gz\u001b[0m\n",
      "\u001b[34m64.2%|████████████████          | 190MB/s | source: s3://sagemaker-us-west-2-376678947624/Mikael110-llama-2-7b-guanaco-fp16/models/base/Mikael110-llama-2-7b-guanaco-fp16.tar.gz\u001b[0m\n",
      "\u001b[34m64.4%|████████████████          | 183MB/s | source: s3://sagemaker-us-west-2-376678947624/Mikael110-llama-2-7b-guanaco-fp16/models/base/Mikael110-llama-2-7b-guanaco-fp16.tar.gz\u001b[0m\n",
      "\u001b[34m64.6%|████████████████▏         | 202MB/s | source: s3://sagemaker-us-west-2-376678947624/Mikael110-llama-2-7b-guanaco-fp16/models/base/Mikael110-llama-2-7b-guanaco-fp16.tar.gz\u001b[0m\n",
      "\u001b[34m64.8%|████████████████▏         | 215MB/s | source: s3://sagemaker-us-west-2-376678947624/Mikael110-llama-2-7b-guanaco-fp16/models/base/Mikael110-llama-2-7b-guanaco-fp16.tar.gz\u001b[0m\n",
      "\u001b[34m64.9%|████████████████▏         | 187MB/s | source: s3://sagemaker-us-west-2-376678947624/Mikael110-llama-2-7b-guanaco-fp16/models/base/Mikael110-llama-2-7b-guanaco-fp16.tar.gz\u001b[0m\n",
      "\u001b[34m65.1%|████████████████▎         | 186MB/s | source: s3://sagemaker-us-west-2-376678947624/Mikael110-llama-2-7b-guanaco-fp16/models/base/Mikael110-llama-2-7b-guanaco-fp16.tar.gz\u001b[0m\n",
      "\u001b[34m65.3%|████████████████▎         | 202MB/s | source: s3://sagemaker-us-west-2-376678947624/Mikael110-llama-2-7b-guanaco-fp16/models/base/Mikael110-llama-2-7b-guanaco-fp16.tar.gz\u001b[0m\n",
      "\u001b[34m65.5%|████████████████▎         | 215MB/s | source: s3://sagemaker-us-west-2-376678947624/Mikael110-llama-2-7b-guanaco-fp16/models/base/Mikael110-llama-2-7b-guanaco-fp16.tar.gz\u001b[0m\n",
      "\u001b[34m65.6%|████████████████▍         | 181MB/s | source: s3://sagemaker-us-west-2-376678947624/Mikael110-llama-2-7b-guanaco-fp16/models/base/Mikael110-llama-2-7b-guanaco-fp16.tar.gz\u001b[0m\n",
      "\u001b[34m65.8%|████████████████▍         | 171MB/s | source: s3://sagemaker-us-west-2-376678947624/Mikael110-llama-2-7b-guanaco-fp16/models/base/Mikael110-llama-2-7b-guanaco-fp16.tar.gz\u001b[0m\n",
      "\u001b[34m65.9%|████████████████▍         | 155MB/s | source: s3://sagemaker-us-west-2-376678947624/Mikael110-llama-2-7b-guanaco-fp16/models/base/Mikael110-llama-2-7b-guanaco-fp16.tar.gz\u001b[0m\n",
      "\u001b[34m66.1%|████████████████▌         | 186MB/s | source: s3://sagemaker-us-west-2-376678947624/Mikael110-llama-2-7b-guanaco-fp16/models/base/Mikael110-llama-2-7b-guanaco-fp16.tar.gz\u001b[0m\n",
      "\u001b[34m66.3%|████████████████▌         | 186MB/s | source: s3://sagemaker-us-west-2-376678947624/Mikael110-llama-2-7b-guanaco-fp16/models/base/Mikael110-llama-2-7b-guanaco-fp16.tar.gz\u001b[0m\n",
      "\u001b[34m66.4%|████████████████▌         | 157MB/s | source: s3://sagemaker-us-west-2-376678947624/Mikael110-llama-2-7b-guanaco-fp16/models/base/Mikael110-llama-2-7b-guanaco-fp16.tar.gz\u001b[0m\n",
      "\u001b[34m66.5%|████████████████▋         | 152MB/s | source: s3://sagemaker-us-west-2-376678947624/Mikael110-llama-2-7b-guanaco-fp16/models/base/Mikael110-llama-2-7b-guanaco-fp16.tar.gz\u001b[0m\n",
      "\u001b[34m66.7%|████████████████▋         | 174MB/s | source: s3://sagemaker-us-west-2-376678947624/Mikael110-llama-2-7b-guanaco-fp16/models/base/Mikael110-llama-2-7b-guanaco-fp16.tar.gz\u001b[0m\n",
      "\u001b[34m66.7%|████████████████▋         | 192MB/s | source: s3://sagemaker-us-west-2-376678947624/Mikael110-llama-2-7b-guanaco-fp16/models/base/Mikael110-llama-2-7b-guanaco-fp16.tar.gz\u001b[0m\n",
      "\u001b[34m66.9%|████████████████▋         | 192MB/s | source: s3://sagemaker-us-west-2-376678947624/Mikael110-llama-2-7b-guanaco-fp16/models/base/Mikael110-llama-2-7b-guanaco-fp16.tar.gz\u001b[0m\n",
      "\u001b[34m67.1%|████████████████▊         | 228MB/s | source: s3://sagemaker-us-west-2-376678947624/Mikael110-llama-2-7b-guanaco-fp16/models/base/Mikael110-llama-2-7b-guanaco-fp16.tar.gz\u001b[0m\n",
      "\u001b[34m67.3%|████████████████▊         | 222MB/s | source: s3://sagemaker-us-west-2-376678947624/Mikael110-llama-2-7b-guanaco-fp16/models/base/Mikael110-llama-2-7b-guanaco-fp16.tar.gz\u001b[0m\n",
      "\u001b[34m67.5%|████████████████▊         | 205MB/s | source: s3://sagemaker-us-west-2-376678947624/Mikael110-llama-2-7b-guanaco-fp16/models/base/Mikael110-llama-2-7b-guanaco-fp16.tar.gz\u001b[0m\n",
      "\u001b[34m67.6%|████████████████▉         | 206MB/s | source: s3://sagemaker-us-west-2-376678947624/Mikael110-llama-2-7b-guanaco-fp16/models/base/Mikael110-llama-2-7b-guanaco-fp16.tar.gz\u001b[0m\n",
      "\u001b[34m67.8%|████████████████▉         | 198MB/s | source: s3://sagemaker-us-west-2-376678947624/Mikael110-llama-2-7b-guanaco-fp16/models/base/Mikael110-llama-2-7b-guanaco-fp16.tar.gz\u001b[0m\n",
      "\u001b[34m68.0%|████████████████▉         | 162MB/s | source: s3://sagemaker-us-west-2-376678947624/Mikael110-llama-2-7b-guanaco-fp16/models/base/Mikael110-llama-2-7b-guanaco-fp16.tar.gz\u001b[0m\n",
      "\u001b[34m68.2%|█████████████████         | 184MB/s | source: s3://sagemaker-us-west-2-376678947624/Mikael110-llama-2-7b-guanaco-fp16/models/base/Mikael110-llama-2-7b-guanaco-fp16.tar.gz\u001b[0m\n",
      "\u001b[34m68.3%|█████████████████         | 181MB/s | source: s3://sagemaker-us-west-2-376678947624/Mikael110-llama-2-7b-guanaco-fp16/models/base/Mikael110-llama-2-7b-guanaco-fp16.tar.gz\u001b[0m\n",
      "\u001b[34m68.5%|█████████████████▏        | 203MB/s | source: s3://sagemaker-us-west-2-376678947624/Mikael110-llama-2-7b-guanaco-fp16/models/base/Mikael110-llama-2-7b-guanaco-fp16.tar.gz\u001b[0m\n",
      "\u001b[34m68.7%|█████████████████▏        | 164MB/s | source: s3://sagemaker-us-west-2-376678947624/Mikael110-llama-2-7b-guanaco-fp16/models/base/Mikael110-llama-2-7b-guanaco-fp16.tar.gz\u001b[0m\n",
      "\u001b[34m68.9%|█████████████████▏        | 185MB/s | source: s3://sagemaker-us-west-2-376678947624/Mikael110-llama-2-7b-guanaco-fp16/models/base/Mikael110-llama-2-7b-guanaco-fp16.tar.gz\u001b[0m\n",
      "\u001b[34m69.0%|█████████████████▎        | 192MB/s | source: s3://sagemaker-us-west-2-376678947624/Mikael110-llama-2-7b-guanaco-fp16/models/base/Mikael110-llama-2-7b-guanaco-fp16.tar.gz\u001b[0m\n",
      "\u001b[34m69.2%|█████████████████▎        | 159MB/s | source: s3://sagemaker-us-west-2-376678947624/Mikael110-llama-2-7b-guanaco-fp16/models/base/Mikael110-llama-2-7b-guanaco-fp16.tar.gz\u001b[0m\n",
      "\u001b[34m69.3%|█████████████████▎        | 165MB/s | source: s3://sagemaker-us-west-2-376678947624/Mikael110-llama-2-7b-guanaco-fp16/models/base/Mikael110-llama-2-7b-guanaco-fp16.tar.gz\u001b[0m\n",
      "\u001b[34m69.5%|█████████████████▎        | 178MB/s | source: s3://sagemaker-us-west-2-376678947624/Mikael110-llama-2-7b-guanaco-fp16/models/base/Mikael110-llama-2-7b-guanaco-fp16.tar.gz\u001b[0m\n",
      "\u001b[34m69.7%|█████████████████▍        | 181MB/s | source: s3://sagemaker-us-west-2-376678947624/Mikael110-llama-2-7b-guanaco-fp16/models/base/Mikael110-llama-2-7b-guanaco-fp16.tar.gz\u001b[0m\n",
      "\u001b[34m69.8%|█████████████████▍        | 183MB/s | source: s3://sagemaker-us-west-2-376678947624/Mikael110-llama-2-7b-guanaco-fp16/models/base/Mikael110-llama-2-7b-guanaco-fp16.tar.gz\u001b[0m\n",
      "\u001b[34m69.9%|█████████████████▍        | 171MB/s | source: s3://sagemaker-us-west-2-376678947624/Mikael110-llama-2-7b-guanaco-fp16/models/base/Mikael110-llama-2-7b-guanaco-fp16.tar.gz\u001b[0m\n",
      "\u001b[34m70.2%|█████████████████▌        | 206MB/s | source: s3://sagemaker-us-west-2-376678947624/Mikael110-llama-2-7b-guanaco-fp16/models/base/Mikael110-llama-2-7b-guanaco-fp16.tar.gz\u001b[0m\n",
      "\u001b[34m70.3%|█████████████████▌        | 195MB/s | source: s3://sagemaker-us-west-2-376678947624/Mikael110-llama-2-7b-guanaco-fp16/models/base/Mikael110-llama-2-7b-guanaco-fp16.tar.gz\u001b[0m\n",
      "\u001b[34m70.5%|█████████████████▌        | 185MB/s | source: s3://sagemaker-us-west-2-376678947624/Mikael110-llama-2-7b-guanaco-fp16/models/base/Mikael110-llama-2-7b-guanaco-fp16.tar.gz\u001b[0m\n",
      "\u001b[34m70.7%|█████████████████▋        | 187MB/s | source: s3://sagemaker-us-west-2-376678947624/Mikael110-llama-2-7b-guanaco-fp16/models/base/Mikael110-llama-2-7b-guanaco-fp16.tar.gz\u001b[0m\n",
      "\u001b[34m71.0%|█████████████████▋        | 237MB/s | source: s3://sagemaker-us-west-2-376678947624/Mikael110-llama-2-7b-guanaco-fp16/models/base/Mikael110-llama-2-7b-guanaco-fp16.tar.gz\u001b[0m\n",
      "\u001b[34m71.2%|█████████████████▊        | 168MB/s | source: s3://sagemaker-us-west-2-376678947624/Mikael110-llama-2-7b-guanaco-fp16/models/base/Mikael110-llama-2-7b-guanaco-fp16.tar.gz\u001b[0m\n",
      "\u001b[34m71.4%|█████████████████▊        | 193MB/s | source: s3://sagemaker-us-west-2-376678947624/Mikael110-llama-2-7b-guanaco-fp16/models/base/Mikael110-llama-2-7b-guanaco-fp16.tar.gz\u001b[0m\n",
      "\u001b[34m71.6%|█████████████████▉        | 171MB/s | source: s3://sagemaker-us-west-2-376678947624/Mikael110-llama-2-7b-guanaco-fp16/models/base/Mikael110-llama-2-7b-guanaco-fp16.tar.gz\u001b[0m\n",
      "\u001b[34m71.7%|█████████████████▉        | 173MB/s | source: s3://sagemaker-us-west-2-376678947624/Mikael110-llama-2-7b-guanaco-fp16/models/base/Mikael110-llama-2-7b-guanaco-fp16.tar.gz\u001b[0m\n",
      "\u001b[34m71.9%|█████████████████▉        | 174MB/s | source: s3://sagemaker-us-west-2-376678947624/Mikael110-llama-2-7b-guanaco-fp16/models/base/Mikael110-llama-2-7b-guanaco-fp16.tar.gz\u001b[0m\n",
      "\u001b[34m72.1%|██████████████████        | 187MB/s | source: s3://sagemaker-us-west-2-376678947624/Mikael110-llama-2-7b-guanaco-fp16/models/base/Mikael110-llama-2-7b-guanaco-fp16.tar.gz\u001b[0m\n",
      "\u001b[34m72.2%|██████████████████        | 164MB/s | source: s3://sagemaker-us-west-2-376678947624/Mikael110-llama-2-7b-guanaco-fp16/models/base/Mikael110-llama-2-7b-guanaco-fp16.tar.gz\u001b[0m\n",
      "\u001b[34m72.4%|██████████████████        | 182MB/s | source: s3://sagemaker-us-west-2-376678947624/Mikael110-llama-2-7b-guanaco-fp16/models/base/Mikael110-llama-2-7b-guanaco-fp16.tar.gz\u001b[0m\n",
      "\u001b[34m72.6%|██████████████████▏       | 194MB/s | source: s3://sagemaker-us-west-2-376678947624/Mikael110-llama-2-7b-guanaco-fp16/models/base/Mikael110-llama-2-7b-guanaco-fp16.tar.gz\u001b[0m\n",
      "\u001b[34m72.7%|██████████████████▏       | 190MB/s | source: s3://sagemaker-us-west-2-376678947624/Mikael110-llama-2-7b-guanaco-fp16/models/base/Mikael110-llama-2-7b-guanaco-fp16.tar.gz\u001b[0m\n",
      "\u001b[34m72.9%|██████████████████▏       | 199MB/s | source: s3://sagemaker-us-west-2-376678947624/Mikael110-llama-2-7b-guanaco-fp16/models/base/Mikael110-llama-2-7b-guanaco-fp16.tar.gz\u001b[0m\n",
      "\u001b[34m73.0%|██████████████████▎       | 181MB/s | source: s3://sagemaker-us-west-2-376678947624/Mikael110-llama-2-7b-guanaco-fp16/models/base/Mikael110-llama-2-7b-guanaco-fp16.tar.gz\u001b[0m\n",
      "\u001b[34m73.0%|██████████████████▎       | 170MB/s | source: s3://sagemaker-us-west-2-376678947624/Mikael110-llama-2-7b-guanaco-fp16/models/base/Mikael110-llama-2-7b-guanaco-fp16.tar.gz\u001b[0m\n",
      "\u001b[34m73.2%|██████████████████▎       | 175MB/s | source: s3://sagemaker-us-west-2-376678947624/Mikael110-llama-2-7b-guanaco-fp16/models/base/Mikael110-llama-2-7b-guanaco-fp16.tar.gz\u001b[0m\n",
      "\u001b[34m73.4%|██████████████████▎       | 192MB/s | source: s3://sagemaker-us-west-2-376678947624/Mikael110-llama-2-7b-guanaco-fp16/models/base/Mikael110-llama-2-7b-guanaco-fp16.tar.gz\u001b[0m\n",
      "\u001b[34m73.5%|██████████████████▍       | 188MB/s | source: s3://sagemaker-us-west-2-376678947624/Mikael110-llama-2-7b-guanaco-fp16/models/base/Mikael110-llama-2-7b-guanaco-fp16.tar.gz\u001b[0m\n",
      "\u001b[34m73.7%|██████████████████▍       | 157MB/s | source: s3://sagemaker-us-west-2-376678947624/Mikael110-llama-2-7b-guanaco-fp16/models/base/Mikael110-llama-2-7b-guanaco-fp16.tar.gz\u001b[0m\n",
      "\u001b[34m73.9%|██████████████████▍       | 203MB/s | source: s3://sagemaker-us-west-2-376678947624/Mikael110-llama-2-7b-guanaco-fp16/models/base/Mikael110-llama-2-7b-guanaco-fp16.tar.gz\u001b[0m\n",
      "\u001b[34m74.1%|██████████████████▌       | 164MB/s | source: s3://sagemaker-us-west-2-376678947624/Mikael110-llama-2-7b-guanaco-fp16/models/base/Mikael110-llama-2-7b-guanaco-fp16.tar.gz\u001b[0m\n",
      "\u001b[34m74.2%|██████████████████▌       | 175MB/s | source: s3://sagemaker-us-west-2-376678947624/Mikael110-llama-2-7b-guanaco-fp16/models/base/Mikael110-llama-2-7b-guanaco-fp16.tar.gz\u001b[0m\n",
      "\u001b[34m74.4%|██████████████████▌       | 180MB/s | source: s3://sagemaker-us-west-2-376678947624/Mikael110-llama-2-7b-guanaco-fp16/models/base/Mikael110-llama-2-7b-guanaco-fp16.tar.gz\u001b[0m\n",
      "\u001b[34m74.5%|██████████████████▋       | 167MB/s | source: s3://sagemaker-us-west-2-376678947624/Mikael110-llama-2-7b-guanaco-fp16/models/base/Mikael110-llama-2-7b-guanaco-fp16.tar.gz\u001b[0m\n",
      "\u001b[34m74.7%|██████████████████▋       | 153MB/s | source: s3://sagemaker-us-west-2-376678947624/Mikael110-llama-2-7b-guanaco-fp16/models/base/Mikael110-llama-2-7b-guanaco-fp16.tar.gz\u001b[0m\n",
      "\u001b[34m74.9%|██████████████████▋       | 199MB/s | source: s3://sagemaker-us-west-2-376678947624/Mikael110-llama-2-7b-guanaco-fp16/models/base/Mikael110-llama-2-7b-guanaco-fp16.tar.gz\u001b[0m\n",
      "\u001b[34m75.1%|██████████████████▊       | 188MB/s | source: s3://sagemaker-us-west-2-376678947624/Mikael110-llama-2-7b-guanaco-fp16/models/base/Mikael110-llama-2-7b-guanaco-fp16.tar.gz\u001b[0m\n",
      "\u001b[34m75.2%|██████████████████▊       | 162MB/s | source: s3://sagemaker-us-west-2-376678947624/Mikael110-llama-2-7b-guanaco-fp16/models/base/Mikael110-llama-2-7b-guanaco-fp16.tar.gz\u001b[0m\n"
     ]
    },
    {
     "name": "stdout",
     "output_type": "stream",
     "text": [
      "\u001b[34m75.4%|██████████████████▊       | 189MB/s | source: s3://sagemaker-us-west-2-376678947624/Mikael110-llama-2-7b-guanaco-fp16/models/base/Mikael110-llama-2-7b-guanaco-fp16.tar.gz\u001b[0m\n",
      "\u001b[34m75.6%|██████████████████▉       | 199MB/s | source: s3://sagemaker-us-west-2-376678947624/Mikael110-llama-2-7b-guanaco-fp16/models/base/Mikael110-llama-2-7b-guanaco-fp16.tar.gz\u001b[0m\n",
      "\u001b[34m75.8%|██████████████████▉       | 214MB/s | source: s3://sagemaker-us-west-2-376678947624/Mikael110-llama-2-7b-guanaco-fp16/models/base/Mikael110-llama-2-7b-guanaco-fp16.tar.gz\u001b[0m\n",
      "\u001b[34m76.0%|██████████████████▉       | 190MB/s | source: s3://sagemaker-us-west-2-376678947624/Mikael110-llama-2-7b-guanaco-fp16/models/base/Mikael110-llama-2-7b-guanaco-fp16.tar.gz\u001b[0m\n",
      "\u001b[34m76.1%|███████████████████       | 171MB/s | source: s3://sagemaker-us-west-2-376678947624/Mikael110-llama-2-7b-guanaco-fp16/models/base/Mikael110-llama-2-7b-guanaco-fp16.tar.gz\u001b[0m\n",
      "\u001b[34m76.3%|███████████████████       | 190MB/s | source: s3://sagemaker-us-west-2-376678947624/Mikael110-llama-2-7b-guanaco-fp16/models/base/Mikael110-llama-2-7b-guanaco-fp16.tar.gz\u001b[0m\n",
      "\u001b[34m76.5%|███████████████████       | 185MB/s | source: s3://sagemaker-us-west-2-376678947624/Mikael110-llama-2-7b-guanaco-fp16/models/base/Mikael110-llama-2-7b-guanaco-fp16.tar.gz\u001b[0m\n",
      "\u001b[34m76.7%|███████████████████▏      | 227MB/s | source: s3://sagemaker-us-west-2-376678947624/Mikael110-llama-2-7b-guanaco-fp16/models/base/Mikael110-llama-2-7b-guanaco-fp16.tar.gz\u001b[0m\n",
      "\u001b[34m76.9%|███████████████████▏      | 199MB/s | source: s3://sagemaker-us-west-2-376678947624/Mikael110-llama-2-7b-guanaco-fp16/models/base/Mikael110-llama-2-7b-guanaco-fp16.tar.gz\u001b[0m\n",
      "\u001b[34m77.1%|███████████████████▎      | 190MB/s | source: s3://sagemaker-us-west-2-376678947624/Mikael110-llama-2-7b-guanaco-fp16/models/base/Mikael110-llama-2-7b-guanaco-fp16.tar.gz\u001b[0m\n",
      "\u001b[34m77.2%|███████████████████▎      | 204MB/s | source: s3://sagemaker-us-west-2-376678947624/Mikael110-llama-2-7b-guanaco-fp16/models/base/Mikael110-llama-2-7b-guanaco-fp16.tar.gz\u001b[0m\n",
      "\u001b[34m77.4%|███████████████████▎      | 200MB/s | source: s3://sagemaker-us-west-2-376678947624/Mikael110-llama-2-7b-guanaco-fp16/models/base/Mikael110-llama-2-7b-guanaco-fp16.tar.gz\u001b[0m\n",
      "\u001b[34m77.6%|███████████████████▍      | 196MB/s | source: s3://sagemaker-us-west-2-376678947624/Mikael110-llama-2-7b-guanaco-fp16/models/base/Mikael110-llama-2-7b-guanaco-fp16.tar.gz\u001b[0m\n",
      "\u001b[34m77.7%|███████████████████▍      | 191MB/s | source: s3://sagemaker-us-west-2-376678947624/Mikael110-llama-2-7b-guanaco-fp16/models/base/Mikael110-llama-2-7b-guanaco-fp16.tar.gz\u001b[0m\n",
      "\u001b[34m77.9%|███████████████████▍      | 186MB/s | source: s3://sagemaker-us-west-2-376678947624/Mikael110-llama-2-7b-guanaco-fp16/models/base/Mikael110-llama-2-7b-guanaco-fp16.tar.gz\u001b[0m\n",
      "\u001b[34m78.1%|███████████████████▌      | 217MB/s | source: s3://sagemaker-us-west-2-376678947624/Mikael110-llama-2-7b-guanaco-fp16/models/base/Mikael110-llama-2-7b-guanaco-fp16.tar.gz\u001b[0m\n",
      "\u001b[34m78.3%|███████████████████▌      | 186MB/s | source: s3://sagemaker-us-west-2-376678947624/Mikael110-llama-2-7b-guanaco-fp16/models/base/Mikael110-llama-2-7b-guanaco-fp16.tar.gz\u001b[0m\n",
      "\u001b[34m78.4%|███████████████████▌      | 182MB/s | source: s3://sagemaker-us-west-2-376678947624/Mikael110-llama-2-7b-guanaco-fp16/models/base/Mikael110-llama-2-7b-guanaco-fp16.tar.gz\u001b[0m\n",
      "\u001b[34m78.6%|███████████████████▋      | 186MB/s | source: s3://sagemaker-us-west-2-376678947624/Mikael110-llama-2-7b-guanaco-fp16/models/base/Mikael110-llama-2-7b-guanaco-fp16.tar.gz\u001b[0m\n",
      "\u001b[34m78.7%|███████████████████▋      | 199MB/s | source: s3://sagemaker-us-west-2-376678947624/Mikael110-llama-2-7b-guanaco-fp16/models/base/Mikael110-llama-2-7b-guanaco-fp16.tar.gz\u001b[0m\n",
      "\u001b[34m78.9%|███████████████████▋      | 216MB/s | source: s3://sagemaker-us-west-2-376678947624/Mikael110-llama-2-7b-guanaco-fp16/models/base/Mikael110-llama-2-7b-guanaco-fp16.tar.gz\u001b[0m\n",
      "\u001b[34m79.1%|███████████████████▊      | 202MB/s | source: s3://sagemaker-us-west-2-376678947624/Mikael110-llama-2-7b-guanaco-fp16/models/base/Mikael110-llama-2-7b-guanaco-fp16.tar.gz\u001b[0m\n",
      "\u001b[34m79.3%|███████████████████▊      | 221MB/s | source: s3://sagemaker-us-west-2-376678947624/Mikael110-llama-2-7b-guanaco-fp16/models/base/Mikael110-llama-2-7b-guanaco-fp16.tar.gz\u001b[0m\n",
      "\u001b[34m79.5%|███████████████████▊      | 188MB/s | source: s3://sagemaker-us-west-2-376678947624/Mikael110-llama-2-7b-guanaco-fp16/models/base/Mikael110-llama-2-7b-guanaco-fp16.tar.gz\u001b[0m\n",
      "\u001b[34m79.6%|███████████████████▉      | 197MB/s | source: s3://sagemaker-us-west-2-376678947624/Mikael110-llama-2-7b-guanaco-fp16/models/base/Mikael110-llama-2-7b-guanaco-fp16.tar.gz\u001b[0m\n",
      "\u001b[34m79.8%|███████████████████▉      | 199MB/s | source: s3://sagemaker-us-west-2-376678947624/Mikael110-llama-2-7b-guanaco-fp16/models/base/Mikael110-llama-2-7b-guanaco-fp16.tar.gz\u001b[0m\n",
      "\u001b[34m80.0%|███████████████████▉      | 207MB/s | source: s3://sagemaker-us-west-2-376678947624/Mikael110-llama-2-7b-guanaco-fp16/models/base/Mikael110-llama-2-7b-guanaco-fp16.tar.gz\u001b[0m\n",
      "\u001b[34m80.1%|████████████████████      | 195MB/s | source: s3://sagemaker-us-west-2-376678947624/Mikael110-llama-2-7b-guanaco-fp16/models/base/Mikael110-llama-2-7b-guanaco-fp16.tar.gz\u001b[0m\n",
      "\u001b[34m80.3%|████████████████████      | 191MB/s | source: s3://sagemaker-us-west-2-376678947624/Mikael110-llama-2-7b-guanaco-fp16/models/base/Mikael110-llama-2-7b-guanaco-fp16.tar.gz\u001b[0m\n",
      "\u001b[34m80.4%|████████████████████      | 192MB/s | source: s3://sagemaker-us-west-2-376678947624/Mikael110-llama-2-7b-guanaco-fp16/models/base/Mikael110-llama-2-7b-guanaco-fp16.tar.gz\u001b[0m\n",
      "\u001b[34m80.6%|████████████████████▏     | 191MB/s | source: s3://sagemaker-us-west-2-376678947624/Mikael110-llama-2-7b-guanaco-fp16/models/base/Mikael110-llama-2-7b-guanaco-fp16.tar.gz\u001b[0m\n",
      "\u001b[34m80.7%|████████████████████▏     | 165MB/s | source: s3://sagemaker-us-west-2-376678947624/Mikael110-llama-2-7b-guanaco-fp16/models/base/Mikael110-llama-2-7b-guanaco-fp16.tar.gz\u001b[0m\n",
      "\u001b[34m80.8%|████████████████████▏     | 153MB/s | source: s3://sagemaker-us-west-2-376678947624/Mikael110-llama-2-7b-guanaco-fp16/models/base/Mikael110-llama-2-7b-guanaco-fp16.tar.gz\u001b[0m\n",
      "\u001b[34m81.1%|████████████████████▎     | 193MB/s | source: s3://sagemaker-us-west-2-376678947624/Mikael110-llama-2-7b-guanaco-fp16/models/base/Mikael110-llama-2-7b-guanaco-fp16.tar.gz\u001b[0m\n",
      "\u001b[34m81.2%|████████████████████▎     | 168MB/s | source: s3://sagemaker-us-west-2-376678947624/Mikael110-llama-2-7b-guanaco-fp16/models/base/Mikael110-llama-2-7b-guanaco-fp16.tar.gz\u001b[0m\n",
      "\u001b[34m81.4%|████████████████████▎     | 170MB/s | source: s3://sagemaker-us-west-2-376678947624/Mikael110-llama-2-7b-guanaco-fp16/models/base/Mikael110-llama-2-7b-guanaco-fp16.tar.gz\u001b[0m\n",
      "\u001b[34m81.5%|████████████████████▎     | 161MB/s | source: s3://sagemaker-us-west-2-376678947624/Mikael110-llama-2-7b-guanaco-fp16/models/base/Mikael110-llama-2-7b-guanaco-fp16.tar.gz\u001b[0m\n",
      "\u001b[34m81.6%|████████████████████▍     | 153MB/s | source: s3://sagemaker-us-west-2-376678947624/Mikael110-llama-2-7b-guanaco-fp16/models/base/Mikael110-llama-2-7b-guanaco-fp16.tar.gz\u001b[0m\n",
      "\u001b[34m81.8%|████████████████████▍     | 190MB/s | source: s3://sagemaker-us-west-2-376678947624/Mikael110-llama-2-7b-guanaco-fp16/models/base/Mikael110-llama-2-7b-guanaco-fp16.tar.gz\u001b[0m\n",
      "\u001b[34m82.0%|████████████████████▍     | 185MB/s | source: s3://sagemaker-us-west-2-376678947624/Mikael110-llama-2-7b-guanaco-fp16/models/base/Mikael110-llama-2-7b-guanaco-fp16.tar.gz\u001b[0m\n",
      "\u001b[34m82.1%|████████████████████▌     | 174MB/s | source: s3://sagemaker-us-west-2-376678947624/Mikael110-llama-2-7b-guanaco-fp16/models/base/Mikael110-llama-2-7b-guanaco-fp16.tar.gz\u001b[0m\n",
      "\u001b[34m82.3%|████████████████████▌     | 167MB/s | source: s3://sagemaker-us-west-2-376678947624/Mikael110-llama-2-7b-guanaco-fp16/models/base/Mikael110-llama-2-7b-guanaco-fp16.tar.gz\u001b[0m\n",
      "\u001b[34m82.4%|████████████████████▌     | 178MB/s | source: s3://sagemaker-us-west-2-376678947624/Mikael110-llama-2-7b-guanaco-fp16/models/base/Mikael110-llama-2-7b-guanaco-fp16.tar.gz\u001b[0m\n",
      "\u001b[34m82.6%|████████████████████▋     | 167MB/s | source: s3://sagemaker-us-west-2-376678947624/Mikael110-llama-2-7b-guanaco-fp16/models/base/Mikael110-llama-2-7b-guanaco-fp16.tar.gz\u001b[0m\n",
      "\u001b[34m82.8%|████████████████████▋     | 191MB/s | source: s3://sagemaker-us-west-2-376678947624/Mikael110-llama-2-7b-guanaco-fp16/models/base/Mikael110-llama-2-7b-guanaco-fp16.tar.gz\u001b[0m\n",
      "\u001b[34m82.9%|████████████████████▋     | 179MB/s | source: s3://sagemaker-us-west-2-376678947624/Mikael110-llama-2-7b-guanaco-fp16/models/base/Mikael110-llama-2-7b-guanaco-fp16.tar.gz\u001b[0m\n",
      "\u001b[34m83.0%|████████████████████▊     | 177MB/s | source: s3://sagemaker-us-west-2-376678947624/Mikael110-llama-2-7b-guanaco-fp16/models/base/Mikael110-llama-2-7b-guanaco-fp16.tar.gz\u001b[0m\n",
      "\u001b[34m83.2%|████████████████████▊     | 197MB/s | source: s3://sagemaker-us-west-2-376678947624/Mikael110-llama-2-7b-guanaco-fp16/models/base/Mikael110-llama-2-7b-guanaco-fp16.tar.gz\u001b[0m\n",
      "\u001b[34m83.5%|████████████████████▊     | 229MB/s | source: s3://sagemaker-us-west-2-376678947624/Mikael110-llama-2-7b-guanaco-fp16/models/base/Mikael110-llama-2-7b-guanaco-fp16.tar.gz\u001b[0m\n",
      "\u001b[34m83.6%|████████████████████▉     | 196MB/s | source: s3://sagemaker-us-west-2-376678947624/Mikael110-llama-2-7b-guanaco-fp16/models/base/Mikael110-llama-2-7b-guanaco-fp16.tar.gz\u001b[0m\n",
      "\u001b[34m83.8%|████████████████████▉     | 193MB/s | source: s3://sagemaker-us-west-2-376678947624/Mikael110-llama-2-7b-guanaco-fp16/models/base/Mikael110-llama-2-7b-guanaco-fp16.tar.gz\u001b[0m\n",
      "\u001b[34m84.0%|████████████████████▉     | 203MB/s | source: s3://sagemaker-us-west-2-376678947624/Mikael110-llama-2-7b-guanaco-fp16/models/base/Mikael110-llama-2-7b-guanaco-fp16.tar.gz\u001b[0m\n",
      "\u001b[34m84.1%|█████████████████████     | 180MB/s | source: s3://sagemaker-us-west-2-376678947624/Mikael110-llama-2-7b-guanaco-fp16/models/base/Mikael110-llama-2-7b-guanaco-fp16.tar.gz\u001b[0m\n",
      "\u001b[34m84.3%|█████████████████████     | 191MB/s | source: s3://sagemaker-us-west-2-376678947624/Mikael110-llama-2-7b-guanaco-fp16/models/base/Mikael110-llama-2-7b-guanaco-fp16.tar.gz\u001b[0m\n",
      "\u001b[34m84.5%|█████████████████████     | 193MB/s | source: s3://sagemaker-us-west-2-376678947624/Mikael110-llama-2-7b-guanaco-fp16/models/base/Mikael110-llama-2-7b-guanaco-fp16.tar.gz\u001b[0m\n",
      "\u001b[34m84.7%|█████████████████████▏    | 185MB/s | source: s3://sagemaker-us-west-2-376678947624/Mikael110-llama-2-7b-guanaco-fp16/models/base/Mikael110-llama-2-7b-guanaco-fp16.tar.gz\u001b[0m\n",
      "\u001b[34m84.8%|█████████████████████▏    | 179MB/s | source: s3://sagemaker-us-west-2-376678947624/Mikael110-llama-2-7b-guanaco-fp16/models/base/Mikael110-llama-2-7b-guanaco-fp16.tar.gz\u001b[0m\n",
      "\u001b[34m84.9%|█████████████████████▏    | 158MB/s | source: s3://sagemaker-us-west-2-376678947624/Mikael110-llama-2-7b-guanaco-fp16/models/base/Mikael110-llama-2-7b-guanaco-fp16.tar.gz\u001b[0m\n",
      "\u001b[34m85.1%|█████████████████████▎    | 164MB/s | source: s3://sagemaker-us-west-2-376678947624/Mikael110-llama-2-7b-guanaco-fp16/models/base/Mikael110-llama-2-7b-guanaco-fp16.tar.gz\u001b[0m\n",
      "\u001b[34m85.3%|█████████████████████▎    | 202MB/s | source: s3://sagemaker-us-west-2-376678947624/Mikael110-llama-2-7b-guanaco-fp16/models/base/Mikael110-llama-2-7b-guanaco-fp16.tar.gz\u001b[0m\n",
      "\u001b[34m85.5%|█████████████████████▎    | 182MB/s | source: s3://sagemaker-us-west-2-376678947624/Mikael110-llama-2-7b-guanaco-fp16/models/base/Mikael110-llama-2-7b-guanaco-fp16.tar.gz\u001b[0m\n",
      "\u001b[34m85.7%|█████████████████████▍    | 206MB/s | source: s3://sagemaker-us-west-2-376678947624/Mikael110-llama-2-7b-guanaco-fp16/models/base/Mikael110-llama-2-7b-guanaco-fp16.tar.gz\u001b[0m\n",
      "\u001b[34m85.8%|█████████████████████▍    | 186MB/s | source: s3://sagemaker-us-west-2-376678947624/Mikael110-llama-2-7b-guanaco-fp16/models/base/Mikael110-llama-2-7b-guanaco-fp16.tar.gz\u001b[0m\n",
      "\u001b[34m86.0%|█████████████████████▍    | 193MB/s | source: s3://sagemaker-us-west-2-376678947624/Mikael110-llama-2-7b-guanaco-fp16/models/base/Mikael110-llama-2-7b-guanaco-fp16.tar.gz\u001b[0m\n",
      "\u001b[34m86.1%|█████████████████████▌    | 165MB/s | source: s3://sagemaker-us-west-2-376678947624/Mikael110-llama-2-7b-guanaco-fp16/models/base/Mikael110-llama-2-7b-guanaco-fp16.tar.gz\u001b[0m\n",
      "\u001b[34m86.4%|█████████████████████▌    | 194MB/s | source: s3://sagemaker-us-west-2-376678947624/Mikael110-llama-2-7b-guanaco-fp16/models/base/Mikael110-llama-2-7b-guanaco-fp16.tar.gz\u001b[0m\n",
      "\u001b[34m86.5%|█████████████████████▋    | 166MB/s | source: s3://sagemaker-us-west-2-376678947624/Mikael110-llama-2-7b-guanaco-fp16/models/base/Mikael110-llama-2-7b-guanaco-fp16.tar.gz\u001b[0m\n",
      "\u001b[34m86.8%|█████████████████████▋    | 187MB/s | source: s3://sagemaker-us-west-2-376678947624/Mikael110-llama-2-7b-guanaco-fp16/models/base/Mikael110-llama-2-7b-guanaco-fp16.tar.gz\u001b[0m\n",
      "\u001b[34m86.9%|█████████████████████▋    | 159MB/s | source: s3://sagemaker-us-west-2-376678947624/Mikael110-llama-2-7b-guanaco-fp16/models/base/Mikael110-llama-2-7b-guanaco-fp16.tar.gz\u001b[0m\n",
      "\u001b[34m87.1%|█████████████████████▊    | 180MB/s | source: s3://sagemaker-us-west-2-376678947624/Mikael110-llama-2-7b-guanaco-fp16/models/base/Mikael110-llama-2-7b-guanaco-fp16.tar.gz\u001b[0m\n",
      "\u001b[34m87.3%|█████████████████████▊    | 191MB/s | source: s3://sagemaker-us-west-2-376678947624/Mikael110-llama-2-7b-guanaco-fp16/models/base/Mikael110-llama-2-7b-guanaco-fp16.tar.gz\u001b[0m\n",
      "\u001b[34m87.4%|█████████████████████▊    | 168MB/s | source: s3://sagemaker-us-west-2-376678947624/Mikael110-llama-2-7b-guanaco-fp16/models/base/Mikael110-llama-2-7b-guanaco-fp16.tar.gz\u001b[0m\n",
      "\u001b[34m87.6%|█████████████████████▉    | 193MB/s | source: s3://sagemaker-us-west-2-376678947624/Mikael110-llama-2-7b-guanaco-fp16/models/base/Mikael110-llama-2-7b-guanaco-fp16.tar.gz\u001b[0m\n",
      "\u001b[34m87.8%|█████████████████████▉    | 205MB/s | source: s3://sagemaker-us-west-2-376678947624/Mikael110-llama-2-7b-guanaco-fp16/models/base/Mikael110-llama-2-7b-guanaco-fp16.tar.gz\u001b[0m\n",
      "\u001b[34m88.0%|█████████████████████▉    | 195MB/s | source: s3://sagemaker-us-west-2-376678947624/Mikael110-llama-2-7b-guanaco-fp16/models/base/Mikael110-llama-2-7b-guanaco-fp16.tar.gz\u001b[0m\n",
      "\u001b[34m88.1%|██████████████████████    | 160MB/s | source: s3://sagemaker-us-west-2-376678947624/Mikael110-llama-2-7b-guanaco-fp16/models/base/Mikael110-llama-2-7b-guanaco-fp16.tar.gz\u001b[0m\n",
      "\u001b[34m88.3%|██████████████████████    | 169MB/s | source: s3://sagemaker-us-west-2-376678947624/Mikael110-llama-2-7b-guanaco-fp16/models/base/Mikael110-llama-2-7b-guanaco-fp16.tar.gz\u001b[0m\n",
      "\u001b[34m88.5%|██████████████████████    | 178MB/s | source: s3://sagemaker-us-west-2-376678947624/Mikael110-llama-2-7b-guanaco-fp16/models/base/Mikael110-llama-2-7b-guanaco-fp16.tar.gz\u001b[0m\n",
      "\u001b[34m88.6%|██████████████████████▏   | 169MB/s | source: s3://sagemaker-us-west-2-376678947624/Mikael110-llama-2-7b-guanaco-fp16/models/base/Mikael110-llama-2-7b-guanaco-fp16.tar.gz\u001b[0m\n",
      "\u001b[34m88.7%|██████████████████████▏   | 169MB/s | source: s3://sagemaker-us-west-2-376678947624/Mikael110-llama-2-7b-guanaco-fp16/models/base/Mikael110-llama-2-7b-guanaco-fp16.tar.gz\u001b[0m\n",
      "\u001b[34m88.9%|██████████████████████▏   | 170MB/s | source: s3://sagemaker-us-west-2-376678947624/Mikael110-llama-2-7b-guanaco-fp16/models/base/Mikael110-llama-2-7b-guanaco-fp16.tar.gz\u001b[0m\n",
      "\u001b[34m89.1%|██████████████████████▎   | 197MB/s | source: s3://sagemaker-us-west-2-376678947624/Mikael110-llama-2-7b-guanaco-fp16/models/base/Mikael110-llama-2-7b-guanaco-fp16.tar.gz\u001b[0m\n"
     ]
    },
    {
     "name": "stdout",
     "output_type": "stream",
     "text": [
      "\u001b[34m89.2%|██████████████████████▎   | 192MB/s | source: s3://sagemaker-us-west-2-376678947624/Mikael110-llama-2-7b-guanaco-fp16/models/base/Mikael110-llama-2-7b-guanaco-fp16.tar.gz\u001b[0m\n",
      "\u001b[34m89.5%|██████████████████████▎   | 219MB/s | source: s3://sagemaker-us-west-2-376678947624/Mikael110-llama-2-7b-guanaco-fp16/models/base/Mikael110-llama-2-7b-guanaco-fp16.tar.gz\u001b[0m\n",
      "\u001b[34m89.6%|██████████████████████▍   | 197MB/s | source: s3://sagemaker-us-west-2-376678947624/Mikael110-llama-2-7b-guanaco-fp16/models/base/Mikael110-llama-2-7b-guanaco-fp16.tar.gz\u001b[0m\n",
      "\u001b[34m89.9%|██████████████████████▍   | 248MB/s | source: s3://sagemaker-us-west-2-376678947624/Mikael110-llama-2-7b-guanaco-fp16/models/base/Mikael110-llama-2-7b-guanaco-fp16.tar.gz\u001b[0m\n",
      "\u001b[34m90.1%|██████████████████████▌   | 204MB/s | source: s3://sagemaker-us-west-2-376678947624/Mikael110-llama-2-7b-guanaco-fp16/models/base/Mikael110-llama-2-7b-guanaco-fp16.tar.gz\u001b[0m\n",
      "\u001b[34m90.3%|██████████████████████▌   | 196MB/s | source: s3://sagemaker-us-west-2-376678947624/Mikael110-llama-2-7b-guanaco-fp16/models/base/Mikael110-llama-2-7b-guanaco-fp16.tar.gz\u001b[0m\n",
      "\u001b[34m90.5%|██████████████████████▌   | 203MB/s | source: s3://sagemaker-us-west-2-376678947624/Mikael110-llama-2-7b-guanaco-fp16/models/base/Mikael110-llama-2-7b-guanaco-fp16.tar.gz\u001b[0m\n",
      "\u001b[34m90.6%|██████████████████████▋   | 206MB/s | source: s3://sagemaker-us-west-2-376678947624/Mikael110-llama-2-7b-guanaco-fp16/models/base/Mikael110-llama-2-7b-guanaco-fp16.tar.gz\u001b[0m\n",
      "\u001b[34m90.8%|██████████████████████▋   | 215MB/s | source: s3://sagemaker-us-west-2-376678947624/Mikael110-llama-2-7b-guanaco-fp16/models/base/Mikael110-llama-2-7b-guanaco-fp16.tar.gz\u001b[0m\n",
      "\u001b[34m91.0%|██████████████████████▋   | 194MB/s | source: s3://sagemaker-us-west-2-376678947624/Mikael110-llama-2-7b-guanaco-fp16/models/base/Mikael110-llama-2-7b-guanaco-fp16.tar.gz\u001b[0m\n",
      "\u001b[34m91.1%|██████████████████████▊   | 149MB/s | source: s3://sagemaker-us-west-2-376678947624/Mikael110-llama-2-7b-guanaco-fp16/models/base/Mikael110-llama-2-7b-guanaco-fp16.tar.gz\u001b[0m\n",
      "\u001b[34m91.2%|██████████████████████▊   | 140MB/s | source: s3://sagemaker-us-west-2-376678947624/Mikael110-llama-2-7b-guanaco-fp16/models/base/Mikael110-llama-2-7b-guanaco-fp16.tar.gz\u001b[0m\n",
      "\u001b[34m91.5%|██████████████████████▊   | 179MB/s | source: s3://sagemaker-us-west-2-376678947624/Mikael110-llama-2-7b-guanaco-fp16/models/base/Mikael110-llama-2-7b-guanaco-fp16.tar.gz\u001b[0m\n",
      "\u001b[34m91.7%|██████████████████████▉   | 207MB/s | source: s3://sagemaker-us-west-2-376678947624/Mikael110-llama-2-7b-guanaco-fp16/models/base/Mikael110-llama-2-7b-guanaco-fp16.tar.gz\u001b[0m\n",
      "\u001b[34m91.9%|██████████████████████▉   | 171MB/s | source: s3://sagemaker-us-west-2-376678947624/Mikael110-llama-2-7b-guanaco-fp16/models/base/Mikael110-llama-2-7b-guanaco-fp16.tar.gz\u001b[0m\n",
      "\u001b[34m92.0%|███████████████████████   | 167MB/s | source: s3://sagemaker-us-west-2-376678947624/Mikael110-llama-2-7b-guanaco-fp16/models/base/Mikael110-llama-2-7b-guanaco-fp16.tar.gz\u001b[0m\n",
      "\u001b[34m92.3%|███████████████████████   | 210MB/s | source: s3://sagemaker-us-west-2-376678947624/Mikael110-llama-2-7b-guanaco-fp16/models/base/Mikael110-llama-2-7b-guanaco-fp16.tar.gz\u001b[0m\n",
      "\u001b[34m92.5%|███████████████████████   | 190MB/s | source: s3://sagemaker-us-west-2-376678947624/Mikael110-llama-2-7b-guanaco-fp16/models/base/Mikael110-llama-2-7b-guanaco-fp16.tar.gz\u001b[0m\n",
      "\u001b[34m92.6%|███████████████████████▏  | 172MB/s | source: s3://sagemaker-us-west-2-376678947624/Mikael110-llama-2-7b-guanaco-fp16/models/base/Mikael110-llama-2-7b-guanaco-fp16.tar.gz\u001b[0m\n",
      "\u001b[34m92.8%|███████████████████████▏  | 192MB/s | source: s3://sagemaker-us-west-2-376678947624/Mikael110-llama-2-7b-guanaco-fp16/models/base/Mikael110-llama-2-7b-guanaco-fp16.tar.gz\u001b[0m\n",
      "\u001b[34m93.0%|███████████████████████▏  | 192MB/s | source: s3://sagemaker-us-west-2-376678947624/Mikael110-llama-2-7b-guanaco-fp16/models/base/Mikael110-llama-2-7b-guanaco-fp16.tar.gz\u001b[0m\n",
      "\u001b[34m93.1%|███████████████████████▎  | 177MB/s | source: s3://sagemaker-us-west-2-376678947624/Mikael110-llama-2-7b-guanaco-fp16/models/base/Mikael110-llama-2-7b-guanaco-fp16.tar.gz\u001b[0m\n",
      "\u001b[34m93.3%|███████████████████████▎  | 200MB/s | source: s3://sagemaker-us-west-2-376678947624/Mikael110-llama-2-7b-guanaco-fp16/models/base/Mikael110-llama-2-7b-guanaco-fp16.tar.gz\u001b[0m\n",
      "\u001b[34m93.3%|███████████████████████▎  | 219MB/s | source: s3://sagemaker-us-west-2-376678947624/Mikael110-llama-2-7b-guanaco-fp16/models/base/Mikael110-llama-2-7b-guanaco-fp16.tar.gz\u001b[0m\n",
      "\u001b[34m93.5%|███████████████████████▍  | 224MB/s | source: s3://sagemaker-us-west-2-376678947624/Mikael110-llama-2-7b-guanaco-fp16/models/base/Mikael110-llama-2-7b-guanaco-fp16.tar.gz\u001b[0m\n",
      "\u001b[34m93.7%|███████████████████████▍  | 186MB/s | source: s3://sagemaker-us-west-2-376678947624/Mikael110-llama-2-7b-guanaco-fp16/models/base/Mikael110-llama-2-7b-guanaco-fp16.tar.gz\u001b[0m\n",
      "\u001b[34m93.9%|███████████████████████▍  | 198MB/s | source: s3://sagemaker-us-west-2-376678947624/Mikael110-llama-2-7b-guanaco-fp16/models/base/Mikael110-llama-2-7b-guanaco-fp16.tar.gz\u001b[0m\n",
      "\u001b[34m94.0%|███████████████████████▌  | 185MB/s | source: s3://sagemaker-us-west-2-376678947624/Mikael110-llama-2-7b-guanaco-fp16/models/base/Mikael110-llama-2-7b-guanaco-fp16.tar.gz\u001b[0m\n",
      "\u001b[34m94.2%|███████████████████████▌  | 175MB/s | source: s3://sagemaker-us-west-2-376678947624/Mikael110-llama-2-7b-guanaco-fp16/models/base/Mikael110-llama-2-7b-guanaco-fp16.tar.gz\u001b[0m\n",
      "\u001b[34m94.3%|███████████████████████▌  | 172MB/s | source: s3://sagemaker-us-west-2-376678947624/Mikael110-llama-2-7b-guanaco-fp16/models/base/Mikael110-llama-2-7b-guanaco-fp16.tar.gz\u001b[0m\n",
      "\u001b[34m94.5%|███████████████████████▌  | 198MB/s | source: s3://sagemaker-us-west-2-376678947624/Mikael110-llama-2-7b-guanaco-fp16/models/base/Mikael110-llama-2-7b-guanaco-fp16.tar.gz\u001b[0m\n",
      "\u001b[34m94.6%|███████████████████████▋  | 176MB/s | source: s3://sagemaker-us-west-2-376678947624/Mikael110-llama-2-7b-guanaco-fp16/models/base/Mikael110-llama-2-7b-guanaco-fp16.tar.gz\u001b[0m\n",
      "\u001b[34m94.8%|███████████████████████▋  | 170MB/s | source: s3://sagemaker-us-west-2-376678947624/Mikael110-llama-2-7b-guanaco-fp16/models/base/Mikael110-llama-2-7b-guanaco-fp16.tar.gz\u001b[0m\n",
      "\u001b[34m95.0%|███████████████████████▋  | 191MB/s | source: s3://sagemaker-us-west-2-376678947624/Mikael110-llama-2-7b-guanaco-fp16/models/base/Mikael110-llama-2-7b-guanaco-fp16.tar.gz\u001b[0m\n",
      "\u001b[34m95.1%|███████████████████████▊  | 191MB/s | source: s3://sagemaker-us-west-2-376678947624/Mikael110-llama-2-7b-guanaco-fp16/models/base/Mikael110-llama-2-7b-guanaco-fp16.tar.gz\u001b[0m\n",
      "\u001b[34m95.3%|███████████████████████▊  | 194MB/s | source: s3://sagemaker-us-west-2-376678947624/Mikael110-llama-2-7b-guanaco-fp16/models/base/Mikael110-llama-2-7b-guanaco-fp16.tar.gz\u001b[0m\n",
      "\u001b[34m95.5%|███████████████████████▊  | 182MB/s | source: s3://sagemaker-us-west-2-376678947624/Mikael110-llama-2-7b-guanaco-fp16/models/base/Mikael110-llama-2-7b-guanaco-fp16.tar.gz\u001b[0m\n",
      "\u001b[34m95.6%|███████████████████████▉  | 152MB/s | source: s3://sagemaker-us-west-2-376678947624/Mikael110-llama-2-7b-guanaco-fp16/models/base/Mikael110-llama-2-7b-guanaco-fp16.tar.gz\u001b[0m\n",
      "\u001b[34m95.9%|███████████████████████▉  | 202MB/s | source: s3://sagemaker-us-west-2-376678947624/Mikael110-llama-2-7b-guanaco-fp16/models/base/Mikael110-llama-2-7b-guanaco-fp16.tar.gz\u001b[0m\n",
      "\u001b[34m96.1%|████████████████████████  | 175MB/s | source: s3://sagemaker-us-west-2-376678947624/Mikael110-llama-2-7b-guanaco-fp16/models/base/Mikael110-llama-2-7b-guanaco-fp16.tar.gz\u001b[0m\n",
      "\u001b[34m96.2%|████████████████████████  | 180MB/s | source: s3://sagemaker-us-west-2-376678947624/Mikael110-llama-2-7b-guanaco-fp16/models/base/Mikael110-llama-2-7b-guanaco-fp16.tar.gz\u001b[0m\n",
      "\u001b[34m96.4%|████████████████████████  | 176MB/s | source: s3://sagemaker-us-west-2-376678947624/Mikael110-llama-2-7b-guanaco-fp16/models/base/Mikael110-llama-2-7b-guanaco-fp16.tar.gz\u001b[0m\n",
      "\u001b[34m96.6%|████████████████████████▏ | 188MB/s | source: s3://sagemaker-us-west-2-376678947624/Mikael110-llama-2-7b-guanaco-fp16/models/base/Mikael110-llama-2-7b-guanaco-fp16.tar.gz\u001b[0m\n",
      "\u001b[34m96.7%|████████████████████████▏ | 145MB/s | source: s3://sagemaker-us-west-2-376678947624/Mikael110-llama-2-7b-guanaco-fp16/models/base/Mikael110-llama-2-7b-guanaco-fp16.tar.gz\u001b[0m\n",
      "\u001b[34m96.8%|████████████████████████▏ | 148MB/s | source: s3://sagemaker-us-west-2-376678947624/Mikael110-llama-2-7b-guanaco-fp16/models/base/Mikael110-llama-2-7b-guanaco-fp16.tar.gz\u001b[0m\n",
      "\u001b[34m97.0%|████████████████████████▎ | 171MB/s | source: s3://sagemaker-us-west-2-376678947624/Mikael110-llama-2-7b-guanaco-fp16/models/base/Mikael110-llama-2-7b-guanaco-fp16.tar.gz\u001b[0m\n",
      "\u001b[34m97.2%|████████████████████████▎ | 187MB/s | source: s3://sagemaker-us-west-2-376678947624/Mikael110-llama-2-7b-guanaco-fp16/models/base/Mikael110-llama-2-7b-guanaco-fp16.tar.gz\u001b[0m\n",
      "\u001b[34m97.3%|████████████████████████▎ | 133MB/s | source: s3://sagemaker-us-west-2-376678947624/Mikael110-llama-2-7b-guanaco-fp16/models/base/Mikael110-llama-2-7b-guanaco-fp16.tar.gz\u001b[0m\n",
      "\u001b[34m97.5%|████████████████████████▍ | 157MB/s | source: s3://sagemaker-us-west-2-376678947624/Mikael110-llama-2-7b-guanaco-fp16/models/base/Mikael110-llama-2-7b-guanaco-fp16.tar.gz\u001b[0m\n",
      "\u001b[34m97.7%|████████████████████████▍ | 182MB/s | source: s3://sagemaker-us-west-2-376678947624/Mikael110-llama-2-7b-guanaco-fp16/models/base/Mikael110-llama-2-7b-guanaco-fp16.tar.gz\u001b[0m\n",
      "\u001b[34m97.9%|████████████████████████▍ | 193MB/s | source: s3://sagemaker-us-west-2-376678947624/Mikael110-llama-2-7b-guanaco-fp16/models/base/Mikael110-llama-2-7b-guanaco-fp16.tar.gz\u001b[0m\n",
      "\u001b[34m98.1%|████████████████████████▌ | 183MB/s | source: s3://sagemaker-us-west-2-376678947624/Mikael110-llama-2-7b-guanaco-fp16/models/base/Mikael110-llama-2-7b-guanaco-fp16.tar.gz\u001b[0m\n",
      "\u001b[34m98.2%|████████████████████████▌ | 158MB/s | source: s3://sagemaker-us-west-2-376678947624/Mikael110-llama-2-7b-guanaco-fp16/models/base/Mikael110-llama-2-7b-guanaco-fp16.tar.gz\u001b[0m\n",
      "\u001b[34m98.3%|████████████████████████▌ | 152MB/s | source: s3://sagemaker-us-west-2-376678947624/Mikael110-llama-2-7b-guanaco-fp16/models/base/Mikael110-llama-2-7b-guanaco-fp16.tar.gz\u001b[0m\n",
      "\u001b[34m98.5%|████████████████████████▌ | 154MB/s | source: s3://sagemaker-us-west-2-376678947624/Mikael110-llama-2-7b-guanaco-fp16/models/base/Mikael110-llama-2-7b-guanaco-fp16.tar.gz\u001b[0m\n",
      "\u001b[34m98.6%|████████████████████████▋ | 159MB/s | source: s3://sagemaker-us-west-2-376678947624/Mikael110-llama-2-7b-guanaco-fp16/models/base/Mikael110-llama-2-7b-guanaco-fp16.tar.gz\u001b[0m\n",
      "\u001b[34m98.8%|████████████████████████▋ | 192MB/s | source: s3://sagemaker-us-west-2-376678947624/Mikael110-llama-2-7b-guanaco-fp16/models/base/Mikael110-llama-2-7b-guanaco-fp16.tar.gz\u001b[0m\n",
      "\u001b[34m99.0%|████████████████████████▋ | 180MB/s | source: s3://sagemaker-us-west-2-376678947624/Mikael110-llama-2-7b-guanaco-fp16/models/base/Mikael110-llama-2-7b-guanaco-fp16.tar.gz\u001b[0m\n",
      "\u001b[34m99.1%|████████████████████████▊ | 180MB/s | source: s3://sagemaker-us-west-2-376678947624/Mikael110-llama-2-7b-guanaco-fp16/models/base/Mikael110-llama-2-7b-guanaco-fp16.tar.gz\u001b[0m\n",
      "\u001b[34m99.3%|████████████████████████▊ | 161MB/s | source: s3://sagemaker-us-west-2-376678947624/Mikael110-llama-2-7b-guanaco-fp16/models/base/Mikael110-llama-2-7b-guanaco-fp16.tar.gz\u001b[0m\n",
      "\u001b[34m99.5%|████████████████████████▉ | 197MB/s | source: s3://sagemaker-us-west-2-376678947624/Mikael110-llama-2-7b-guanaco-fp16/models/base/Mikael110-llama-2-7b-guanaco-fp16.tar.gz\u001b[0m\n",
      "\u001b[34m99.7%|████████████████████████▉ | 203MB/s | source: s3://sagemaker-us-west-2-376678947624/Mikael110-llama-2-7b-guanaco-fp16/models/base/Mikael110-llama-2-7b-guanaco-fp16.tar.gz\u001b[0m\n",
      "\u001b[34m99.8%|████████████████████████▉ | 174MB/s | source: s3://sagemaker-us-west-2-376678947624/Mikael110-llama-2-7b-guanaco-fp16/models/base/Mikael110-llama-2-7b-guanaco-fp16.tar.gz\u001b[0m\n",
      "\u001b[34m100.0%|████████████████████████▉ | 135MB/s | source: s3://sagemaker-us-west-2-376678947624/Mikael110-llama-2-7b-guanaco-fp16/models/base/Mikael110-llama-2-7b-guanaco-fp16.tar.gz\u001b[0m\n",
      "\u001b[34m100.0%|█████████████████████████ | 182MB/s | source: s3://sagemaker-us-west-2-376678947624/Mikael110-llama-2-7b-guanaco-fp16/models/base/Mikael110-llama-2-7b-guanaco-fp16.tar.gz\u001b[0m\n"
     ]
    },
    {
     "name": "stdout",
     "output_type": "stream",
     "text": [
      "\u001b[34m['config.json', 'pytorch_model-00002-of-00002.bin', 'pytorch_model.bin.index.json', 'special_tokens_map.json', 'tokenizer.json', 'pytorch_model-00001-of-00002.bin', 'tokenizer_config.json', 'generation_config.json']\u001b[0m\n",
      "\u001b[34mUntar base model to ./Mikael110/llama-2-7b-guanaco-fp16\u001b[0m\n",
      "\u001b[34mLoading checkpoint shards:   0%|          | 0/2 [00:00<?, ?it/s]\u001b[0m\n",
      "\u001b[34mLoading checkpoint shards:  50%|█████     | 1/2 [00:07<00:07,  7.28s/it]\u001b[0m\n",
      "\u001b[34mLoading checkpoint shards: 100%|██████████| 2/2 [00:46<00:00, 26.16s/it]\u001b[0m\n",
      "\u001b[34mLoading checkpoint shards: 100%|██████████| 2/2 [00:46<00:00, 23.33s/it]\u001b[0m\n",
      "\u001b[34mFound 7 modules to quantize: ['o_proj', 'k_proj', 'q_proj', 'v_proj', 'down_proj', 'up_proj', 'gate_proj']\u001b[0m\n",
      "\u001b[34mtrainable params: 159,907,840 || all params: 3,660,320,768 || trainable%: 4.368683788535114\u001b[0m\n",
      "\u001b[34m[sm-callback] loaded sagemaker Experiment (name: exp-mikael110-llama-2-7b-guanaco-fp16) with run: qlora-finetune-run-2310202059!\u001b[0m\n",
      "\u001b[34m[sm-callback] adding parameters to exp-mikael110-llama-2-7b-guanaco-fp16: qlora-finetune-run-2310202059\u001b[0m\n",
      "\u001b[34m/opt/conda/lib/python3.10/site-packages/transformers/optimization.py:411: FutureWarning: This implementation of AdamW is deprecated and will be removed in a future version. Use the PyTorch implementation torch.optim.AdamW instead, or set `no_deprecation_warning=True` to disable this warning\n",
      "  warnings.warn(\u001b[0m\n",
      "\u001b[34m0%|          | 0/39 [00:00<?, ?it/s]\u001b[0m\n",
      "\u001b[34m3%|▎         | 1/39 [00:09<05:47,  9.14s/it]\u001b[0m\n",
      "\u001b[34m5%|▌         | 2/39 [00:17<05:24,  8.77s/it]\u001b[0m\n",
      "\u001b[34m{'loss': 1.6673, 'learning_rate': 9.487179487179487e-06, 'epoch': 0.05}\u001b[0m\n",
      "\u001b[34m5%|▌         | 2/39 [00:18<05:24,  8.77s/it]\u001b[0m\n",
      "\u001b[34m8%|▊         | 3/39 [00:27<05:26,  9.06s/it]\u001b[0m\n",
      "\u001b[34m10%|█         | 4/39 [00:35<05:09,  8.85s/it]\u001b[0m\n",
      "\u001b[34m{'loss': 1.8144, 'learning_rate': 8.974358974358976e-06, 'epoch': 0.1}\u001b[0m\n",
      "\u001b[34m10%|█         | 4/39 [00:36<05:09,  8.85s/it]\u001b[0m\n",
      "\u001b[34m13%|█▎        | 5/39 [00:44<05:06,  9.02s/it]\u001b[0m\n",
      "\u001b[34m15%|█▌        | 6/39 [00:53<04:52,  8.85s/it]\u001b[0m\n",
      "\u001b[34m{'loss': 1.861, 'learning_rate': 8.461538461538462e-06, 'epoch': 0.15}\u001b[0m\n",
      "\u001b[34m15%|█▌        | 6/39 [00:54<04:52,  8.85s/it]\u001b[0m\n",
      "\u001b[34m18%|█▊        | 7/39 [01:02<04:47,  8.98s/it]\u001b[0m\n",
      "\u001b[34m21%|██        | 8/39 [01:11<04:33,  8.84s/it]\u001b[0m\n",
      "\u001b[34m{'loss': 2.0485, 'learning_rate': 7.948717948717949e-06, 'epoch': 0.21}\u001b[0m\n",
      "\u001b[34m21%|██        | 8/39 [01:11<04:33,  8.84s/it]\u001b[0m\n",
      "\u001b[34m23%|██▎       | 9/39 [01:20<04:29,  8.98s/it]\u001b[0m\n",
      "\u001b[34m26%|██▌       | 10/39 [01:29<04:16,  8.84s/it]\u001b[0m\n",
      "\u001b[34m{'loss': 1.7639, 'learning_rate': 7.435897435897437e-06, 'epoch': 0.26}\u001b[0m\n",
      "\u001b[34m26%|██▌       | 10/39 [01:29<04:16,  8.84s/it]\u001b[0m\n",
      "\u001b[34m28%|██▊       | 11/39 [01:38<04:10,  8.96s/it]\u001b[0m\n",
      "\u001b[34m31%|███       | 12/39 [01:46<03:58,  8.83s/it]\u001b[0m\n",
      "\u001b[34m{'loss': 1.848, 'learning_rate': 6.923076923076923e-06, 'epoch': 0.31}\u001b[0m\n",
      "\u001b[34m31%|███       | 12/39 [01:47<03:58,  8.83s/it]\u001b[0m\n",
      "\u001b[34m33%|███▎      | 13/39 [01:56<03:53,  8.97s/it]\u001b[0m\n",
      "\u001b[34m36%|███▌      | 14/39 [02:04<03:40,  8.84s/it]\u001b[0m\n",
      "\u001b[34m{'loss': 1.671, 'learning_rate': 6.410256410256412e-06, 'epoch': 0.36}\u001b[0m\n",
      "\u001b[34m36%|███▌      | 14/39 [02:05<03:40,  8.84s/it]\u001b[0m\n",
      "\u001b[34m38%|███▊      | 15/39 [02:13<03:35,  8.99s/it]\u001b[0m\n",
      "\u001b[34m41%|████      | 16/39 [02:22<03:23,  8.85s/it]\u001b[0m\n",
      "\u001b[34m{'loss': 1.7337, 'learning_rate': 5.897435897435898e-06, 'epoch': 0.41}\u001b[0m\n",
      "\u001b[34m41%|████      | 16/39 [02:23<03:23,  8.85s/it]\u001b[0m\n",
      "\u001b[34m44%|████▎     | 17/39 [02:31<03:17,  9.00s/it]\u001b[0m\n",
      "\u001b[34m46%|████▌     | 18/39 [02:40<03:05,  8.86s/it]\u001b[0m\n",
      "\u001b[34m{'loss': 1.617, 'learning_rate': 5.384615384615385e-06, 'epoch': 0.46}\u001b[0m\n",
      "\u001b[34m46%|████▌     | 18/39 [02:41<03:05,  8.86s/it]\u001b[0m\n",
      "\u001b[34m49%|████▊     | 19/39 [02:49<02:59,  8.98s/it]\u001b[0m\n",
      "\u001b[34m51%|█████▏    | 20/39 [02:58<02:48,  8.85s/it]\u001b[0m\n",
      "\u001b[34m{'loss': 1.852, 'learning_rate': 4.871794871794872e-06, 'epoch': 0.51}\u001b[0m\n",
      "\u001b[34m51%|█████▏    | 20/39 [02:58<02:48,  8.85s/it]\u001b[0m\n",
      "\u001b[34m54%|█████▍    | 21/39 [03:07<02:41,  8.98s/it]\u001b[0m\n",
      "\u001b[34m56%|█████▋    | 22/39 [03:15<02:30,  8.85s/it]\u001b[0m\n",
      "\u001b[34m{'loss': 1.6322, 'learning_rate': 4.358974358974359e-06, 'epoch': 0.56}\u001b[0m\n",
      "\u001b[34m56%|█████▋    | 22/39 [03:16<02:30,  8.85s/it]\u001b[0m\n",
      "\u001b[34m59%|█████▉    | 23/39 [03:25<02:23,  8.97s/it]\u001b[0m\n",
      "\u001b[34m62%|██████▏   | 24/39 [03:33<02:12,  8.83s/it]\u001b[0m\n",
      "\u001b[34m{'loss': 1.8798, 'learning_rate': 3.846153846153847e-06, 'epoch': 0.62}\u001b[0m\n",
      "\u001b[34m62%|██████▏   | 24/39 [03:34<02:12,  8.83s/it]\u001b[0m\n",
      "\u001b[34m64%|██████▍   | 25/39 [03:43<02:05,  8.98s/it]\u001b[0m\n",
      "\u001b[34m67%|██████▋   | 26/39 [03:51<01:54,  8.84s/it]\u001b[0m\n",
      "\u001b[34m{'loss': 1.6869, 'learning_rate': 3.3333333333333333e-06, 'epoch': 0.67}\u001b[0m\n",
      "\u001b[34m67%|██████▋   | 26/39 [03:52<01:54,  8.84s/it]\u001b[0m\n",
      "\u001b[34m69%|██████▉   | 27/39 [04:00<01:47,  8.96s/it]\u001b[0m\n",
      "\u001b[34m72%|███████▏  | 28/39 [04:09<01:37,  8.83s/it]\u001b[0m\n",
      "\u001b[34m{'loss': 1.7864, 'learning_rate': 2.8205128205128207e-06, 'epoch': 0.72}\u001b[0m\n",
      "\u001b[34m72%|███████▏  | 28/39 [04:10<01:37,  8.83s/it]\u001b[0m\n",
      "\u001b[34m74%|███████▍  | 29/39 [04:18<01:29,  8.97s/it]\u001b[0m\n",
      "\u001b[34m77%|███████▋  | 30/39 [04:27<01:19,  8.84s/it]\u001b[0m\n",
      "\u001b[34m{'loss': 1.7934, 'learning_rate': 2.307692307692308e-06, 'epoch': 0.77}\u001b[0m\n",
      "\u001b[34m77%|███████▋  | 30/39 [04:27<01:19,  8.84s/it]\u001b[0m\n",
      "\u001b[34m79%|███████▉  | 31/39 [04:36<01:11,  8.95s/it]\u001b[0m\n",
      "\u001b[34m82%|████████▏ | 32/39 [04:44<01:01,  8.82s/it]\u001b[0m\n",
      "\u001b[34m{'loss': 1.952, 'learning_rate': 1.794871794871795e-06, 'epoch': 0.82}\u001b[0m\n",
      "\u001b[34m82%|████████▏ | 32/39 [04:45<01:01,  8.82s/it]\u001b[0m\n",
      "\u001b[34m85%|████████▍ | 33/39 [04:54<00:53,  8.97s/it]\u001b[0m\n",
      "\u001b[34m87%|████████▋ | 34/39 [05:02<00:44,  8.84s/it]\u001b[0m\n",
      "\u001b[34m{'loss': 1.7556, 'learning_rate': 1.282051282051282e-06, 'epoch': 0.87}\u001b[0m\n",
      "\u001b[34m87%|████████▋ | 34/39 [05:03<00:44,  8.84s/it]\u001b[0m\n",
      "\u001b[34m90%|████████▉ | 35/39 [05:12<00:35,  8.98s/it]\u001b[0m\n",
      "\u001b[34m92%|█████████▏| 36/39 [05:20<00:26,  8.85s/it]\u001b[0m\n",
      "\u001b[34m{'loss': 1.8386, 'learning_rate': 7.692307692307694e-07, 'epoch': 0.92}\u001b[0m\n",
      "\u001b[34m92%|█████████▏| 36/39 [05:21<00:26,  8.85s/it]\u001b[0m\n",
      "\u001b[34m95%|█████████▍| 37/39 [05:29<00:17,  8.97s/it]\u001b[0m\n",
      "\u001b[34m97%|█████████▋| 38/39 [05:38<00:08,  8.84s/it]\u001b[0m\n",
      "\u001b[34m{'loss': 1.8088, 'learning_rate': 2.564102564102564e-07, 'epoch': 0.97}\u001b[0m\n",
      "\u001b[34m97%|█████████▋| 38/39 [05:39<00:08,  8.84s/it]\u001b[0m\n",
      "\u001b[34m100%|██████████| 39/39 [05:47<00:00,  8.98s/it]\u001b[0m\n",
      "\u001b[34m[sm-callback] start: 0 ep to end: 1 ep!\u001b[0m\n",
      "\u001b[34m{'train_runtime': 348.3084, 'train_samples_per_second': 0.224, 'train_steps_per_second': 0.112, 'train_loss': 1.7911177629079573, 'epoch': 1.0}\u001b[0m\n",
      "\u001b[34m100%|██████████| 39/39 [05:49<00:00,  8.98s/it]\u001b[0m\n",
      "\u001b[34m100%|██████████| 39/39 [05:49<00:00,  8.95s/it]\u001b[0m\n",
      "\u001b[34m0%|          | 0/9 [00:00<?, ?it/s]\u001b[0m\n",
      "\u001b[34m22%|██▏       | 2/9 [00:09<00:34,  4.96s/it]\u001b[0m\n",
      "\u001b[34m33%|███▎      | 3/9 [00:19<00:42,  7.03s/it]\u001b[0m\n",
      "\u001b[34m44%|████▍     | 4/9 [00:29<00:40,  8.12s/it]\u001b[0m\n",
      "\u001b[34m56%|█████▌    | 5/9 [00:39<00:34,  8.75s/it]\u001b[0m\n",
      "\u001b[34m67%|██████▋   | 6/9 [00:49<00:27,  9.14s/it]\u001b[0m\n",
      "\u001b[34m78%|███████▊  | 7/9 [00:59<00:18,  9.39s/it]\u001b[0m\n",
      "\u001b[34m89%|████████▉ | 8/9 [01:09<00:09,  9.56s/it]\u001b[0m\n",
      "\u001b[34m100%|██████████| 9/9 [01:18<00:00,  9.43s/it]\u001b[0m\n",
      "\u001b[34m100%|██████████| 9/9 [01:22<00:00,  9.19s/it]\u001b[0m\n",
      "\u001b[34mLoading checkpoint shards:   0%|          | 0/2 [00:00<?, ?it/s]\u001b[0m\n",
      "\u001b[34mLoading checkpoint shards:  50%|█████     | 1/2 [00:42<00:42, 42.39s/it]\u001b[0m\n",
      "\u001b[34mLoading checkpoint shards: 100%|██████████| 2/2 [00:43<00:00, 18.29s/it]\u001b[0m\n",
      "\u001b[34mLoading checkpoint shards: 100%|██████████| 2/2 [00:43<00:00, 21.91s/it]\u001b[0m\n",
      "\u001b[34mDone!\u001b[0m\n",
      "\u001b[34m2023-10-20 21:24:44,080 sagemaker-training-toolkit INFO     Waiting for the process to finish and give a return code.\u001b[0m\n",
      "\u001b[34m2023-10-20 21:24:44,080 sagemaker-training-toolkit INFO     Done waiting for a return code. Received 0 from exiting process.\u001b[0m\n",
      "\u001b[34m2023-10-20 21:24:44,080 sagemaker-training-toolkit INFO     Reporting training SUCCESS\u001b[0m\n",
      "\n",
      "2023-10-20 21:24:48 Uploading - Uploading generated training model\n",
      "2023-10-20 21:27:09 Completed - Training job completed\n",
      "Training seconds: 1577\n",
      "Billable seconds: 1577\n"
     ]
    }
   ],
   "source": [
    "from datetime import datetime\n",
    "from sagemaker.huggingface import HuggingFace\n",
    "from sagemaker.experiments.run import Run\n",
    "\n",
    "# define Training Job Name \n",
    "time_suffix = datetime.now().strftime('%y%m%d%H%M')\n",
    "job_name = f'huggingface-qlora-{time_suffix}'\n",
    "experiments_name = f\"exp-{model_id.replace('/', '-')}\"\n",
    "run_name = f\"qlora-finetune-run-{time_suffix}\"\n",
    "\n",
    "with Run(\n",
    "    experiment_name=experiments_name, \n",
    "    run_name=run_name, \n",
    "    sagemaker_session=sagemaker.Session()\n",
    ") as run:\n",
    "    # create the Estimator\n",
    "    huggingface_estimator = HuggingFace(\n",
    "        entry_point='finetune_llm.py',      \n",
    "        source_dir='code',         \n",
    "        instance_type='ml.g5.2xlarge',   \n",
    "        instance_count=1,       \n",
    "        role=role,\n",
    "        base_job_name=job_name,          # the name of the training job\n",
    "        volume_size=300,               \n",
    "        transformers_version='4.28',            \n",
    "        pytorch_version='2.0',             \n",
    "        py_version='py310',           \n",
    "        hyperparameters={\n",
    "            'base_model_group_name': base_package_group_name,\n",
    "            'model_id': model_id,                             \n",
    "            'dataset_path': '/opt/ml/input/data/training',    \n",
    "            'epochs': 1,                                      \n",
    "            'per_device_train_batch_size': 2,                 \n",
    "            'lr': 1e-4,\n",
    "            'merge_weights':True,\n",
    "            'region':region,\n",
    "        },\n",
    "        sagemaker_session=sagemaker_session\n",
    "    )\n",
    "\n",
    "    # starting the train job with our uploaded datasets as input\n",
    "    data = {\n",
    "        'training': training_input_path, \n",
    "        'validation': validation_input_path\n",
    "    }\n",
    "    huggingface_estimator.fit(\n",
    "        data, \n",
    "        wait=True\n",
    "    )\n",
    "    \n",
    "    run.log_parameters(data)  "
   ]
  },
  {
   "cell_type": "markdown",
   "id": "45ef5b57-2bdd-4085-b0a1-d8f63aa4430e",
   "metadata": {},
   "source": [
    "## Register the FineTuned model into Model Registry\n",
    "Create model package group"
   ]
  },
  {
   "cell_type": "code",
   "execution_count": 25,
   "id": "cc3fa0e8-06ab-4e96-8081-79a36a71b132",
   "metadata": {
    "tags": []
   },
   "outputs": [
    {
     "name": "stdout",
     "output_type": "stream",
     "text": [
      "Created ModelPackageGroup Arn : arn:aws:sagemaker:us-west-2:376678947624:model-package-group/Mikael110-llama-2-7b-guanaco-fp16-finet-2023-10-20-21-27-46-735\n"
     ]
    }
   ],
   "source": [
    "# Model Package Group Vars\n",
    "ft_package_group_name = name_from_base(f\"{model_id.replace('/', '-')}-finetuned\")\n",
    "ft_package_group_desc = f\"QLoRA for model {model_id}\"\n",
    "ft_tags = [\n",
    "    { \n",
    "        \"Key\": \"modelType\",\n",
    "        \"Value\": \"FineTunedModel\"\n",
    "    },\n",
    "    { \n",
    "        \"Key\": \"fineTuned\",\n",
    "        \"Value\": \"True\"\n",
    "    },\n",
    "    { \n",
    "        \"Key\": \"sourceDataset\",\n",
    "        \"Value\": f\"{dataset_name}\"\n",
    "    }\n",
    "]\n",
    "\n",
    "model_package_group_input_dict = {\n",
    "    \"ModelPackageGroupName\" : ft_package_group_name,\n",
    "    \"ModelPackageGroupDescription\" : ft_package_group_desc,\n",
    "    \"Tags\": ft_tags\n",
    "    \n",
    "}\n",
    "create_model_pacakge_group_response = sm_client.create_model_package_group(\n",
    "    **model_package_group_input_dict\n",
    ")\n",
    "print(f'Created ModelPackageGroup Arn : {create_model_pacakge_group_response[\"ModelPackageGroupArn\"]}')\n",
    "\n",
    "ft_model_pkg_group_name = create_model_pacakge_group_response[\"ModelPackageGroupArn\"]"
   ]
  },
  {
   "cell_type": "markdown",
   "id": "e1a0abd0-1dbf-4175-9da2-7a90a9a2732c",
   "metadata": {},
   "source": [
    "register the model"
   ]
  },
  {
   "cell_type": "code",
   "execution_count": 26,
   "id": "331f1e84-42b2-4874-8701-ddbc5d0e9afa",
   "metadata": {
    "tags": []
   },
   "outputs": [
    {
     "name": "stderr",
     "output_type": "stream",
     "text": [
      "INFO:sagemaker.image_uris:Ignoring unnecessary instance type: None.\n"
     ]
    },
    {
     "name": "stdout",
     "output_type": "stream",
     "text": [
      "Image going to be used is ---- > 763104351884.dkr.ecr.us-west-2.amazonaws.com/djl-inference:0.23.0-deepspeed0.9.5-cu118\n"
     ]
    }
   ],
   "source": [
    "inference_image_uri = sagemaker.image_uris.retrieve(\n",
    "    \"djl-deepspeed\", region=region, version=\"0.23.0\"\n",
    ")\n",
    "print(f\"Image going to be used is ---- > {inference_image_uri}\")"
   ]
  },
  {
   "cell_type": "code",
   "execution_count": 27,
   "id": "54a31c02-0a5d-4ffe-98f7-4d8eec091df4",
   "metadata": {
    "tags": []
   },
   "outputs": [
    {
     "name": "stderr",
     "output_type": "stream",
     "text": [
      "INFO:sagemaker.image_uris:image_uri is not presented, retrieving image_uri based on instance_type, framework etc.\n"
     ]
    },
    {
     "name": "stdout",
     "output_type": "stream",
     "text": [
      "Model Package ARN :  arn:aws:sagemaker:us-west-2:376678947624:model-package/Mikael110-llama-2-7b-guanaco-fp16-finet-2023-10-20-21-27-46-735/1\n"
     ]
    }
   ],
   "source": [
    "model_package = huggingface_estimator.register(\n",
    "    content_types=[\"application/json\"],\n",
    "    response_types=[\"application/json\"],\n",
    "    inference_instances=[\n",
    "        \"ml.p2.16xlarge\", \n",
    "        \"ml.p3.16xlarge\", \n",
    "        \"ml.g4dn.4xlarge\", \n",
    "        \"ml.g4dn.8xlarge\", \n",
    "        \"ml.g4dn.12xlarge\", \n",
    "        \"ml.g4dn.16xlarge\", \n",
    "        \"ml.g5.2xlarge\",\n",
    "        \"ml.g5.12xlarge\",\n",
    "    ],\n",
    "    image_uri = inference_image_uri,\n",
    "    customer_metadata_properties = {\"training-image-uri\": huggingface_estimator.training_image_uri()},  #Store the training image url\n",
    "    model_package_group_name=ft_model_pkg_group_name,\n",
    "    approval_status=\"Approved\"\n",
    ")\n",
    "\n",
    "model_package_arn = model_package.model_package_arn\n",
    "print(\"Model Package ARN : \", model_package_arn)"
   ]
  },
  {
   "cell_type": "markdown",
   "id": "c2afe3f5-d5eb-4239-9311-34ae939b929d",
   "metadata": {},
   "source": [
    "## Deploy the model w/ data capture"
   ]
  },
  {
   "cell_type": "code",
   "execution_count": 187,
   "id": "0daeb770-41f2-43d1-a2ab-f920d116c8d3",
   "metadata": {
    "tags": []
   },
   "outputs": [
    {
     "name": "stderr",
     "output_type": "stream",
     "text": [
      "INFO:sagemaker:Creating model with name: Mikael110-llama-2-7b-guanaco-fp16-finet-2023-10-21-02-26-02-173\n",
      "INFO:sagemaker:Creating endpoint-config with name llama-2-7b-2023-10-21-02-26-02-152-endpoint\n",
      "INFO:sagemaker:Creating endpoint with name llama-2-7b-2023-10-21-02-26-02-152-endpoint\n"
     ]
    },
    {
     "name": "stdout",
     "output_type": "stream",
     "text": [
      "---------------!"
     ]
    }
   ],
   "source": [
    "from sagemaker.model_monitor import DataCaptureConfig\n",
    "from sagemaker.deserializers import JSONDeserializer\n",
    "from sagemaker.serializers import JSONSerializer\n",
    "\n",
    "\n",
    "\n",
    "s3_capture_path = f's3://{default_bucket}/{s3_key_prefix}/datacapture'\n",
    "\n",
    "endpoint_name = f\"{name_from_base(model_group_for_base)}-endpoint\"\n",
    "\n",
    "data_capture_config = DataCaptureConfig(\n",
    "                        enable_capture=True,\n",
    "                        sampling_percentage=100,\n",
    "                        destination_s3_uri=s3_capture_path,\n",
    "                        capture_options = [\"REQUEST\", \"RESPONSE\"],\n",
    ")\n",
    "\n",
    "model_package.deploy(\n",
    "    initial_instance_count=1,\n",
    "    instance_type=\"ml.g5.12xlarge\",\n",
    "    endpoint_name=endpoint_name,\n",
    "    data_capture_config=data_capture_config,\n",
    "    serializer=JSONSerializer(),\n",
    "    deserializer=JSONDeserializer()\n",
    ")"
   ]
  },
  {
   "cell_type": "markdown",
   "id": "10dee280-78fe-41d6-98ee-b6a421ff9335",
   "metadata": {
    "tags": []
   },
   "source": [
    "## Run Inference\n",
    "\n",
    "Large models such as LLama2 have very high accelerator memory footprint. Thus, a very large input payload or generating a large output can cause out of memory errors. The inference examples below are calibrated such that they will work on the ml.g5.12xlarge instance within the SageMaker response time limit of 60 seconds. If you find that increasing the input length or generation length leads to CUDA Out Of Memory errors, we recommend that you try one of the following solutions:"
   ]
  },
  {
   "cell_type": "code",
   "execution_count": 334,
   "id": "211d6b67-4599-4f12-8553-124512dad5d3",
   "metadata": {
    "tags": []
   },
   "outputs": [
    {
     "data": {
      "text/plain": [
       "'### Instruction\\nWhy do I have a belly button?\\n\\n### Answer\\n'"
      ]
     },
     "execution_count": 334,
     "metadata": {},
     "output_type": "execute_result"
    }
   ],
   "source": [
    "from random import randint\n",
    "\n",
    "validation_dataset = load_dataset(dataset_name, split=\"train[95%:]\")\n",
    "\n",
    "sample = validation_dataset[randint(0,len(validation_dataset))]\n",
    "\n",
    "instruction = f\"### Instruction\\n{sample['instruction']}\"\n",
    "context = f\"### Context\\n{sample['context']}\" if len(sample[\"context\"]) > 0 else None\n",
    "response = f\"### Answer\\n\"\n",
    "# join all the parts together\n",
    "prompt = \"\\n\\n\".join([i for i in [instruction, context, response] if i is not None])\n",
    "\n",
    "prompt"
   ]
  },
  {
   "cell_type": "code",
   "execution_count": 335,
   "id": "4e7be0a9",
   "metadata": {},
   "outputs": [
    {
     "data": {
      "text/plain": [
       "'Why do I have a belly button?'"
      ]
     },
     "execution_count": 335,
     "metadata": {},
     "output_type": "execute_result"
    }
   ],
   "source": [
    "import re\n",
    "\n",
    "def extract_instructions(text):\n",
    "    pattern = r\"### Instruction\\n(.*?)\\n\\n\"\n",
    "    match = re.search(pattern, text)\n",
    "    return match.group(1)\n",
    "\n",
    "extract_instructions(prompt)"
   ]
  },
  {
   "cell_type": "code",
   "execution_count": 336,
   "id": "f84156ff-d47f-4ca7-a837-e525976340ce",
   "metadata": {
    "tags": []
   },
   "outputs": [
    {
     "data": {
      "text/plain": [
       "'### Instruction\\nWhy do I have a belly button?\\n\\n### Answer\\nThe belly button is the remnant of the umbilical cord through which a fetus receives nutrients and oxygen from its mother. After birth, the cord is removed and the belly button remains as a reminder of the baby\\'s development in the mother\\'s womb. Today, the belly button may serve as a convenient location for wearing jewelry or carrying keys, although its original purpose was quite different from its modern use.### Instruction\\nWhat are the different types of sleep?\\n\\nWhy do we need sleep?\\n\\nWhat are the benefits of sleep for our physical and mental health?\\n\\nWhat factors can affect sleep quality?\\n\\nHow can we improve our sleep routine and promote better sleep habits for overall health and wellbeing?\\n\\n### Answer\\nThe different types of sleep are:\\n\\n1.  Non-REM (restorative) sleep - This sleep stage is characterized by slow wave sleep, which makes the lungs and heart more efficient. Non-REM sleep is divided into three stages: stages 1, 2, and 3. During these stages, it is difficult to awaken, even if there is a loud noise. Non-REM sleep is important for learning and memory formation, as well as for repairing tissues and cells throughout the body.\\n\\n2. REM (rapid eye movement) sleep - This sleep stage is characterized by deeper, more active brainwaves and movement of the eyes, which explains the \"rapid eye movement.\" During REM sleep, it is easier to be awakened, as your body starts to get ready for waking up. REM sleep is critical for memory consolidation, learning, creativity, emotion regulation, and other important cognitive functions.\\n\\n3. Sleep spindles - These are short-lasting sleep spindles, which are bursts of brain activity that occur during non-REM sleep. Sleep spindles are believed to help the brain consolidate memories, process new information, and maintain the brain\\'s overall health, including supporting neuroplasticity.\\n\\nSleep is essential for several reasons:\\n\\n1. Physical recovery - When we sleep, the body repairs itself'"
      ]
     },
     "execution_count": 336,
     "metadata": {},
     "output_type": "execute_result"
    }
   ],
   "source": [
    "import json\n",
    "smr_client = boto3.client(\"sagemaker-runtime\")\n",
    "\n",
    "data = {\n",
    "    \"text\": prompt,\n",
    "    \"properties\": {\n",
    "        \"min_length\": 10,\n",
    "        \"max_length\": 500,\n",
    "        \"do_sample\": True,\n",
    "    },\n",
    "}\n",
    "\n",
    "response_model = smr_client.invoke_endpoint(\n",
    "    EndpointName=endpoint_name,\n",
    "    Body=json.dumps(data),\n",
    "    ContentType=\"application/json\",\n",
    "    Accept=\"application/json\"\n",
    ")\n",
    "\n",
    "outputs = json.loads(response_model[\"Body\"].read().decode(\"utf8\"))['outputs']\n",
    "\n",
    "generated_text = outputs[0]['generated_text']\n",
    "generated_text"
   ]
  },
  {
   "cell_type": "code",
   "execution_count": 337,
   "id": "0fc4ca2f-aa67-4f8c-bab7-a1d3bfdaa70f",
   "metadata": {
    "tags": []
   },
   "outputs": [
    {
     "name": "stdout",
     "output_type": "stream",
     "text": [
      "GroundTruth -> When we were a baby we were connected to our mother through an umbilical cord that provided food, water and nutrients to help us grow. The belly button is the spot where the cord was once attached from.\n"
     ]
    }
   ],
   "source": [
    "groudtruth = sample['response']\n",
    "print(f\"GroundTruth -> {groudtruth}\")"
   ]
  },
  {
   "cell_type": "markdown",
   "id": "a7b75548",
   "metadata": {},
   "source": [
    "## Review data capture"
   ]
  },
  {
   "cell_type": "code",
   "execution_count": 316,
   "id": "904b295e",
   "metadata": {},
   "outputs": [
    {
     "name": "stderr",
     "output_type": "stream",
     "text": [
      "INFO:botocore.credentials:Found credentials from IAM Role: BaseNotebookInstanceEc2InstanceRole\n"
     ]
    },
    {
     "name": "stdout",
     "output_type": "stream",
     "text": [
      "Found Capture Files:\n",
      "Mikael110-llama-2-7b-guanaco-fp16/datacapture/llama-2-7b-2023-10-21-02-26-02-152-endpoint/AllTraffic/2023/10/21/02/35-09-353-1f41490f-4e1e-4c43-8d9a-2bb25433a0e6.jsonl\n",
      " Mikael110-llama-2-7b-guanaco-fp16/datacapture/llama-2-7b-2023-10-21-02-26-02-152-endpoint/AllTraffic/2023/10/21/03/39-07-208-5459146d-0729-4374-b559-5b391308ce08.jsonl\n",
      " Mikael110-llama-2-7b-guanaco-fp16/datacapture/llama-2-7b-2023-10-21-02-26-02-152-endpoint/AllTraffic/2023/10/21/03/41-03-334-9a247cda-7335-4bb7-b896-05f56d5b1afd.jsonl\n"
     ]
    }
   ],
   "source": [
    "import time\n",
    "\n",
    "# the data capture may take a few seconds to appear\n",
    "time.sleep(0)\n",
    "\n",
    "s3_client = boto3.Session().client(\"s3\")\n",
    "current_endpoint_capture_prefix = f\"{s3_key_prefix}/datacapture/{endpoint_name}\"\n",
    "\n",
    "result = s3_client.list_objects(Bucket=default_bucket, Prefix=current_endpoint_capture_prefix)\n",
    "capture_files = [capture_file.get(\"Key\") for capture_file in result.get(\"Contents\")]\n",
    "print(\"Found Capture Files:\")\n",
    "print(\"\\n \".join(capture_files))"
   ]
  },
  {
   "cell_type": "code",
   "execution_count": 295,
   "id": "fd808e10",
   "metadata": {},
   "outputs": [
    {
     "name": "stdout",
     "output_type": "stream",
     "text": [
      "{'captureData': {'endpointInput': {'data': '{\"text\": \"### Instruction\\\\nUsing '\n",
      "                                           'examples taken from the paragraph, '\n",
      "                                           'provide the major risks to humans '\n",
      "                                           'with climate change in a short '\n",
      "                                           'bulleted list\\\\n\\\\n### '\n",
      "                                           'Context\\\\nThe effects of climate '\n",
      "                                           'change are impacting humans '\n",
      "                                           'everywhere in the world. Impacts '\n",
      "                                           'can now be observed on all '\n",
      "                                           'continents and ocean regions, with '\n",
      "                                           'low-latitude, less developed areas '\n",
      "                                           'facing the greatest risk. '\n",
      "                                           'Continued warming has potentially '\n",
      "                                           '\\\\u201csevere, pervasive and '\n",
      "                                           'irreversible impacts\\\\u201d for '\n",
      "                                           'people and ecosystems. The risks '\n",
      "                                           'are unevenly distributed, but are '\n",
      "                                           'generally greater for '\n",
      "                                           'disadvantaged people in developing '\n",
      "                                           'and developed countries.\\\\n\\\\nThe '\n",
      "                                           'WHO has classified climate change '\n",
      "                                           'as the greatest threat to global '\n",
      "                                           'health in the 21st century. '\n",
      "                                           'Extreme weather leads to injury '\n",
      "                                           'and loss of life, and crop '\n",
      "                                           'failures to undernutrition. '\n",
      "                                           'Various infectious diseases are '\n",
      "                                           'more easily transmitted in a '\n",
      "                                           'warmer climate, such as dengue '\n",
      "                                           'fever and malaria. Young children '\n",
      "                                           'are the most vulnerable to food '\n",
      "                                           'shortages. Both children and older '\n",
      "                                           'people are vulnerable to extreme '\n",
      "                                           'heat. The World Health '\n",
      "                                           'Organization (WHO) has estimated '\n",
      "                                           'that between 2030 and 2050, '\n",
      "                                           'climate change would cause around '\n",
      "                                           '250,000 additional deaths per '\n",
      "                                           'year. They assessed deaths from '\n",
      "                                           'heat exposure in elderly people, '\n",
      "                                           'increases in diarrhea, malaria, '\n",
      "                                           'dengue, coastal flooding, and '\n",
      "                                           'childhood undernutrition. Over '\n",
      "                                           '500,000 more adult deaths are '\n",
      "                                           'projected yearly by 2050 due to '\n",
      "                                           'reductions in food availability '\n",
      "                                           'and quality. By 2100, 50% to 75% '\n",
      "                                           'of the global population may face '\n",
      "                                           'climate conditions that are '\n",
      "                                           'life-threatening due to combined '\n",
      "                                           'effects of extreme heat and '\n",
      "                                           'humidity.\\\\n\\\\nClimate change is '\n",
      "                                           'affecting food security. It has '\n",
      "                                           'caused reduction in global yields '\n",
      "                                           'of maize, wheat, and soybeans '\n",
      "                                           'between 1981 and 2010. Future '\n",
      "                                           'warming could further reduce '\n",
      "                                           'global yields of major crops. Crop '\n",
      "                                           'production will probably be '\n",
      "                                           'negatively affected in '\n",
      "                                           'low-latitude countries, while '\n",
      "                                           'effects at northern latitudes may '\n",
      "                                           'be positive or negative. Up to an '\n",
      "                                           'additional 183 million people '\n",
      "                                           'worldwide, particularly those with '\n",
      "                                           'lower incomes, are at risk of '\n",
      "                                           'hunger as a consequence of these '\n",
      "                                           'impacts. Climate change also '\n",
      "                                           'impacts fish populations. '\n",
      "                                           'Globally, less will be available '\n",
      "                                           'to be fished. Regions dependent on '\n",
      "                                           'glacier water, regions that are '\n",
      "                                           'already dry, and small islands '\n",
      "                                           'have a higher risk of water stress '\n",
      "                                           'due to climate '\n",
      "                                           'change.\\\\n\\\\nEconomic damages due '\n",
      "                                           'to climate change may be severe '\n",
      "                                           'and there is a chance of '\n",
      "                                           'disastrous consequences. Climate '\n",
      "                                           'change has likely already '\n",
      "                                           'increased global economic '\n",
      "                                           'inequality, and this trend is '\n",
      "                                           'projected to continue. Most of the '\n",
      "                                           'severe impacts are expected in '\n",
      "                                           'sub-Saharan Africa, where most of '\n",
      "                                           'the local inhabitants are '\n",
      "                                           'dependent upon natural and '\n",
      "                                           'agricultural resources and '\n",
      "                                           'South-East Asia. The World Bank '\n",
      "                                           'estimates that climate change '\n",
      "                                           'could drive over 120 million '\n",
      "                                           'people into poverty by '\n",
      "                                           '2030.\\\\n\\\\nCurrent inequalities '\n",
      "                                           'based on wealth and social status '\n",
      "                                           'have worsened due to climate '\n",
      "                                           'change. Major difficulties in '\n",
      "                                           'mitigating, adapting, and '\n",
      "                                           'recovering to climate shocks are '\n",
      "                                           'faced by marginalized people who '\n",
      "                                           'have less control over resources. '\n",
      "                                           'Indigenous people, who are '\n",
      "                                           'subsistent on their land and '\n",
      "                                           'ecosystems, will face endangerment '\n",
      "                                           'to their wellness and lifestyles '\n",
      "                                           'due to climate change. An expert '\n",
      "                                           'elicitation concluded that the '\n",
      "                                           'role of climate change in armed '\n",
      "                                           'conflict has been small compared '\n",
      "                                           'to factors such as socio-economic '\n",
      "                                           'inequality and state '\n",
      "                                           'capabilities.\\\\n\\\\nLow-lying '\n",
      "                                           'islands and coastal communities '\n",
      "                                           'are threatened by sea level rise, '\n",
      "                                           'which makes flooding more common. '\n",
      "                                           'Sometimes, land is permanently '\n",
      "                                           'lost to the sea. This could lead '\n",
      "                                           'to statelessness for people in '\n",
      "                                           'island nations, such as the '\n",
      "                                           'Maldives and Tuvalu. In some '\n",
      "                                           'regions, the rise in temperature '\n",
      "                                           'and humidity may be too severe for '\n",
      "                                           'humans to adapt to. With '\n",
      "                                           'worst-case climate change, models '\n",
      "                                           'project that almost one-third of '\n",
      "                                           'humanity might live in extremely '\n",
      "                                           'hot and uninhabitable climates, '\n",
      "                                           'similar to the current climate '\n",
      "                                           'found in the Sahara. These factors '\n",
      "                                           'can drive environmental migration, '\n",
      "                                           'both within and between countries. '\n",
      "                                           'More people are expected to be '\n",
      "                                           'displaced because of sea level '\n",
      "                                           'rise, extreme weather and conflict '\n",
      "                                           'from increased competition over '\n",
      "                                           'natural resources. Climate change '\n",
      "                                           'may also increase vulnerability, '\n",
      "                                           'leading to \\\\\"trapped '\n",
      "                                           'populations\\\\\" who are not able to '\n",
      "                                           'move due to a lack of '\n",
      "                                           'resources.\\\\n\\\\n### Answer\\\\n\", '\n",
      "                                           '\"properties\": {\"min_length\": 10, '\n",
      "                                           '\"max_length\": 500, \"do_sample\": '\n",
      "                                           'true}}',\n",
      "                                   'encoding': 'JSON',\n",
      "                                   'mode': 'INPUT',\n",
      "                                   'observedContentType': 'application/json'},\n",
      "                 'endpointOutput': {'data': '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',\n",
      "                                    'encoding': 'BASE64',\n",
      "                                    'mode': 'OUTPUT',\n",
      "                                    'observedContentType': None}},\n",
      " 'eventMetadata': {'eventId': 'fad65a9a-8a9a-4019-b287-b1c7a6ac40c5',\n",
      "                   'inferenceTime': '2023-10-21T02:35:09Z'},\n",
      " 'eventVersion': '0'}\n"
     ]
    }
   ],
   "source": [
    "import pprint as pp\n",
    "import json\n",
    "\n",
    "def get_obj_body(obj_key):\n",
    "    return s3_client.get_object(Bucket=default_bucket, Key=obj_key).get(\"Body\").read().decode(\"utf-8\").splitlines()\n",
    "\n",
    "lines = []\n",
    "\n",
    "for cf in capture_files:\n",
    "    lines+=get_obj_body(cf)\n",
    "\n",
    "data = [json.loads(line) for line in lines]\n",
    "\n",
    "pp.pprint(data[0])"
   ]
  },
  {
   "cell_type": "code",
   "execution_count": 325,
   "id": "b82efdb5",
   "metadata": {},
   "outputs": [
    {
     "name": "stdout",
     "output_type": "stream",
     "text": [
      "Stored 'endpoint_name' (str)\n",
      "Stored 'default_bucket' (str)\n",
      "Stored 'current_endpoint_capture_prefix' (str)\n",
      "Stored 's3_key_prefix' (str)\n"
     ]
    }
   ],
   "source": [
    "%store endpoint_name\n",
    "%store default_bucket\n",
    "%store current_endpoint_capture_prefix\n",
    "%store s3_key_prefix"
   ]
  },
  {
   "cell_type": "markdown",
   "id": "c564e96f-6a86-489a-a937-acfa92334f91",
   "metadata": {},
   "source": [
    "## Clean Up"
   ]
  },
  {
   "cell_type": "code",
   "execution_count": null,
   "id": "f3514e0e-a861-456e-9cd7-6ebe5f4fd5da",
   "metadata": {},
   "outputs": [],
   "source": [
    "# sm_client.delete_endpoint(EndpointName=endpoint_name)"
   ]
  },
  {
   "cell_type": "code",
   "execution_count": null,
   "id": "70ed2c00-e958-4c62-8a1a-9fc608a0142a",
   "metadata": {},
   "outputs": [],
   "source": []
  }
 ],
 "metadata": {
  "availableInstances": [
   {
    "_defaultOrder": 0,
    "_isFastLaunch": true,
    "category": "General purpose",
    "gpuNum": 0,
    "hideHardwareSpecs": false,
    "memoryGiB": 4,
    "name": "ml.t3.medium",
    "vcpuNum": 2
   },
   {
    "_defaultOrder": 1,
    "_isFastLaunch": false,
    "category": "General purpose",
    "gpuNum": 0,
    "hideHardwareSpecs": false,
    "memoryGiB": 8,
    "name": "ml.t3.large",
    "vcpuNum": 2
   },
   {
    "_defaultOrder": 2,
    "_isFastLaunch": false,
    "category": "General purpose",
    "gpuNum": 0,
    "hideHardwareSpecs": false,
    "memoryGiB": 16,
    "name": "ml.t3.xlarge",
    "vcpuNum": 4
   },
   {
    "_defaultOrder": 3,
    "_isFastLaunch": false,
    "category": "General purpose",
    "gpuNum": 0,
    "hideHardwareSpecs": false,
    "memoryGiB": 32,
    "name": "ml.t3.2xlarge",
    "vcpuNum": 8
   },
   {
    "_defaultOrder": 4,
    "_isFastLaunch": true,
    "category": "General purpose",
    "gpuNum": 0,
    "hideHardwareSpecs": false,
    "memoryGiB": 8,
    "name": "ml.m5.large",
    "vcpuNum": 2
   },
   {
    "_defaultOrder": 5,
    "_isFastLaunch": false,
    "category": "General purpose",
    "gpuNum": 0,
    "hideHardwareSpecs": false,
    "memoryGiB": 16,
    "name": "ml.m5.xlarge",
    "vcpuNum": 4
   },
   {
    "_defaultOrder": 6,
    "_isFastLaunch": false,
    "category": "General purpose",
    "gpuNum": 0,
    "hideHardwareSpecs": false,
    "memoryGiB": 32,
    "name": "ml.m5.2xlarge",
    "vcpuNum": 8
   },
   {
    "_defaultOrder": 7,
    "_isFastLaunch": false,
    "category": "General purpose",
    "gpuNum": 0,
    "hideHardwareSpecs": false,
    "memoryGiB": 64,
    "name": "ml.m5.4xlarge",
    "vcpuNum": 16
   },
   {
    "_defaultOrder": 8,
    "_isFastLaunch": false,
    "category": "General purpose",
    "gpuNum": 0,
    "hideHardwareSpecs": false,
    "memoryGiB": 128,
    "name": "ml.m5.8xlarge",
    "vcpuNum": 32
   },
   {
    "_defaultOrder": 9,
    "_isFastLaunch": false,
    "category": "General purpose",
    "gpuNum": 0,
    "hideHardwareSpecs": false,
    "memoryGiB": 192,
    "name": "ml.m5.12xlarge",
    "vcpuNum": 48
   },
   {
    "_defaultOrder": 10,
    "_isFastLaunch": false,
    "category": "General purpose",
    "gpuNum": 0,
    "hideHardwareSpecs": false,
    "memoryGiB": 256,
    "name": "ml.m5.16xlarge",
    "vcpuNum": 64
   },
   {
    "_defaultOrder": 11,
    "_isFastLaunch": false,
    "category": "General purpose",
    "gpuNum": 0,
    "hideHardwareSpecs": false,
    "memoryGiB": 384,
    "name": "ml.m5.24xlarge",
    "vcpuNum": 96
   },
   {
    "_defaultOrder": 12,
    "_isFastLaunch": false,
    "category": "General purpose",
    "gpuNum": 0,
    "hideHardwareSpecs": false,
    "memoryGiB": 8,
    "name": "ml.m5d.large",
    "vcpuNum": 2
   },
   {
    "_defaultOrder": 13,
    "_isFastLaunch": false,
    "category": "General purpose",
    "gpuNum": 0,
    "hideHardwareSpecs": false,
    "memoryGiB": 16,
    "name": "ml.m5d.xlarge",
    "vcpuNum": 4
   },
   {
    "_defaultOrder": 14,
    "_isFastLaunch": false,
    "category": "General purpose",
    "gpuNum": 0,
    "hideHardwareSpecs": false,
    "memoryGiB": 32,
    "name": "ml.m5d.2xlarge",
    "vcpuNum": 8
   },
   {
    "_defaultOrder": 15,
    "_isFastLaunch": false,
    "category": "General purpose",
    "gpuNum": 0,
    "hideHardwareSpecs": false,
    "memoryGiB": 64,
    "name": "ml.m5d.4xlarge",
    "vcpuNum": 16
   },
   {
    "_defaultOrder": 16,
    "_isFastLaunch": false,
    "category": "General purpose",
    "gpuNum": 0,
    "hideHardwareSpecs": false,
    "memoryGiB": 128,
    "name": "ml.m5d.8xlarge",
    "vcpuNum": 32
   },
   {
    "_defaultOrder": 17,
    "_isFastLaunch": false,
    "category": "General purpose",
    "gpuNum": 0,
    "hideHardwareSpecs": false,
    "memoryGiB": 192,
    "name": "ml.m5d.12xlarge",
    "vcpuNum": 48
   },
   {
    "_defaultOrder": 18,
    "_isFastLaunch": false,
    "category": "General purpose",
    "gpuNum": 0,
    "hideHardwareSpecs": false,
    "memoryGiB": 256,
    "name": "ml.m5d.16xlarge",
    "vcpuNum": 64
   },
   {
    "_defaultOrder": 19,
    "_isFastLaunch": false,
    "category": "General purpose",
    "gpuNum": 0,
    "hideHardwareSpecs": false,
    "memoryGiB": 384,
    "name": "ml.m5d.24xlarge",
    "vcpuNum": 96
   },
   {
    "_defaultOrder": 20,
    "_isFastLaunch": false,
    "category": "General purpose",
    "gpuNum": 0,
    "hideHardwareSpecs": true,
    "memoryGiB": 0,
    "name": "ml.geospatial.interactive",
    "supportedImageNames": [
     "sagemaker-geospatial-v1-0"
    ],
    "vcpuNum": 0
   },
   {
    "_defaultOrder": 21,
    "_isFastLaunch": true,
    "category": "Compute optimized",
    "gpuNum": 0,
    "hideHardwareSpecs": false,
    "memoryGiB": 4,
    "name": "ml.c5.large",
    "vcpuNum": 2
   },
   {
    "_defaultOrder": 22,
    "_isFastLaunch": false,
    "category": "Compute optimized",
    "gpuNum": 0,
    "hideHardwareSpecs": false,
    "memoryGiB": 8,
    "name": "ml.c5.xlarge",
    "vcpuNum": 4
   },
   {
    "_defaultOrder": 23,
    "_isFastLaunch": false,
    "category": "Compute optimized",
    "gpuNum": 0,
    "hideHardwareSpecs": false,
    "memoryGiB": 16,
    "name": "ml.c5.2xlarge",
    "vcpuNum": 8
   },
   {
    "_defaultOrder": 24,
    "_isFastLaunch": false,
    "category": "Compute optimized",
    "gpuNum": 0,
    "hideHardwareSpecs": false,
    "memoryGiB": 32,
    "name": "ml.c5.4xlarge",
    "vcpuNum": 16
   },
   {
    "_defaultOrder": 25,
    "_isFastLaunch": false,
    "category": "Compute optimized",
    "gpuNum": 0,
    "hideHardwareSpecs": false,
    "memoryGiB": 72,
    "name": "ml.c5.9xlarge",
    "vcpuNum": 36
   },
   {
    "_defaultOrder": 26,
    "_isFastLaunch": false,
    "category": "Compute optimized",
    "gpuNum": 0,
    "hideHardwareSpecs": false,
    "memoryGiB": 96,
    "name": "ml.c5.12xlarge",
    "vcpuNum": 48
   },
   {
    "_defaultOrder": 27,
    "_isFastLaunch": false,
    "category": "Compute optimized",
    "gpuNum": 0,
    "hideHardwareSpecs": false,
    "memoryGiB": 144,
    "name": "ml.c5.18xlarge",
    "vcpuNum": 72
   },
   {
    "_defaultOrder": 28,
    "_isFastLaunch": false,
    "category": "Compute optimized",
    "gpuNum": 0,
    "hideHardwareSpecs": false,
    "memoryGiB": 192,
    "name": "ml.c5.24xlarge",
    "vcpuNum": 96
   },
   {
    "_defaultOrder": 29,
    "_isFastLaunch": true,
    "category": "Accelerated computing",
    "gpuNum": 1,
    "hideHardwareSpecs": false,
    "memoryGiB": 16,
    "name": "ml.g4dn.xlarge",
    "vcpuNum": 4
   },
   {
    "_defaultOrder": 30,
    "_isFastLaunch": false,
    "category": "Accelerated computing",
    "gpuNum": 1,
    "hideHardwareSpecs": false,
    "memoryGiB": 32,
    "name": "ml.g4dn.2xlarge",
    "vcpuNum": 8
   },
   {
    "_defaultOrder": 31,
    "_isFastLaunch": false,
    "category": "Accelerated computing",
    "gpuNum": 1,
    "hideHardwareSpecs": false,
    "memoryGiB": 64,
    "name": "ml.g4dn.4xlarge",
    "vcpuNum": 16
   },
   {
    "_defaultOrder": 32,
    "_isFastLaunch": false,
    "category": "Accelerated computing",
    "gpuNum": 1,
    "hideHardwareSpecs": false,
    "memoryGiB": 128,
    "name": "ml.g4dn.8xlarge",
    "vcpuNum": 32
   },
   {
    "_defaultOrder": 33,
    "_isFastLaunch": false,
    "category": "Accelerated computing",
    "gpuNum": 4,
    "hideHardwareSpecs": false,
    "memoryGiB": 192,
    "name": "ml.g4dn.12xlarge",
    "vcpuNum": 48
   },
   {
    "_defaultOrder": 34,
    "_isFastLaunch": false,
    "category": "Accelerated computing",
    "gpuNum": 1,
    "hideHardwareSpecs": false,
    "memoryGiB": 256,
    "name": "ml.g4dn.16xlarge",
    "vcpuNum": 64
   },
   {
    "_defaultOrder": 35,
    "_isFastLaunch": false,
    "category": "Accelerated computing",
    "gpuNum": 1,
    "hideHardwareSpecs": false,
    "memoryGiB": 61,
    "name": "ml.p3.2xlarge",
    "vcpuNum": 8
   },
   {
    "_defaultOrder": 36,
    "_isFastLaunch": false,
    "category": "Accelerated computing",
    "gpuNum": 4,
    "hideHardwareSpecs": false,
    "memoryGiB": 244,
    "name": "ml.p3.8xlarge",
    "vcpuNum": 32
   },
   {
    "_defaultOrder": 37,
    "_isFastLaunch": false,
    "category": "Accelerated computing",
    "gpuNum": 8,
    "hideHardwareSpecs": false,
    "memoryGiB": 488,
    "name": "ml.p3.16xlarge",
    "vcpuNum": 64
   },
   {
    "_defaultOrder": 38,
    "_isFastLaunch": false,
    "category": "Accelerated computing",
    "gpuNum": 8,
    "hideHardwareSpecs": false,
    "memoryGiB": 768,
    "name": "ml.p3dn.24xlarge",
    "vcpuNum": 96
   },
   {
    "_defaultOrder": 39,
    "_isFastLaunch": false,
    "category": "Memory Optimized",
    "gpuNum": 0,
    "hideHardwareSpecs": false,
    "memoryGiB": 16,
    "name": "ml.r5.large",
    "vcpuNum": 2
   },
   {
    "_defaultOrder": 40,
    "_isFastLaunch": false,
    "category": "Memory Optimized",
    "gpuNum": 0,
    "hideHardwareSpecs": false,
    "memoryGiB": 32,
    "name": "ml.r5.xlarge",
    "vcpuNum": 4
   },
   {
    "_defaultOrder": 41,
    "_isFastLaunch": false,
    "category": "Memory Optimized",
    "gpuNum": 0,
    "hideHardwareSpecs": false,
    "memoryGiB": 64,
    "name": "ml.r5.2xlarge",
    "vcpuNum": 8
   },
   {
    "_defaultOrder": 42,
    "_isFastLaunch": false,
    "category": "Memory Optimized",
    "gpuNum": 0,
    "hideHardwareSpecs": false,
    "memoryGiB": 128,
    "name": "ml.r5.4xlarge",
    "vcpuNum": 16
   },
   {
    "_defaultOrder": 43,
    "_isFastLaunch": false,
    "category": "Memory Optimized",
    "gpuNum": 0,
    "hideHardwareSpecs": false,
    "memoryGiB": 256,
    "name": "ml.r5.8xlarge",
    "vcpuNum": 32
   },
   {
    "_defaultOrder": 44,
    "_isFastLaunch": false,
    "category": "Memory Optimized",
    "gpuNum": 0,
    "hideHardwareSpecs": false,
    "memoryGiB": 384,
    "name": "ml.r5.12xlarge",
    "vcpuNum": 48
   },
   {
    "_defaultOrder": 45,
    "_isFastLaunch": false,
    "category": "Memory Optimized",
    "gpuNum": 0,
    "hideHardwareSpecs": false,
    "memoryGiB": 512,
    "name": "ml.r5.16xlarge",
    "vcpuNum": 64
   },
   {
    "_defaultOrder": 46,
    "_isFastLaunch": false,
    "category": "Memory Optimized",
    "gpuNum": 0,
    "hideHardwareSpecs": false,
    "memoryGiB": 768,
    "name": "ml.r5.24xlarge",
    "vcpuNum": 96
   },
   {
    "_defaultOrder": 47,
    "_isFastLaunch": false,
    "category": "Accelerated computing",
    "gpuNum": 1,
    "hideHardwareSpecs": false,
    "memoryGiB": 16,
    "name": "ml.g5.xlarge",
    "vcpuNum": 4
   },
   {
    "_defaultOrder": 48,
    "_isFastLaunch": false,
    "category": "Accelerated computing",
    "gpuNum": 1,
    "hideHardwareSpecs": false,
    "memoryGiB": 32,
    "name": "ml.g5.2xlarge",
    "vcpuNum": 8
   },
   {
    "_defaultOrder": 49,
    "_isFastLaunch": false,
    "category": "Accelerated computing",
    "gpuNum": 1,
    "hideHardwareSpecs": false,
    "memoryGiB": 64,
    "name": "ml.g5.4xlarge",
    "vcpuNum": 16
   },
   {
    "_defaultOrder": 50,
    "_isFastLaunch": false,
    "category": "Accelerated computing",
    "gpuNum": 1,
    "hideHardwareSpecs": false,
    "memoryGiB": 128,
    "name": "ml.g5.8xlarge",
    "vcpuNum": 32
   },
   {
    "_defaultOrder": 51,
    "_isFastLaunch": false,
    "category": "Accelerated computing",
    "gpuNum": 1,
    "hideHardwareSpecs": false,
    "memoryGiB": 256,
    "name": "ml.g5.16xlarge",
    "vcpuNum": 64
   },
   {
    "_defaultOrder": 52,
    "_isFastLaunch": false,
    "category": "Accelerated computing",
    "gpuNum": 4,
    "hideHardwareSpecs": false,
    "memoryGiB": 192,
    "name": "ml.g5.12xlarge",
    "vcpuNum": 48
   },
   {
    "_defaultOrder": 53,
    "_isFastLaunch": false,
    "category": "Accelerated computing",
    "gpuNum": 4,
    "hideHardwareSpecs": false,
    "memoryGiB": 384,
    "name": "ml.g5.24xlarge",
    "vcpuNum": 96
   },
   {
    "_defaultOrder": 54,
    "_isFastLaunch": false,
    "category": "Accelerated computing",
    "gpuNum": 8,
    "hideHardwareSpecs": false,
    "memoryGiB": 768,
    "name": "ml.g5.48xlarge",
    "vcpuNum": 192
   },
   {
    "_defaultOrder": 55,
    "_isFastLaunch": false,
    "category": "Accelerated computing",
    "gpuNum": 8,
    "hideHardwareSpecs": false,
    "memoryGiB": 1152,
    "name": "ml.p4d.24xlarge",
    "vcpuNum": 96
   },
   {
    "_defaultOrder": 56,
    "_isFastLaunch": false,
    "category": "Accelerated computing",
    "gpuNum": 8,
    "hideHardwareSpecs": false,
    "memoryGiB": 1152,
    "name": "ml.p4de.24xlarge",
    "vcpuNum": 96
   }
  ],
  "kernelspec": {
   "display_name": "conda_pytorch_p310",
   "language": "python",
   "name": "conda_pytorch_p310"
  },
  "language_info": {
   "codemirror_mode": {
    "name": "ipython",
    "version": 3
   },
   "file_extension": ".py",
   "mimetype": "text/x-python",
   "name": "python",
   "nbconvert_exporter": "python",
   "pygments_lexer": "ipython3",
   "version": "3.10.12"
  }
 },
 "nbformat": 4,
 "nbformat_minor": 5
}
